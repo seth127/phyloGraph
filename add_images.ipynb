{
 "cells": [
  {
   "cell_type": "code",
   "execution_count": 1,
   "metadata": {},
   "outputs": [
    {
     "data": {
      "text/html": [
       "<script>requirejs.config({paths: { 'plotly': ['https://cdn.plot.ly/plotly-latest.min']},});if(!window.Plotly) {{require(['plotly'],function(plotly) {window.Plotly=plotly;});}}</script>"
      ],
      "text/vnd.plotly.v1+html": [
       "<script>requirejs.config({paths: { 'plotly': ['https://cdn.plot.ly/plotly-latest.min']},});if(!window.Plotly) {{require(['plotly'],function(plotly) {window.Plotly=plotly;});}}</script>"
      ]
     },
     "metadata": {},
     "output_type": "display_data"
    }
   ],
   "source": [
    "import phyloGraph as ph\n",
    "\n",
    "from plotly.offline import download_plotlyjs, init_notebook_mode\n",
    "init_notebook_mode(connected=True)\n",
    "\n",
    "#vim ~/.Plotly/.Credentials\n",
    "\n",
    "import requests\n",
    "import collections\n",
    "import json\n",
    "import pandas as pd\n",
    "import numpy as np\n",
    "import re\n",
    "import sys\n",
    "from time import time\n",
    "\n",
    "import wikipedia\n",
    "#https://stackoverflow.com/questions/8088226/content-of-infobox-of-wikipedia"
   ]
  },
  {
   "cell_type": "code",
   "execution_count": 2,
   "metadata": {},
   "outputs": [],
   "source": [
    "GEO_TIME = \"geological_time.csv\"\n",
    "DATA_FILE = \"data/Mammalia-15040-df-fixedage.csv\"\n",
    "OUT_FILE = 'data/Mammalia-15040-df-images.csv'\n",
    "\n",
    "#DATA_FILE = \"data/Chordata-2499-df-fixedage.csv\"\n",
    "#OUT_FILE = 'data/Chordata-2499-df-images.csv'"
   ]
  },
  {
   "cell_type": "code",
   "execution_count": 3,
   "metadata": {},
   "outputs": [],
   "source": [
    "gt = pd.read_csv(GEO_TIME)\n",
    "\n",
    "def trynum(n):\n",
    "    try:\n",
    "        return float(n)\n",
    "    except:\n",
    "        return None"
   ]
  },
  {
   "cell_type": "code",
   "execution_count": 4,
   "metadata": {},
   "outputs": [
    {
     "name": "stdout",
     "output_type": "stream",
     "text": [
      "(10395, 11)\n",
      "Index(['ancestor', 'depth', 'extinct', 'id', 'name', 'num_kids', 'phylesis',\n",
      "       'x', 'y', 'Begin', 'End'],\n",
      "      dtype='object')\n"
     ]
    }
   ],
   "source": [
    "df = pd.read_csv(DATA_FILE)\n",
    "print(df.shape)\n",
    "print(df.columns)"
   ]
  },
  {
   "cell_type": "code",
   "execution_count": 5,
   "metadata": {},
   "outputs": [
    {
     "data": {
      "text/plain": [
       "'Chordata'"
      ]
     },
     "execution_count": 5,
     "metadata": {},
     "output_type": "execute_result"
    }
   ],
   "source": [
    "this_query = df.name[0]\n",
    "this_query"
   ]
  },
  {
   "cell_type": "code",
   "execution_count": 6,
   "metadata": {},
   "outputs": [],
   "source": [
    "start = time()"
   ]
  },
  {
   "cell_type": "code",
   "execution_count": 7,
   "metadata": {},
   "outputs": [],
   "source": [
    "def parse_png_from_box(box):\n",
    "    png_str = [b for b in box.split('|') if (('.png' in b) or ('.jpg' in b)) and ('image' in b)][0]\n",
    "    #clean up string\n",
    "    png_str = re.sub(\"\\\\n\", '', png_str)\n",
    "    png_str = re.sub(\"^(.+?)image +?= +?\", '', png_str)\n",
    "    png_str = re.sub(\"^(.+?)File:\", '', png_str)\n",
    "    png_str = png_str.replace(\" \", \"_\")\n",
    "    return png_str\n",
    "\n",
    "def get_image_url(this_query, \n",
    "                  base_url = \"https://en.wikipedia.org/wiki/File:\",\n",
    "                  fallback = \"https://en.wikipedia.org/wiki/File:Wikipedia-logo-v2.svg\"):\n",
    "    \"\"\"\n",
    "    \"\"\"\n",
    "    try:\n",
    "        # get wikipedia page\n",
    "        this_page_id = wikipedia.search(this_query, results=1)[0]\n",
    "    \n",
    "        # fetch infobox\n",
    "        wiki_url = 'http://en.wikipedia.org/w/api.php?action=query&prop=revisions&rvprop=content&format=json&titles={}&rvsection=0'.format(this_page_id)\n",
    "        box_raw = json.loads(requests.get(wiki_url).content.decode('utf-8'))\n",
    "        box = next(iter(box_raw['query']['pages'].values()))['revisions'][0]['*']\n",
    "        \n",
    "        png_str = parse_png_from_box(box)\n",
    "        \n",
    "        return base_url + png_str\n",
    "    except:\n",
    "        return fallback"
   ]
  },
  {
   "cell_type": "code",
   "execution_count": 8,
   "metadata": {},
   "outputs": [
    {
     "data": {
      "text/plain": [
       "'https://en.wikipedia.org/wiki/File:image=Kryptopterus.jpg'"
      ]
     },
     "execution_count": 8,
     "metadata": {},
     "output_type": "execute_result"
    }
   ],
   "source": [
    "get_image_url(df.name[0])"
   ]
  },
  {
   "cell_type": "code",
   "execution_count": 9,
   "metadata": {},
   "outputs": [
    {
     "name": "stdout",
     "output_type": "stream",
     "text": [
      "0::1 50::36 100::72 150::111 200::152 250::189 300::239 350::277 400::313 450::348 500::384 550::422 600::457 650::489 700::523 750::560 800::594 850::626 900::662 950::693 1000::729 1050::770 1100::806 1150::838 1200::874 1250::908 1300::944 1350::982 1400::1016 1450::1048 1500::1085 1550::1126 1600::1161 1650::1196 1700::1227 1750::1266 1800::1301 1850::1338 1900::1375 1950::1412 2000::1447 2050::1482 2100::1521 2150::1558 2200::1593 2250::1629 2300::1668 2350::1701 2400::1737 2450::1776 2500::1814 2550::1850 2600::1886 2650::1922 2700::1958 2750::1998 2800::2030 2850::2065 2900::2104 2950::2136 3000::2168 3050::2199 3100::2232 3150::2268 3200::2303 3250::2332 3300::2365 3350::2401 3400::2434 3450::2469 3500::2504 3550::2536 3600::2569 3650::2604 3700::2643 3750::2677 3800::2713 3850::2749 3900::2784 3950::2823 4000::2865 4050::2904 4100::2938 4150::2971 4200::3010 4250::3047 4300::3084 4350::3122 4400::3164 4450::3197 4500::3235 4550::3275 4600::3309 4650::3344 4700::3384 4750::3422 4800::3460 4850::3496 4900::3533 4950::3567 5000::3605 5050::3644 5100::3683 5150::3718 5200::3752 5250::3791 5300::3826 5350::3860 5400::3895 5450::3930 5500::3966 5550::4000 5600::4038 5650::4078 5700::4116 5750::4151 5800::4189 5850::4223 5900::4261 5950::4298 6000::4330 6050::4372 6100::4408 6150::4444 6200::4480 6250::4518 6300::4560 6350::4597 6400::4631 6450::4671 6500::4705 6550::4742 6600::4779 6650::4814 6700::4850 6750::4887 6800::4924 6850::4961 6900::4994 6950::5029 7000::5064 7050::5103 7100::5140 7150::5178 7200::5214 7250::5252 7300::5295 7350::5331 7400::5368 7450::5404 7500::5440 7550::5478 7600::5513 7650::5549 7700::5586 7750::5620 7800::5654 7850::5696 7900::5736 7950::5779 8000::5823 8050::5892 8100::5945 8150::6001 8200::6046 8250::6085 8300::6125 8350::6160 8400::6198 8450::6233 8500::6266 8550::6302 8600::6337 8650::6371 8700::6407 8750::6443 8800::6487 8850::6526 8900::6566 8950::6606 9000::6648 9050::6691 9100::6727 9150::6770 9200::6829 9250::6882 9300::6927 9350::6972 9400::7013 9450::7058 9500::7101 9550::7148 9600::7204 9650::7253 9700::7300 9750::7339 9800::7375 9850::7425 9900::7472 9950::7517 10000::7566 10050::7608 10100::7649 10150::7694 10200::7737 10250::7777 10300::7822 10350::7865 "
     ]
    }
   ],
   "source": [
    "img_list = []\n",
    "for i, row in df.iterrows():\n",
    "    img_list.append(get_image_url(row['name']))\n",
    "    if i % 50 == 0:\n",
    "        print(\"{}::{}\".format(i, int(time()-start)), end= ' ', flush=True)"
   ]
  },
  {
   "cell_type": "code",
   "execution_count": 10,
   "metadata": {},
   "outputs": [
    {
     "data": {
      "text/html": [
       "<div>\n",
       "<style scoped>\n",
       "    .dataframe tbody tr th:only-of-type {\n",
       "        vertical-align: middle;\n",
       "    }\n",
       "\n",
       "    .dataframe tbody tr th {\n",
       "        vertical-align: top;\n",
       "    }\n",
       "\n",
       "    .dataframe thead th {\n",
       "        text-align: right;\n",
       "    }\n",
       "</style>\n",
       "<table border=\"1\" class=\"dataframe\">\n",
       "  <thead>\n",
       "    <tr style=\"text-align: right;\">\n",
       "      <th></th>\n",
       "      <th>ancestor</th>\n",
       "      <th>depth</th>\n",
       "      <th>extinct</th>\n",
       "      <th>id</th>\n",
       "      <th>name</th>\n",
       "      <th>num_kids</th>\n",
       "      <th>phylesis</th>\n",
       "      <th>x</th>\n",
       "      <th>y</th>\n",
       "      <th>Begin</th>\n",
       "      <th>End</th>\n",
       "      <th>img_url</th>\n",
       "    </tr>\n",
       "  </thead>\n",
       "  <tbody>\n",
       "    <tr>\n",
       "      <th>10390</th>\n",
       "      <td>15088</td>\n",
       "      <td>9</td>\n",
       "      <td>0</td>\n",
       "      <td>15091</td>\n",
       "      <td>Polymixiiformes</td>\n",
       "      <td>0</td>\n",
       "      <td>0</td>\n",
       "      <td>-1.329644</td>\n",
       "      <td>1.238158</td>\n",
       "      <td>34.0</td>\n",
       "      <td>0.0</td>\n",
       "      <td>https://en.wikipedia.org/wiki/File:Polymixia_n...</td>\n",
       "    </tr>\n",
       "    <tr>\n",
       "      <th>10391</th>\n",
       "      <td>15088</td>\n",
       "      <td>9</td>\n",
       "      <td>0</td>\n",
       "      <td>15089</td>\n",
       "      <td>Lampridiformes</td>\n",
       "      <td>0</td>\n",
       "      <td>0</td>\n",
       "      <td>-1.387254</td>\n",
       "      <td>0.381895</td>\n",
       "      <td>0.0</td>\n",
       "      <td>0.0</td>\n",
       "      <td>https://en.wikipedia.org/wiki/File:Lophotus_la...</td>\n",
       "    </tr>\n",
       "    <tr>\n",
       "      <th>10392</th>\n",
       "      <td>14843</td>\n",
       "      <td>5</td>\n",
       "      <td>2</td>\n",
       "      <td>14924</td>\n",
       "      <td>Acanthodii</td>\n",
       "      <td>0</td>\n",
       "      <td>0</td>\n",
       "      <td>-1.555681</td>\n",
       "      <td>0.007475</td>\n",
       "      <td>188.0</td>\n",
       "      <td>0.0</td>\n",
       "      <td>https://en.wikipedia.org/wiki/File:image_=_Aca...</td>\n",
       "    </tr>\n",
       "    <tr>\n",
       "      <th>10393</th>\n",
       "      <td>14843</td>\n",
       "      <td>5</td>\n",
       "      <td>0</td>\n",
       "      <td>14925</td>\n",
       "      <td>Chondrichthyes</td>\n",
       "      <td>0</td>\n",
       "      <td>0</td>\n",
       "      <td>-2.013908</td>\n",
       "      <td>0.478732</td>\n",
       "      <td>188.0</td>\n",
       "      <td>0.0</td>\n",
       "      <td>https://en.wikipedia.org/wiki/File:White_shark...</td>\n",
       "    </tr>\n",
       "    <tr>\n",
       "      <th>10394</th>\n",
       "      <td>14843</td>\n",
       "      <td>5</td>\n",
       "      <td>2</td>\n",
       "      <td>14926</td>\n",
       "      <td>Placodermi</td>\n",
       "      <td>0</td>\n",
       "      <td>0</td>\n",
       "      <td>-1.105787</td>\n",
       "      <td>0.408763</td>\n",
       "      <td>188.0</td>\n",
       "      <td>0.0</td>\n",
       "      <td>https://en.wikipedia.org/wiki/File:Bothriolepi...</td>\n",
       "    </tr>\n",
       "  </tbody>\n",
       "</table>\n",
       "</div>"
      ],
      "text/plain": [
       "       ancestor  depth  extinct     id             name  num_kids  phylesis  \\\n",
       "10390     15088      9        0  15091  Polymixiiformes         0         0   \n",
       "10391     15088      9        0  15089   Lampridiformes         0         0   \n",
       "10392     14843      5        2  14924       Acanthodii         0         0   \n",
       "10393     14843      5        0  14925   Chondrichthyes         0         0   \n",
       "10394     14843      5        2  14926       Placodermi         0         0   \n",
       "\n",
       "              x         y  Begin  End  \\\n",
       "10390 -1.329644  1.238158   34.0  0.0   \n",
       "10391 -1.387254  0.381895    0.0  0.0   \n",
       "10392 -1.555681  0.007475  188.0  0.0   \n",
       "10393 -2.013908  0.478732  188.0  0.0   \n",
       "10394 -1.105787  0.408763  188.0  0.0   \n",
       "\n",
       "                                                 img_url  \n",
       "10390  https://en.wikipedia.org/wiki/File:Polymixia_n...  \n",
       "10391  https://en.wikipedia.org/wiki/File:Lophotus_la...  \n",
       "10392  https://en.wikipedia.org/wiki/File:image_=_Aca...  \n",
       "10393  https://en.wikipedia.org/wiki/File:White_shark...  \n",
       "10394  https://en.wikipedia.org/wiki/File:Bothriolepi...  "
      ]
     },
     "execution_count": 10,
     "metadata": {},
     "output_type": "execute_result"
    }
   ],
   "source": [
    "df['img_url'] = img_list\n",
    "df.tail()"
   ]
  },
  {
   "cell_type": "code",
   "execution_count": 11,
   "metadata": {},
   "outputs": [
    {
     "name": "stdout",
     "output_type": "stream",
     "text": [
      "(10395, 12)\n",
      "                                                    ancestor  depth  extinct  \\\n",
      "img_url                                                                        \n",
      "https://en.wikipedia.org/wiki/File:Wikipedia-lo...      3048   3048     3048   \n",
      "https://en.wikipedia.org/wiki/File:Stone_Sheep_...        35     35       35   \n",
      "https://en.wikipedia.org/wiki/File:MoreporkMaun...        21     21       21   \n",
      "https://en.wikipedia.org/wiki/File:Family_Cervi...        20     20       20   \n",
      "https://en.wikipedia.org/wiki/File:White-bellie...        19     19       19   \n",
      "\n",
      "                                                      id  name  num_kids  \\\n",
      "img_url                                                                    \n",
      "https://en.wikipedia.org/wiki/File:Wikipedia-lo...  3048  3048      3048   \n",
      "https://en.wikipedia.org/wiki/File:Stone_Sheep_...    35    35        35   \n",
      "https://en.wikipedia.org/wiki/File:MoreporkMaun...    21    21        21   \n",
      "https://en.wikipedia.org/wiki/File:Family_Cervi...    20    20        20   \n",
      "https://en.wikipedia.org/wiki/File:White-bellie...    19    19        19   \n",
      "\n",
      "                                                    phylesis     x     y  \\\n",
      "img_url                                                                    \n",
      "https://en.wikipedia.org/wiki/File:Wikipedia-lo...      3048  3048  3048   \n",
      "https://en.wikipedia.org/wiki/File:Stone_Sheep_...        35    35    35   \n",
      "https://en.wikipedia.org/wiki/File:MoreporkMaun...        21    21    21   \n",
      "https://en.wikipedia.org/wiki/File:Family_Cervi...        20    20    20   \n",
      "https://en.wikipedia.org/wiki/File:White-bellie...        19    19    19   \n",
      "\n",
      "                                                    Begin   End  \n",
      "img_url                                                          \n",
      "https://en.wikipedia.org/wiki/File:Wikipedia-lo...   3048  3048  \n",
      "https://en.wikipedia.org/wiki/File:Stone_Sheep_...     35    35  \n",
      "https://en.wikipedia.org/wiki/File:MoreporkMaun...     21    21  \n",
      "https://en.wikipedia.org/wiki/File:Family_Cervi...     20    20  \n",
      "https://en.wikipedia.org/wiki/File:White-bellie...     19    19  \n"
     ]
    }
   ],
   "source": [
    "print(df.shape)\n",
    "print(df.groupby('img_url').count().sort_values(by='name', ascending=False).head())"
   ]
  },
  {
   "cell_type": "code",
   "execution_count": 12,
   "metadata": {},
   "outputs": [],
   "source": [
    "df.to_csv(OUT_FILE, index=False)"
   ]
  },
  {
   "cell_type": "code",
   "execution_count": null,
   "metadata": {},
   "outputs": [],
   "source": []
  },
  {
   "cell_type": "code",
   "execution_count": 13,
   "metadata": {},
   "outputs": [],
   "source": [
    "#get_image_url(\"Bill Murray\")"
   ]
  },
  {
   "cell_type": "code",
   "execution_count": null,
   "metadata": {},
   "outputs": [],
   "source": []
  },
  {
   "cell_type": "code",
   "execution_count": 14,
   "metadata": {},
   "outputs": [],
   "source": [
    "#df = pd.read_csv(OUT_FILE)\n",
    "#df.head()"
   ]
  },
  {
   "cell_type": "code",
   "execution_count": 15,
   "metadata": {},
   "outputs": [],
   "source": [
    "#print(df.shape)\n",
    "#df.groupby('img_url').count().sort_values(by='name', ascending=False)"
   ]
  },
  {
   "cell_type": "code",
   "execution_count": 16,
   "metadata": {},
   "outputs": [
    {
     "data": {
      "text/plain": [
       "'https://en.wikipedia.org/wiki/File:image=Kryptopterus.jpg'"
      ]
     },
     "execution_count": 16,
     "metadata": {},
     "output_type": "execute_result"
    }
   ],
   "source": [
    "wiki_img_url = df.img_url[0]\n",
    "wiki_img_url"
   ]
  },
  {
   "cell_type": "code",
   "execution_count": null,
   "metadata": {},
   "outputs": [],
   "source": []
  },
  {
   "cell_type": "code",
   "execution_count": 17,
   "metadata": {},
   "outputs": [],
   "source": [
    "def parse_wiki_pic(wiki_img_url, telltale=\"//upload.wikimedia.org/wikipedia/commons\"):\n",
    "    wiki_pic = requests.get(wiki_img_url).content.decode(\"utf-8\")\n",
    "    png_str = [b for b in wiki_pic.split('|') if ('.png' in b) and (telltale in b)][0]\n",
    "    #clean up string\n",
    "    png_str = re.sub(\"\\\\n\", '', png_str)\n",
    "    #png_str = re.sub('^(.+?)href ?= ?\\\"', '', png_str)\n",
    "    png_str = re.sub('^(.+?)href ?= ?\\\"'+telltale, telltale, png_str)\n",
    "    png_str = re.sub('\\\"(.+?)$', '', png_str)\n",
    "    return \"https:\"+png_str"
   ]
  },
  {
   "cell_type": "code",
   "execution_count": null,
   "metadata": {},
   "outputs": [],
   "source": []
  },
  {
   "cell_type": "code",
   "execution_count": 18,
   "metadata": {},
   "outputs": [],
   "source": [
    "import base64\n",
    "import requests\n",
    "from resizeimage import resizeimage\n",
    "from PIL import Image\n",
    "import io\n",
    "\n",
    "def bytes_to_img(img_bytes, resize=[]):\n",
    "    image = Image.open(io.BytesIO(img_bytes))\n",
    "    \n",
    "    if len(resize) == 2:\n",
    "        image = resizeimage.resize_contain(image, resize)\n",
    "    elif len(resize) != 0:\n",
    "        raise ValueError(\"resize argument takes a list of length 2 (height x width)\")\n",
    "    \n",
    "    return image\n",
    "    \n",
    "def get_image_base64(url, resize=[]):\n",
    "    img_bytes = requests.get(url).content\n",
    "    \n",
    "    if len(resize) == 2:\n",
    "        img = bytes_to_img(img_bytes, resize=resize)\n",
    "        buffered = io.BytesIO()\n",
    "        img.save(buffered, format=\"JPEG\")\n",
    "        img_bytes = buffered.getvalue()\n",
    "    elif len(resize) != 0:\n",
    "        raise ValueError(\"resize argument takes a list of length 2 (height x width)\")\n",
    "        \n",
    "    return base64.b64encode(img_bytes)\n",
    "\n"
   ]
  },
  {
   "cell_type": "code",
   "execution_count": null,
   "metadata": {},
   "outputs": [],
   "source": []
  },
  {
   "cell_type": "code",
   "execution_count": 19,
   "metadata": {},
   "outputs": [],
   "source": [
    "#get_image(requests.get(img_url).content, resize=[150,150]).show()"
   ]
  },
  {
   "cell_type": "code",
   "execution_count": 20,
   "metadata": {},
   "outputs": [],
   "source": [
    "#get_image_base64(img_url, resize=[100,100])"
   ]
  },
  {
   "cell_type": "code",
   "execution_count": 21,
   "metadata": {},
   "outputs": [
    {
     "data": {
      "text/plain": [
       "'https://en.wikipedia.org/wiki/File:Castericystis_sprinklei_-_MHNT_-_Millard_County,_Utha,_USA.jpg'"
      ]
     },
     "execution_count": 21,
     "metadata": {},
     "output_type": "execute_result"
    }
   ],
   "source": [
    "df.img_url[1]"
   ]
  },
  {
   "cell_type": "code",
   "execution_count": 22,
   "metadata": {},
   "outputs": [
    {
     "name": "stdout",
     "output_type": "stream",
     "text": [
      "https://upload.wikimedia.org/wikipedia/commons/9/95/Castericystis_sprinklei_-_MHNT_-_Millard_County%2C_Utha%2C_USA.jpg\n"
     ]
    }
   ],
   "source": [
    "wiki_img_url = df.img_url[1]\n",
    "real_img_url = parse_wiki_pic(wiki_img_url)\n",
    "print(real_img_url)\n",
    "bytes_to_img(requests.get(real_img_url).content, resize=[150,150]).show()\n",
    "#get_image_base64(real_img_url, resize=[100,100])"
   ]
  },
  {
   "cell_type": "code",
   "execution_count": null,
   "metadata": {},
   "outputs": [],
   "source": []
  },
  {
   "cell_type": "code",
   "execution_count": null,
   "metadata": {},
   "outputs": [],
   "source": []
  },
  {
   "cell_type": "code",
   "execution_count": 23,
   "metadata": {},
   "outputs": [],
   "source": [
    "###num_pics = 25\n",
    "###for i in list(np.random.choice(list(range(df.shape[0])), num_pics)):\n",
    "###    print(i, end=' ', flush=True)\n",
    "###    try:\n",
    "###        wiki_img_url = df.img_url[i]\n",
    "###        print(df.name[i], end=' ', flush=True)\n",
    "###        real_img_url = parse_wiki_pic(wiki_img_url)\n",
    "###        get_image(requests.get(real_img_url).content, resize=[150,150]).show()\n",
    "###        print(\"showing \"+real_img_url)\n",
    "###    except:\n",
    "###        print(\"-- Bill!\")\n",
    "###        #wiki_img_url = get_image_url(\"Bill Murray\")\n",
    "###        #real_img_url = parse_wiki_pic(wiki_img_url)\n",
    "###        #get_image(requests.get(real_img_url).content, resize=[150,150]).show()"
   ]
  },
  {
   "cell_type": "code",
   "execution_count": 24,
   "metadata": {},
   "outputs": [],
   "source": [
    "wiki_img_url = get_image_url(\"Bill Murray\")\n",
    "real_img_url = parse_wiki_pic(wiki_img_url)\n",
    "fallback_bill = get_image_base64(real_img_url, resize=[100,100])"
   ]
  },
  {
   "cell_type": "code",
   "execution_count": 25,
   "metadata": {},
   "outputs": [
    {
     "name": "stdout",
     "output_type": "stream",
     "text": [
      "0::7910 50::7955 100::7981 "
     ]
    },
    {
     "name": "stderr",
     "output_type": "stream",
     "text": [
      "/Users/Seth/anaconda/lib/python3.5/site-packages/PIL/TiffImagePlugin.py:785: UserWarning:\n",
      "\n",
      "Corrupt EXIF data.  Expecting to read 4 bytes but only got 0. \n",
      "\n"
     ]
    },
    {
     "name": "stdout",
     "output_type": "stream",
     "text": [
      "150::8012 200::8059 250::8099 300::8144 350::8173 400::8202 450::8224 500::8271 550::8361 600::8410 650::8475 700::8629 750::8773 800::8842 850::8898 900::8918 950::8959 1000::9081 1050::9165 1100::9190 1150::9246 1200::9302 1250::9459 1300::9543 1350::9631 1400::9734 1450::9785 1500::9892 1550::9962 1600::9991 1650::10051 1700::10102 1750::10154 1800::10215 1850::10267 1900::10335 1950::10406 2000::10511 2050::10573 2100::10619 2150::10717 2200::10792 2250::10854 2300::10919 2350::10990 2400::11074 2450::11137 2500::11279 2550::11377 2600::11457 2650::11535 2700::11622 2750::11672 2800::11717 2850::11784 2900::11846 2950::11885 3000::11940 3050::12013 3100::12070 3150::12118 3200::12167 3250::12201 3300::12253 3350::12302 3400::12355 3450::12402 3500::12465 3550::12556 3600::12620 3650::12659 3700::12710 3750::12763 3800::12793 3850::12860 3900::12927 3950::12975 4000::13030 4050::13111 4100::13195 4150::13265 4200::13335 4250::13412 4300::13491 4350::13543 4400::13616 4450::13691 4500::13756 4550::13836 4600::13907 4650::14032 4700::14122 4750::14230 4800::14334 4850::14465 4900::14528 4950::14604 5000::14661 5050::14764 5100::14846 5150::14898 5200::14984 5250::15044 5300::15125 5350::15205 5400::15312 5450::15351 5500::15399 5550::15447 5600::15487 5650::15535 5700::15599 5750::15683 5800::15755 5850::15806 5900::15853 5950::15923 6000::15967 6050::16020 6100::16083 6150::16173 6200::16227 6250::16268 6300::16329 6350::16388 6400::16437 6450::16537 6500::16591 6550::16680 "
     ]
    },
    {
     "name": "stderr",
     "output_type": "stream",
     "text": [
      "/Users/Seth/anaconda/lib/python3.5/site-packages/PIL/TiffImagePlugin.py:768: UserWarning:\n",
      "\n",
      "Possibly corrupt EXIF data.  Expecting to read 32 bytes but only got 0. Skipping tag 270\n",
      "\n",
      "/Users/Seth/anaconda/lib/python3.5/site-packages/PIL/TiffImagePlugin.py:768: UserWarning:\n",
      "\n",
      "Possibly corrupt EXIF data.  Expecting to read 24 bytes but only got 0. Skipping tag 271\n",
      "\n",
      "/Users/Seth/anaconda/lib/python3.5/site-packages/PIL/TiffImagePlugin.py:768: UserWarning:\n",
      "\n",
      "Possibly corrupt EXIF data.  Expecting to read 17 bytes but only got 0. Skipping tag 272\n",
      "\n",
      "/Users/Seth/anaconda/lib/python3.5/site-packages/PIL/TiffImagePlugin.py:768: UserWarning:\n",
      "\n",
      "Possibly corrupt EXIF data.  Expecting to read 8 bytes but only got 0. Skipping tag 282\n",
      "\n",
      "/Users/Seth/anaconda/lib/python3.5/site-packages/PIL/TiffImagePlugin.py:768: UserWarning:\n",
      "\n",
      "Possibly corrupt EXIF data.  Expecting to read 8 bytes but only got 0. Skipping tag 283\n",
      "\n",
      "/Users/Seth/anaconda/lib/python3.5/site-packages/PIL/TiffImagePlugin.py:768: UserWarning:\n",
      "\n",
      "Possibly corrupt EXIF data.  Expecting to read 32 bytes but only got 0. Skipping tag 305\n",
      "\n",
      "/Users/Seth/anaconda/lib/python3.5/site-packages/PIL/TiffImagePlugin.py:768: UserWarning:\n",
      "\n",
      "Possibly corrupt EXIF data.  Expecting to read 20 bytes but only got 0. Skipping tag 306\n",
      "\n",
      "/Users/Seth/anaconda/lib/python3.5/site-packages/PIL/TiffImagePlugin.py:768: UserWarning:\n",
      "\n",
      "Possibly corrupt EXIF data.  Expecting to read 528 bytes but only got 0. Skipping tag 50341\n",
      "\n",
      "/Users/Seth/anaconda/lib/python3.5/site-packages/PIL/TiffImagePlugin.py:768: UserWarning:\n",
      "\n",
      "Possibly corrupt EXIF data.  Expecting to read 8 bytes but only got 0. Skipping tag 33434\n",
      "\n",
      "/Users/Seth/anaconda/lib/python3.5/site-packages/PIL/TiffImagePlugin.py:768: UserWarning:\n",
      "\n",
      "Possibly corrupt EXIF data.  Expecting to read 8 bytes but only got 0. Skipping tag 33437\n",
      "\n",
      "/Users/Seth/anaconda/lib/python3.5/site-packages/PIL/TiffImagePlugin.py:768: UserWarning:\n",
      "\n",
      "Possibly corrupt EXIF data.  Expecting to read 20 bytes but only got 0. Skipping tag 36867\n",
      "\n",
      "/Users/Seth/anaconda/lib/python3.5/site-packages/PIL/TiffImagePlugin.py:768: UserWarning:\n",
      "\n",
      "Possibly corrupt EXIF data.  Expecting to read 20 bytes but only got 0. Skipping tag 36868\n",
      "\n",
      "/Users/Seth/anaconda/lib/python3.5/site-packages/PIL/TiffImagePlugin.py:768: UserWarning:\n",
      "\n",
      "Possibly corrupt EXIF data.  Expecting to read 8 bytes but only got 0. Skipping tag 37380\n",
      "\n",
      "/Users/Seth/anaconda/lib/python3.5/site-packages/PIL/TiffImagePlugin.py:768: UserWarning:\n",
      "\n",
      "Possibly corrupt EXIF data.  Expecting to read 8 bytes but only got 0. Skipping tag 37381\n",
      "\n",
      "/Users/Seth/anaconda/lib/python3.5/site-packages/PIL/TiffImagePlugin.py:768: UserWarning:\n",
      "\n",
      "Possibly corrupt EXIF data.  Expecting to read 8 bytes but only got 0. Skipping tag 37386\n",
      "\n",
      "/Users/Seth/anaconda/lib/python3.5/site-packages/PIL/TiffImagePlugin.py:768: UserWarning:\n",
      "\n",
      "Possibly corrupt EXIF data.  Expecting to read 2102 bytes but only got 0. Skipping tag 37500\n",
      "\n",
      "/Users/Seth/anaconda/lib/python3.5/site-packages/PIL/TiffImagePlugin.py:768: UserWarning:\n",
      "\n",
      "Possibly corrupt EXIF data.  Expecting to read 125 bytes but only got 0. Skipping tag 37510\n",
      "\n",
      "/Users/Seth/anaconda/lib/python3.5/site-packages/PIL/TiffImagePlugin.py:768: UserWarning:\n",
      "\n",
      "Possibly corrupt EXIF data.  Expecting to read 8 bytes but only got 0. Skipping tag 41988\n",
      "\n",
      "/Users/Seth/anaconda/lib/python3.5/site-packages/PIL/TiffImagePlugin.py:785: UserWarning:\n",
      "\n",
      "Corrupt EXIF data.  Expecting to read 4 bytes but only got 2. \n",
      "\n"
     ]
    },
    {
     "name": "stdout",
     "output_type": "stream",
     "text": [
      "6600::16749 6650::16912 6700::17045 6750::17123 6800::17193 6850::17271 6900::17332 6950::17383 7000::17434 7050::17502 7100::17574 7150::17667 7200::17726 7250::17779 "
     ]
    },
    {
     "name": "stderr",
     "output_type": "stream",
     "text": [
      "/Users/Seth/anaconda/lib/python3.5/site-packages/PIL/Image.py:2618: DecompressionBombWarning:\n",
      "\n",
      "Image size (177053184 pixels) exceeds limit of 89478485 pixels, could be decompression bomb DOS attack.\n",
      "\n"
     ]
    },
    {
     "name": "stdout",
     "output_type": "stream",
     "text": [
      "7300::17926 7350::18007 7400::18101 7450::18185 7500::18290 7550::18427 7600::18567 7650::18661 7700::18745 7750::18855 7800::18921 7850::19005 7900::19072 7950::19141 8000::19216 8050::19308 8100::19368 8150::19445 8200::19528 8250::19574 8300::19604 8350::19641 8400::19670 8450::19705 8500::19741 8550::19764 8600::19799 8650::19829 8700::19873 8750::19907 8800::19943 8850::19969 8900::19994 8950::20020 9000::20083 9050::20099 9100::20121 9150::20173 9200::20233 9250::20255 9300::20296 9350::20321 9400::20363 9450::20402 9500::20438 9550::20469 9600::20497 9650::20527 9700::20588 9750::20616 9800::20669 9850::20699 9900::20734 9950::20763 10000::20789 10050::20815 10100::20844 10150::20855 10200::20880 10250::20907 10300::20946 10350::20986 "
     ]
    }
   ],
   "source": [
    "img_list = []\n",
    "for i, row in df.iterrows():\n",
    "    try:\n",
    "        wiki_img_url = row['img_url']\n",
    "        real_img_url = parse_wiki_pic(wiki_img_url)\n",
    "        img_list.append(get_image_base64(real_img_url, resize=[100,100]))\n",
    "    except:\n",
    "        #print(\"-- Bill!\")\n",
    "        img_list.append(fallback_bill)\n",
    "    if i % 50 == 0:\n",
    "        print(\"{}::{}\".format(i, int(time()-start)), end= ' ', flush=True)"
   ]
  },
  {
   "cell_type": "code",
   "execution_count": 26,
   "metadata": {},
   "outputs": [
    {
     "data": {
      "text/html": [
       "<div>\n",
       "<style scoped>\n",
       "    .dataframe tbody tr th:only-of-type {\n",
       "        vertical-align: middle;\n",
       "    }\n",
       "\n",
       "    .dataframe tbody tr th {\n",
       "        vertical-align: top;\n",
       "    }\n",
       "\n",
       "    .dataframe thead th {\n",
       "        text-align: right;\n",
       "    }\n",
       "</style>\n",
       "<table border=\"1\" class=\"dataframe\">\n",
       "  <thead>\n",
       "    <tr style=\"text-align: right;\">\n",
       "      <th></th>\n",
       "      <th>ancestor</th>\n",
       "      <th>depth</th>\n",
       "      <th>extinct</th>\n",
       "      <th>id</th>\n",
       "      <th>name</th>\n",
       "      <th>num_kids</th>\n",
       "      <th>phylesis</th>\n",
       "      <th>x</th>\n",
       "      <th>y</th>\n",
       "      <th>Begin</th>\n",
       "      <th>End</th>\n",
       "      <th>img_url</th>\n",
       "      <th>img_base64</th>\n",
       "    </tr>\n",
       "  </thead>\n",
       "  <tbody>\n",
       "    <tr>\n",
       "      <th>10390</th>\n",
       "      <td>15088</td>\n",
       "      <td>9</td>\n",
       "      <td>0</td>\n",
       "      <td>15091</td>\n",
       "      <td>Polymixiiformes</td>\n",
       "      <td>0</td>\n",
       "      <td>0</td>\n",
       "      <td>-1.329644</td>\n",
       "      <td>1.238158</td>\n",
       "      <td>34.0</td>\n",
       "      <td>0.0</td>\n",
       "      <td>https://en.wikipedia.org/wiki/File:Polymixia_n...</td>\n",
       "      <td>b'/9j/4AAQSkZJRgABAQAAAQABAAD/2wBDAAgGBgcGBQgH...</td>\n",
       "    </tr>\n",
       "    <tr>\n",
       "      <th>10391</th>\n",
       "      <td>15088</td>\n",
       "      <td>9</td>\n",
       "      <td>0</td>\n",
       "      <td>15089</td>\n",
       "      <td>Lampridiformes</td>\n",
       "      <td>0</td>\n",
       "      <td>0</td>\n",
       "      <td>-1.387254</td>\n",
       "      <td>0.381895</td>\n",
       "      <td>0.0</td>\n",
       "      <td>0.0</td>\n",
       "      <td>https://en.wikipedia.org/wiki/File:Lophotus_la...</td>\n",
       "      <td>b'/9j/4AAQSkZJRgABAQAAAQABAAD/2wBDAAgGBgcGBQgH...</td>\n",
       "    </tr>\n",
       "    <tr>\n",
       "      <th>10392</th>\n",
       "      <td>14843</td>\n",
       "      <td>5</td>\n",
       "      <td>2</td>\n",
       "      <td>14924</td>\n",
       "      <td>Acanthodii</td>\n",
       "      <td>0</td>\n",
       "      <td>0</td>\n",
       "      <td>-1.555681</td>\n",
       "      <td>0.007475</td>\n",
       "      <td>188.0</td>\n",
       "      <td>0.0</td>\n",
       "      <td>https://en.wikipedia.org/wiki/File:image_=_Aca...</td>\n",
       "      <td>b'/9j/4AAQSkZJRgABAQAAAQABAAD/2wBDAAgGBgcGBQgH...</td>\n",
       "    </tr>\n",
       "    <tr>\n",
       "      <th>10393</th>\n",
       "      <td>14843</td>\n",
       "      <td>5</td>\n",
       "      <td>0</td>\n",
       "      <td>14925</td>\n",
       "      <td>Chondrichthyes</td>\n",
       "      <td>0</td>\n",
       "      <td>0</td>\n",
       "      <td>-2.013908</td>\n",
       "      <td>0.478732</td>\n",
       "      <td>188.0</td>\n",
       "      <td>0.0</td>\n",
       "      <td>https://en.wikipedia.org/wiki/File:White_shark...</td>\n",
       "      <td>b'/9j/4AAQSkZJRgABAQAAAQABAAD/2wBDAAgGBgcGBQgH...</td>\n",
       "    </tr>\n",
       "    <tr>\n",
       "      <th>10394</th>\n",
       "      <td>14843</td>\n",
       "      <td>5</td>\n",
       "      <td>2</td>\n",
       "      <td>14926</td>\n",
       "      <td>Placodermi</td>\n",
       "      <td>0</td>\n",
       "      <td>0</td>\n",
       "      <td>-1.105787</td>\n",
       "      <td>0.408763</td>\n",
       "      <td>188.0</td>\n",
       "      <td>0.0</td>\n",
       "      <td>https://en.wikipedia.org/wiki/File:Bothriolepi...</td>\n",
       "      <td>b'/9j/4AAQSkZJRgABAQAAAQABAAD/2wBDAAgGBgcGBQgH...</td>\n",
       "    </tr>\n",
       "  </tbody>\n",
       "</table>\n",
       "</div>"
      ],
      "text/plain": [
       "       ancestor  depth  extinct     id             name  num_kids  phylesis  \\\n",
       "10390     15088      9        0  15091  Polymixiiformes         0         0   \n",
       "10391     15088      9        0  15089   Lampridiformes         0         0   \n",
       "10392     14843      5        2  14924       Acanthodii         0         0   \n",
       "10393     14843      5        0  14925   Chondrichthyes         0         0   \n",
       "10394     14843      5        2  14926       Placodermi         0         0   \n",
       "\n",
       "              x         y  Begin  End  \\\n",
       "10390 -1.329644  1.238158   34.0  0.0   \n",
       "10391 -1.387254  0.381895    0.0  0.0   \n",
       "10392 -1.555681  0.007475  188.0  0.0   \n",
       "10393 -2.013908  0.478732  188.0  0.0   \n",
       "10394 -1.105787  0.408763  188.0  0.0   \n",
       "\n",
       "                                                 img_url  \\\n",
       "10390  https://en.wikipedia.org/wiki/File:Polymixia_n...   \n",
       "10391  https://en.wikipedia.org/wiki/File:Lophotus_la...   \n",
       "10392  https://en.wikipedia.org/wiki/File:image_=_Aca...   \n",
       "10393  https://en.wikipedia.org/wiki/File:White_shark...   \n",
       "10394  https://en.wikipedia.org/wiki/File:Bothriolepi...   \n",
       "\n",
       "                                              img_base64  \n",
       "10390  b'/9j/4AAQSkZJRgABAQAAAQABAAD/2wBDAAgGBgcGBQgH...  \n",
       "10391  b'/9j/4AAQSkZJRgABAQAAAQABAAD/2wBDAAgGBgcGBQgH...  \n",
       "10392  b'/9j/4AAQSkZJRgABAQAAAQABAAD/2wBDAAgGBgcGBQgH...  \n",
       "10393  b'/9j/4AAQSkZJRgABAQAAAQABAAD/2wBDAAgGBgcGBQgH...  \n",
       "10394  b'/9j/4AAQSkZJRgABAQAAAQABAAD/2wBDAAgGBgcGBQgH...  "
      ]
     },
     "execution_count": 26,
     "metadata": {},
     "output_type": "execute_result"
    }
   ],
   "source": [
    "df['img_base64'] = img_list\n",
    "df.tail()"
   ]
  },
  {
   "cell_type": "code",
   "execution_count": 27,
   "metadata": {},
   "outputs": [],
   "source": [
    "df.to_csv(OUT_FILE.replace(\".csv\", \"-base64.csv\"), index=False)"
   ]
  },
  {
   "cell_type": "code",
   "execution_count": null,
   "metadata": {},
   "outputs": [],
   "source": []
  }
 ],
 "metadata": {
  "kernelspec": {
   "display_name": "Python [Root]",
   "language": "python",
   "name": "Python [Root]"
  },
  "language_info": {
   "codemirror_mode": {
    "name": "ipython",
    "version": 3
   },
   "file_extension": ".py",
   "mimetype": "text/x-python",
   "name": "python",
   "nbconvert_exporter": "python",
   "pygments_lexer": "ipython3",
   "version": "3.5.1"
  }
 },
 "nbformat": 4,
 "nbformat_minor": 2
}
