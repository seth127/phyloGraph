{
 "cells": [
  {
   "cell_type": "code",
   "execution_count": 1,
   "metadata": {},
   "outputs": [
    {
     "data": {
      "text/html": [
       "<script>requirejs.config({paths: { 'plotly': ['https://cdn.plot.ly/plotly-latest.min']},});if(!window.Plotly) {{require(['plotly'],function(plotly) {window.Plotly=plotly;});}}</script>"
      ],
      "text/vnd.plotly.v1+html": [
       "<script>requirejs.config({paths: { 'plotly': ['https://cdn.plot.ly/plotly-latest.min']},});if(!window.Plotly) {{require(['plotly'],function(plotly) {window.Plotly=plotly;});}}</script>"
      ]
     },
     "metadata": {},
     "output_type": "display_data"
    }
   ],
   "source": [
    "import phyloGraph as ph\n",
    "\n",
    "from plotly.offline import download_plotlyjs, init_notebook_mode\n",
    "init_notebook_mode(connected=True)\n",
    "\n",
    "#vim ~/.Plotly/.Credentials\n",
    "\n",
    "import requests\n",
    "import collections\n",
    "import json\n",
    "import pandas as pd\n",
    "import numpy as np\n",
    "import re\n",
    "import sys\n",
    "from time import time\n",
    "\n",
    "import wikipedia\n",
    "#https://stackoverflow.com/questions/8088226/content-of-infobox-of-wikipedia"
   ]
  },
  {
   "cell_type": "code",
   "execution_count": 2,
   "metadata": {},
   "outputs": [],
   "source": [
    "GEO_TIME = \"geological_time.csv\"\n",
    "#DATA_FILE = \"data/Mammalia-15040-df-fixedage.csv\"\n",
    "#OUT_FILE = 'data/Mammalia-15040-df-images.csv'\n",
    "\n",
    "DATA_FILE = \"data/Chordata-2499-df-fixedage.csv\"\n",
    "OUT_FILE = 'data/Chordata-2499-df-images.csv'"
   ]
  },
  {
   "cell_type": "code",
   "execution_count": 3,
   "metadata": {},
   "outputs": [],
   "source": [
    "gt = pd.read_csv(GEO_TIME)\n",
    "\n",
    "def trynum(n):\n",
    "    try:\n",
    "        return float(n)\n",
    "    except:\n",
    "        return None"
   ]
  },
  {
   "cell_type": "code",
   "execution_count": 4,
   "metadata": {},
   "outputs": [
    {
     "name": "stdout",
     "output_type": "stream",
     "text": [
      "(10395, 11)\n",
      "Index(['ancestor', 'depth', 'extinct', 'id', 'name', 'num_kids', 'phylesis',\n",
      "       'x', 'y', 'Begin', 'End'],\n",
      "      dtype='object')\n"
     ]
    }
   ],
   "source": [
    "df = pd.read_csv(DATA_FILE)\n",
    "print(df.shape)\n",
    "print(df.columns)"
   ]
  },
  {
   "cell_type": "code",
   "execution_count": 5,
   "metadata": {},
   "outputs": [
    {
     "data": {
      "text/plain": [
       "'Chordata'"
      ]
     },
     "execution_count": 5,
     "metadata": {},
     "output_type": "execute_result"
    }
   ],
   "source": [
    "this_query = df.name[0]\n",
    "this_query"
   ]
  },
  {
   "cell_type": "code",
   "execution_count": 6,
   "metadata": {},
   "outputs": [],
   "source": [
    "start = time()"
   ]
  },
  {
   "cell_type": "code",
   "execution_count": 7,
   "metadata": {},
   "outputs": [],
   "source": [
    "def parse_png_from_box(box):\n",
    "    png_str = [b for b in box.split('|') if (('.png' in b) or ('.jpg' in b)) and ('image' in b)][0]\n",
    "    #clean up string\n",
    "    png_str = re.sub(\"\\\\n\", '', png_str)\n",
    "    png_str = re.sub(\"^(.+?)image +?= +?\", '', png_str)\n",
    "    png_str = re.sub(\"^(.+?)File:\", '', png_str)\n",
    "    png_str = png_str.replace(\" \", \"_\")\n",
    "    return png_str\n",
    "\n",
    "def get_image_url(this_query, \n",
    "                  base_url = \"https://en.wikipedia.org/wiki/File:\",\n",
    "                  fallback = \"https://en.wikipedia.org/wiki/File:Wikipedia-logo-v2.svg\"):\n",
    "    \"\"\"\n",
    "    \"\"\"\n",
    "    try:\n",
    "        # get wikipedia page\n",
    "        this_page_id = wikipedia.search(this_query, results=1)[0]\n",
    "    \n",
    "        # fetch infobox\n",
    "        wiki_url = 'http://en.wikipedia.org/w/api.php?action=query&prop=revisions&rvprop=content&format=json&titles={}&rvsection=0'.format(this_page_id)\n",
    "        box_raw = json.loads(requests.get(wiki_url).content.decode('utf-8'))\n",
    "        box = next(iter(box_raw['query']['pages'].values()))['revisions'][0]['*']\n",
    "        \n",
    "        png_str = parse_png_from_box(box)\n",
    "        \n",
    "        return base_url + png_str\n",
    "    except:\n",
    "        return fallback"
   ]
  },
  {
   "cell_type": "code",
   "execution_count": 8,
   "metadata": {},
   "outputs": [
    {
     "data": {
      "text/plain": [
       "'https://en.wikipedia.org/wiki/File:image=Kryptopterus.jpg'"
      ]
     },
     "execution_count": 8,
     "metadata": {},
     "output_type": "execute_result"
    }
   ],
   "source": [
    "get_image_url(df.name[0])"
   ]
  },
  {
   "cell_type": "code",
   "execution_count": 9,
   "metadata": {},
   "outputs": [
    {
     "name": "stdout",
     "output_type": "stream",
     "text": [
      "0::3 50::68 100::130 150::187 200::260 250::320 300::388 350::462 400::521 450::594 500::668 550::744 600::804 650::856 700::928 750::991 800::1056 850::1109 900::1176 950::1234 1000::1278 1050::1318 1100::1352 1150::1384 1200::1418 1250::1460 1300::1496 1350::1533 1400::1588 1450::1628 1500::1676 1550::1726 1600::1771 1650::1818 1700::1855 1750::1906 1800::1956 1850::1997 1900::2041 1950::2087 2000::2135 2050::2187 2100::2229 2150::2275 2200::2317 2250::2359 2300::2409 2350::2460 2400::2508 2450::2550 2500::2605 2550::2662 2600::2716 2650::2765 2700::2820 2750::2872 2800::2916 2850::2977 2900::3036 2950::3090 3000::3140 3050::3193 3100::3250 3150::3299 3200::3343 3250::3389 3300::3438 3350::3499 3400::3538 3450::3575 3500::3612 3550::3650 3600::3684 3650::3729 3700::3769 3750::3814 3800::3855 3850::3896 3900::3941 3950::3991 4000::4061 4050::4127 4100::4198 4150::4287 4200::4384 4250::4461 4300::4550 4350::4643 4400::4721 4450::4794 4500::4846 4550::4900 4600::4969 4650::5029 4700::5064 4750::5110 4800::5148 4850::5183 4900::5226 4950::5272 5000::5317 5050::5351 5100::5388 5150::5425 5200::5460 5250::5499 5300::5535 5350::5579 5400::5615 5450::5655 5500::5695 5550::5736 5600::5775 5650::5814 5700::5849 5750::5886 5800::5924 5850::5978 5900::6049 5950::6120 6000::6188 6050::6233 6100::6272 6150::6310 6200::6348 6250::6383 6300::6421 6350::6461 6400::6503 6450::6545 6500::6581 6550::6619 6600::6660 6650::6698 6700::6737 6750::6774 6800::6812 6850::6849 6900::6886 6950::6926 7000::6965 7050::7000 7100::7042 7150::7082 7200::7123 7250::7161 7300::7199 7350::7236 7400::7272 7450::7311 7500::7352 7550::7388 7600::7426 7650::7462 7700::7500 7750::7540 7800::7582 7850::7621 7900::7656 7950::7696 8000::7734 8050::7772 8100::7811 8150::7846 8200::7883 8250::7923 8300::7958 8350::7994 8400::8030 8450::8070 8500::8109 8550::8152 8600::8193 8650::8238 8700::8281 8750::8321 8800::8361 8850::8398 8900::8437 8950::8473 9000::8510 9050::8551 9100::8590 9150::8629 9200::8667 9250::8706 9300::8743 9350::8792 9400::8843 9450::8885 9500::8927 9550::8984 9600::9043 9650::9085 9700::9145 9750::9195 9800::9240 9850::9281 9900::9322 9950::9365 10000::9402 10050::9440 10100::9475 10150::9514 10200::9557 10250::9594 10300::9636 10350::9675 "
     ]
    }
   ],
   "source": [
    "img_list = []\n",
    "for i, row in df.iterrows():\n",
    "    img_list.append(get_image_url(row['name']))\n",
    "    if i % 50 == 0:\n",
    "        print(\"{}::{}\".format(i, int(time()-start)), end= ' ', flush=True)"
   ]
  },
  {
   "cell_type": "code",
   "execution_count": 10,
   "metadata": {},
   "outputs": [
    {
     "data": {
      "text/html": [
       "<div>\n",
       "<style scoped>\n",
       "    .dataframe tbody tr th:only-of-type {\n",
       "        vertical-align: middle;\n",
       "    }\n",
       "\n",
       "    .dataframe tbody tr th {\n",
       "        vertical-align: top;\n",
       "    }\n",
       "\n",
       "    .dataframe thead th {\n",
       "        text-align: right;\n",
       "    }\n",
       "</style>\n",
       "<table border=\"1\" class=\"dataframe\">\n",
       "  <thead>\n",
       "    <tr style=\"text-align: right;\">\n",
       "      <th></th>\n",
       "      <th>ancestor</th>\n",
       "      <th>depth</th>\n",
       "      <th>extinct</th>\n",
       "      <th>id</th>\n",
       "      <th>name</th>\n",
       "      <th>num_kids</th>\n",
       "      <th>phylesis</th>\n",
       "      <th>x</th>\n",
       "      <th>y</th>\n",
       "      <th>Begin</th>\n",
       "      <th>End</th>\n",
       "      <th>img_url</th>\n",
       "    </tr>\n",
       "  </thead>\n",
       "  <tbody>\n",
       "    <tr>\n",
       "      <th>10390</th>\n",
       "      <td>15088</td>\n",
       "      <td>9</td>\n",
       "      <td>0</td>\n",
       "      <td>15091</td>\n",
       "      <td>Polymixiiformes</td>\n",
       "      <td>0</td>\n",
       "      <td>0</td>\n",
       "      <td>-1.329644</td>\n",
       "      <td>1.238158</td>\n",
       "      <td>34.0</td>\n",
       "      <td>0.0</td>\n",
       "      <td>https://en.wikipedia.org/wiki/File:Polymixia_n...</td>\n",
       "    </tr>\n",
       "    <tr>\n",
       "      <th>10391</th>\n",
       "      <td>15088</td>\n",
       "      <td>9</td>\n",
       "      <td>0</td>\n",
       "      <td>15089</td>\n",
       "      <td>Lampridiformes</td>\n",
       "      <td>0</td>\n",
       "      <td>0</td>\n",
       "      <td>-1.387254</td>\n",
       "      <td>0.381895</td>\n",
       "      <td>0.0</td>\n",
       "      <td>0.0</td>\n",
       "      <td>https://en.wikipedia.org/wiki/File:Lophotus_la...</td>\n",
       "    </tr>\n",
       "    <tr>\n",
       "      <th>10392</th>\n",
       "      <td>14843</td>\n",
       "      <td>5</td>\n",
       "      <td>2</td>\n",
       "      <td>14924</td>\n",
       "      <td>Acanthodii</td>\n",
       "      <td>0</td>\n",
       "      <td>0</td>\n",
       "      <td>-1.555681</td>\n",
       "      <td>0.007475</td>\n",
       "      <td>188.0</td>\n",
       "      <td>0.0</td>\n",
       "      <td>https://en.wikipedia.org/wiki/File:image_=_Aca...</td>\n",
       "    </tr>\n",
       "    <tr>\n",
       "      <th>10393</th>\n",
       "      <td>14843</td>\n",
       "      <td>5</td>\n",
       "      <td>0</td>\n",
       "      <td>14925</td>\n",
       "      <td>Chondrichthyes</td>\n",
       "      <td>0</td>\n",
       "      <td>0</td>\n",
       "      <td>-2.013908</td>\n",
       "      <td>0.478732</td>\n",
       "      <td>188.0</td>\n",
       "      <td>0.0</td>\n",
       "      <td>https://en.wikipedia.org/wiki/File:White_shark...</td>\n",
       "    </tr>\n",
       "    <tr>\n",
       "      <th>10394</th>\n",
       "      <td>14843</td>\n",
       "      <td>5</td>\n",
       "      <td>2</td>\n",
       "      <td>14926</td>\n",
       "      <td>Placodermi</td>\n",
       "      <td>0</td>\n",
       "      <td>0</td>\n",
       "      <td>-1.105787</td>\n",
       "      <td>0.408763</td>\n",
       "      <td>188.0</td>\n",
       "      <td>0.0</td>\n",
       "      <td>https://en.wikipedia.org/wiki/File:Bothriolepi...</td>\n",
       "    </tr>\n",
       "  </tbody>\n",
       "</table>\n",
       "</div>"
      ],
      "text/plain": [
       "       ancestor  depth  extinct     id             name  num_kids  phylesis  \\\n",
       "10390     15088      9        0  15091  Polymixiiformes         0         0   \n",
       "10391     15088      9        0  15089   Lampridiformes         0         0   \n",
       "10392     14843      5        2  14924       Acanthodii         0         0   \n",
       "10393     14843      5        0  14925   Chondrichthyes         0         0   \n",
       "10394     14843      5        2  14926       Placodermi         0         0   \n",
       "\n",
       "              x         y  Begin  End  \\\n",
       "10390 -1.329644  1.238158   34.0  0.0   \n",
       "10391 -1.387254  0.381895    0.0  0.0   \n",
       "10392 -1.555681  0.007475  188.0  0.0   \n",
       "10393 -2.013908  0.478732  188.0  0.0   \n",
       "10394 -1.105787  0.408763  188.0  0.0   \n",
       "\n",
       "                                                 img_url  \n",
       "10390  https://en.wikipedia.org/wiki/File:Polymixia_n...  \n",
       "10391  https://en.wikipedia.org/wiki/File:Lophotus_la...  \n",
       "10392  https://en.wikipedia.org/wiki/File:image_=_Aca...  \n",
       "10393  https://en.wikipedia.org/wiki/File:White_shark...  \n",
       "10394  https://en.wikipedia.org/wiki/File:Bothriolepi...  "
      ]
     },
     "execution_count": 10,
     "metadata": {},
     "output_type": "execute_result"
    }
   ],
   "source": [
    "df['img_url'] = img_list\n",
    "df.tail()"
   ]
  },
  {
   "cell_type": "code",
   "execution_count": 11,
   "metadata": {},
   "outputs": [
    {
     "name": "stdout",
     "output_type": "stream",
     "text": [
      "(10395, 12)\n",
      "                                                    ancestor  depth  extinct  \\\n",
      "img_url                                                                        \n",
      "https://en.wikipedia.org/wiki/File:Wikipedia-lo...      3060   3060     3060   \n",
      "https://en.wikipedia.org/wiki/File:Stone_Sheep_...        35     35       35   \n",
      "https://en.wikipedia.org/wiki/File:MoreporkMaun...        22     22       22   \n",
      "https://en.wikipedia.org/wiki/File:White-bellie...        19     19       19   \n",
      "https://en.wikipedia.org/wiki/File:Family_Cervi...        19     19       19   \n",
      "https://en.wikipedia.org/wiki/File:Killdeer_-_C...        15     15       15   \n",
      "https://en.wikipedia.org/wiki/File:Grass_Owl_ad...        14     14       14   \n",
      "https://en.wikipedia.org/wiki/File:Aspidoras_fu...        12     12       12   \n",
      "https://en.wikipedia.org/wiki/File:Xenopus_laev...        12     12       12   \n",
      "https://en.wikipedia.org/wiki/File:Brown-backed...        11     11       11   \n",
      "https://en.wikipedia.org/wiki/File:OxydorasAcip...        11     11       11   \n",
      "https://en.wikipedia.org/wiki/File:Pronghorn_an...        11     11       11   \n",
      "https://en.wikipedia.org/wiki/File:Buteo_buteo_...        11     11       11   \n",
      "https://en.wikipedia.org/wiki/File:Tourterelle_...        11     11       11   \n",
      "https://en.wikipedia.org/wiki/File:Sigmodon_his...        10     10       10   \n",
      "https://en.wikipedia.org/wiki/File:Myiophobus_p...        10     10       10   \n",
      "https://en.wikipedia.org/wiki/File:Cacomantis_f...         9      9        9   \n",
      "https://en.wikipedia.org/wiki/File:Pionus_senil...         9      9        9   \n",
      "https://en.wikipedia.org/wiki/File:Hiodon_tergi...         9      9        9   \n",
      "https://en.wikipedia.org/wiki/File:Crystal_Pala...         8      8        8   \n",
      "https://en.wikipedia.org/wiki/File:TyranniscusS...         8      8        8   \n",
      "https://en.wikipedia.org/wiki/File:Pipra_filica...         8      8        8   \n",
      "https://en.wikipedia.org/wiki/File:Mecocerculus...         7      7        7   \n",
      "https://en.wikipedia.org/wiki/File:_image______...         7      7        7   \n",
      "https://en.wikipedia.org/wiki/File:Gilded_Flick...         7      7        7   \n",
      "https://en.wikipedia.org/wiki/File:Unicoloured_...         7      7        7   \n",
      "https://en.wikipedia.org/wiki/File:Pangolin_bor...         6      6        6   \n",
      "https://en.wikipedia.org/wiki/File:Ictalurus_ne...         6      6        6   \n",
      "https://en.wikipedia.org/wiki/File:Pale-billed_...         6      6        6   \n",
      "https://en.wikipedia.org/wiki/File:image=Krypto...         6      6        6   \n",
      "...                                                      ...    ...      ...   \n",
      "https://en.wikipedia.org/wiki/File:GJSheppard-B...         1      1        1   \n",
      "https://en.wikipedia.org/wiki/File:GBHfish5.jpg            1      1        1   \n",
      "https://en.wikipedia.org/wiki/File:Furnarius_mi...         1      1        1   \n",
      "https://en.wikipedia.org/wiki/File:FurnariusTor...         1      1        1   \n",
      "https://en.wikipedia.org/wiki/File:Furnarius.jpg           1      1        1   \n",
      "https://en.wikipedia.org/wiki/File:Furipterus_h...         1      1        1   \n",
      "https://en.wikipedia.org/wiki/File:Galbula_cyan...         1      1        1   \n",
      "https://en.wikipedia.org/wiki/File:Galbula_tomb...         1      1        1   \n",
      "https://en.wikipedia.org/wiki/File:Garnett's_Ga...         1      1        1   \n",
      "https://en.wikipedia.org/wiki/File:Gall-dindi.jpg          1      1        1   \n",
      "https://en.wikipedia.org/wiki/File:Gargoyleosau...         1      1        1   \n",
      "https://en.wikipedia.org/wiki/File:Gargoy.jpg              1      1        1   \n",
      "https://en.wikipedia.org/wiki/File:Garganey_(An...         1      1        1   \n",
      "https://en.wikipedia.org/wiki/File:Gampsonyx_sw...         1      1        1   \n",
      "https://en.wikipedia.org/wiki/File:Gambel's_qua...         1      1        1   \n",
      "https://en.wikipedia.org/wiki/File:Galápagos_pe...         1      1        1   \n",
      "https://en.wikipedia.org/wiki/File:Galápagos_fl...         1      1        1   \n",
      "https://en.wikipedia.org/wiki/File:Gallus_sonne...         1      1        1   \n",
      "https://en.wikipedia.org/wiki/File:Gallus_gallu...         1      1        1   \n",
      "https://en.wikipedia.org/wiki/File:GalloperdixB...         1      1        1   \n",
      "https://en.wikipedia.org/wiki/File:GallirexJohn...         1      1        1   \n",
      "https://en.wikipedia.org/wiki/File:Gallirallus_...         1      1        1   \n",
      "https://en.wikipedia.org/wiki/File:Gallirallus_...         1      1        1   \n",
      "https://en.wikipedia.org/wiki/File:Gallinula_ne...         1      1        1   \n",
      "https://en.wikipedia.org/wiki/File:GallinulaNes...         1      1        1   \n",
      "https://en.wikipedia.org/wiki/File:Gallinago_st...         1      1        1   \n",
      "https://en.wikipedia.org/wiki/File:Gallinago_pa...         1      1        1   \n",
      "https://en.wikipedia.org/wiki/File:Gallinago_me...         1      1        1   \n",
      "https://en.wikipedia.org/wiki/File:Gallicolumba...         1      1        1   \n",
      "https://en.wikipedia.org/wiki/File:長鬃山羊.jpg                1      1        1   \n",
      "\n",
      "                                                      id  name  num_kids  \\\n",
      "img_url                                                                    \n",
      "https://en.wikipedia.org/wiki/File:Wikipedia-lo...  3060  3060      3060   \n",
      "https://en.wikipedia.org/wiki/File:Stone_Sheep_...    35    35        35   \n",
      "https://en.wikipedia.org/wiki/File:MoreporkMaun...    22    22        22   \n",
      "https://en.wikipedia.org/wiki/File:White-bellie...    19    19        19   \n",
      "https://en.wikipedia.org/wiki/File:Family_Cervi...    19    19        19   \n",
      "https://en.wikipedia.org/wiki/File:Killdeer_-_C...    15    15        15   \n",
      "https://en.wikipedia.org/wiki/File:Grass_Owl_ad...    14    14        14   \n",
      "https://en.wikipedia.org/wiki/File:Aspidoras_fu...    12    12        12   \n",
      "https://en.wikipedia.org/wiki/File:Xenopus_laev...    12    12        12   \n",
      "https://en.wikipedia.org/wiki/File:Brown-backed...    11    11        11   \n",
      "https://en.wikipedia.org/wiki/File:OxydorasAcip...    11    11        11   \n",
      "https://en.wikipedia.org/wiki/File:Pronghorn_an...    11    11        11   \n",
      "https://en.wikipedia.org/wiki/File:Buteo_buteo_...    11    11        11   \n",
      "https://en.wikipedia.org/wiki/File:Tourterelle_...    11    11        11   \n",
      "https://en.wikipedia.org/wiki/File:Sigmodon_his...    10    10        10   \n",
      "https://en.wikipedia.org/wiki/File:Myiophobus_p...    10    10        10   \n",
      "https://en.wikipedia.org/wiki/File:Cacomantis_f...     9     9         9   \n",
      "https://en.wikipedia.org/wiki/File:Pionus_senil...     9     9         9   \n",
      "https://en.wikipedia.org/wiki/File:Hiodon_tergi...     9     9         9   \n",
      "https://en.wikipedia.org/wiki/File:Crystal_Pala...     8     8         8   \n",
      "https://en.wikipedia.org/wiki/File:TyranniscusS...     8     8         8   \n",
      "https://en.wikipedia.org/wiki/File:Pipra_filica...     8     8         8   \n",
      "https://en.wikipedia.org/wiki/File:Mecocerculus...     7     7         7   \n",
      "https://en.wikipedia.org/wiki/File:_image______...     7     7         7   \n",
      "https://en.wikipedia.org/wiki/File:Gilded_Flick...     7     7         7   \n",
      "https://en.wikipedia.org/wiki/File:Unicoloured_...     7     7         7   \n",
      "https://en.wikipedia.org/wiki/File:Pangolin_bor...     6     6         6   \n",
      "https://en.wikipedia.org/wiki/File:Ictalurus_ne...     6     6         6   \n",
      "https://en.wikipedia.org/wiki/File:Pale-billed_...     6     6         6   \n",
      "https://en.wikipedia.org/wiki/File:image=Krypto...     6     6         6   \n",
      "...                                                  ...   ...       ...   \n",
      "https://en.wikipedia.org/wiki/File:GJSheppard-B...     1     1         1   \n",
      "https://en.wikipedia.org/wiki/File:GBHfish5.jpg        1     1         1   \n",
      "https://en.wikipedia.org/wiki/File:Furnarius_mi...     1     1         1   \n",
      "https://en.wikipedia.org/wiki/File:FurnariusTor...     1     1         1   \n",
      "https://en.wikipedia.org/wiki/File:Furnarius.jpg       1     1         1   \n",
      "https://en.wikipedia.org/wiki/File:Furipterus_h...     1     1         1   \n",
      "https://en.wikipedia.org/wiki/File:Galbula_cyan...     1     1         1   \n",
      "https://en.wikipedia.org/wiki/File:Galbula_tomb...     1     1         1   \n",
      "https://en.wikipedia.org/wiki/File:Garnett's_Ga...     1     1         1   \n",
      "https://en.wikipedia.org/wiki/File:Gall-dindi.jpg      1     1         1   \n",
      "https://en.wikipedia.org/wiki/File:Gargoyleosau...     1     1         1   \n",
      "https://en.wikipedia.org/wiki/File:Gargoy.jpg          1     1         1   \n",
      "https://en.wikipedia.org/wiki/File:Garganey_(An...     1     1         1   \n",
      "https://en.wikipedia.org/wiki/File:Gampsonyx_sw...     1     1         1   \n",
      "https://en.wikipedia.org/wiki/File:Gambel's_qua...     1     1         1   \n",
      "https://en.wikipedia.org/wiki/File:Galápagos_pe...     1     1         1   \n",
      "https://en.wikipedia.org/wiki/File:Galápagos_fl...     1     1         1   \n",
      "https://en.wikipedia.org/wiki/File:Gallus_sonne...     1     1         1   \n",
      "https://en.wikipedia.org/wiki/File:Gallus_gallu...     1     1         1   \n",
      "https://en.wikipedia.org/wiki/File:GalloperdixB...     1     1         1   \n",
      "https://en.wikipedia.org/wiki/File:GallirexJohn...     1     1         1   \n",
      "https://en.wikipedia.org/wiki/File:Gallirallus_...     1     1         1   \n",
      "https://en.wikipedia.org/wiki/File:Gallirallus_...     1     1         1   \n",
      "https://en.wikipedia.org/wiki/File:Gallinula_ne...     1     1         1   \n",
      "https://en.wikipedia.org/wiki/File:GallinulaNes...     1     1         1   \n",
      "https://en.wikipedia.org/wiki/File:Gallinago_st...     1     1         1   \n",
      "https://en.wikipedia.org/wiki/File:Gallinago_pa...     1     1         1   \n",
      "https://en.wikipedia.org/wiki/File:Gallinago_me...     1     1         1   \n",
      "https://en.wikipedia.org/wiki/File:Gallicolumba...     1     1         1   \n",
      "https://en.wikipedia.org/wiki/File:長鬃山羊.jpg            1     1         1   \n",
      "\n",
      "                                                    phylesis     x     y  \\\n",
      "img_url                                                                    \n",
      "https://en.wikipedia.org/wiki/File:Wikipedia-lo...      3060  3060  3060   \n",
      "https://en.wikipedia.org/wiki/File:Stone_Sheep_...        35    35    35   \n",
      "https://en.wikipedia.org/wiki/File:MoreporkMaun...        22    22    22   \n",
      "https://en.wikipedia.org/wiki/File:White-bellie...        19    19    19   \n",
      "https://en.wikipedia.org/wiki/File:Family_Cervi...        19    19    19   \n",
      "https://en.wikipedia.org/wiki/File:Killdeer_-_C...        15    15    15   \n",
      "https://en.wikipedia.org/wiki/File:Grass_Owl_ad...        14    14    14   \n",
      "https://en.wikipedia.org/wiki/File:Aspidoras_fu...        12    12    12   \n",
      "https://en.wikipedia.org/wiki/File:Xenopus_laev...        12    12    12   \n",
      "https://en.wikipedia.org/wiki/File:Brown-backed...        11    11    11   \n",
      "https://en.wikipedia.org/wiki/File:OxydorasAcip...        11    11    11   \n",
      "https://en.wikipedia.org/wiki/File:Pronghorn_an...        11    11    11   \n",
      "https://en.wikipedia.org/wiki/File:Buteo_buteo_...        11    11    11   \n",
      "https://en.wikipedia.org/wiki/File:Tourterelle_...        11    11    11   \n",
      "https://en.wikipedia.org/wiki/File:Sigmodon_his...        10    10    10   \n",
      "https://en.wikipedia.org/wiki/File:Myiophobus_p...        10    10    10   \n",
      "https://en.wikipedia.org/wiki/File:Cacomantis_f...         9     9     9   \n",
      "https://en.wikipedia.org/wiki/File:Pionus_senil...         9     9     9   \n",
      "https://en.wikipedia.org/wiki/File:Hiodon_tergi...         9     9     9   \n",
      "https://en.wikipedia.org/wiki/File:Crystal_Pala...         8     8     8   \n",
      "https://en.wikipedia.org/wiki/File:TyranniscusS...         8     8     8   \n",
      "https://en.wikipedia.org/wiki/File:Pipra_filica...         8     8     8   \n",
      "https://en.wikipedia.org/wiki/File:Mecocerculus...         7     7     7   \n",
      "https://en.wikipedia.org/wiki/File:_image______...         7     7     7   \n",
      "https://en.wikipedia.org/wiki/File:Gilded_Flick...         7     7     7   \n",
      "https://en.wikipedia.org/wiki/File:Unicoloured_...         7     7     7   \n",
      "https://en.wikipedia.org/wiki/File:Pangolin_bor...         6     6     6   \n",
      "https://en.wikipedia.org/wiki/File:Ictalurus_ne...         6     6     6   \n",
      "https://en.wikipedia.org/wiki/File:Pale-billed_...         6     6     6   \n",
      "https://en.wikipedia.org/wiki/File:image=Krypto...         6     6     6   \n",
      "...                                                      ...   ...   ...   \n",
      "https://en.wikipedia.org/wiki/File:GJSheppard-B...         1     1     1   \n",
      "https://en.wikipedia.org/wiki/File:GBHfish5.jpg            1     1     1   \n",
      "https://en.wikipedia.org/wiki/File:Furnarius_mi...         1     1     1   \n",
      "https://en.wikipedia.org/wiki/File:FurnariusTor...         1     1     1   \n",
      "https://en.wikipedia.org/wiki/File:Furnarius.jpg           1     1     1   \n",
      "https://en.wikipedia.org/wiki/File:Furipterus_h...         1     1     1   \n",
      "https://en.wikipedia.org/wiki/File:Galbula_cyan...         1     1     1   \n",
      "https://en.wikipedia.org/wiki/File:Galbula_tomb...         1     1     1   \n",
      "https://en.wikipedia.org/wiki/File:Garnett's_Ga...         1     1     1   \n",
      "https://en.wikipedia.org/wiki/File:Gall-dindi.jpg          1     1     1   \n",
      "https://en.wikipedia.org/wiki/File:Gargoyleosau...         1     1     1   \n",
      "https://en.wikipedia.org/wiki/File:Gargoy.jpg              1     1     1   \n",
      "https://en.wikipedia.org/wiki/File:Garganey_(An...         1     1     1   \n",
      "https://en.wikipedia.org/wiki/File:Gampsonyx_sw...         1     1     1   \n",
      "https://en.wikipedia.org/wiki/File:Gambel's_qua...         1     1     1   \n",
      "https://en.wikipedia.org/wiki/File:Galápagos_pe...         1     1     1   \n",
      "https://en.wikipedia.org/wiki/File:Galápagos_fl...         1     1     1   \n",
      "https://en.wikipedia.org/wiki/File:Gallus_sonne...         1     1     1   \n",
      "https://en.wikipedia.org/wiki/File:Gallus_gallu...         1     1     1   \n",
      "https://en.wikipedia.org/wiki/File:GalloperdixB...         1     1     1   \n",
      "https://en.wikipedia.org/wiki/File:GallirexJohn...         1     1     1   \n",
      "https://en.wikipedia.org/wiki/File:Gallirallus_...         1     1     1   \n",
      "https://en.wikipedia.org/wiki/File:Gallirallus_...         1     1     1   \n",
      "https://en.wikipedia.org/wiki/File:Gallinula_ne...         1     1     1   \n",
      "https://en.wikipedia.org/wiki/File:GallinulaNes...         1     1     1   \n",
      "https://en.wikipedia.org/wiki/File:Gallinago_st...         1     1     1   \n",
      "https://en.wikipedia.org/wiki/File:Gallinago_pa...         1     1     1   \n",
      "https://en.wikipedia.org/wiki/File:Gallinago_me...         1     1     1   \n",
      "https://en.wikipedia.org/wiki/File:Gallicolumba...         1     1     1   \n",
      "https://en.wikipedia.org/wiki/File:長鬃山羊.jpg                1     1     1   \n",
      "\n",
      "                                                    Begin   End  \n",
      "img_url                                                          \n",
      "https://en.wikipedia.org/wiki/File:Wikipedia-lo...   3060  3060  \n",
      "https://en.wikipedia.org/wiki/File:Stone_Sheep_...     35    35  \n",
      "https://en.wikipedia.org/wiki/File:MoreporkMaun...     22    22  \n",
      "https://en.wikipedia.org/wiki/File:White-bellie...     19    19  \n",
      "https://en.wikipedia.org/wiki/File:Family_Cervi...     19    19  \n",
      "https://en.wikipedia.org/wiki/File:Killdeer_-_C...     15    15  \n",
      "https://en.wikipedia.org/wiki/File:Grass_Owl_ad...     14    14  \n",
      "https://en.wikipedia.org/wiki/File:Aspidoras_fu...     12    12  \n",
      "https://en.wikipedia.org/wiki/File:Xenopus_laev...     12    12  \n",
      "https://en.wikipedia.org/wiki/File:Brown-backed...     11    11  \n",
      "https://en.wikipedia.org/wiki/File:OxydorasAcip...     11    11  \n",
      "https://en.wikipedia.org/wiki/File:Pronghorn_an...     11    11  \n",
      "https://en.wikipedia.org/wiki/File:Buteo_buteo_...     11    11  \n",
      "https://en.wikipedia.org/wiki/File:Tourterelle_...     11    11  \n",
      "https://en.wikipedia.org/wiki/File:Sigmodon_his...     10    10  \n",
      "https://en.wikipedia.org/wiki/File:Myiophobus_p...     10    10  \n",
      "https://en.wikipedia.org/wiki/File:Cacomantis_f...      9     9  \n",
      "https://en.wikipedia.org/wiki/File:Pionus_senil...      9     9  \n",
      "https://en.wikipedia.org/wiki/File:Hiodon_tergi...      9     9  \n",
      "https://en.wikipedia.org/wiki/File:Crystal_Pala...      8     8  \n",
      "https://en.wikipedia.org/wiki/File:TyranniscusS...      8     8  \n",
      "https://en.wikipedia.org/wiki/File:Pipra_filica...      8     8  \n",
      "https://en.wikipedia.org/wiki/File:Mecocerculus...      7     7  \n",
      "https://en.wikipedia.org/wiki/File:_image______...      7     7  \n",
      "https://en.wikipedia.org/wiki/File:Gilded_Flick...      7     7  \n",
      "https://en.wikipedia.org/wiki/File:Unicoloured_...      7     7  \n",
      "https://en.wikipedia.org/wiki/File:Pangolin_bor...      6     6  \n",
      "https://en.wikipedia.org/wiki/File:Ictalurus_ne...      6     6  \n",
      "https://en.wikipedia.org/wiki/File:Pale-billed_...      6     6  \n",
      "https://en.wikipedia.org/wiki/File:image=Krypto...      6     6  \n",
      "...                                                   ...   ...  \n",
      "https://en.wikipedia.org/wiki/File:GJSheppard-B...      1     1  \n",
      "https://en.wikipedia.org/wiki/File:GBHfish5.jpg         1     1  \n",
      "https://en.wikipedia.org/wiki/File:Furnarius_mi...      1     1  \n",
      "https://en.wikipedia.org/wiki/File:FurnariusTor...      1     1  \n",
      "https://en.wikipedia.org/wiki/File:Furnarius.jpg        1     1  \n",
      "https://en.wikipedia.org/wiki/File:Furipterus_h...      1     1  \n",
      "https://en.wikipedia.org/wiki/File:Galbula_cyan...      1     1  \n",
      "https://en.wikipedia.org/wiki/File:Galbula_tomb...      1     1  \n",
      "https://en.wikipedia.org/wiki/File:Garnett's_Ga...      1     1  \n",
      "https://en.wikipedia.org/wiki/File:Gall-dindi.jpg       1     1  \n",
      "https://en.wikipedia.org/wiki/File:Gargoyleosau...      1     1  \n",
      "https://en.wikipedia.org/wiki/File:Gargoy.jpg           1     1  \n",
      "https://en.wikipedia.org/wiki/File:Garganey_(An...      1     1  \n",
      "https://en.wikipedia.org/wiki/File:Gampsonyx_sw...      1     1  \n",
      "https://en.wikipedia.org/wiki/File:Gambel's_qua...      1     1  \n",
      "https://en.wikipedia.org/wiki/File:Galápagos_pe...      1     1  \n",
      "https://en.wikipedia.org/wiki/File:Galápagos_fl...      1     1  \n",
      "https://en.wikipedia.org/wiki/File:Gallus_sonne...      1     1  \n",
      "https://en.wikipedia.org/wiki/File:Gallus_gallu...      1     1  \n",
      "https://en.wikipedia.org/wiki/File:GalloperdixB...      1     1  \n",
      "https://en.wikipedia.org/wiki/File:GallirexJohn...      1     1  \n",
      "https://en.wikipedia.org/wiki/File:Gallirallus_...      1     1  \n",
      "https://en.wikipedia.org/wiki/File:Gallirallus_...      1     1  \n",
      "https://en.wikipedia.org/wiki/File:Gallinula_ne...      1     1  \n",
      "https://en.wikipedia.org/wiki/File:GallinulaNes...      1     1  \n",
      "https://en.wikipedia.org/wiki/File:Gallinago_st...      1     1  \n",
      "https://en.wikipedia.org/wiki/File:Gallinago_pa...      1     1  \n",
      "https://en.wikipedia.org/wiki/File:Gallinago_me...      1     1  \n",
      "https://en.wikipedia.org/wiki/File:Gallicolumba...      1     1  \n",
      "https://en.wikipedia.org/wiki/File:長鬃山羊.jpg             1     1  \n",
      "\n",
      "[6286 rows x 11 columns]\n"
     ]
    },
    {
     "ename": "AttributeError",
     "evalue": "'NoneType' object has no attribute 'head'",
     "output_type": "error",
     "traceback": [
      "\u001b[0;31m---------------------------------------------------------------------------\u001b[0m",
      "\u001b[0;31mAttributeError\u001b[0m                            Traceback (most recent call last)",
      "\u001b[0;32m<ipython-input-11-ed9fea473c9a>\u001b[0m in \u001b[0;36m<module>\u001b[0;34m()\u001b[0m\n\u001b[1;32m      1\u001b[0m \u001b[0mprint\u001b[0m\u001b[0;34m(\u001b[0m\u001b[0mdf\u001b[0m\u001b[0;34m.\u001b[0m\u001b[0mshape\u001b[0m\u001b[0;34m)\u001b[0m\u001b[0;34m\u001b[0m\u001b[0m\n\u001b[0;32m----> 2\u001b[0;31m \u001b[0mprint\u001b[0m\u001b[0;34m(\u001b[0m\u001b[0mdf\u001b[0m\u001b[0;34m.\u001b[0m\u001b[0mgroupby\u001b[0m\u001b[0;34m(\u001b[0m\u001b[0;34m'img_url'\u001b[0m\u001b[0;34m)\u001b[0m\u001b[0;34m.\u001b[0m\u001b[0mcount\u001b[0m\u001b[0;34m(\u001b[0m\u001b[0;34m)\u001b[0m\u001b[0;34m.\u001b[0m\u001b[0msort_values\u001b[0m\u001b[0;34m(\u001b[0m\u001b[0mby\u001b[0m\u001b[0;34m=\u001b[0m\u001b[0;34m'name'\u001b[0m\u001b[0;34m,\u001b[0m \u001b[0mascending\u001b[0m\u001b[0;34m=\u001b[0m\u001b[0;32mFalse\u001b[0m\u001b[0;34m)\u001b[0m\u001b[0;34m)\u001b[0m\u001b[0;34m.\u001b[0m\u001b[0mhead\u001b[0m\u001b[0;34m(\u001b[0m\u001b[0;34m)\u001b[0m\u001b[0;34m\u001b[0m\u001b[0m\n\u001b[0m",
      "\u001b[0;31mAttributeError\u001b[0m: 'NoneType' object has no attribute 'head'"
     ]
    }
   ],
   "source": [
    "print(df.shape)\n",
    "print(df.groupby('img_url').count().sort_values(by='name', ascending=False)).head()"
   ]
  },
  {
   "cell_type": "code",
   "execution_count": 12,
   "metadata": {},
   "outputs": [],
   "source": [
    "df.to_csv(OUT_FILE, index=False)"
   ]
  },
  {
   "cell_type": "code",
   "execution_count": null,
   "metadata": {},
   "outputs": [],
   "source": []
  },
  {
   "cell_type": "code",
   "execution_count": 13,
   "metadata": {},
   "outputs": [],
   "source": [
    "#get_image_url(\"Bill Murray\")"
   ]
  },
  {
   "cell_type": "code",
   "execution_count": null,
   "metadata": {},
   "outputs": [],
   "source": []
  },
  {
   "cell_type": "code",
   "execution_count": 14,
   "metadata": {},
   "outputs": [],
   "source": [
    "#df = pd.read_csv(OUT_FILE)\n",
    "#df.head()"
   ]
  },
  {
   "cell_type": "code",
   "execution_count": 15,
   "metadata": {},
   "outputs": [],
   "source": [
    "#print(df.shape)\n",
    "#df.groupby('img_url').count().sort_values(by='name', ascending=False)"
   ]
  },
  {
   "cell_type": "code",
   "execution_count": 16,
   "metadata": {},
   "outputs": [
    {
     "data": {
      "text/plain": [
       "'https://en.wikipedia.org/wiki/File:image=Kryptopterus.jpg'"
      ]
     },
     "execution_count": 16,
     "metadata": {},
     "output_type": "execute_result"
    }
   ],
   "source": [
    "wiki_img_url = df.img_url[0]\n",
    "wiki_img_url"
   ]
  },
  {
   "cell_type": "code",
   "execution_count": null,
   "metadata": {},
   "outputs": [],
   "source": []
  },
  {
   "cell_type": "code",
   "execution_count": 17,
   "metadata": {},
   "outputs": [],
   "source": [
    "def parse_wiki_pic(wiki_img_url, telltale=\"//upload.wikimedia.org/wikipedia/commons\"):\n",
    "    wiki_pic = requests.get(wiki_img_url).content.decode(\"utf-8\")\n",
    "    png_str = [b for b in wiki_pic.split('|') if ('.png' in b) and (telltale in b)][0]\n",
    "    #clean up string\n",
    "    png_str = re.sub(\"\\\\n\", '', png_str)\n",
    "    #png_str = re.sub('^(.+?)href ?= ?\\\"', '', png_str)\n",
    "    png_str = re.sub('^(.+?)href ?= ?\\\"'+telltale, telltale, png_str)\n",
    "    png_str = re.sub('\\\"(.+?)$', '', png_str)\n",
    "    return \"https:\"+png_str"
   ]
  },
  {
   "cell_type": "code",
   "execution_count": null,
   "metadata": {},
   "outputs": [],
   "source": []
  },
  {
   "cell_type": "code",
   "execution_count": 18,
   "metadata": {},
   "outputs": [],
   "source": [
    "import base64\n",
    "import requests\n",
    "from resizeimage import resizeimage\n",
    "from PIL import Image\n",
    "import io\n",
    "\n",
    "def bytes_to_img(img_bytes, resize=[]):\n",
    "    image = Image.open(io.BytesIO(img_bytes))\n",
    "    \n",
    "    if len(resize) == 2:\n",
    "        image = resizeimage.resize_contain(image, resize)\n",
    "    elif len(resize) != 0:\n",
    "        raise ValueError(\"resize argument takes a list of length 2 (height x width)\")\n",
    "    \n",
    "    return image\n",
    "    \n",
    "def get_image_base64(url, resize=[]):\n",
    "    img_bytes = requests.get(url).content\n",
    "    \n",
    "    if len(resize) == 2:\n",
    "        img = bytes_to_img(img_bytes, resize=resize)\n",
    "        buffered = io.BytesIO()\n",
    "        img.save(buffered, format=\"JPEG\")\n",
    "        img_bytes = buffered.getvalue()\n",
    "    elif len(resize) != 0:\n",
    "        raise ValueError(\"resize argument takes a list of length 2 (height x width)\")\n",
    "        \n",
    "    return base64.b64encode(img_bytes)\n",
    "\n"
   ]
  },
  {
   "cell_type": "code",
   "execution_count": null,
   "metadata": {},
   "outputs": [],
   "source": []
  },
  {
   "cell_type": "code",
   "execution_count": 19,
   "metadata": {},
   "outputs": [],
   "source": [
    "#get_image(requests.get(img_url).content, resize=[150,150]).show()"
   ]
  },
  {
   "cell_type": "code",
   "execution_count": 20,
   "metadata": {},
   "outputs": [],
   "source": [
    "#get_image_base64(img_url, resize=[100,100])"
   ]
  },
  {
   "cell_type": "code",
   "execution_count": 21,
   "metadata": {},
   "outputs": [
    {
     "data": {
      "text/plain": [
       "'https://en.wikipedia.org/wiki/File:Castericystis_sprinklei_-_MHNT_-_Millard_County,_Utha,_USA.jpg'"
      ]
     },
     "execution_count": 21,
     "metadata": {},
     "output_type": "execute_result"
    }
   ],
   "source": [
    "df.img_url[1]"
   ]
  },
  {
   "cell_type": "code",
   "execution_count": 22,
   "metadata": {},
   "outputs": [
    {
     "name": "stdout",
     "output_type": "stream",
     "text": [
      "https://upload.wikimedia.org/wikipedia/commons/9/95/Castericystis_sprinklei_-_MHNT_-_Millard_County%2C_Utha%2C_USA.jpg\n"
     ]
    }
   ],
   "source": [
    "wiki_img_url = df.img_url[1]\n",
    "real_img_url = parse_wiki_pic(wiki_img_url)\n",
    "print(real_img_url)\n",
    "bytes_to_img(requests.get(real_img_url).content, resize=[150,150]).show()\n",
    "#get_image_base64(real_img_url, resize=[100,100])"
   ]
  },
  {
   "cell_type": "code",
   "execution_count": null,
   "metadata": {},
   "outputs": [],
   "source": []
  },
  {
   "cell_type": "code",
   "execution_count": null,
   "metadata": {},
   "outputs": [],
   "source": []
  },
  {
   "cell_type": "code",
   "execution_count": 23,
   "metadata": {},
   "outputs": [],
   "source": [
    "###num_pics = 25\n",
    "###for i in list(np.random.choice(list(range(df.shape[0])), num_pics)):\n",
    "###    print(i, end=' ', flush=True)\n",
    "###    try:\n",
    "###        wiki_img_url = df.img_url[i]\n",
    "###        print(df.name[i], end=' ', flush=True)\n",
    "###        real_img_url = parse_wiki_pic(wiki_img_url)\n",
    "###        get_image(requests.get(real_img_url).content, resize=[150,150]).show()\n",
    "###        print(\"showing \"+real_img_url)\n",
    "###    except:\n",
    "###        print(\"-- Bill!\")\n",
    "###        #wiki_img_url = get_image_url(\"Bill Murray\")\n",
    "###        #real_img_url = parse_wiki_pic(wiki_img_url)\n",
    "###        #get_image(requests.get(real_img_url).content, resize=[150,150]).show()"
   ]
  },
  {
   "cell_type": "code",
   "execution_count": 24,
   "metadata": {},
   "outputs": [],
   "source": [
    "wiki_img_url = get_image_url(\"Bill Murray\")\n",
    "real_img_url = parse_wiki_pic(wiki_img_url)\n",
    "fallback_bill = get_image_base64(real_img_url, resize=[100,100])"
   ]
  },
  {
   "cell_type": "code",
   "execution_count": null,
   "metadata": {},
   "outputs": [
    {
     "name": "stdout",
     "output_type": "stream",
     "text": [
      "0::14751 50::14806 100::14844 "
     ]
    },
    {
     "name": "stderr",
     "output_type": "stream",
     "text": [
      "/Users/Seth/anaconda/lib/python3.5/site-packages/PIL/TiffImagePlugin.py:785: UserWarning:\n",
      "\n",
      "Corrupt EXIF data.  Expecting to read 4 bytes but only got 0. \n",
      "\n"
     ]
    },
    {
     "name": "stdout",
     "output_type": "stream",
     "text": [
      "150::14882 200::14932 250::14970 300::15015 350::15041 400::15064 450::15087 500::15144 550::15235 600::15289 650::15357 700::15503 750::15631 800::15686 850::15759 900::15781 950::15839 1000::15967 1050::16063 1100::16088 1150::16134 1200::16182 1250::16322 1300::16413 1350::16505 1400::16627 1450::16681 1500::16760 1550::16838 1600::16868 1650::16941 1700::16991 1750::17051 1800::17214 1850::17287 1900::17424 1950::17558 2000::17690 2050::17761 2100::17830 2150::17957 2200::18132 2250::18219 2300::18310 2350::18469 2400::18614 2450::18712 2500::18822 2550::18895 2600::18970 2650::19056 2700::19164 2750::19224 2800::19267 2850::19343 2900::19409 2950::19461 3000::19522 3050::19584 3100::19638 3150::19700 3200::19760 3250::19800 3300::19854 3350::19906 3400::19969 3450::20023 3500::20085 3550::20182 3600::20258 3650::20307 3700::20356 3750::20422 3800::20459 3850::20535 3900::20617 3950::20671 4000::20736 4050::20808 4100::20871 4150::20931 4200::20996 4250::21065 4300::21144 4350::21201 4400::21272 4450::21350 4500::21422 4550::21498 4600::21555 4650::21642 4700::21705 4750::21781 4800::21874 4850::21986 4900::22049 4950::22125 5000::22187 5050::22311 5100::22404 5150::22475 5200::22566 5250::22631 5300::22722 5350::22807 5400::22921 5450::22971 5500::23039 5550::23105 5600::23172 5650::23243 5700::23314 5750::23419 5800::23537 5850::23610 5900::23669 5950::23761 6000::23814 6050::23876 6100::23953 6150::24082 6200::24159 6250::24206 6300::24284 6350::24366 6400::24424 6450::24557 6500::24624 "
     ]
    }
   ],
   "source": [
    "img_list = []\n",
    "for i, row in df.iterrows():\n",
    "    try:\n",
    "        wiki_img_url = row['img_url']\n",
    "        real_img_url = parse_wiki_pic(wiki_img_url)\n",
    "        img_list.append(get_image_base64(real_img_url, resize=[100,100]))\n",
    "    except:\n",
    "        #print(\"-- Bill!\")\n",
    "        img_list.append(fallback_bill)\n",
    "    if i % 50 == 0:\n",
    "        print(\"{}::{}\".format(i, int(time()-start)), end= ' ', flush=True)"
   ]
  },
  {
   "cell_type": "code",
   "execution_count": null,
   "metadata": {},
   "outputs": [],
   "source": [
    "df['img_base64'] = img_list\n",
    "df.tail()"
   ]
  },
  {
   "cell_type": "code",
   "execution_count": null,
   "metadata": {},
   "outputs": [],
   "source": [
    "df.to_csv(OUT_FILE.replace(\".csv\", \"-base64.csv\"), index=False)"
   ]
  },
  {
   "cell_type": "code",
   "execution_count": null,
   "metadata": {},
   "outputs": [],
   "source": []
  }
 ],
 "metadata": {
  "kernelspec": {
   "display_name": "Python [Root]",
   "language": "python",
   "name": "Python [Root]"
  },
  "language_info": {
   "codemirror_mode": {
    "name": "ipython",
    "version": 3
   },
   "file_extension": ".py",
   "mimetype": "text/x-python",
   "name": "python",
   "nbconvert_exporter": "python",
   "pygments_lexer": "ipython3",
   "version": "3.5.1"
  }
 },
 "nbformat": 4,
 "nbformat_minor": 2
}
