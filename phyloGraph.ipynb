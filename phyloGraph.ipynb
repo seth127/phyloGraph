{
 "cells": [
  {
   "cell_type": "code",
   "execution_count": 1,
   "metadata": {},
   "outputs": [
    {
     "data": {
      "text/html": [
       "<script>requirejs.config({paths: { 'plotly': ['https://cdn.plot.ly/plotly-latest.min']},});if(!window.Plotly) {{require(['plotly'],function(plotly) {window.Plotly=plotly;});}}</script>"
      ],
      "text/vnd.plotly.v1+html": [
       "<script>requirejs.config({paths: { 'plotly': ['https://cdn.plot.ly/plotly-latest.min']},});if(!window.Plotly) {{require(['plotly'],function(plotly) {window.Plotly=plotly;});}}</script>"
      ]
     },
     "metadata": {},
     "output_type": "display_data"
    }
   ],
   "source": [
    "import phyloGraph as ph\n",
    "\n",
    "from plotly.offline import download_plotlyjs, init_notebook_mode\n",
    "init_notebook_mode(connected=True)\n",
    "\n",
    "#vim ~/.Plotly/.Credentials"
   ]
  },
  {
   "cell_type": "code",
   "execution_count": null,
   "metadata": {},
   "outputs": [],
   "source": []
  },
  {
   "cell_type": "markdown",
   "metadata": {},
   "source": [
    "## Load Data"
   ]
  },
  {
   "cell_type": "code",
   "execution_count": 2,
   "metadata": {},
   "outputs": [
    {
     "name": "stdout",
     "output_type": "stream",
     "text": [
      "the data of phylo\n"
     ]
    }
   ],
   "source": [
    "pgd = ph.phyloData()"
   ]
  },
  {
   "cell_type": "markdown",
   "metadata": {},
   "source": [
    "Pick one of the methods below for getting data"
   ]
  },
  {
   "cell_type": "markdown",
   "metadata": {},
   "source": [
    "### 1) fetch from Tree of Life"
   ]
  },
  {
   "cell_type": "code",
   "execution_count": 3,
   "metadata": {},
   "outputs": [
    {
     "data": {
      "text/html": [
       "<div>\n",
       "<table border=\"1\" class=\"dataframe\">\n",
       "  <thead>\n",
       "    <tr style=\"text-align: right;\">\n",
       "      <th></th>\n",
       "      <th>name</th>\n",
       "      <th>id</th>\n",
       "    </tr>\n",
       "  </thead>\n",
       "  <tbody>\n",
       "    <tr>\n",
       "      <th>0</th>\n",
       "      <td>Primates</td>\n",
       "      <td>15963</td>\n",
       "    </tr>\n",
       "  </tbody>\n",
       "</table>\n",
       "</div>"
      ],
      "text/plain": [
       "       name     id\n",
       "0  Primates  15963"
      ]
     },
     "execution_count": 3,
     "metadata": {},
     "output_type": "execute_result"
    }
   ],
   "source": [
    "pgd.search_name(\"primates\")"
   ]
  },
  {
   "cell_type": "code",
   "execution_count": 4,
   "metadata": {},
   "outputs": [],
   "source": [
    "#pgd.fetch_tol_data(15963, limit=25000)"
   ]
  },
  {
   "cell_type": "code",
   "execution_count": 5,
   "metadata": {},
   "outputs": [],
   "source": [
    "#pgd.add_time()\n",
    "#pgd.df.head()"
   ]
  },
  {
   "cell_type": "markdown",
   "metadata": {},
   "source": [
    "### 2) load from raw file"
   ]
  },
  {
   "cell_type": "code",
   "execution_count": 6,
   "metadata": {},
   "outputs": [],
   "source": [
    "#raw_file = \"data/primate_raw.xml\"\n",
    "#pgd.load_raw_file(raw_file)"
   ]
  },
  {
   "cell_type": "code",
   "execution_count": 7,
   "metadata": {},
   "outputs": [],
   "source": [
    "#pgd.write_prep_data(\"data/mammal_df.csv\", \"data/mammal_links.txt\")"
   ]
  },
  {
   "cell_type": "markdown",
   "metadata": {},
   "source": [
    "### 3) load from prepared files"
   ]
  },
  {
   "cell_type": "code",
   "execution_count": 8,
   "metadata": {},
   "outputs": [],
   "source": [
    "#pgd.load_prep_data(\"data/Mammalia-15040-df.csv\")\n",
    "pgd.load_prep_data(\"data/Chordata-2499-df.csv\")\n"
   ]
  },
  {
   "cell_type": "markdown",
   "metadata": {},
   "source": [
    "### return data for plotting"
   ]
  },
  {
   "cell_type": "code",
   "execution_count": 9,
   "metadata": {},
   "outputs": [
    {
     "name": "stdout",
     "output_type": "stream",
     "text": [
      "(10395, 11)\n"
     ]
    },
    {
     "data": {
      "text/html": [
       "<div>\n",
       "<table border=\"1\" class=\"dataframe\">\n",
       "  <thead>\n",
       "    <tr style=\"text-align: right;\">\n",
       "      <th></th>\n",
       "      <th>ancestor</th>\n",
       "      <th>depth</th>\n",
       "      <th>extinct</th>\n",
       "      <th>id</th>\n",
       "      <th>name</th>\n",
       "      <th>num_kids</th>\n",
       "      <th>phylesis</th>\n",
       "      <th>x</th>\n",
       "      <th>y</th>\n",
       "      <th>Begin</th>\n",
       "      <th>End</th>\n",
       "    </tr>\n",
       "  </thead>\n",
       "  <tbody>\n",
       "    <tr>\n",
       "      <th>0</th>\n",
       "      <td>2466</td>\n",
       "      <td>1</td>\n",
       "      <td>0</td>\n",
       "      <td>2499</td>\n",
       "      <td>Chordata</td>\n",
       "      <td>2</td>\n",
       "      <td>0</td>\n",
       "      <td>-0.794184</td>\n",
       "      <td>0.918448</td>\n",
       "      <td>558.0</td>\n",
       "      <td>0.0</td>\n",
       "    </tr>\n",
       "    <tr>\n",
       "      <th>1</th>\n",
       "      <td>2499</td>\n",
       "      <td>2</td>\n",
       "      <td>2</td>\n",
       "      <td>14819</td>\n",
       "      <td>Calcichordata</td>\n",
       "      <td>0</td>\n",
       "      <td>0</td>\n",
       "      <td>-0.091174</td>\n",
       "      <td>0.033661</td>\n",
       "      <td>NaN</td>\n",
       "      <td>NaN</td>\n",
       "    </tr>\n",
       "    <tr>\n",
       "      <th>2</th>\n",
       "      <td>2499</td>\n",
       "      <td>2</td>\n",
       "      <td>0</td>\n",
       "      <td>14821</td>\n",
       "      <td>Urochordata</td>\n",
       "      <td>8</td>\n",
       "      <td>0</td>\n",
       "      <td>-1.014761</td>\n",
       "      <td>0.366714</td>\n",
       "      <td>555.0</td>\n",
       "      <td>0.0</td>\n",
       "    </tr>\n",
       "    <tr>\n",
       "      <th>3</th>\n",
       "      <td>14821</td>\n",
       "      <td>3</td>\n",
       "      <td>0</td>\n",
       "      <td>114489</td>\n",
       "      <td>Octacnemidae</td>\n",
       "      <td>0</td>\n",
       "      <td>0</td>\n",
       "      <td>-0.066112</td>\n",
       "      <td>-0.370996</td>\n",
       "      <td>NaN</td>\n",
       "      <td>NaN</td>\n",
       "    </tr>\n",
       "    <tr>\n",
       "      <th>4</th>\n",
       "      <td>14821</td>\n",
       "      <td>3</td>\n",
       "      <td>0</td>\n",
       "      <td>114490</td>\n",
       "      <td>Phlebobranchiata</td>\n",
       "      <td>4</td>\n",
       "      <td>0</td>\n",
       "      <td>-0.344893</td>\n",
       "      <td>-0.201929</td>\n",
       "      <td>NaN</td>\n",
       "      <td>NaN</td>\n",
       "    </tr>\n",
       "  </tbody>\n",
       "</table>\n",
       "</div>"
      ],
      "text/plain": [
       "   ancestor  depth  extinct      id              name  num_kids  phylesis  \\\n",
       "0      2466      1        0    2499          Chordata         2         0   \n",
       "1      2499      2        2   14819     Calcichordata         0         0   \n",
       "2      2499      2        0   14821       Urochordata         8         0   \n",
       "3     14821      3        0  114489      Octacnemidae         0         0   \n",
       "4     14821      3        0  114490  Phlebobranchiata         4         0   \n",
       "\n",
       "          x         y  Begin  End  \n",
       "0 -0.794184  0.918448  558.0  0.0  \n",
       "1 -0.091174  0.033661    NaN  NaN  \n",
       "2 -1.014761  0.366714  555.0  0.0  \n",
       "3 -0.066112 -0.370996    NaN  NaN  \n",
       "4 -0.344893 -0.201929    NaN  NaN  "
      ]
     },
     "execution_count": 9,
     "metadata": {},
     "output_type": "execute_result"
    }
   ],
   "source": [
    "df = pgd.return_data()\n",
    "print(df.shape)\n",
    "df.head()"
   ]
  },
  {
   "cell_type": "code",
   "execution_count": null,
   "metadata": {},
   "outputs": [],
   "source": []
  },
  {
   "cell_type": "markdown",
   "metadata": {},
   "source": [
    "### hack: get rid of rows with no Begin time or too big Begin time"
   ]
  },
  {
   "cell_type": "code",
   "execution_count": 10,
   "metadata": {},
   "outputs": [],
   "source": [
    "#df.sort_values(by='Begin', ascending=False).head()"
   ]
  },
  {
   "cell_type": "code",
   "execution_count": 11,
   "metadata": {},
   "outputs": [],
   "source": [
    "#df = df.loc[df['Begin'].notnull()]\n",
    "#df = df.loc[df['Begin'] < 500]\n",
    "#print(df.shape)"
   ]
  },
  {
   "cell_type": "markdown",
   "metadata": {},
   "source": [
    "## Plot Data"
   ]
  },
  {
   "cell_type": "code",
   "execution_count": 12,
   "metadata": {},
   "outputs": [
    {
     "name": "stdout",
     "output_type": "stream",
     "text": [
      "the plotting of phylo\n"
     ]
    }
   ],
   "source": [
    "pgp = ph.phyloGraph(df)"
   ]
  },
  {
   "cell_type": "code",
   "execution_count": 13,
   "metadata": {},
   "outputs": [
    {
     "name": "stdout",
     "output_type": "stream",
     "text": [
      "                       name     id\n",
      "38               Vertebrata  14829\n",
      "7153  Phoebetria palpebrata  89319\n"
     ]
    }
   ],
   "source": [
    "pgp.search_name('brata')"
   ]
  },
  {
   "cell_type": "code",
   "execution_count": 14,
   "metadata": {},
   "outputs": [
    {
     "name": "stdout",
     "output_type": "stream",
     "text": [
      "                  name     id\n",
      "650               Homo  16418\n",
      "651       Homo sapiens  16421\n",
      "652       Homo erectus  16422\n",
      "653      Homo ergaster  16423\n",
      "654   Homo rudolfensis  16424\n",
      "655       Homo habilis  16425\n",
      "1425      Homoiodorcas  52473\n"
     ]
    }
   ],
   "source": [
    "pgp.search_name('Homo')"
   ]
  },
  {
   "cell_type": "code",
   "execution_count": null,
   "metadata": {},
   "outputs": [],
   "source": []
  },
  {
   "cell_type": "code",
   "execution_count": null,
   "metadata": {},
   "outputs": [],
   "source": []
  },
  {
   "cell_type": "markdown",
   "metadata": {},
   "source": [
    "## BULLSHIT"
   ]
  },
  {
   "cell_type": "code",
   "execution_count": 15,
   "metadata": {},
   "outputs": [],
   "source": [
    "self = pgp"
   ]
  },
  {
   "cell_type": "code",
   "execution_count": 87,
   "metadata": {},
   "outputs": [
    {
     "data": {
      "text/plain": [
       "55"
      ]
     },
     "execution_count": 87,
     "metadata": {},
     "output_type": "execute_result"
    }
   ],
   "source": [
    "#focus = 'all'\n",
    "root_node=15963\n",
    "focus_node = 16418\n",
    "root_begin = int(df[df['id']==root_node]['Begin'])\n",
    "root_begin"
   ]
  },
  {
   "cell_type": "code",
   "execution_count": 20,
   "metadata": {},
   "outputs": [],
   "source": [
    "pick = 15040\n",
    "mode = 'filter'"
   ]
  },
  {
   "cell_type": "code",
   "execution_count": 21,
   "metadata": {},
   "outputs": [],
   "source": [
    "# get descendants\n",
    "kids = []\n",
    "this_gen = self.links_dict[pick]['children']\n",
    "while len(this_gen) > 0:\n",
    "    kids += this_gen\n",
    "    next_gen = []\n",
    "    for c in this_gen:\n",
    "        next_gen += self.links_dict[c]['children']\n",
    "    this_gen = next_gen\n",
    "# \n",
    "keepers = [pick]\n",
    "keepers += kids\n",
    "#\n",
    "if mode == 'filter':\n",
    "    self.plot_df = self.df[self.df['id'].isin(keepers)]\n",
    "    self.plot_df = self.plot_df.reset_index()"
   ]
  },
  {
   "cell_type": "code",
   "execution_count": null,
   "metadata": {},
   "outputs": [],
   "source": []
  },
  {
   "cell_type": "code",
   "execution_count": 50,
   "metadata": {},
   "outputs": [],
   "source": [
    "import numpy as np"
   ]
  },
  {
   "cell_type": "code",
   "execution_count": null,
   "metadata": {},
   "outputs": [],
   "source": []
  },
  {
   "cell_type": "code",
   "execution_count": 32,
   "metadata": {},
   "outputs": [
    {
     "name": "stdout",
     "output_type": "stream",
     "text": [
      "(1688, 12)\n"
     ]
    },
    {
     "data": {
      "text/html": [
       "<div>\n",
       "<table border=\"1\" class=\"dataframe\">\n",
       "  <thead>\n",
       "    <tr style=\"text-align: right;\">\n",
       "      <th></th>\n",
       "      <th>index</th>\n",
       "      <th>ancestor</th>\n",
       "      <th>depth</th>\n",
       "      <th>extinct</th>\n",
       "      <th>id</th>\n",
       "      <th>name</th>\n",
       "      <th>num_kids</th>\n",
       "      <th>phylesis</th>\n",
       "      <th>x</th>\n",
       "      <th>y</th>\n",
       "      <th>Begin</th>\n",
       "      <th>End</th>\n",
       "    </tr>\n",
       "  </thead>\n",
       "  <tbody>\n",
       "    <tr>\n",
       "      <th>0</th>\n",
       "      <td>164</td>\n",
       "      <td>14973</td>\n",
       "      <td>10</td>\n",
       "      <td>0</td>\n",
       "      <td>15040</td>\n",
       "      <td>Mammalia</td>\n",
       "      <td>2</td>\n",
       "      <td>0</td>\n",
       "      <td>-3.530605</td>\n",
       "      <td>0.693597</td>\n",
       "      <td>225.00</td>\n",
       "      <td>0.0</td>\n",
       "    </tr>\n",
       "    <tr>\n",
       "      <th>1</th>\n",
       "      <td>165</td>\n",
       "      <td>15040</td>\n",
       "      <td>11</td>\n",
       "      <td>2</td>\n",
       "      <td>15989</td>\n",
       "      <td>Triconodonts</td>\n",
       "      <td>0</td>\n",
       "      <td>0</td>\n",
       "      <td>-3.348444</td>\n",
       "      <td>0.438948</td>\n",
       "      <td>190.00</td>\n",
       "      <td>70.0</td>\n",
       "    </tr>\n",
       "    <tr>\n",
       "      <th>2</th>\n",
       "      <td>166</td>\n",
       "      <td>15040</td>\n",
       "      <td>11</td>\n",
       "      <td>0</td>\n",
       "      <td>15991</td>\n",
       "      <td>Monotremata</td>\n",
       "      <td>2</td>\n",
       "      <td>0</td>\n",
       "      <td>-2.636896</td>\n",
       "      <td>0.103249</td>\n",
       "      <td>201.30</td>\n",
       "      <td>201.3</td>\n",
       "    </tr>\n",
       "    <tr>\n",
       "      <th>3</th>\n",
       "      <td>167</td>\n",
       "      <td>15991</td>\n",
       "      <td>12</td>\n",
       "      <td>0</td>\n",
       "      <td>16250</td>\n",
       "      <td>Tachyglossidae</td>\n",
       "      <td>4</td>\n",
       "      <td>0</td>\n",
       "      <td>-2.788100</td>\n",
       "      <td>-0.445452</td>\n",
       "      <td>23.03</td>\n",
       "      <td>0.0</td>\n",
       "    </tr>\n",
       "    <tr>\n",
       "      <th>4</th>\n",
       "      <td>168</td>\n",
       "      <td>16250</td>\n",
       "      <td>13</td>\n",
       "      <td>0</td>\n",
       "      <td>16251</td>\n",
       "      <td>Tachyglossus aculeatus</td>\n",
       "      <td>0</td>\n",
       "      <td>0</td>\n",
       "      <td>-3.588887</td>\n",
       "      <td>-0.799423</td>\n",
       "      <td>NaN</td>\n",
       "      <td>NaN</td>\n",
       "    </tr>\n",
       "  </tbody>\n",
       "</table>\n",
       "</div>"
      ],
      "text/plain": [
       "   index  ancestor  depth  extinct     id                    name  num_kids  \\\n",
       "0    164     14973     10        0  15040                Mammalia         2   \n",
       "1    165     15040     11        2  15989            Triconodonts         0   \n",
       "2    166     15040     11        0  15991             Monotremata         2   \n",
       "3    167     15991     12        0  16250          Tachyglossidae         4   \n",
       "4    168     16250     13        0  16251  Tachyglossus aculeatus         0   \n",
       "\n",
       "   phylesis         x         y   Begin    End  \n",
       "0         0 -3.530605  0.693597  225.00    0.0  \n",
       "1         0 -3.348444  0.438948  190.00   70.0  \n",
       "2         0 -2.636896  0.103249  201.30  201.3  \n",
       "3         0 -2.788100 -0.445452   23.03    0.0  \n",
       "4         0 -3.588887 -0.799423     NaN    NaN  "
      ]
     },
     "execution_count": 32,
     "metadata": {},
     "output_type": "execute_result"
    }
   ],
   "source": [
    "print(self.plot_df.shape)\n",
    "self.plot_df.head()"
   ]
  },
  {
   "cell_type": "code",
   "execution_count": 37,
   "metadata": {},
   "outputs": [],
   "source": [
    "null_df = self.plot_df[self.plot_df['Begin'].isnull()]"
   ]
  },
  {
   "cell_type": "code",
   "execution_count": 92,
   "metadata": {},
   "outputs": [
    {
     "name": "stdout",
     "output_type": "stream",
     "text": [
      "index              624\n",
      "ancestor         15963\n",
      "depth               13\n",
      "extinct              0\n",
      "id               16293\n",
      "name        Catarrhini\n",
      "num_kids             2\n",
      "phylesis             0\n",
      "x             -4.56789\n",
      "y          -0.00107881\n",
      "Begin               55\n",
      "End                  0\n",
      "log_time       4.02535\n",
      "kin                  0\n",
      "Name: 4, dtype: object\n",
      "[16297, 16299, 16300]\n"
     ]
    }
   ],
   "source": [
    "for i, this_row in self.plot_df.iterrows():\n",
    "#for i, row in self.plot_df.iterrows():\n",
    "    c = this_row['id']\n",
    "    #if len(self.links_dict[c]['children']) > 0:\n",
    "    #if this_row['Begin'] == 55:\n",
    "    if c == 16293:\n",
    "        print(this_row)\n",
    "        print(self.links_dict[c]['children'])\n",
    "        break"
   ]
  },
  {
   "cell_type": "code",
   "execution_count": null,
   "metadata": {},
   "outputs": [],
   "source": []
  },
  {
   "cell_type": "code",
   "execution_count": null,
   "metadata": {},
   "outputs": [],
   "source": [
    "for i, this_row in self.plot_df.iterrows():\n",
    "    fix_age(i, this_row)"
   ]
  },
  {
   "cell_type": "code",
   "execution_count": null,
   "metadata": {},
   "outputs": [],
   "source": [
    "# Catarhinni\n",
    "16293"
   ]
  },
  {
   "cell_type": "code",
   "execution_count": null,
   "metadata": {},
   "outputs": [],
   "source": []
  },
  {
   "cell_type": "code",
   "execution_count": 93,
   "metadata": {},
   "outputs": [
    {
     "data": {
      "text/plain": [
       "55.0"
      ]
     },
     "execution_count": 93,
     "metadata": {},
     "output_type": "execute_result"
    }
   ],
   "source": [
    "def fix_age(i, this_row):\n",
    "    c = this_row['id']\n",
    "    this_age = this_row['Begin']\n",
    "    parent = self.links_dict[c]['parents']\n",
    "    parent_df = self.plot_df[self.plot_df['id'].isin(parent)]\n",
    "    begin_age = float(parent_df['Begin'])\n",
    "    #\n",
    "    if (np.isnan(this_age)) | (this_age > (begin_age * 0.95)):\n",
    "        kids = self.links_dict[c]['children']\n",
    "        if len(kids) > 0:\n",
    "            kids_df = self.plot_df[self.plot_df['id'].isin(kids)]\n",
    "            kids_max = np.nanmax(np.array(kids_df['Begin']))\n",
    "            if np.isnan(kids_max):\n",
    "                end_age = float(parent_df['Begin'])\n",
    "            else:\n",
    "                end_age = kids_max\n",
    "        else:\n",
    "            end_age = kids_max\n",
    "        #\n",
    "        self.plot_df.at[i,'Begin'] = np.mean(begin_age, end_age)\n",
    "        self.plot_df.at[i,'End'] = end_age\n",
    "        "
   ]
  },
  {
   "cell_type": "code",
   "execution_count": 74,
   "metadata": {},
   "outputs": [
    {
     "data": {
      "text/plain": [
       "0.0"
      ]
     },
     "execution_count": 74,
     "metadata": {},
     "output_type": "execute_result"
    }
   ],
   "source": []
  },
  {
   "cell_type": "code",
   "execution_count": null,
   "metadata": {},
   "outputs": [],
   "source": []
  },
  {
   "cell_type": "code",
   "execution_count": null,
   "metadata": {},
   "outputs": [],
   "source": []
  },
  {
   "cell_type": "code",
   "execution_count": null,
   "metadata": {},
   "outputs": [],
   "source": []
  },
  {
   "cell_type": "code",
   "execution_count": 28,
   "metadata": {},
   "outputs": [],
   "source": [
    "max_depth = 3"
   ]
  },
  {
   "cell_type": "code",
   "execution_count": null,
   "metadata": {},
   "outputs": [],
   "source": [
    "this_gen = self.links_dict[pick]['children']\n",
    "depth = 0\n",
    "while len(this_gen) > 0:\n",
    "    depth += 1\n",
    "    print(depth)\n",
    "    next_gen = []\n",
    "    for c in this_gen:\n",
    "        "
   ]
  },
  {
   "cell_type": "code",
   "execution_count": 27,
   "metadata": {},
   "outputs": [
    {
     "name": "stdout",
     "output_type": "stream",
     "text": [
      "1\n",
      "2\n",
      "3\n",
      "4\n",
      "5\n",
      "6\n"
     ]
    }
   ],
   "source": [
    " \n",
    "        \n",
    "        \n",
    "        #\n",
    "        next_gen += self.links_dict[c]['children']\n",
    "    if depth >= max_depth:\n",
    "        break\n",
    "    else:\n",
    "        this_gen = next_gen\n",
    "    "
   ]
  },
  {
   "cell_type": "code",
   "execution_count": null,
   "metadata": {},
   "outputs": [],
   "source": []
  },
  {
   "cell_type": "code",
   "execution_count": null,
   "metadata": {},
   "outputs": [],
   "source": []
  },
  {
   "cell_type": "code",
   "execution_count": null,
   "metadata": {},
   "outputs": [],
   "source": [
    "elif mode == 'focus':\n",
    "    # add parents\n",
    "    keepers += self.links_dict[pick]['parents']\n",
    "    # add kin column\n",
    "    self.plot_df['kin'] = 0\n",
    "    self.plot_df['kin'][self.plot_df['id'].isin(keepers)] = 1\n",
    "    # return list of kin\n",
    "    return keepers\n",
    "else:\n",
    "    print(\"FAILURE: get_descendants(mode) only valid options are 'filter' and 'focus'\")"
   ]
  },
  {
   "cell_type": "code",
   "execution_count": null,
   "metadata": {},
   "outputs": [],
   "source": []
  },
  {
   "cell_type": "code",
   "execution_count": null,
   "metadata": {},
   "outputs": [],
   "source": []
  },
  {
   "cell_type": "code",
   "execution_count": null,
   "metadata": {},
   "outputs": [],
   "source": []
  },
  {
   "cell_type": "code",
   "execution_count": null,
   "metadata": {},
   "outputs": [],
   "source": []
  },
  {
   "cell_type": "code",
   "execution_count": null,
   "metadata": {},
   "outputs": [],
   "source": []
  },
  {
   "cell_type": "code",
   "execution_count": 88,
   "metadata": {},
   "outputs": [
    {
     "data": {
      "text/html": [
       "<div>\n",
       "<table border=\"1\" class=\"dataframe\">\n",
       "  <thead>\n",
       "    <tr style=\"text-align: right;\">\n",
       "      <th></th>\n",
       "      <th>ancestor</th>\n",
       "      <th>depth</th>\n",
       "      <th>extinct</th>\n",
       "      <th>id</th>\n",
       "      <th>name</th>\n",
       "      <th>num_kids</th>\n",
       "      <th>phylesis</th>\n",
       "      <th>x</th>\n",
       "      <th>y</th>\n",
       "      <th>Begin</th>\n",
       "      <th>End</th>\n",
       "      <th>log_time</th>\n",
       "    </tr>\n",
       "  </thead>\n",
       "  <tbody>\n",
       "    <tr>\n",
       "      <th>167</th>\n",
       "      <td>15991</td>\n",
       "      <td>12</td>\n",
       "      <td>0</td>\n",
       "      <td>16250</td>\n",
       "      <td>Tachyglossidae</td>\n",
       "      <td>4</td>\n",
       "      <td>0</td>\n",
       "      <td>-2.788100</td>\n",
       "      <td>-0.445452</td>\n",
       "      <td>23.03</td>\n",
       "      <td>0.0</td>\n",
       "      <td>3.179303</td>\n",
       "    </tr>\n",
       "    <tr>\n",
       "      <th>170</th>\n",
       "      <td>16250</td>\n",
       "      <td>13</td>\n",
       "      <td>0</td>\n",
       "      <td>117704</td>\n",
       "      <td>Zaglossus bartoni</td>\n",
       "      <td>0</td>\n",
       "      <td>0</td>\n",
       "      <td>-1.814570</td>\n",
       "      <td>-1.129818</td>\n",
       "      <td>23.03</td>\n",
       "      <td>8.0</td>\n",
       "      <td>3.179303</td>\n",
       "    </tr>\n",
       "    <tr>\n",
       "      <th>172</th>\n",
       "      <td>15991</td>\n",
       "      <td>12</td>\n",
       "      <td>0</td>\n",
       "      <td>16253</td>\n",
       "      <td>Ornithorhynchus anatinus</td>\n",
       "      <td>0</td>\n",
       "      <td>0</td>\n",
       "      <td>-2.642402</td>\n",
       "      <td>0.753507</td>\n",
       "      <td>9.00</td>\n",
       "      <td>0.0</td>\n",
       "      <td>2.302585</td>\n",
       "    </tr>\n",
       "    <tr>\n",
       "      <th>175</th>\n",
       "      <td>15994</td>\n",
       "      <td>12</td>\n",
       "      <td>0</td>\n",
       "      <td>16242</td>\n",
       "      <td>Didelphimorphia</td>\n",
       "      <td>0</td>\n",
       "      <td>0</td>\n",
       "      <td>-5.015041</td>\n",
       "      <td>1.140616</td>\n",
       "      <td>23.03</td>\n",
       "      <td>0.0</td>\n",
       "      <td>3.179303</td>\n",
       "    </tr>\n",
       "    <tr>\n",
       "      <th>178</th>\n",
       "      <td>15994</td>\n",
       "      <td>12</td>\n",
       "      <td>0</td>\n",
       "      <td>16245</td>\n",
       "      <td>Dasyuromorphia</td>\n",
       "      <td>0</td>\n",
       "      <td>0</td>\n",
       "      <td>-4.962583</td>\n",
       "      <td>0.572286</td>\n",
       "      <td>23.03</td>\n",
       "      <td>0.0</td>\n",
       "      <td>3.179303</td>\n",
       "    </tr>\n",
       "  </tbody>\n",
       "</table>\n",
       "</div>"
      ],
      "text/plain": [
       "     ancestor  depth  extinct      id                      name  num_kids  \\\n",
       "167     15991     12        0   16250            Tachyglossidae         4   \n",
       "170     16250     13        0  117704         Zaglossus bartoni         0   \n",
       "172     15991     12        0   16253  Ornithorhynchus anatinus         0   \n",
       "175     15994     12        0   16242           Didelphimorphia         0   \n",
       "178     15994     12        0   16245            Dasyuromorphia         0   \n",
       "\n",
       "     phylesis         x         y  Begin  End  log_time  \n",
       "167         0 -2.788100 -0.445452  23.03  0.0  3.179303  \n",
       "170         0 -1.814570 -1.129818  23.03  8.0  3.179303  \n",
       "172         0 -2.642402  0.753507   9.00  0.0  2.302585  \n",
       "175         0 -5.015041  1.140616  23.03  0.0  3.179303  \n",
       "178         0 -4.962583  0.572286  23.03  0.0  3.179303  "
      ]
     },
     "execution_count": 88,
     "metadata": {},
     "output_type": "execute_result"
    }
   ],
   "source": [
    "# take our wrong ones and use raw log\n",
    "pgp.df = pgp.df.loc[pgp.df['Begin'].notnull()]\n",
    "pgp.df = pgp.df[pgp.df['Begin'] <= root_begin]\n",
    "import numpy as np\n",
    "pgp.df['log_time'] = np.log1p(pgp.df['Begin'])\n",
    "pgp.df.head()"
   ]
  },
  {
   "cell_type": "code",
   "execution_count": null,
   "metadata": {},
   "outputs": [],
   "source": []
  },
  {
   "cell_type": "code",
   "execution_count": null,
   "metadata": {},
   "outputs": [],
   "source": []
  },
  {
   "cell_type": "markdown",
   "metadata": {},
   "source": [
    "## END BULLSHIT"
   ]
  },
  {
   "cell_type": "code",
   "execution_count": 15,
   "metadata": {},
   "outputs": [],
   "source": [
    "root_node=15963\n",
    "focus_node = 16418\n",
    "#focus_node = 'all'"
   ]
  },
  {
   "cell_type": "code",
   "execution_count": 16,
   "metadata": {},
   "outputs": [
    {
     "ename": "TypeError",
     "evalue": "cannot convert the series to <class 'float'>",
     "output_type": "error",
     "traceback": [
      "\u001b[0;31m---------------------------------------------------------------------------\u001b[0m",
      "\u001b[0;31mTypeError\u001b[0m                                 Traceback (most recent call last)",
      "\u001b[0;32m<ipython-input-16-8c80ce3a00e5>\u001b[0m in \u001b[0;36m<module>\u001b[0;34m()\u001b[0m\n\u001b[0;32m----> 1\u001b[0;31m \u001b[0mpgp\u001b[0m\u001b[0;34m.\u001b[0m\u001b[0mcreate_plot_data\u001b[0m\u001b[0;34m(\u001b[0m\u001b[0mroot\u001b[0m\u001b[0;34m=\u001b[0m\u001b[0mroot_node\u001b[0m\u001b[0;34m,\u001b[0m \u001b[0mfocus\u001b[0m\u001b[0;34m=\u001b[0m\u001b[0mfocus_node\u001b[0m\u001b[0;34m,\u001b[0m \u001b[0mZ_dim\u001b[0m\u001b[0;34m=\u001b[0m\u001b[0;34m'log_time'\u001b[0m\u001b[0;34m,\u001b[0m \u001b[0mZ_dim_mult\u001b[0m\u001b[0;34m=\u001b[0m\u001b[0;36m1\u001b[0m\u001b[0;34m)\u001b[0m\u001b[0;34m\u001b[0m\u001b[0m\n\u001b[0m\u001b[1;32m      2\u001b[0m \u001b[0;31m#pgp.create_plot_data(root=root_node, focus=focus_node, add_links=True)\u001b[0m\u001b[0;34m\u001b[0m\u001b[0;34m\u001b[0m\u001b[0m\n",
      "\u001b[0;32m/Users/Seth/Documents/tolGraph/phyloGraph.py\u001b[0m in \u001b[0;36mcreate_plot_data\u001b[0;34m(self, root, focus, color_attr, Z_dim, max_nodes, max_depth, Z_dim_mult, add_links)\u001b[0m\n\u001b[1;32m    485\u001b[0m \u001b[0;34m\u001b[0m\u001b[0m\n\u001b[1;32m    486\u001b[0m         \u001b[0;31m# subset to only children of the root\u001b[0m\u001b[0;34m\u001b[0m\u001b[0;34m\u001b[0m\u001b[0m\n\u001b[0;32m--> 487\u001b[0;31m         \u001b[0mself\u001b[0m\u001b[0;34m.\u001b[0m\u001b[0mget_descendants\u001b[0m\u001b[0;34m(\u001b[0m\u001b[0mroot\u001b[0m\u001b[0;34m,\u001b[0m \u001b[0mmode\u001b[0m\u001b[0;34m=\u001b[0m\u001b[0;34m'filter'\u001b[0m\u001b[0;34m)\u001b[0m\u001b[0;34m\u001b[0m\u001b[0m\n\u001b[0m\u001b[1;32m    488\u001b[0m \u001b[0;34m\u001b[0m\u001b[0m\n\u001b[1;32m    489\u001b[0m         \u001b[0;31m# select node to focus on\u001b[0m\u001b[0;34m\u001b[0m\u001b[0;34m\u001b[0m\u001b[0m\n",
      "\u001b[0;32m/Users/Seth/Documents/tolGraph/phyloGraph.py\u001b[0m in \u001b[0;36mget_descendants\u001b[0;34m(self, pick, mode)\u001b[0m\n\u001b[1;32m    456\u001b[0m             \u001b[0;31m# fix ages\u001b[0m\u001b[0;34m\u001b[0m\u001b[0;34m\u001b[0m\u001b[0m\n\u001b[1;32m    457\u001b[0m             \u001b[0;32mfor\u001b[0m \u001b[0mi\u001b[0m\u001b[0;34m,\u001b[0m \u001b[0mthis_row\u001b[0m \u001b[0;32min\u001b[0m \u001b[0mself\u001b[0m\u001b[0;34m.\u001b[0m\u001b[0mplot_df\u001b[0m\u001b[0;34m.\u001b[0m\u001b[0miterrows\u001b[0m\u001b[0;34m(\u001b[0m\u001b[0;34m)\u001b[0m\u001b[0;34m:\u001b[0m\u001b[0;34m\u001b[0m\u001b[0m\n\u001b[0;32m--> 458\u001b[0;31m                 \u001b[0mself\u001b[0m\u001b[0;34m.\u001b[0m\u001b[0mfix_age\u001b[0m\u001b[0;34m(\u001b[0m\u001b[0mi\u001b[0m\u001b[0;34m,\u001b[0m \u001b[0mthis_row\u001b[0m\u001b[0;34m)\u001b[0m\u001b[0;34m\u001b[0m\u001b[0m\n\u001b[0m\u001b[1;32m    459\u001b[0m \u001b[0;34m\u001b[0m\u001b[0m\n\u001b[1;32m    460\u001b[0m         \u001b[0;32melif\u001b[0m \u001b[0mmode\u001b[0m \u001b[0;34m==\u001b[0m \u001b[0;34m'focus'\u001b[0m\u001b[0;34m:\u001b[0m\u001b[0;34m\u001b[0m\u001b[0m\n",
      "\u001b[0;32m/Users/Seth/Documents/tolGraph/phyloGraph.py\u001b[0m in \u001b[0;36mfix_age\u001b[0;34m(self, i, this_row)\u001b[0m\n\u001b[1;32m    413\u001b[0m         \u001b[0mparent\u001b[0m \u001b[0;34m=\u001b[0m \u001b[0mself\u001b[0m\u001b[0;34m.\u001b[0m\u001b[0mlinks_dict\u001b[0m\u001b[0;34m[\u001b[0m\u001b[0mc\u001b[0m\u001b[0;34m]\u001b[0m\u001b[0;34m[\u001b[0m\u001b[0;34m'parents'\u001b[0m\u001b[0;34m]\u001b[0m\u001b[0;34m\u001b[0m\u001b[0m\n\u001b[1;32m    414\u001b[0m         \u001b[0mparent_df\u001b[0m \u001b[0;34m=\u001b[0m \u001b[0mself\u001b[0m\u001b[0;34m.\u001b[0m\u001b[0mplot_df\u001b[0m\u001b[0;34m[\u001b[0m\u001b[0mself\u001b[0m\u001b[0;34m.\u001b[0m\u001b[0mplot_df\u001b[0m\u001b[0;34m[\u001b[0m\u001b[0;34m'id'\u001b[0m\u001b[0;34m]\u001b[0m\u001b[0;34m.\u001b[0m\u001b[0misin\u001b[0m\u001b[0;34m(\u001b[0m\u001b[0mparent\u001b[0m\u001b[0;34m)\u001b[0m\u001b[0;34m]\u001b[0m\u001b[0;34m\u001b[0m\u001b[0m\n\u001b[0;32m--> 415\u001b[0;31m         \u001b[0mbegin_age\u001b[0m \u001b[0;34m=\u001b[0m \u001b[0mfloat\u001b[0m\u001b[0;34m(\u001b[0m\u001b[0mparent_df\u001b[0m\u001b[0;34m[\u001b[0m\u001b[0;34m'Begin'\u001b[0m\u001b[0;34m]\u001b[0m\u001b[0;34m)\u001b[0m\u001b[0;34m\u001b[0m\u001b[0m\n\u001b[0m\u001b[1;32m    416\u001b[0m         \u001b[0;31m#\u001b[0m\u001b[0;34m\u001b[0m\u001b[0;34m\u001b[0m\u001b[0m\n\u001b[1;32m    417\u001b[0m         \u001b[0;32mif\u001b[0m \u001b[0;34m(\u001b[0m\u001b[0mnp\u001b[0m\u001b[0;34m.\u001b[0m\u001b[0misnan\u001b[0m\u001b[0;34m(\u001b[0m\u001b[0mthis_age\u001b[0m\u001b[0;34m)\u001b[0m\u001b[0;34m)\u001b[0m \u001b[0;34m|\u001b[0m \u001b[0;34m(\u001b[0m\u001b[0mthis_age\u001b[0m \u001b[0;34m>\u001b[0m \u001b[0;34m(\u001b[0m\u001b[0mbegin_age\u001b[0m \u001b[0;34m*\u001b[0m \u001b[0;36m0.95\u001b[0m\u001b[0;34m)\u001b[0m\u001b[0;34m)\u001b[0m\u001b[0;34m:\u001b[0m\u001b[0;34m\u001b[0m\u001b[0m\n",
      "\u001b[0;32m/Users/Seth/anaconda/lib/python3.5/site-packages/pandas/core/series.py\u001b[0m in \u001b[0;36mwrapper\u001b[0;34m(self)\u001b[0m\n\u001b[1;32m     76\u001b[0m             \u001b[0;32mreturn\u001b[0m \u001b[0mconverter\u001b[0m\u001b[0;34m(\u001b[0m\u001b[0mself\u001b[0m\u001b[0;34m.\u001b[0m\u001b[0miloc\u001b[0m\u001b[0;34m[\u001b[0m\u001b[0;36m0\u001b[0m\u001b[0;34m]\u001b[0m\u001b[0;34m)\u001b[0m\u001b[0;34m\u001b[0m\u001b[0m\n\u001b[1;32m     77\u001b[0m         raise TypeError(\"cannot convert the series to \"\n\u001b[0;32m---> 78\u001b[0;31m                         \"{0}\".format(str(converter)))\n\u001b[0m\u001b[1;32m     79\u001b[0m \u001b[0;34m\u001b[0m\u001b[0m\n\u001b[1;32m     80\u001b[0m     \u001b[0;32mreturn\u001b[0m \u001b[0mwrapper\u001b[0m\u001b[0;34m\u001b[0m\u001b[0m\n",
      "\u001b[0;31mTypeError\u001b[0m: cannot convert the series to <class 'float'>"
     ]
    }
   ],
   "source": [
    "pgp.create_plot_data(root=root_node, focus=focus_node, Z_dim='log_time', Z_dim_mult=1)\n",
    "#pgp.create_plot_data(root=root_node, focus=focus_node, add_links=True)"
   ]
  },
  {
   "cell_type": "code",
   "execution_count": null,
   "metadata": {},
   "outputs": [],
   "source": []
  },
  {
   "cell_type": "code",
   "execution_count": 90,
   "metadata": {},
   "outputs": [
    {
     "data": {
      "application/vnd.plotly.v1+json": {
       "data": [
        {
         "hoverinfo": "none",
         "line": {
          "color": "rgb(125,125,125)",
          "width": 1
         },
         "mode": "lines",
         "opacity": 0.7,
         "type": "scatter3d",
         "uid": "7d1bde30-bed7-11e8-873e-f45c89a09993",
         "x": [
          -5.1659908125497545,
          -5.1659908125497545,
          null,
          -4.772831281620012,
          -5.1659908125497545,
          null,
          -5.2999677760823545,
          -4.772831281620012,
          null,
          -4.9798200504973495,
          -4.772831281620012,
          null,
          -4.5678890630185,
          -5.1659908125497545,
          null,
          -4.31758775590525,
          -4.5678890630185,
          null,
          -3.9057373669315454,
          -4.31758775590525,
          null,
          -3.6920208502051888,
          -4.5678890630185,
          null,
          -4.374310040896684,
          -5.1659908125497545,
          null,
          -4.83203538737469,
          -5.1659908125497545,
          null,
          -3.610757310055512,
          -3.6920208502051888,
          null,
          -4.316400224054413,
          -3.6920208502051888,
          null,
          -4.42701348184363,
          -3.6920208502051888,
          null,
          -5.016810786394305,
          -4.42701348184363,
          null,
          -4.638703299370429,
          -4.42701348184363,
          null,
          -4.0908016278865205,
          -4.42701348184363,
          null,
          -3.4638099550644217,
          -4.42701348184363,
          null,
          -4.72895749275069,
          -4.42701348184363,
          null,
          -4.383935995440962,
          -4.5678890630185,
          null,
          -5.908986179005108,
          -5.1659908125497545,
          null,
          -6.808581964195992,
          -5.1659908125497545,
          null,
          -5.113729458785542,
          -5.1659908125497545,
          null,
          -4.218742852326299,
          -5.1659908125497545,
          null,
          -4.088447302215424,
          -5.1659908125497545,
          null,
          -5.741464150988407,
          -5.113729458785542,
          null,
          -6.5094497456410325,
          -5.741464150988407,
          null,
          -5.273982135383945,
          -5.741464150988407,
          null,
          -6.384174395430678,
          -5.741464150988407,
          null,
          -5.4053942404338295,
          -5.741464150988407,
          null,
          -4.88457364484872,
          -5.113729458785542,
          null,
          -5.143978972728723,
          -5.113729458785542,
          null,
          -5.4641002879012825,
          -5.113729458785542,
          null,
          -4.93614239781236,
          -5.113729458785542,
          null,
          -4.2837402767593264,
          -4.93614239781236,
          null,
          -4.946884681626504,
          -4.93614239781236,
          null
         ],
         "y": [
          0.6995599021624179,
          0.6995599021624179,
          null,
          1.1275909231726888,
          0.6995599021624179,
          null,
          0.2134103615724672,
          1.1275909231726888,
          null,
          0.591954587684064,
          1.1275909231726888,
          null,
          -0.001078814845384857,
          0.6995599021624179,
          null,
          0.6576413729328268,
          -0.001078814845384857,
          null,
          0.9187582562040992,
          0.6576413729328268,
          null,
          0.7979987026783422,
          -0.001078814845384857,
          null,
          2.355874199769115,
          0.6995599021624179,
          null,
          0.9196605088731464,
          0.6995599021624179,
          null,
          1.3507324878167613,
          0.7979987026783422,
          null,
          0.5056301718743026,
          0.7979987026783422,
          null,
          1.767964941234895,
          0.7979987026783422,
          null,
          0.8068587813470107,
          1.767964941234895,
          null,
          1.7523197626016829,
          1.767964941234895,
          null,
          2.59749958594755,
          1.767964941234895,
          null,
          2.5754104034977336,
          1.767964941234895,
          null,
          2.6590955134993406,
          1.767964941234895,
          null,
          0.9794673004780452,
          -0.001078814845384857,
          null,
          0.4768981838797695,
          0.6995599021624179,
          null,
          0.5812647924026006,
          0.6995599021624179,
          null,
          -0.16732283853019947,
          0.6995599021624179,
          null,
          -0.07194656568759794,
          0.6995599021624179,
          null,
          0.10376062592192503,
          0.6995599021624179,
          null,
          -0.5728930577143676,
          -0.16732283853019947,
          null,
          0.1594744932970762,
          -0.5728930577143676,
          null,
          -0.4172440242455606,
          -0.5728930577143676,
          null,
          -1.2929992540453197,
          -0.5728930577143676,
          null,
          -1.399604793484253,
          -0.5728930577143676,
          null,
          -0.3605182461897949,
          -0.16732283853019947,
          null,
          -0.03586512055406876,
          -0.16732283853019947,
          null,
          0.6805621793947436,
          -0.16732283853019947,
          null,
          -0.18313216021731704,
          -0.16732283853019947,
          null,
          -0.6015553033742786,
          -0.18313216021731704,
          null,
          -0.21868261594427807,
          -0.18313216021731704,
          null
         ],
         "z": [
          4.079171930331342,
          4.079171930331342,
          null,
          3.369929866625926,
          4.079171930331342,
          null,
          2.0326005608274715,
          3.369929866625926,
          null,
          2.646067224511378,
          3.369929866625926,
          null,
          3.934573431711238,
          4.079171930331342,
          null,
          3.5833243804546897,
          3.934573431711238,
          null,
          1.0661779073083715,
          3.5833243804546897,
          null,
          2.937909850996745,
          3.934573431711238,
          null,
          0.8428947579619868,
          4.079171930331342,
          null,
          1.857385160893158,
          4.079171930331342,
          null,
          1.7943497171583815,
          2.937909850996745,
          null,
          1.6551084229384037,
          2.937909850996745,
          null,
          1.093593787165869,
          2.937909850996745,
          null,
          0.30028609098179637,
          1.093593787165869,
          null,
          1.1616743125373492,
          1.093593787165869,
          null,
          1.0084719538114926,
          1.093593787165869,
          null,
          1.1876711303293928,
          1.093593787165869,
          null,
          1.0561873401603843,
          1.093593787165869,
          null,
          2.1492729327487123,
          3.934573431711238,
          null,
          3.764992343620372,
          4.079171930331342,
          null,
          4.0975022938546415,
          4.079171930331342,
          null,
          3.563163667029473,
          4.079171930331342,
          null,
          3.581716353558675,
          4.079171930331342,
          null,
          1.261826564068841,
          4.079171930331342,
          null,
          2.2472557372459705,
          3.563163667029473,
          null,
          1.3486982326786827,
          2.2472557372459705,
          null,
          1.2207700149425185,
          2.2472557372459705,
          null,
          1.273836154041051,
          2.2472557372459705,
          null,
          2.192662056946434,
          2.2472557372459705,
          null,
          1.3340101914273315,
          3.563163667029473,
          null,
          3.5534822742364027,
          3.563163667029473,
          null,
          3.9287855756405508,
          3.563163667029473,
          null,
          3.9933871932246174,
          3.563163667029473,
          null,
          3.2222303828620875,
          3.9933871932246174,
          null,
          3.222906129129401,
          3.9933871932246174,
          null
         ]
        },
        {
         "hoverinfo": "none",
         "line": {
          "color": "rgb(125,125,125)",
          "width": 1.5
         },
         "mode": "lines",
         "opacity": 1,
         "type": "scatter3d",
         "uid": "7d1d9b08-bed7-11e8-9ee4-f45c89a09993",
         "x": [
          -3.6920208502051888,
          -4.5678890630185,
          null,
          -4.42701348184363,
          -3.6920208502051888,
          null,
          -5.016810786394305,
          -4.42701348184363,
          null,
          -4.638703299370429,
          -4.42701348184363,
          null,
          -4.0908016278865205,
          -4.42701348184363,
          null,
          -3.4638099550644217,
          -4.42701348184363,
          null,
          -4.72895749275069,
          -4.42701348184363,
          null
         ],
         "y": [
          0.7979987026783422,
          -0.001078814845384857,
          null,
          1.767964941234895,
          0.7979987026783422,
          null,
          0.8068587813470107,
          1.767964941234895,
          null,
          1.7523197626016829,
          1.767964941234895,
          null,
          2.59749958594755,
          1.767964941234895,
          null,
          2.5754104034977336,
          1.767964941234895,
          null,
          2.6590955134993406,
          1.767964941234895,
          null
         ],
         "z": [
          2.937909850996745,
          3.934573431711238,
          null,
          1.093593787165869,
          2.937909850996745,
          null,
          0.30028609098179637,
          1.093593787165869,
          null,
          1.1616743125373492,
          1.093593787165869,
          null,
          1.0084719538114926,
          1.093593787165869,
          null,
          1.1876711303293928,
          1.093593787165869,
          null,
          1.0561873401603843,
          1.093593787165869,
          null
         ]
        },
        {
         "hoverinfo": "skip",
         "marker": {
          "color": [
           0,
           0,
           0,
           0,
           0,
           0,
           0,
           0,
           0,
           0,
           2,
           2,
           0,
           0,
           2,
           2,
           2,
           2,
           0,
           0,
           2,
           0,
           0,
           2,
           2,
           2,
           2,
           2,
           2,
           2,
           2,
           2,
           0,
           2,
           0
          ],
          "colorscale": "Viridis",
          "opacity": 0.6,
          "size": 6,
          "symbol": "circle"
         },
         "mode": "markers",
         "name": "actors",
         "type": "scatter3d",
         "uid": "7d1da2f6-bed7-11e8-9172-f45c89a09993",
         "x": [
          -5.1659908125497545,
          -4.772831281620012,
          -5.2999677760823545,
          -4.9798200504973495,
          -4.5678890630185,
          -4.31758775590525,
          -3.9057373669315454,
          -3.6920208502051888,
          -4.374310040896684,
          -4.83203538737469,
          -3.610757310055512,
          -4.316400224054413,
          -4.42701348184363,
          -5.016810786394305,
          -4.638703299370429,
          -4.0908016278865205,
          -3.4638099550644217,
          -4.72895749275069,
          -4.383935995440962,
          -5.908986179005108,
          -6.808581964195992,
          -5.113729458785542,
          -4.218742852326299,
          -4.088447302215424,
          -5.741464150988407,
          -6.5094497456410325,
          -5.273982135383945,
          -6.384174395430678,
          -5.4053942404338295,
          -4.88457364484872,
          -5.143978972728723,
          -5.4641002879012825,
          -4.93614239781236,
          -4.2837402767593264,
          -4.946884681626504
         ],
         "y": [
          0.6995599021624179,
          1.1275909231726888,
          0.2134103615724672,
          0.591954587684064,
          -0.001078814845384857,
          0.6576413729328268,
          0.9187582562040992,
          0.7979987026783422,
          2.355874199769115,
          0.9196605088731464,
          1.3507324878167613,
          0.5056301718743026,
          1.767964941234895,
          0.8068587813470107,
          1.7523197626016829,
          2.59749958594755,
          2.5754104034977336,
          2.6590955134993406,
          0.9794673004780452,
          0.4768981838797695,
          0.5812647924026006,
          -0.16732283853019947,
          -0.07194656568759794,
          0.10376062592192503,
          -0.5728930577143676,
          0.1594744932970762,
          -0.4172440242455606,
          -1.2929992540453197,
          -1.399604793484253,
          -0.3605182461897949,
          -0.03586512055406876,
          0.6805621793947436,
          -0.18313216021731704,
          -0.6015553033742786,
          -0.21868261594427807
         ],
         "z": [
          4.079171930331342,
          3.369929866625926,
          2.0326005608274715,
          2.646067224511378,
          3.934573431711238,
          3.5833243804546897,
          1.0661779073083715,
          2.937909850996745,
          0.8428947579619868,
          1.857385160893158,
          1.7943497171583815,
          1.6551084229384037,
          1.093593787165869,
          0.30028609098179637,
          1.1616743125373492,
          1.0084719538114926,
          1.1876711303293928,
          1.0561873401603843,
          2.1492729327487123,
          3.764992343620372,
          4.0975022938546415,
          3.563163667029473,
          3.581716353558675,
          1.261826564068841,
          2.2472557372459705,
          1.3486982326786827,
          1.2207700149425185,
          1.273836154041051,
          2.192662056946434,
          1.3340101914273315,
          3.5534822742364027,
          3.9287855756405508,
          3.9933871932246174,
          3.2222303828620875,
          3.222906129129401
         ]
        },
        {
         "hoverinfo": "text",
         "marker": {
          "color": [
           0,
           0,
           0,
           2,
           2,
           2,
           2
          ],
          "colorscale": "Viridis",
          "line": {
           "color": "rgb(50,50,50)",
           "width": 0.5
          },
          "size": 8,
          "symbol": "circle"
         },
         "mode": "markers",
         "name": "actors",
         "text": [
          "Hominidae (17.0 MYA)",
          "Homo (2.1 MYA)",
          "Homo sapiens (0.35 MYA)",
          "Homo erectus (1.9 MYA)",
          "Homo ergaster (1.9 MYA)",
          "Homo rudolfensis (2.588 MYA)",
          "Homo habilis (2.1 MYA)"
         ],
         "type": "scatter3d",
         "uid": "7d1da576-bed7-11e8-ae7a-f45c89a09993",
         "x": [
          -3.6920208502051888,
          -4.42701348184363,
          -5.016810786394305,
          -4.638703299370429,
          -4.0908016278865205,
          -3.4638099550644217,
          -4.72895749275069
         ],
         "y": [
          0.7979987026783422,
          1.767964941234895,
          0.8068587813470107,
          1.7523197626016829,
          2.59749958594755,
          2.5754104034977336,
          2.6590955134993406
         ],
         "z": [
          2.937909850996745,
          1.093593787165869,
          0.30028609098179637,
          1.1616743125373492,
          1.0084719538114926,
          1.1876711303293928,
          1.0561873401603843
         ]
        }
       ],
       "layout": {
        "annotations": [
         {
          "font": {
           "size": 14
          },
          "showarrow": false,
          "text": "Homo",
          "x": 0,
          "xanchor": "left",
          "xref": "paper",
          "y": 0.1,
          "yanchor": "bottom",
          "yref": "paper"
         }
        ],
        "height": 1000,
        "hovermode": "closest",
        "margin": {
         "t": 100
        },
        "scene": {
         "xaxis": {
          "showbackground": false,
          "showgrid": false,
          "showline": false,
          "showticklabels": false,
          "title": "",
          "zeroline": false
         },
         "yaxis": {
          "showbackground": false,
          "showgrid": false,
          "showline": false,
          "showticklabels": false,
          "title": "",
          "zeroline": false
         },
         "zaxis": {
          "showbackground": false,
          "showgrid": false,
          "showline": false,
          "showticklabels": false,
          "title": "",
          "zeroline": false
         }
        },
        "showlegend": false,
        "title": "Primates",
        "width": 1000
       }
      },
      "text/html": [
       "<div id=\"7da2c659-4452-46b4-a0ea-8707762ee956\" style=\"height: 1000px; width: 1000px;\" class=\"plotly-graph-div\"></div><script type=\"text/javascript\">require([\"plotly\"], function(Plotly) { window.PLOTLYENV=window.PLOTLYENV || {};window.PLOTLYENV.BASE_URL=\"https://plot.ly\";\n",
       "        Plotly.plot(\n",
       "            '7da2c659-4452-46b4-a0ea-8707762ee956',\n",
       "            [{\"opacity\": 0.7, \"mode\": \"lines\", \"line\": {\"color\": \"rgb(125,125,125)\", \"width\": 1}, \"hoverinfo\": \"none\", \"x\": [-5.1659908125497545, -5.1659908125497545, null, -4.772831281620012, -5.1659908125497545, null, -5.2999677760823545, -4.772831281620012, null, -4.9798200504973495, -4.772831281620012, null, -4.5678890630185, -5.1659908125497545, null, -4.31758775590525, -4.5678890630185, null, -3.9057373669315454, -4.31758775590525, null, -3.6920208502051888, -4.5678890630185, null, -4.374310040896684, -5.1659908125497545, null, -4.83203538737469, -5.1659908125497545, null, -3.610757310055512, -3.6920208502051888, null, -4.316400224054413, -3.6920208502051888, null, -4.42701348184363, -3.6920208502051888, null, -5.016810786394305, -4.42701348184363, null, -4.638703299370429, -4.42701348184363, null, -4.0908016278865205, -4.42701348184363, null, -3.4638099550644217, -4.42701348184363, null, -4.72895749275069, -4.42701348184363, null, -4.383935995440962, -4.5678890630185, null, -5.908986179005108, -5.1659908125497545, null, -6.808581964195992, -5.1659908125497545, null, -5.113729458785542, -5.1659908125497545, null, -4.218742852326299, -5.1659908125497545, null, -4.088447302215424, -5.1659908125497545, null, -5.741464150988407, -5.113729458785542, null, -6.5094497456410325, -5.741464150988407, null, -5.273982135383945, -5.741464150988407, null, -6.384174395430678, -5.741464150988407, null, -5.4053942404338295, -5.741464150988407, null, -4.88457364484872, -5.113729458785542, null, -5.143978972728723, -5.113729458785542, null, -5.4641002879012825, -5.113729458785542, null, -4.93614239781236, -5.113729458785542, null, -4.2837402767593264, -4.93614239781236, null, -4.946884681626504, -4.93614239781236, null], \"z\": [4.079171930331342, 4.079171930331342, null, 3.369929866625926, 4.079171930331342, null, 2.0326005608274715, 3.369929866625926, null, 2.646067224511378, 3.369929866625926, null, 3.934573431711238, 4.079171930331342, null, 3.5833243804546897, 3.934573431711238, null, 1.0661779073083715, 3.5833243804546897, null, 2.937909850996745, 3.934573431711238, null, 0.8428947579619868, 4.079171930331342, null, 1.857385160893158, 4.079171930331342, null, 1.7943497171583815, 2.937909850996745, null, 1.6551084229384037, 2.937909850996745, null, 1.093593787165869, 2.937909850996745, null, 0.30028609098179637, 1.093593787165869, null, 1.1616743125373492, 1.093593787165869, null, 1.0084719538114926, 1.093593787165869, null, 1.1876711303293928, 1.093593787165869, null, 1.0561873401603843, 1.093593787165869, null, 2.1492729327487123, 3.934573431711238, null, 3.764992343620372, 4.079171930331342, null, 4.0975022938546415, 4.079171930331342, null, 3.563163667029473, 4.079171930331342, null, 3.581716353558675, 4.079171930331342, null, 1.261826564068841, 4.079171930331342, null, 2.2472557372459705, 3.563163667029473, null, 1.3486982326786827, 2.2472557372459705, null, 1.2207700149425185, 2.2472557372459705, null, 1.273836154041051, 2.2472557372459705, null, 2.192662056946434, 2.2472557372459705, null, 1.3340101914273315, 3.563163667029473, null, 3.5534822742364027, 3.563163667029473, null, 3.9287855756405508, 3.563163667029473, null, 3.9933871932246174, 3.563163667029473, null, 3.2222303828620875, 3.9933871932246174, null, 3.222906129129401, 3.9933871932246174, null], \"type\": \"scatter3d\", \"y\": [0.6995599021624179, 0.6995599021624179, null, 1.1275909231726888, 0.6995599021624179, null, 0.2134103615724672, 1.1275909231726888, null, 0.591954587684064, 1.1275909231726888, null, -0.001078814845384857, 0.6995599021624179, null, 0.6576413729328268, -0.001078814845384857, null, 0.9187582562040992, 0.6576413729328268, null, 0.7979987026783422, -0.001078814845384857, null, 2.355874199769115, 0.6995599021624179, null, 0.9196605088731464, 0.6995599021624179, null, 1.3507324878167613, 0.7979987026783422, null, 0.5056301718743026, 0.7979987026783422, null, 1.767964941234895, 0.7979987026783422, null, 0.8068587813470107, 1.767964941234895, null, 1.7523197626016829, 1.767964941234895, null, 2.59749958594755, 1.767964941234895, null, 2.5754104034977336, 1.767964941234895, null, 2.6590955134993406, 1.767964941234895, null, 0.9794673004780452, -0.001078814845384857, null, 0.4768981838797695, 0.6995599021624179, null, 0.5812647924026006, 0.6995599021624179, null, -0.16732283853019947, 0.6995599021624179, null, -0.07194656568759794, 0.6995599021624179, null, 0.10376062592192503, 0.6995599021624179, null, -0.5728930577143676, -0.16732283853019947, null, 0.1594744932970762, -0.5728930577143676, null, -0.4172440242455606, -0.5728930577143676, null, -1.2929992540453197, -0.5728930577143676, null, -1.399604793484253, -0.5728930577143676, null, -0.3605182461897949, -0.16732283853019947, null, -0.03586512055406876, -0.16732283853019947, null, 0.6805621793947436, -0.16732283853019947, null, -0.18313216021731704, -0.16732283853019947, null, -0.6015553033742786, -0.18313216021731704, null, -0.21868261594427807, -0.18313216021731704, null], \"uid\": \"7d1bde30-bed7-11e8-873e-f45c89a09993\"}, {\"opacity\": 1, \"mode\": \"lines\", \"line\": {\"color\": \"rgb(125,125,125)\", \"width\": 1.5}, \"hoverinfo\": \"none\", \"x\": [-3.6920208502051888, -4.5678890630185, null, -4.42701348184363, -3.6920208502051888, null, -5.016810786394305, -4.42701348184363, null, -4.638703299370429, -4.42701348184363, null, -4.0908016278865205, -4.42701348184363, null, -3.4638099550644217, -4.42701348184363, null, -4.72895749275069, -4.42701348184363, null], \"z\": [2.937909850996745, 3.934573431711238, null, 1.093593787165869, 2.937909850996745, null, 0.30028609098179637, 1.093593787165869, null, 1.1616743125373492, 1.093593787165869, null, 1.0084719538114926, 1.093593787165869, null, 1.1876711303293928, 1.093593787165869, null, 1.0561873401603843, 1.093593787165869, null], \"type\": \"scatter3d\", \"y\": [0.7979987026783422, -0.001078814845384857, null, 1.767964941234895, 0.7979987026783422, null, 0.8068587813470107, 1.767964941234895, null, 1.7523197626016829, 1.767964941234895, null, 2.59749958594755, 1.767964941234895, null, 2.5754104034977336, 1.767964941234895, null, 2.6590955134993406, 1.767964941234895, null], \"uid\": \"7d1d9b08-bed7-11e8-9ee4-f45c89a09993\"}, {\"mode\": \"markers\", \"marker\": {\"opacity\": 0.6, \"colorscale\": \"Viridis\", \"size\": 6, \"symbol\": \"circle\", \"color\": [0, 0, 0, 0, 0, 0, 0, 0, 0, 0, 2, 2, 0, 0, 2, 2, 2, 2, 0, 0, 2, 0, 0, 2, 2, 2, 2, 2, 2, 2, 2, 2, 0, 2, 0]}, \"name\": \"actors\", \"hoverinfo\": \"skip\", \"x\": [-5.1659908125497545, -4.772831281620012, -5.2999677760823545, -4.9798200504973495, -4.5678890630185, -4.31758775590525, -3.9057373669315454, -3.6920208502051888, -4.374310040896684, -4.83203538737469, -3.610757310055512, -4.316400224054413, -4.42701348184363, -5.016810786394305, -4.638703299370429, -4.0908016278865205, -3.4638099550644217, -4.72895749275069, -4.383935995440962, -5.908986179005108, -6.808581964195992, -5.113729458785542, -4.218742852326299, -4.088447302215424, -5.741464150988407, -6.5094497456410325, -5.273982135383945, -6.384174395430678, -5.4053942404338295, -4.88457364484872, -5.143978972728723, -5.4641002879012825, -4.93614239781236, -4.2837402767593264, -4.946884681626504], \"z\": [4.079171930331342, 3.369929866625926, 2.0326005608274715, 2.646067224511378, 3.934573431711238, 3.5833243804546897, 1.0661779073083715, 2.937909850996745, 0.8428947579619868, 1.857385160893158, 1.7943497171583815, 1.6551084229384037, 1.093593787165869, 0.30028609098179637, 1.1616743125373492, 1.0084719538114926, 1.1876711303293928, 1.0561873401603843, 2.1492729327487123, 3.764992343620372, 4.0975022938546415, 3.563163667029473, 3.581716353558675, 1.261826564068841, 2.2472557372459705, 1.3486982326786827, 1.2207700149425185, 1.273836154041051, 2.192662056946434, 1.3340101914273315, 3.5534822742364027, 3.9287855756405508, 3.9933871932246174, 3.2222303828620875, 3.222906129129401], \"type\": \"scatter3d\", \"y\": [0.6995599021624179, 1.1275909231726888, 0.2134103615724672, 0.591954587684064, -0.001078814845384857, 0.6576413729328268, 0.9187582562040992, 0.7979987026783422, 2.355874199769115, 0.9196605088731464, 1.3507324878167613, 0.5056301718743026, 1.767964941234895, 0.8068587813470107, 1.7523197626016829, 2.59749958594755, 2.5754104034977336, 2.6590955134993406, 0.9794673004780452, 0.4768981838797695, 0.5812647924026006, -0.16732283853019947, -0.07194656568759794, 0.10376062592192503, -0.5728930577143676, 0.1594744932970762, -0.4172440242455606, -1.2929992540453197, -1.399604793484253, -0.3605182461897949, -0.03586512055406876, 0.6805621793947436, -0.18313216021731704, -0.6015553033742786, -0.21868261594427807], \"uid\": \"7d1da2f6-bed7-11e8-9172-f45c89a09993\"}, {\"text\": [\"Hominidae (17.0 MYA)\", \"Homo (2.1 MYA)\", \"Homo sapiens (0.35 MYA)\", \"Homo erectus (1.9 MYA)\", \"Homo ergaster (1.9 MYA)\", \"Homo rudolfensis (2.588 MYA)\", \"Homo habilis (2.1 MYA)\"], \"mode\": \"markers\", \"marker\": {\"size\": 8, \"colorscale\": \"Viridis\", \"symbol\": \"circle\", \"color\": [0, 0, 0, 2, 2, 2, 2], \"line\": {\"color\": \"rgb(50,50,50)\", \"width\": 0.5}}, \"name\": \"actors\", \"hoverinfo\": \"text\", \"x\": [-3.6920208502051888, -4.42701348184363, -5.016810786394305, -4.638703299370429, -4.0908016278865205, -3.4638099550644217, -4.72895749275069], \"z\": [2.937909850996745, 1.093593787165869, 0.30028609098179637, 1.1616743125373492, 1.0084719538114926, 1.1876711303293928, 1.0561873401603843], \"type\": \"scatter3d\", \"y\": [0.7979987026783422, 1.767964941234895, 0.8068587813470107, 1.7523197626016829, 2.59749958594755, 2.5754104034977336, 2.6590955134993406], \"uid\": \"7d1da576-bed7-11e8-ae7a-f45c89a09993\"}],\n",
       "            {\"scene\": {\"yaxis\": {\"showticklabels\": false, \"title\": \"\", \"zeroline\": false, \"showbackground\": false, \"showline\": false, \"showgrid\": false}, \"xaxis\": {\"showticklabels\": false, \"title\": \"\", \"zeroline\": false, \"showbackground\": false, \"showline\": false, \"showgrid\": false}, \"zaxis\": {\"showticklabels\": false, \"title\": \"\", \"zeroline\": false, \"showbackground\": false, \"showline\": false, \"showgrid\": false}}, \"title\": \"Primates\", \"showlegend\": false, \"hovermode\": \"closest\", \"margin\": {\"t\": 100}, \"width\": 1000, \"height\": 1000, \"annotations\": [{\"text\": \"Homo\", \"xanchor\": \"left\", \"showarrow\": false, \"font\": {\"size\": 14}, \"xref\": \"paper\", \"x\": 0, \"yanchor\": \"bottom\", \"y\": 0.1, \"yref\": \"paper\"}]},\n",
       "            {\"showLink\": true, \"linkText\": \"Export to plot.ly\"}\n",
       "        ).then(function () {return Plotly.addFrames('7da2c659-4452-46b4-a0ea-8707762ee956',{});}).then(function(){Plotly.animate('7da2c659-4452-46b4-a0ea-8707762ee956');})\n",
       "        });</script>"
      ],
      "text/vnd.plotly.v1+html": [
       "<div id=\"7da2c659-4452-46b4-a0ea-8707762ee956\" style=\"height: 1000px; width: 1000px;\" class=\"plotly-graph-div\"></div><script type=\"text/javascript\">require([\"plotly\"], function(Plotly) { window.PLOTLYENV=window.PLOTLYENV || {};window.PLOTLYENV.BASE_URL=\"https://plot.ly\";\n",
       "        Plotly.plot(\n",
       "            '7da2c659-4452-46b4-a0ea-8707762ee956',\n",
       "            [{\"opacity\": 0.7, \"mode\": \"lines\", \"line\": {\"color\": \"rgb(125,125,125)\", \"width\": 1}, \"hoverinfo\": \"none\", \"x\": [-5.1659908125497545, -5.1659908125497545, null, -4.772831281620012, -5.1659908125497545, null, -5.2999677760823545, -4.772831281620012, null, -4.9798200504973495, -4.772831281620012, null, -4.5678890630185, -5.1659908125497545, null, -4.31758775590525, -4.5678890630185, null, -3.9057373669315454, -4.31758775590525, null, -3.6920208502051888, -4.5678890630185, null, -4.374310040896684, -5.1659908125497545, null, -4.83203538737469, -5.1659908125497545, null, -3.610757310055512, -3.6920208502051888, null, -4.316400224054413, -3.6920208502051888, null, -4.42701348184363, -3.6920208502051888, null, -5.016810786394305, -4.42701348184363, null, -4.638703299370429, -4.42701348184363, null, -4.0908016278865205, -4.42701348184363, null, -3.4638099550644217, -4.42701348184363, null, -4.72895749275069, -4.42701348184363, null, -4.383935995440962, -4.5678890630185, null, -5.908986179005108, -5.1659908125497545, null, -6.808581964195992, -5.1659908125497545, null, -5.113729458785542, -5.1659908125497545, null, -4.218742852326299, -5.1659908125497545, null, -4.088447302215424, -5.1659908125497545, null, -5.741464150988407, -5.113729458785542, null, -6.5094497456410325, -5.741464150988407, null, -5.273982135383945, -5.741464150988407, null, -6.384174395430678, -5.741464150988407, null, -5.4053942404338295, -5.741464150988407, null, -4.88457364484872, -5.113729458785542, null, -5.143978972728723, -5.113729458785542, null, -5.4641002879012825, -5.113729458785542, null, -4.93614239781236, -5.113729458785542, null, -4.2837402767593264, -4.93614239781236, null, -4.946884681626504, -4.93614239781236, null], \"z\": [4.079171930331342, 4.079171930331342, null, 3.369929866625926, 4.079171930331342, null, 2.0326005608274715, 3.369929866625926, null, 2.646067224511378, 3.369929866625926, null, 3.934573431711238, 4.079171930331342, null, 3.5833243804546897, 3.934573431711238, null, 1.0661779073083715, 3.5833243804546897, null, 2.937909850996745, 3.934573431711238, null, 0.8428947579619868, 4.079171930331342, null, 1.857385160893158, 4.079171930331342, null, 1.7943497171583815, 2.937909850996745, null, 1.6551084229384037, 2.937909850996745, null, 1.093593787165869, 2.937909850996745, null, 0.30028609098179637, 1.093593787165869, null, 1.1616743125373492, 1.093593787165869, null, 1.0084719538114926, 1.093593787165869, null, 1.1876711303293928, 1.093593787165869, null, 1.0561873401603843, 1.093593787165869, null, 2.1492729327487123, 3.934573431711238, null, 3.764992343620372, 4.079171930331342, null, 4.0975022938546415, 4.079171930331342, null, 3.563163667029473, 4.079171930331342, null, 3.581716353558675, 4.079171930331342, null, 1.261826564068841, 4.079171930331342, null, 2.2472557372459705, 3.563163667029473, null, 1.3486982326786827, 2.2472557372459705, null, 1.2207700149425185, 2.2472557372459705, null, 1.273836154041051, 2.2472557372459705, null, 2.192662056946434, 2.2472557372459705, null, 1.3340101914273315, 3.563163667029473, null, 3.5534822742364027, 3.563163667029473, null, 3.9287855756405508, 3.563163667029473, null, 3.9933871932246174, 3.563163667029473, null, 3.2222303828620875, 3.9933871932246174, null, 3.222906129129401, 3.9933871932246174, null], \"type\": \"scatter3d\", \"y\": [0.6995599021624179, 0.6995599021624179, null, 1.1275909231726888, 0.6995599021624179, null, 0.2134103615724672, 1.1275909231726888, null, 0.591954587684064, 1.1275909231726888, null, -0.001078814845384857, 0.6995599021624179, null, 0.6576413729328268, -0.001078814845384857, null, 0.9187582562040992, 0.6576413729328268, null, 0.7979987026783422, -0.001078814845384857, null, 2.355874199769115, 0.6995599021624179, null, 0.9196605088731464, 0.6995599021624179, null, 1.3507324878167613, 0.7979987026783422, null, 0.5056301718743026, 0.7979987026783422, null, 1.767964941234895, 0.7979987026783422, null, 0.8068587813470107, 1.767964941234895, null, 1.7523197626016829, 1.767964941234895, null, 2.59749958594755, 1.767964941234895, null, 2.5754104034977336, 1.767964941234895, null, 2.6590955134993406, 1.767964941234895, null, 0.9794673004780452, -0.001078814845384857, null, 0.4768981838797695, 0.6995599021624179, null, 0.5812647924026006, 0.6995599021624179, null, -0.16732283853019947, 0.6995599021624179, null, -0.07194656568759794, 0.6995599021624179, null, 0.10376062592192503, 0.6995599021624179, null, -0.5728930577143676, -0.16732283853019947, null, 0.1594744932970762, -0.5728930577143676, null, -0.4172440242455606, -0.5728930577143676, null, -1.2929992540453197, -0.5728930577143676, null, -1.399604793484253, -0.5728930577143676, null, -0.3605182461897949, -0.16732283853019947, null, -0.03586512055406876, -0.16732283853019947, null, 0.6805621793947436, -0.16732283853019947, null, -0.18313216021731704, -0.16732283853019947, null, -0.6015553033742786, -0.18313216021731704, null, -0.21868261594427807, -0.18313216021731704, null], \"uid\": \"7d1bde30-bed7-11e8-873e-f45c89a09993\"}, {\"opacity\": 1, \"mode\": \"lines\", \"line\": {\"color\": \"rgb(125,125,125)\", \"width\": 1.5}, \"hoverinfo\": \"none\", \"x\": [-3.6920208502051888, -4.5678890630185, null, -4.42701348184363, -3.6920208502051888, null, -5.016810786394305, -4.42701348184363, null, -4.638703299370429, -4.42701348184363, null, -4.0908016278865205, -4.42701348184363, null, -3.4638099550644217, -4.42701348184363, null, -4.72895749275069, -4.42701348184363, null], \"z\": [2.937909850996745, 3.934573431711238, null, 1.093593787165869, 2.937909850996745, null, 0.30028609098179637, 1.093593787165869, null, 1.1616743125373492, 1.093593787165869, null, 1.0084719538114926, 1.093593787165869, null, 1.1876711303293928, 1.093593787165869, null, 1.0561873401603843, 1.093593787165869, null], \"type\": \"scatter3d\", \"y\": [0.7979987026783422, -0.001078814845384857, null, 1.767964941234895, 0.7979987026783422, null, 0.8068587813470107, 1.767964941234895, null, 1.7523197626016829, 1.767964941234895, null, 2.59749958594755, 1.767964941234895, null, 2.5754104034977336, 1.767964941234895, null, 2.6590955134993406, 1.767964941234895, null], \"uid\": \"7d1d9b08-bed7-11e8-9ee4-f45c89a09993\"}, {\"mode\": \"markers\", \"marker\": {\"opacity\": 0.6, \"colorscale\": \"Viridis\", \"size\": 6, \"symbol\": \"circle\", \"color\": [0, 0, 0, 0, 0, 0, 0, 0, 0, 0, 2, 2, 0, 0, 2, 2, 2, 2, 0, 0, 2, 0, 0, 2, 2, 2, 2, 2, 2, 2, 2, 2, 0, 2, 0]}, \"name\": \"actors\", \"hoverinfo\": \"skip\", \"x\": [-5.1659908125497545, -4.772831281620012, -5.2999677760823545, -4.9798200504973495, -4.5678890630185, -4.31758775590525, -3.9057373669315454, -3.6920208502051888, -4.374310040896684, -4.83203538737469, -3.610757310055512, -4.316400224054413, -4.42701348184363, -5.016810786394305, -4.638703299370429, -4.0908016278865205, -3.4638099550644217, -4.72895749275069, -4.383935995440962, -5.908986179005108, -6.808581964195992, -5.113729458785542, -4.218742852326299, -4.088447302215424, -5.741464150988407, -6.5094497456410325, -5.273982135383945, -6.384174395430678, -5.4053942404338295, -4.88457364484872, -5.143978972728723, -5.4641002879012825, -4.93614239781236, -4.2837402767593264, -4.946884681626504], \"z\": [4.079171930331342, 3.369929866625926, 2.0326005608274715, 2.646067224511378, 3.934573431711238, 3.5833243804546897, 1.0661779073083715, 2.937909850996745, 0.8428947579619868, 1.857385160893158, 1.7943497171583815, 1.6551084229384037, 1.093593787165869, 0.30028609098179637, 1.1616743125373492, 1.0084719538114926, 1.1876711303293928, 1.0561873401603843, 2.1492729327487123, 3.764992343620372, 4.0975022938546415, 3.563163667029473, 3.581716353558675, 1.261826564068841, 2.2472557372459705, 1.3486982326786827, 1.2207700149425185, 1.273836154041051, 2.192662056946434, 1.3340101914273315, 3.5534822742364027, 3.9287855756405508, 3.9933871932246174, 3.2222303828620875, 3.222906129129401], \"type\": \"scatter3d\", \"y\": [0.6995599021624179, 1.1275909231726888, 0.2134103615724672, 0.591954587684064, -0.001078814845384857, 0.6576413729328268, 0.9187582562040992, 0.7979987026783422, 2.355874199769115, 0.9196605088731464, 1.3507324878167613, 0.5056301718743026, 1.767964941234895, 0.8068587813470107, 1.7523197626016829, 2.59749958594755, 2.5754104034977336, 2.6590955134993406, 0.9794673004780452, 0.4768981838797695, 0.5812647924026006, -0.16732283853019947, -0.07194656568759794, 0.10376062592192503, -0.5728930577143676, 0.1594744932970762, -0.4172440242455606, -1.2929992540453197, -1.399604793484253, -0.3605182461897949, -0.03586512055406876, 0.6805621793947436, -0.18313216021731704, -0.6015553033742786, -0.21868261594427807], \"uid\": \"7d1da2f6-bed7-11e8-9172-f45c89a09993\"}, {\"text\": [\"Hominidae (17.0 MYA)\", \"Homo (2.1 MYA)\", \"Homo sapiens (0.35 MYA)\", \"Homo erectus (1.9 MYA)\", \"Homo ergaster (1.9 MYA)\", \"Homo rudolfensis (2.588 MYA)\", \"Homo habilis (2.1 MYA)\"], \"mode\": \"markers\", \"marker\": {\"size\": 8, \"colorscale\": \"Viridis\", \"symbol\": \"circle\", \"color\": [0, 0, 0, 2, 2, 2, 2], \"line\": {\"color\": \"rgb(50,50,50)\", \"width\": 0.5}}, \"name\": \"actors\", \"hoverinfo\": \"text\", \"x\": [-3.6920208502051888, -4.42701348184363, -5.016810786394305, -4.638703299370429, -4.0908016278865205, -3.4638099550644217, -4.72895749275069], \"z\": [2.937909850996745, 1.093593787165869, 0.30028609098179637, 1.1616743125373492, 1.0084719538114926, 1.1876711303293928, 1.0561873401603843], \"type\": \"scatter3d\", \"y\": [0.7979987026783422, 1.767964941234895, 0.8068587813470107, 1.7523197626016829, 2.59749958594755, 2.5754104034977336, 2.6590955134993406], \"uid\": \"7d1da576-bed7-11e8-ae7a-f45c89a09993\"}],\n",
       "            {\"scene\": {\"yaxis\": {\"showticklabels\": false, \"title\": \"\", \"zeroline\": false, \"showbackground\": false, \"showline\": false, \"showgrid\": false}, \"xaxis\": {\"showticklabels\": false, \"title\": \"\", \"zeroline\": false, \"showbackground\": false, \"showline\": false, \"showgrid\": false}, \"zaxis\": {\"showticklabels\": false, \"title\": \"\", \"zeroline\": false, \"showbackground\": false, \"showline\": false, \"showgrid\": false}}, \"title\": \"Primates\", \"showlegend\": false, \"hovermode\": \"closest\", \"margin\": {\"t\": 100}, \"width\": 1000, \"height\": 1000, \"annotations\": [{\"text\": \"Homo\", \"xanchor\": \"left\", \"showarrow\": false, \"font\": {\"size\": 14}, \"xref\": \"paper\", \"x\": 0, \"yanchor\": \"bottom\", \"y\": 0.1, \"yref\": \"paper\"}]},\n",
       "            {\"showLink\": true, \"linkText\": \"Export to plot.ly\"}\n",
       "        ).then(function () {return Plotly.addFrames('7da2c659-4452-46b4-a0ea-8707762ee956',{});}).then(function(){Plotly.animate('7da2c659-4452-46b4-a0ea-8707762ee956');})\n",
       "        });</script>"
      ]
     },
     "metadata": {},
     "output_type": "display_data"
    }
   ],
   "source": [
    "#pgp.plot_data\n",
    "pgp.render_plot()\n",
    "#pgp.render_plot(publish=True, filename=\"primates2\")"
   ]
  },
  {
   "cell_type": "code",
   "execution_count": 13,
   "metadata": {},
   "outputs": [],
   "source": [
    "#pgp.open_plot()"
   ]
  },
  {
   "cell_type": "code",
   "execution_count": null,
   "metadata": {},
   "outputs": [],
   "source": []
  }
 ],
 "metadata": {
  "anaconda-cloud": {},
  "kernelspec": {
   "display_name": "Python [Root]",
   "language": "python",
   "name": "Python [Root]"
  },
  "language_info": {
   "codemirror_mode": {
    "name": "ipython",
    "version": 3
   },
   "file_extension": ".py",
   "mimetype": "text/x-python",
   "name": "python",
   "nbconvert_exporter": "python",
   "pygments_lexer": "ipython3",
   "version": "3.5.1"
  }
 },
 "nbformat": 4,
 "nbformat_minor": 2
}
