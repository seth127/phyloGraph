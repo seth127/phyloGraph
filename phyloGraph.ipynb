{
 "cells": [
  {
   "cell_type": "code",
   "execution_count": 1,
   "metadata": {},
   "outputs": [
    {
     "data": {
      "text/html": [
       "<script>requirejs.config({paths: { 'plotly': ['https://cdn.plot.ly/plotly-latest.min']},});if(!window.Plotly) {{require(['plotly'],function(plotly) {window.Plotly=plotly;});}}</script>"
      ],
      "text/vnd.plotly.v1+html": [
       "<script>requirejs.config({paths: { 'plotly': ['https://cdn.plot.ly/plotly-latest.min']},});if(!window.Plotly) {{require(['plotly'],function(plotly) {window.Plotly=plotly;});}}</script>"
      ]
     },
     "metadata": {},
     "output_type": "display_data"
    }
   ],
   "source": [
    "import phyloGraph as ph\n",
    "\n",
    "from plotly.offline import download_plotlyjs, init_notebook_mode\n",
    "init_notebook_mode(connected=True)\n",
    "\n",
    "#vim ~/.Plotly/.Credentials"
   ]
  },
  {
   "cell_type": "code",
   "execution_count": null,
   "metadata": {},
   "outputs": [],
   "source": []
  },
  {
   "cell_type": "markdown",
   "metadata": {},
   "source": [
    "## Load Data"
   ]
  },
  {
   "cell_type": "code",
   "execution_count": 2,
   "metadata": {},
   "outputs": [
    {
     "name": "stdout",
     "output_type": "stream",
     "text": [
      "the data of phylo\n"
     ]
    }
   ],
   "source": [
    "pgd = ph.phyloData()"
   ]
  },
  {
   "cell_type": "markdown",
   "metadata": {},
   "source": [
    "Pick one of the methods below for getting data"
   ]
  },
  {
   "cell_type": "markdown",
   "metadata": {},
   "source": [
    "### 1) fetch from Tree of Life"
   ]
  },
  {
   "cell_type": "code",
   "execution_count": 3,
   "metadata": {},
   "outputs": [
    {
     "data": {
      "text/html": [
       "<div>\n",
       "<table border=\"1\" class=\"dataframe\">\n",
       "  <thead>\n",
       "    <tr style=\"text-align: right;\">\n",
       "      <th></th>\n",
       "      <th>name</th>\n",
       "      <th>id</th>\n",
       "    </tr>\n",
       "  </thead>\n",
       "  <tbody>\n",
       "    <tr>\n",
       "      <th>0</th>\n",
       "      <td>Primates</td>\n",
       "      <td>15963</td>\n",
       "    </tr>\n",
       "  </tbody>\n",
       "</table>\n",
       "</div>"
      ],
      "text/plain": [
       "       name     id\n",
       "0  Primates  15963"
      ]
     },
     "execution_count": 3,
     "metadata": {},
     "output_type": "execute_result"
    }
   ],
   "source": [
    "#pgd.search_name(\"tetrapod\")\n",
    "pgd.search_name(\"primates\")"
   ]
  },
  {
   "cell_type": "code",
   "execution_count": 4,
   "metadata": {},
   "outputs": [
    {
     "name": "stdout",
     "output_type": "stream",
     "text": [
      "fetching http://tolweb.org/onlinecontributors/app?service=external&page=xml/TreeStructureService&node_id=15963 ..\n",
      "Fetched 2472 lines. Parsing and assigning...\n",
      "All done. 166 organisms fetched.\n"
     ]
    }
   ],
   "source": [
    "pgd.fetch_tol_data(15963, limit=25000)"
   ]
  },
  {
   "cell_type": "code",
   "execution_count": 5,
   "metadata": {},
   "outputs": [
    {
     "data": {
      "text/html": [
       "<div>\n",
       "<table border=\"1\" class=\"dataframe\">\n",
       "  <thead>\n",
       "    <tr style=\"text-align: right;\">\n",
       "      <th></th>\n",
       "      <th>ancestor</th>\n",
       "      <th>depth</th>\n",
       "      <th>extinct</th>\n",
       "      <th>id</th>\n",
       "      <th>name</th>\n",
       "      <th>num_kids</th>\n",
       "      <th>phylesis</th>\n",
       "      <th>x</th>\n",
       "      <th>y</th>\n",
       "    </tr>\n",
       "  </thead>\n",
       "  <tbody>\n",
       "    <tr>\n",
       "      <th>0</th>\n",
       "      <td>15997</td>\n",
       "      <td>1</td>\n",
       "      <td>0</td>\n",
       "      <td>15963</td>\n",
       "      <td>Primates</td>\n",
       "      <td>2</td>\n",
       "      <td>0</td>\n",
       "      <td>0.903182</td>\n",
       "      <td>0.085256</td>\n",
       "    </tr>\n",
       "    <tr>\n",
       "      <th>1</th>\n",
       "      <td>15963</td>\n",
       "      <td>2</td>\n",
       "      <td>0</td>\n",
       "      <td>16292</td>\n",
       "      <td>Platyrrhini</td>\n",
       "      <td>2</td>\n",
       "      <td>0</td>\n",
       "      <td>1.049297</td>\n",
       "      <td>0.057975</td>\n",
       "    </tr>\n",
       "    <tr>\n",
       "      <th>2</th>\n",
       "      <td>16292</td>\n",
       "      <td>3</td>\n",
       "      <td>0</td>\n",
       "      <td>16308</td>\n",
       "      <td>Callithrix</td>\n",
       "      <td>0</td>\n",
       "      <td>0</td>\n",
       "      <td>0.248419</td>\n",
       "      <td>0.944705</td>\n",
       "    </tr>\n",
       "    <tr>\n",
       "      <th>3</th>\n",
       "      <td>16292</td>\n",
       "      <td>3</td>\n",
       "      <td>0</td>\n",
       "      <td>16309</td>\n",
       "      <td>Cebuella</td>\n",
       "      <td>0</td>\n",
       "      <td>0</td>\n",
       "      <td>0.599989</td>\n",
       "      <td>-0.407552</td>\n",
       "    </tr>\n",
       "    <tr>\n",
       "      <th>4</th>\n",
       "      <td>16292</td>\n",
       "      <td>3</td>\n",
       "      <td>0</td>\n",
       "      <td>16310</td>\n",
       "      <td>Leontopithecus</td>\n",
       "      <td>0</td>\n",
       "      <td>0</td>\n",
       "      <td>0.224030</td>\n",
       "      <td>0.209079</td>\n",
       "    </tr>\n",
       "  </tbody>\n",
       "</table>\n",
       "</div>"
      ],
      "text/plain": [
       "   ancestor  depth  extinct     id            name  num_kids  phylesis  \\\n",
       "0     15997      1        0  15963        Primates         2         0   \n",
       "1     15963      2        0  16292     Platyrrhini         2         0   \n",
       "2     16292      3        0  16308      Callithrix         0         0   \n",
       "3     16292      3        0  16309        Cebuella         0         0   \n",
       "4     16292      3        0  16310  Leontopithecus         0         0   \n",
       "\n",
       "          x         y  \n",
       "0  0.903182  0.085256  \n",
       "1  1.049297  0.057975  \n",
       "2  0.248419  0.944705  \n",
       "3  0.599989 -0.407552  \n",
       "4  0.224030  0.209079  "
      ]
     },
     "execution_count": 5,
     "metadata": {},
     "output_type": "execute_result"
    }
   ],
   "source": [
    "#pgd.add_time()\n",
    "pgd.df.head()"
   ]
  },
  {
   "cell_type": "markdown",
   "metadata": {},
   "source": [
    "### 2) load from raw file"
   ]
  },
  {
   "cell_type": "code",
   "execution_count": 6,
   "metadata": {},
   "outputs": [],
   "source": [
    "#raw_file = \"data/primate_raw.xml\"\n",
    "#pgd.load_raw_file(raw_file)"
   ]
  },
  {
   "cell_type": "code",
   "execution_count": 7,
   "metadata": {},
   "outputs": [],
   "source": [
    "#pgd.write_prep_data(\"data/mammal_df.csv\", \"data/mammal_links.txt\")"
   ]
  },
  {
   "cell_type": "markdown",
   "metadata": {},
   "source": [
    "### 3) load from prepared files"
   ]
  },
  {
   "cell_type": "code",
   "execution_count": 8,
   "metadata": {},
   "outputs": [],
   "source": [
    "#pgd.load_prep_data(\"data/mammal_df.csv\", \"data/mammal_links.txt\")"
   ]
  },
  {
   "cell_type": "markdown",
   "metadata": {},
   "source": [
    "### return data for plotting"
   ]
  },
  {
   "cell_type": "code",
   "execution_count": 9,
   "metadata": {},
   "outputs": [
    {
     "name": "stdout",
     "output_type": "stream",
     "text": [
      "(166, 9)\n"
     ]
    },
    {
     "data": {
      "text/html": [
       "<div>\n",
       "<table border=\"1\" class=\"dataframe\">\n",
       "  <thead>\n",
       "    <tr style=\"text-align: right;\">\n",
       "      <th></th>\n",
       "      <th>ancestor</th>\n",
       "      <th>depth</th>\n",
       "      <th>extinct</th>\n",
       "      <th>id</th>\n",
       "      <th>name</th>\n",
       "      <th>num_kids</th>\n",
       "      <th>phylesis</th>\n",
       "      <th>x</th>\n",
       "      <th>y</th>\n",
       "    </tr>\n",
       "  </thead>\n",
       "  <tbody>\n",
       "    <tr>\n",
       "      <th>0</th>\n",
       "      <td>15997</td>\n",
       "      <td>1</td>\n",
       "      <td>0</td>\n",
       "      <td>15963</td>\n",
       "      <td>Primates</td>\n",
       "      <td>2</td>\n",
       "      <td>0</td>\n",
       "      <td>0.903182</td>\n",
       "      <td>0.085256</td>\n",
       "    </tr>\n",
       "    <tr>\n",
       "      <th>1</th>\n",
       "      <td>15963</td>\n",
       "      <td>2</td>\n",
       "      <td>0</td>\n",
       "      <td>16292</td>\n",
       "      <td>Platyrrhini</td>\n",
       "      <td>2</td>\n",
       "      <td>0</td>\n",
       "      <td>1.049297</td>\n",
       "      <td>0.057975</td>\n",
       "    </tr>\n",
       "    <tr>\n",
       "      <th>2</th>\n",
       "      <td>16292</td>\n",
       "      <td>3</td>\n",
       "      <td>0</td>\n",
       "      <td>16308</td>\n",
       "      <td>Callithrix</td>\n",
       "      <td>0</td>\n",
       "      <td>0</td>\n",
       "      <td>0.248419</td>\n",
       "      <td>0.944705</td>\n",
       "    </tr>\n",
       "    <tr>\n",
       "      <th>3</th>\n",
       "      <td>16292</td>\n",
       "      <td>3</td>\n",
       "      <td>0</td>\n",
       "      <td>16309</td>\n",
       "      <td>Cebuella</td>\n",
       "      <td>0</td>\n",
       "      <td>0</td>\n",
       "      <td>0.599989</td>\n",
       "      <td>-0.407552</td>\n",
       "    </tr>\n",
       "    <tr>\n",
       "      <th>4</th>\n",
       "      <td>16292</td>\n",
       "      <td>3</td>\n",
       "      <td>0</td>\n",
       "      <td>16310</td>\n",
       "      <td>Leontopithecus</td>\n",
       "      <td>0</td>\n",
       "      <td>0</td>\n",
       "      <td>0.224030</td>\n",
       "      <td>0.209079</td>\n",
       "    </tr>\n",
       "  </tbody>\n",
       "</table>\n",
       "</div>"
      ],
      "text/plain": [
       "   ancestor  depth  extinct     id            name  num_kids  phylesis  \\\n",
       "0     15997      1        0  15963        Primates         2         0   \n",
       "1     15963      2        0  16292     Platyrrhini         2         0   \n",
       "2     16292      3        0  16308      Callithrix         0         0   \n",
       "3     16292      3        0  16309        Cebuella         0         0   \n",
       "4     16292      3        0  16310  Leontopithecus         0         0   \n",
       "\n",
       "          x         y  \n",
       "0  0.903182  0.085256  \n",
       "1  1.049297  0.057975  \n",
       "2  0.248419  0.944705  \n",
       "3  0.599989 -0.407552  \n",
       "4  0.224030  0.209079  "
      ]
     },
     "execution_count": 9,
     "metadata": {},
     "output_type": "execute_result"
    }
   ],
   "source": [
    "df, links_list = pgd.return_data()\n",
    "print(df.shape)\n",
    "df.head()"
   ]
  },
  {
   "cell_type": "code",
   "execution_count": null,
   "metadata": {},
   "outputs": [],
   "source": []
  },
  {
   "cell_type": "markdown",
   "metadata": {},
   "source": [
    "### hack: get rid of rows with no Begin time or too big Begin time"
   ]
  },
  {
   "cell_type": "code",
   "execution_count": 10,
   "metadata": {},
   "outputs": [
    {
     "data": {
      "text/html": [
       "<div>\n",
       "<table border=\"1\" class=\"dataframe\">\n",
       "  <thead>\n",
       "    <tr style=\"text-align: right;\">\n",
       "      <th></th>\n",
       "      <th>ancestor</th>\n",
       "      <th>depth</th>\n",
       "      <th>extinct</th>\n",
       "      <th>id</th>\n",
       "      <th>name</th>\n",
       "      <th>num_kids</th>\n",
       "      <th>phylesis</th>\n",
       "      <th>x</th>\n",
       "      <th>y</th>\n",
       "      <th>Begin</th>\n",
       "      <th>End</th>\n",
       "    </tr>\n",
       "  </thead>\n",
       "  <tbody>\n",
       "    <tr>\n",
       "      <th>11</th>\n",
       "      <td>15994</td>\n",
       "      <td>3</td>\n",
       "      <td>0</td>\n",
       "      <td>16242</td>\n",
       "      <td>Didelphimorphia</td>\n",
       "      <td>0</td>\n",
       "      <td>0</td>\n",
       "      <td>0.721509</td>\n",
       "      <td>-1.260807</td>\n",
       "      <td>7.0142e+16</td>\n",
       "      <td>1</td>\n",
       "    </tr>\n",
       "    <tr>\n",
       "      <th>2</th>\n",
       "      <td>15040</td>\n",
       "      <td>2</td>\n",
       "      <td>0</td>\n",
       "      <td>15991</td>\n",
       "      <td>Monotremata</td>\n",
       "      <td>2</td>\n",
       "      <td>0</td>\n",
       "      <td>1.309007</td>\n",
       "      <td>0.324513</td>\n",
       "      <td>1.06352e+16</td>\n",
       "      <td>0</td>\n",
       "    </tr>\n",
       "    <tr>\n",
       "      <th>0</th>\n",
       "      <td>14973</td>\n",
       "      <td>1</td>\n",
       "      <td>0</td>\n",
       "      <td>15040</td>\n",
       "      <td>Mammalia</td>\n",
       "      <td>2</td>\n",
       "      <td>0</td>\n",
       "      <td>0.748940</td>\n",
       "      <td>0.026095</td>\n",
       "      <td>225</td>\n",
       "      <td>0</td>\n",
       "    </tr>\n",
       "    <tr>\n",
       "      <th>1</th>\n",
       "      <td>15040</td>\n",
       "      <td>2</td>\n",
       "      <td>2</td>\n",
       "      <td>15989</td>\n",
       "      <td>Triconodonts</td>\n",
       "      <td>0</td>\n",
       "      <td>0</td>\n",
       "      <td>0.538394</td>\n",
       "      <td>0.233242</td>\n",
       "      <td>190</td>\n",
       "      <td>70</td>\n",
       "    </tr>\n",
       "    <tr>\n",
       "      <th>9</th>\n",
       "      <td>15040</td>\n",
       "      <td>2</td>\n",
       "      <td>2</td>\n",
       "      <td>15992</td>\n",
       "      <td>Multituberculata</td>\n",
       "      <td>0</td>\n",
       "      <td>0</td>\n",
       "      <td>0.648113</td>\n",
       "      <td>-0.572100</td>\n",
       "      <td>181</td>\n",
       "      <td>35</td>\n",
       "    </tr>\n",
       "  </tbody>\n",
       "</table>\n",
       "</div>"
      ],
      "text/plain": [
       "    ancestor  depth  extinct     id              name  num_kids  phylesis  \\\n",
       "11     15994      3        0  16242   Didelphimorphia         0         0   \n",
       "2      15040      2        0  15991       Monotremata         2         0   \n",
       "0      14973      1        0  15040          Mammalia         2         0   \n",
       "1      15040      2        2  15989      Triconodonts         0         0   \n",
       "9      15040      2        2  15992  Multituberculata         0         0   \n",
       "\n",
       "           x         y        Begin End  \n",
       "11  0.721509 -1.260807   7.0142e+16   1  \n",
       "2   1.309007  0.324513  1.06352e+16   0  \n",
       "0   0.748940  0.026095          225   0  \n",
       "1   0.538394  0.233242          190  70  \n",
       "9   0.648113 -0.572100          181  35  "
      ]
     },
     "execution_count": 10,
     "metadata": {},
     "output_type": "execute_result"
    }
   ],
   "source": [
    "df.sort_values(by='Begin', ascending=False).head()"
   ]
  },
  {
   "cell_type": "code",
   "execution_count": 11,
   "metadata": {},
   "outputs": [
    {
     "name": "stdout",
     "output_type": "stream",
     "text": [
      "(30, 11)\n"
     ]
    }
   ],
   "source": [
    "df = df.loc[df['Begin'].notnull()]\n",
    "df = df.loc[df['Begin'] < 500]\n",
    "print(df.shape)"
   ]
  },
  {
   "cell_type": "markdown",
   "metadata": {},
   "source": [
    "## Plot Data"
   ]
  },
  {
   "cell_type": "code",
   "execution_count": 10,
   "metadata": {},
   "outputs": [
    {
     "name": "stdout",
     "output_type": "stream",
     "text": [
      "the plotting of phylo\n"
     ]
    }
   ],
   "source": [
    "pgp = ph.phyloGraph(df, links_list)"
   ]
  },
  {
   "cell_type": "code",
   "execution_count": 11,
   "metadata": {},
   "outputs": [
    {
     "name": "stdout",
     "output_type": "stream",
     "text": [
      "                name     id\n",
      "44              Homo  16418\n",
      "45      Homo sapiens  16421\n",
      "46      Homo erectus  16422\n",
      "47     Homo ergaster  16423\n",
      "48  Homo rudolfensis  16424\n",
      "49      Homo habilis  16425\n"
     ]
    }
   ],
   "source": [
    "pgp.search_name('Homo')"
   ]
  },
  {
   "cell_type": "code",
   "execution_count": 12,
   "metadata": {},
   "outputs": [],
   "source": [
    "#focus = 'all'\n",
    "focus = 16418"
   ]
  },
  {
   "cell_type": "code",
   "execution_count": 13,
   "metadata": {},
   "outputs": [
    {
     "name": "stderr",
     "output_type": "stream",
     "text": [
      "/Users/Seth/Documents/tolGraph/phyloGraph.py:425: SettingWithCopyWarning:\n",
      "\n",
      "\n",
      "A value is trying to be set on a copy of a slice from a DataFrame\n",
      "\n",
      "See the caveats in the documentation: http://pandas.pydata.org/pandas-docs/stable/indexing.html#indexing-view-versus-copy\n",
      "\n"
     ]
    },
    {
     "name": "stdout",
     "output_type": "stream",
     "text": [
      "Loaded plot data. Highlighting 16418\n"
     ]
    }
   ],
   "source": [
    "#pgp.create_plot_data(max_depth=30, max_nodes=50000, highlight=focus, Z_dim='Begin', Z_dim_mult=1)\n",
    "pgp.create_plot_data(max_depth=30, max_nodes=50000, highlight=focus, add_links=True)\n",
    "#pgp.create_plot_data(max_depth=30, max_nodes=50000, highlight=focus)"
   ]
  },
  {
   "cell_type": "code",
   "execution_count": 17,
   "metadata": {},
   "outputs": [],
   "source": [
    "#pgp.plot_data\n",
    "pgp.render_plot()\n",
    "#pgp.render_plot(publish=True, filename=\"primates2\")"
   ]
  },
  {
   "cell_type": "code",
   "execution_count": 13,
   "metadata": {},
   "outputs": [],
   "source": [
    "#pgp.open_plot()"
   ]
  },
  {
   "cell_type": "code",
   "execution_count": null,
   "metadata": {},
   "outputs": [],
   "source": []
  }
 ],
 "metadata": {
  "anaconda-cloud": {},
  "kernelspec": {
   "display_name": "Python [Root]",
   "language": "python",
   "name": "Python [Root]"
  },
  "language_info": {
   "codemirror_mode": {
    "name": "ipython",
    "version": 3
   },
   "file_extension": ".py",
   "mimetype": "text/x-python",
   "name": "python",
   "nbconvert_exporter": "python",
   "pygments_lexer": "ipython3",
   "version": "3.5.1"
  }
 },
 "nbformat": 4,
 "nbformat_minor": 2
}
