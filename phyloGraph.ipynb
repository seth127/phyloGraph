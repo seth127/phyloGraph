{
 "cells": [
  {
   "cell_type": "code",
   "execution_count": 1,
   "metadata": {},
   "outputs": [
    {
     "data": {
      "text/html": [
       "<script>requirejs.config({paths: { 'plotly': ['https://cdn.plot.ly/plotly-latest.min']},});if(!window.Plotly) {{require(['plotly'],function(plotly) {window.Plotly=plotly;});}}</script>"
      ],
      "text/vnd.plotly.v1+html": [
       "<script>requirejs.config({paths: { 'plotly': ['https://cdn.plot.ly/plotly-latest.min']},});if(!window.Plotly) {{require(['plotly'],function(plotly) {window.Plotly=plotly;});}}</script>"
      ]
     },
     "metadata": {},
     "output_type": "display_data"
    }
   ],
   "source": [
    "import phyloGraph as ph\n",
    "\n",
    "from plotly.offline import download_plotlyjs, init_notebook_mode\n",
    "init_notebook_mode(connected=True)\n",
    "\n",
    "#vim ~/.Plotly/.Credentials"
   ]
  },
  {
   "cell_type": "code",
   "execution_count": null,
   "metadata": {},
   "outputs": [],
   "source": []
  },
  {
   "cell_type": "markdown",
   "metadata": {},
   "source": [
    "## Load Data"
   ]
  },
  {
   "cell_type": "code",
   "execution_count": 2,
   "metadata": {},
   "outputs": [
    {
     "name": "stdout",
     "output_type": "stream",
     "text": [
      "naw\n"
     ]
    }
   ],
   "source": [
    "pgd = ph.phyloData()"
   ]
  },
  {
   "cell_type": "markdown",
   "metadata": {},
   "source": [
    "Pick one of the methods below for getting data"
   ]
  },
  {
   "cell_type": "markdown",
   "metadata": {},
   "source": [
    "### 1) fetch from Tree of Life"
   ]
  },
  {
   "cell_type": "code",
   "execution_count": 3,
   "metadata": {},
   "outputs": [
    {
     "data": {
      "text/html": [
       "<div>\n",
       "<table border=\"1\" class=\"dataframe\">\n",
       "  <thead>\n",
       "    <tr style=\"text-align: right;\">\n",
       "      <th></th>\n",
       "      <th>name</th>\n",
       "      <th>id</th>\n",
       "    </tr>\n",
       "  </thead>\n",
       "  <tbody>\n",
       "    <tr>\n",
       "      <th>0</th>\n",
       "      <td>Monotremata</td>\n",
       "      <td>15991</td>\n",
       "    </tr>\n",
       "    <tr>\n",
       "      <th>1</th>\n",
       "      <td>Palaeoplatycerus</td>\n",
       "      <td>52389</td>\n",
       "    </tr>\n",
       "    <tr>\n",
       "      <th>2</th>\n",
       "      <td>Platymantis guentheri</td>\n",
       "      <td>41154</td>\n",
       "    </tr>\n",
       "    <tr>\n",
       "      <th>3</th>\n",
       "      <td>Australoplatyola</td>\n",
       "      <td>63651</td>\n",
       "    </tr>\n",
       "    <tr>\n",
       "      <th>4</th>\n",
       "      <td>Platydracus (Nesiolinus)</td>\n",
       "      <td>92538</td>\n",
       "    </tr>\n",
       "    <tr>\n",
       "      <th>5</th>\n",
       "      <td>Platymantis sierramadrensis</td>\n",
       "      <td>50226</td>\n",
       "    </tr>\n",
       "    <tr>\n",
       "      <th>6</th>\n",
       "      <td>Platymantis boulengeri</td>\n",
       "      <td>41148</td>\n",
       "    </tr>\n",
       "    <tr>\n",
       "      <th>7</th>\n",
       "      <td>Platypsaris</td>\n",
       "      <td>84077</td>\n",
       "    </tr>\n",
       "    <tr>\n",
       "      <th>8</th>\n",
       "      <td>Platynus megalops</td>\n",
       "      <td>67683</td>\n",
       "    </tr>\n",
       "    <tr>\n",
       "      <th>9</th>\n",
       "      <td>Platycholeus</td>\n",
       "      <td>29482</td>\n",
       "    </tr>\n",
       "    <tr>\n",
       "      <th>10</th>\n",
       "      <td>Platydracus (Paraplatydracus)</td>\n",
       "      <td>92539</td>\n",
       "    </tr>\n",
       "    <tr>\n",
       "      <th>11</th>\n",
       "      <td>Stenopsocus platynotus</td>\n",
       "      <td>32051</td>\n",
       "    </tr>\n",
       "    <tr>\n",
       "      <th>12</th>\n",
       "      <td>Myopsocus platyvalvula</td>\n",
       "      <td>36493</td>\n",
       "    </tr>\n",
       "    <tr>\n",
       "      <th>13</th>\n",
       "      <td>Platymantis weberi</td>\n",
       "      <td>41177</td>\n",
       "    </tr>\n",
       "    <tr>\n",
       "      <th>14</th>\n",
       "      <td>Psococerastis platytaenia</td>\n",
       "      <td>35575</td>\n",
       "    </tr>\n",
       "    <tr>\n",
       "      <th>15</th>\n",
       "      <td>Deroplatys</td>\n",
       "      <td>12588</td>\n",
       "    </tr>\n",
       "    <tr>\n",
       "      <th>16</th>\n",
       "      <td>Platymantis negrosensis</td>\n",
       "      <td>50220</td>\n",
       "    </tr>\n",
       "    <tr>\n",
       "      <th>17</th>\n",
       "      <td>Dinema platysomum</td>\n",
       "      <td>97801</td>\n",
       "    </tr>\n",
       "    <tr>\n",
       "      <th>18</th>\n",
       "      <td>Platydesmidae</td>\n",
       "      <td>52785</td>\n",
       "    </tr>\n",
       "    <tr>\n",
       "      <th>19</th>\n",
       "      <td>Platyusa</td>\n",
       "      <td>64059</td>\n",
       "    </tr>\n",
       "    <tr>\n",
       "      <th>20</th>\n",
       "      <td>Platysomidae</td>\n",
       "      <td>68745</td>\n",
       "    </tr>\n",
       "    <tr>\n",
       "      <th>21</th>\n",
       "      <td>Platycryptus californicus</td>\n",
       "      <td>5368</td>\n",
       "    </tr>\n",
       "    <tr>\n",
       "      <th>22</th>\n",
       "      <td>Platydracus (Chaetodracus)</td>\n",
       "      <td>92536</td>\n",
       "    </tr>\n",
       "    <tr>\n",
       "      <th>23</th>\n",
       "      <td>Saemundssonia Saemundssonia platygaster balati</td>\n",
       "      <td>75572</td>\n",
       "    </tr>\n",
       "    <tr>\n",
       "      <th>24</th>\n",
       "      <td>Platypsaris validus</td>\n",
       "      <td>84081</td>\n",
       "    </tr>\n",
       "    <tr>\n",
       "      <th>25</th>\n",
       "      <td>Isophanes platystigma</td>\n",
       "      <td>31085</td>\n",
       "    </tr>\n",
       "    <tr>\n",
       "      <th>26</th>\n",
       "      <td>Ceratophyllum platyacanthum</td>\n",
       "      <td>20656</td>\n",
       "    </tr>\n",
       "    <tr>\n",
       "      <th>27</th>\n",
       "      <td>Platylesches</td>\n",
       "      <td>95227</td>\n",
       "    </tr>\n",
       "    <tr>\n",
       "      <th>28</th>\n",
       "      <td>Platypsaris homochrous</td>\n",
       "      <td>84079</td>\n",
       "    </tr>\n",
       "    <tr>\n",
       "      <th>29</th>\n",
       "      <td>Psococerastis platyraphis</td>\n",
       "      <td>35574</td>\n",
       "    </tr>\n",
       "    <tr>\n",
       "      <th>...</th>\n",
       "      <td>...</td>\n",
       "      <td>...</td>\n",
       "    </tr>\n",
       "    <tr>\n",
       "      <th>285</th>\n",
       "      <td>Platynus decentis</td>\n",
       "      <td>67669</td>\n",
       "    </tr>\n",
       "    <tr>\n",
       "      <th>286</th>\n",
       "      <td>Platycercus</td>\n",
       "      <td>91492</td>\n",
       "    </tr>\n",
       "    <tr>\n",
       "      <th>287</th>\n",
       "      <td>Platyrinchus cancrominus</td>\n",
       "      <td>84623</td>\n",
       "    </tr>\n",
       "    <tr>\n",
       "      <th>288</th>\n",
       "      <td>Saemundssonia Saemundssonia platygaster semivi...</td>\n",
       "      <td>75581</td>\n",
       "    </tr>\n",
       "    <tr>\n",
       "      <th>289</th>\n",
       "      <td>Pterostichus (Platysma)</td>\n",
       "      <td>51939</td>\n",
       "    </tr>\n",
       "    <tr>\n",
       "      <th>290</th>\n",
       "      <td>Platypthima placiva</td>\n",
       "      <td>88353</td>\n",
       "    </tr>\n",
       "    <tr>\n",
       "      <th>291</th>\n",
       "      <td>Saemundssonia Saemundssonia platygaster cordiceps</td>\n",
       "      <td>75573</td>\n",
       "    </tr>\n",
       "    <tr>\n",
       "      <th>292</th>\n",
       "      <td>Platynus mannerheimii</td>\n",
       "      <td>67679</td>\n",
       "    </tr>\n",
       "    <tr>\n",
       "      <th>293</th>\n",
       "      <td>Asiodiplatys</td>\n",
       "      <td>10369</td>\n",
       "    </tr>\n",
       "    <tr>\n",
       "      <th>294</th>\n",
       "      <td>Bembidion (Eurytrachelus)</td>\n",
       "      <td>131250</td>\n",
       "    </tr>\n",
       "    <tr>\n",
       "      <th>295</th>\n",
       "      <td>Platycopida</td>\n",
       "      <td>8038</td>\n",
       "    </tr>\n",
       "    <tr>\n",
       "      <th>296</th>\n",
       "      <td>Pterostichus (Platypterus)</td>\n",
       "      <td>51976</td>\n",
       "    </tr>\n",
       "    <tr>\n",
       "      <th>297</th>\n",
       "      <td>Platyprosopus (Platyprosopus)</td>\n",
       "      <td>65013</td>\n",
       "    </tr>\n",
       "    <tr>\n",
       "      <th>298</th>\n",
       "      <td>Ornithorhynchus anatinus</td>\n",
       "      <td>16253</td>\n",
       "    </tr>\n",
       "    <tr>\n",
       "      <th>299</th>\n",
       "      <td>Amazunculus platypodus</td>\n",
       "      <td>54691</td>\n",
       "    </tr>\n",
       "    <tr>\n",
       "      <th>300</th>\n",
       "      <td>Euplatyrhopalus</td>\n",
       "      <td>24852</td>\n",
       "    </tr>\n",
       "    <tr>\n",
       "      <th>301</th>\n",
       "      <td>Platymantis browni</td>\n",
       "      <td>50212</td>\n",
       "    </tr>\n",
       "    <tr>\n",
       "      <th>302</th>\n",
       "      <td>Platynus tenuicollis</td>\n",
       "      <td>67674</td>\n",
       "    </tr>\n",
       "    <tr>\n",
       "      <th>303</th>\n",
       "      <td>Platygloeales</td>\n",
       "      <td>51278</td>\n",
       "    </tr>\n",
       "    <tr>\n",
       "      <th>304</th>\n",
       "      <td>Deroplatys trigonodera</td>\n",
       "      <td>54058</td>\n",
       "    </tr>\n",
       "    <tr>\n",
       "      <th>305</th>\n",
       "      <td>Platynini</td>\n",
       "      <td>107</td>\n",
       "    </tr>\n",
       "    <tr>\n",
       "      <th>306</th>\n",
       "      <td>Platymantis parkeri</td>\n",
       "      <td>41168</td>\n",
       "    </tr>\n",
       "    <tr>\n",
       "      <th>307</th>\n",
       "      <td>Platymantis rabori</td>\n",
       "      <td>50225</td>\n",
       "    </tr>\n",
       "    <tr>\n",
       "      <th>308</th>\n",
       "      <td>Platyprosopus</td>\n",
       "      <td>10248</td>\n",
       "    </tr>\n",
       "    <tr>\n",
       "      <th>309</th>\n",
       "      <td>Platyprosopus</td>\n",
       "      <td>10248</td>\n",
       "    </tr>\n",
       "    <tr>\n",
       "      <th>310</th>\n",
       "      <td>Psococerastis platypis</td>\n",
       "      <td>35573</td>\n",
       "    </tr>\n",
       "    <tr>\n",
       "      <th>311</th>\n",
       "      <td>Platymantis mimula</td>\n",
       "      <td>50217</td>\n",
       "    </tr>\n",
       "    <tr>\n",
       "      <th>312</th>\n",
       "      <td>Platyastilbus</td>\n",
       "      <td>64058</td>\n",
       "    </tr>\n",
       "    <tr>\n",
       "      <th>313</th>\n",
       "      <td>Deroplatys moultoni</td>\n",
       "      <td>54053</td>\n",
       "    </tr>\n",
       "    <tr>\n",
       "      <th>314</th>\n",
       "      <td>Saemundssonia Saemundssonia platygaster stenrami</td>\n",
       "      <td>75582</td>\n",
       "    </tr>\n",
       "  </tbody>\n",
       "</table>\n",
       "<p>315 rows × 2 columns</p>\n",
       "</div>"
      ],
      "text/plain": [
       "                                                  name      id\n",
       "0                                          Monotremata   15991\n",
       "1                                     Palaeoplatycerus   52389\n",
       "2                                Platymantis guentheri   41154\n",
       "3                                     Australoplatyola   63651\n",
       "4                             Platydracus (Nesiolinus)   92538\n",
       "5                          Platymantis sierramadrensis   50226\n",
       "6                               Platymantis boulengeri   41148\n",
       "7                                          Platypsaris   84077\n",
       "8                                    Platynus megalops   67683\n",
       "9                                         Platycholeus   29482\n",
       "10                       Platydracus (Paraplatydracus)   92539\n",
       "11                              Stenopsocus platynotus   32051\n",
       "12                              Myopsocus platyvalvula   36493\n",
       "13                                  Platymantis weberi   41177\n",
       "14                           Psococerastis platytaenia   35575\n",
       "15                                          Deroplatys   12588\n",
       "16                             Platymantis negrosensis   50220\n",
       "17                                   Dinema platysomum   97801\n",
       "18                                       Platydesmidae   52785\n",
       "19                                            Platyusa   64059\n",
       "20                                        Platysomidae   68745\n",
       "21                           Platycryptus californicus    5368\n",
       "22                          Platydracus (Chaetodracus)   92536\n",
       "23      Saemundssonia Saemundssonia platygaster balati   75572\n",
       "24                                 Platypsaris validus   84081\n",
       "25                               Isophanes platystigma   31085\n",
       "26                         Ceratophyllum platyacanthum   20656\n",
       "27                                        Platylesches   95227\n",
       "28                              Platypsaris homochrous   84079\n",
       "29                           Psococerastis platyraphis   35574\n",
       "..                                                 ...     ...\n",
       "285                                  Platynus decentis   67669\n",
       "286                                        Platycercus   91492\n",
       "287                           Platyrinchus cancrominus   84623\n",
       "288  Saemundssonia Saemundssonia platygaster semivi...   75581\n",
       "289                            Pterostichus (Platysma)   51939\n",
       "290                                Platypthima placiva   88353\n",
       "291  Saemundssonia Saemundssonia platygaster cordiceps   75573\n",
       "292                              Platynus mannerheimii   67679\n",
       "293                                       Asiodiplatys   10369\n",
       "294                          Bembidion (Eurytrachelus)  131250\n",
       "295                                        Platycopida    8038\n",
       "296                         Pterostichus (Platypterus)   51976\n",
       "297                      Platyprosopus (Platyprosopus)   65013\n",
       "298                           Ornithorhynchus anatinus   16253\n",
       "299                             Amazunculus platypodus   54691\n",
       "300                                    Euplatyrhopalus   24852\n",
       "301                                 Platymantis browni   50212\n",
       "302                               Platynus tenuicollis   67674\n",
       "303                                      Platygloeales   51278\n",
       "304                             Deroplatys trigonodera   54058\n",
       "305                                          Platynini     107\n",
       "306                                Platymantis parkeri   41168\n",
       "307                                 Platymantis rabori   50225\n",
       "308                                      Platyprosopus   10248\n",
       "309                                      Platyprosopus   10248\n",
       "310                             Psococerastis platypis   35573\n",
       "311                                 Platymantis mimula   50217\n",
       "312                                      Platyastilbus   64058\n",
       "313                                Deroplatys moultoni   54053\n",
       "314   Saemundssonia Saemundssonia platygaster stenrami   75582\n",
       "\n",
       "[315 rows x 2 columns]"
      ]
     },
     "execution_count": 3,
     "metadata": {},
     "output_type": "execute_result"
    }
   ],
   "source": [
    "pgd.search_name(\"platy\")"
   ]
  },
  {
   "cell_type": "code",
   "execution_count": 4,
   "metadata": {},
   "outputs": [
    {
     "name": "stdout",
     "output_type": "stream",
     "text": [
      "fetching http://tolweb.org/onlinecontributors/app?service=external&page=xml/TreeStructureService&node_id=6451 \n",
      "Fetched 54 lines. Parsing and assigning...\n",
      "All done. 5 organisms fetched.\n"
     ]
    }
   ],
   "source": [
    "pgd.fetch_tol_data(6451)"
   ]
  },
  {
   "cell_type": "code",
   "execution_count": null,
   "metadata": {},
   "outputs": [],
   "source": []
  },
  {
   "cell_type": "markdown",
   "metadata": {},
   "source": [
    "### 2) load from raw file"
   ]
  },
  {
   "cell_type": "code",
   "execution_count": 5,
   "metadata": {},
   "outputs": [],
   "source": [
    "#raw_file = \"data/primate_raw.xml\"\n",
    "#pgd.load_raw_file(raw_file)"
   ]
  },
  {
   "cell_type": "code",
   "execution_count": 6,
   "metadata": {},
   "outputs": [],
   "source": [
    "#pgd.write_prep_data(\"data/primate_df.csv\", \"data/primate_links.txt\")"
   ]
  },
  {
   "cell_type": "markdown",
   "metadata": {},
   "source": [
    "### 3) load from prepared files"
   ]
  },
  {
   "cell_type": "code",
   "execution_count": 7,
   "metadata": {},
   "outputs": [],
   "source": [
    "#pgd.load_prep_data(\"data/primate_df.csv\", \"data/primate_links.txt\")"
   ]
  },
  {
   "cell_type": "markdown",
   "metadata": {},
   "source": [
    "### return data for plotting"
   ]
  },
  {
   "cell_type": "code",
   "execution_count": 8,
   "metadata": {},
   "outputs": [],
   "source": [
    "df, links_list = pgd.return_data()"
   ]
  },
  {
   "cell_type": "code",
   "execution_count": null,
   "metadata": {},
   "outputs": [],
   "source": []
  },
  {
   "cell_type": "markdown",
   "metadata": {},
   "source": [
    "## Plot Data"
   ]
  },
  {
   "cell_type": "code",
   "execution_count": 9,
   "metadata": {},
   "outputs": [],
   "source": [
    "pgp = ph.phyloGraph(df, links_list)"
   ]
  },
  {
   "cell_type": "code",
   "execution_count": 10,
   "metadata": {},
   "outputs": [],
   "source": [
    "#pgp.search_name('rrh')\n"
   ]
  },
  {
   "cell_type": "code",
   "execution_count": 11,
   "metadata": {},
   "outputs": [
    {
     "name": "stderr",
     "output_type": "stream",
     "text": [
      "/Users/Seth/Documents/tolGraph/phyloGraph.py:338: SettingWithCopyWarning:\n",
      "\n",
      "\n",
      "A value is trying to be set on a copy of a slice from a DataFrame\n",
      "\n",
      "See the caveats in the documentation: http://pandas.pydata.org/pandas-docs/stable/indexing.html#indexing-view-versus-copy\n",
      "\n"
     ]
    },
    {
     "name": "stdout",
     "output_type": "stream",
     "text": [
      "Loaded plot data. Highlighting 6451\n"
     ]
    }
   ],
   "source": [
    "pgp.create_plot_data(max_depth=30, max_nodes=50000)"
   ]
  },
  {
   "cell_type": "code",
   "execution_count": 12,
   "metadata": {},
   "outputs": [],
   "source": [
    "pgp.render_plot()\n",
    "#pgp.render_plot(publish=True)"
   ]
  },
  {
   "cell_type": "code",
   "execution_count": 13,
   "metadata": {},
   "outputs": [],
   "source": [
    "pgp.open_plot()"
   ]
  },
  {
   "cell_type": "code",
   "execution_count": null,
   "metadata": {},
   "outputs": [],
   "source": []
  }
 ],
 "metadata": {
  "anaconda-cloud": {},
  "kernelspec": {
   "display_name": "Python [Root]",
   "language": "python",
   "name": "Python [Root]"
  },
  "language_info": {
   "codemirror_mode": {
    "name": "ipython",
    "version": 3
   },
   "file_extension": ".py",
   "mimetype": "text/x-python",
   "name": "python",
   "nbconvert_exporter": "python",
   "pygments_lexer": "ipython3",
   "version": "3.5.1"
  }
 },
 "nbformat": 4,
 "nbformat_minor": 2
}
