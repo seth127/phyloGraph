{
 "cells": [
  {
   "cell_type": "code",
   "execution_count": 18,
   "metadata": {},
   "outputs": [
    {
     "data": {
      "text/html": [
       "<script>requirejs.config({paths: { 'plotly': ['https://cdn.plot.ly/plotly-latest.min']},});if(!window.Plotly) {{require(['plotly'],function(plotly) {window.Plotly=plotly;});}}</script>"
      ],
      "text/vnd.plotly.v1+html": [
       "<script>requirejs.config({paths: { 'plotly': ['https://cdn.plot.ly/plotly-latest.min']},});if(!window.Plotly) {{require(['plotly'],function(plotly) {window.Plotly=plotly;});}}</script>"
      ]
     },
     "metadata": {},
     "output_type": "display_data"
    }
   ],
   "source": [
    "import phyloGraph as ph\n",
    "\n",
    "from plotly.offline import download_plotlyjs, init_notebook_mode\n",
    "init_notebook_mode(connected=True)\n",
    "\n",
    "#vim ~/.Plotly/.Credentials"
   ]
  },
  {
   "cell_type": "code",
   "execution_count": null,
   "metadata": {},
   "outputs": [],
   "source": []
  },
  {
   "cell_type": "markdown",
   "metadata": {},
   "source": [
    "## Load Data"
   ]
  },
  {
   "cell_type": "code",
   "execution_count": 19,
   "metadata": {},
   "outputs": [
    {
     "name": "stdout",
     "output_type": "stream",
     "text": [
      "the data of phylo\n"
     ]
    }
   ],
   "source": [
    "pgd = ph.phyloData()"
   ]
  },
  {
   "cell_type": "markdown",
   "metadata": {},
   "source": [
    "Pick one of the methods below for getting data"
   ]
  },
  {
   "cell_type": "markdown",
   "metadata": {},
   "source": [
    "### 1) fetch from Tree of Life"
   ]
  },
  {
   "cell_type": "code",
   "execution_count": 20,
   "metadata": {},
   "outputs": [
    {
     "data": {
      "text/html": [
       "<div>\n",
       "<table border=\"1\" class=\"dataframe\">\n",
       "  <thead>\n",
       "    <tr style=\"text-align: right;\">\n",
       "      <th></th>\n",
       "      <th>name</th>\n",
       "      <th>id</th>\n",
       "    </tr>\n",
       "  </thead>\n",
       "  <tbody>\n",
       "    <tr>\n",
       "      <th>0</th>\n",
       "      <td>Primates</td>\n",
       "      <td>15963</td>\n",
       "    </tr>\n",
       "  </tbody>\n",
       "</table>\n",
       "</div>"
      ],
      "text/plain": [
       "       name     id\n",
       "0  Primates  15963"
      ]
     },
     "execution_count": 20,
     "metadata": {},
     "output_type": "execute_result"
    }
   ],
   "source": [
    "pgd.search_name(\"primates\")"
   ]
  },
  {
   "cell_type": "code",
   "execution_count": 21,
   "metadata": {},
   "outputs": [],
   "source": [
    "#pgd.fetch_tol_data(15963, limit=25000)"
   ]
  },
  {
   "cell_type": "code",
   "execution_count": 22,
   "metadata": {},
   "outputs": [],
   "source": [
    "#pgd.add_time()\n",
    "#pgd.df.head()"
   ]
  },
  {
   "cell_type": "markdown",
   "metadata": {},
   "source": [
    "### 2) load from raw file"
   ]
  },
  {
   "cell_type": "code",
   "execution_count": 23,
   "metadata": {},
   "outputs": [],
   "source": [
    "#raw_file = \"data/primate_raw.xml\"\n",
    "#pgd.load_raw_file(raw_file)"
   ]
  },
  {
   "cell_type": "code",
   "execution_count": 24,
   "metadata": {},
   "outputs": [],
   "source": [
    "#pgd.write_prep_data(\"data/mammal_df.csv\", \"data/mammal_links.txt\")"
   ]
  },
  {
   "cell_type": "markdown",
   "metadata": {},
   "source": [
    "### 3) load from prepared files"
   ]
  },
  {
   "cell_type": "code",
   "execution_count": 25,
   "metadata": {},
   "outputs": [],
   "source": [
    "#pgd.load_prep_data(\"data/Mammalia-15040-df.csv\")\n",
    "pgd.load_prep_data(\"data/Chordata-2499-df.csv\")\n"
   ]
  },
  {
   "cell_type": "markdown",
   "metadata": {},
   "source": [
    "### return data for plotting"
   ]
  },
  {
   "cell_type": "code",
   "execution_count": 26,
   "metadata": {},
   "outputs": [
    {
     "name": "stdout",
     "output_type": "stream",
     "text": [
      "(10395, 11)\n"
     ]
    },
    {
     "data": {
      "text/html": [
       "<div>\n",
       "<table border=\"1\" class=\"dataframe\">\n",
       "  <thead>\n",
       "    <tr style=\"text-align: right;\">\n",
       "      <th></th>\n",
       "      <th>ancestor</th>\n",
       "      <th>depth</th>\n",
       "      <th>extinct</th>\n",
       "      <th>id</th>\n",
       "      <th>name</th>\n",
       "      <th>num_kids</th>\n",
       "      <th>phylesis</th>\n",
       "      <th>x</th>\n",
       "      <th>y</th>\n",
       "      <th>Begin</th>\n",
       "      <th>End</th>\n",
       "    </tr>\n",
       "  </thead>\n",
       "  <tbody>\n",
       "    <tr>\n",
       "      <th>0</th>\n",
       "      <td>2466</td>\n",
       "      <td>1</td>\n",
       "      <td>0</td>\n",
       "      <td>2499</td>\n",
       "      <td>Chordata</td>\n",
       "      <td>2</td>\n",
       "      <td>0</td>\n",
       "      <td>-0.794184</td>\n",
       "      <td>0.918448</td>\n",
       "      <td>558.0</td>\n",
       "      <td>0.0</td>\n",
       "    </tr>\n",
       "    <tr>\n",
       "      <th>1</th>\n",
       "      <td>2499</td>\n",
       "      <td>2</td>\n",
       "      <td>2</td>\n",
       "      <td>14819</td>\n",
       "      <td>Calcichordata</td>\n",
       "      <td>0</td>\n",
       "      <td>0</td>\n",
       "      <td>-0.091174</td>\n",
       "      <td>0.033661</td>\n",
       "      <td>NaN</td>\n",
       "      <td>NaN</td>\n",
       "    </tr>\n",
       "    <tr>\n",
       "      <th>2</th>\n",
       "      <td>2499</td>\n",
       "      <td>2</td>\n",
       "      <td>0</td>\n",
       "      <td>14821</td>\n",
       "      <td>Urochordata</td>\n",
       "      <td>8</td>\n",
       "      <td>0</td>\n",
       "      <td>-1.014761</td>\n",
       "      <td>0.366714</td>\n",
       "      <td>555.0</td>\n",
       "      <td>0.0</td>\n",
       "    </tr>\n",
       "    <tr>\n",
       "      <th>3</th>\n",
       "      <td>14821</td>\n",
       "      <td>3</td>\n",
       "      <td>0</td>\n",
       "      <td>114489</td>\n",
       "      <td>Octacnemidae</td>\n",
       "      <td>0</td>\n",
       "      <td>0</td>\n",
       "      <td>-0.066112</td>\n",
       "      <td>-0.370996</td>\n",
       "      <td>NaN</td>\n",
       "      <td>NaN</td>\n",
       "    </tr>\n",
       "    <tr>\n",
       "      <th>4</th>\n",
       "      <td>14821</td>\n",
       "      <td>3</td>\n",
       "      <td>0</td>\n",
       "      <td>114490</td>\n",
       "      <td>Phlebobranchiata</td>\n",
       "      <td>4</td>\n",
       "      <td>0</td>\n",
       "      <td>-0.344893</td>\n",
       "      <td>-0.201929</td>\n",
       "      <td>NaN</td>\n",
       "      <td>NaN</td>\n",
       "    </tr>\n",
       "  </tbody>\n",
       "</table>\n",
       "</div>"
      ],
      "text/plain": [
       "   ancestor  depth  extinct      id              name  num_kids  phylesis  \\\n",
       "0      2466      1        0    2499          Chordata         2         0   \n",
       "1      2499      2        2   14819     Calcichordata         0         0   \n",
       "2      2499      2        0   14821       Urochordata         8         0   \n",
       "3     14821      3        0  114489      Octacnemidae         0         0   \n",
       "4     14821      3        0  114490  Phlebobranchiata         4         0   \n",
       "\n",
       "          x         y  Begin  End  \n",
       "0 -0.794184  0.918448  558.0  0.0  \n",
       "1 -0.091174  0.033661    NaN  NaN  \n",
       "2 -1.014761  0.366714  555.0  0.0  \n",
       "3 -0.066112 -0.370996    NaN  NaN  \n",
       "4 -0.344893 -0.201929    NaN  NaN  "
      ]
     },
     "execution_count": 26,
     "metadata": {},
     "output_type": "execute_result"
    }
   ],
   "source": [
    "df = pgd.return_data()\n",
    "print(df.shape)\n",
    "df.head()"
   ]
  },
  {
   "cell_type": "code",
   "execution_count": null,
   "metadata": {},
   "outputs": [],
   "source": []
  },
  {
   "cell_type": "markdown",
   "metadata": {},
   "source": [
    "## Plot Data"
   ]
  },
  {
   "cell_type": "code",
   "execution_count": 27,
   "metadata": {},
   "outputs": [
    {
     "name": "stdout",
     "output_type": "stream",
     "text": [
      "the plotting of phylo\n"
     ]
    }
   ],
   "source": [
    "pgp = ph.phyloGraph(df)"
   ]
  },
  {
   "cell_type": "code",
   "execution_count": 28,
   "metadata": {
    "scrolled": true
   },
   "outputs": [
    {
     "name": "stdout",
     "output_type": "stream",
     "text": [
      "                 name     id\n",
      "164          Mammalia  15040\n",
      "1734  Mammalodontidae  16029\n"
     ]
    }
   ],
   "source": [
    "pgp.search_name('Mamma')"
   ]
  },
  {
   "cell_type": "code",
   "execution_count": 29,
   "metadata": {
    "scrolled": true
   },
   "outputs": [
    {
     "name": "stdout",
     "output_type": "stream",
     "text": [
      "              name     id\n",
      "607    Platyrrhini  16292\n",
      "624     Catarrhini  16293\n",
      "689  Strepsirrhini  16295\n"
     ]
    }
   ],
   "source": [
    "pgp.search_name('rrhini')"
   ]
  },
  {
   "cell_type": "code",
   "execution_count": 30,
   "metadata": {},
   "outputs": [],
   "source": [
    "root_node=15040\n",
    "focus_node = 16293\n",
    "#focus_node = 'all'"
   ]
  },
  {
   "cell_type": "code",
   "execution_count": 31,
   "metadata": {},
   "outputs": [
    {
     "name": "stderr",
     "output_type": "stream",
     "text": [
      "/Users/Seth/Documents/tolGraph/phyloGraph.py:426: RuntimeWarning:\n",
      "\n",
      "All-NaN slice encountered\n",
      "\n",
      "/Users/Seth/Documents/tolGraph/phyloGraph.py:492: SettingWithCopyWarning:\n",
      "\n",
      "\n",
      "A value is trying to be set on a copy of a slice from a DataFrame\n",
      "\n",
      "See the caveats in the documentation: http://pandas.pydata.org/pandas-docs/stable/indexing.html#indexing-view-versus-copy\n",
      "\n"
     ]
    },
    {
     "name": "stdout",
     "output_type": "stream",
     "text": [
      "Loaded plot data. Highlighting 16293\n"
     ]
    }
   ],
   "source": [
    "pgp.create_plot_data(root=root_node, focus=focus_node, add_links=True)\n",
    "#pgp.create_plot_data(root=root_node, focus=focus_node, add_links=True, , Z_dim='depth', Z_dim_mult=-1)"
   ]
  },
  {
   "cell_type": "code",
   "execution_count": null,
   "metadata": {},
   "outputs": [],
   "source": []
  },
  {
   "cell_type": "code",
   "execution_count": 33,
   "metadata": {},
   "outputs": [],
   "source": [
    "#pgp.plot_data\n",
    "#pgp.render_plot()\n",
    "pgp.render_plot(publish=True, filename=\"Mammals\")"
   ]
  },
  {
   "cell_type": "code",
   "execution_count": 13,
   "metadata": {},
   "outputs": [],
   "source": [
    "#pgp.open_plot()"
   ]
  },
  {
   "cell_type": "code",
   "execution_count": null,
   "metadata": {},
   "outputs": [],
   "source": []
  }
 ],
 "metadata": {
  "anaconda-cloud": {},
  "kernelspec": {
   "display_name": "Python [Root]",
   "language": "python",
   "name": "Python [Root]"
  },
  "language_info": {
   "codemirror_mode": {
    "name": "ipython",
    "version": 3
   },
   "file_extension": ".py",
   "mimetype": "text/x-python",
   "name": "python",
   "nbconvert_exporter": "python",
   "pygments_lexer": "ipython3",
   "version": "3.5.1"
  }
 },
 "nbformat": 4,
 "nbformat_minor": 2
}
