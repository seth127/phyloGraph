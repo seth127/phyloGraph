{
 "cells": [
  {
   "cell_type": "code",
   "execution_count": 1,
   "metadata": {},
   "outputs": [],
   "source": [
    "import pandas as pd\n",
    "import numpy as np"
   ]
  },
  {
   "cell_type": "code",
   "execution_count": 6,
   "metadata": {},
   "outputs": [],
   "source": [
    "DATA_IN = 'data/Mammalia-15040-df-images-base64.csv'\n",
    "NODE_OUT= 'data/Mammalia-15040-df-nodes.csv'\n",
    "LINE_OUT= 'data/Mammalia-15040-df-lines.csv'"
   ]
  },
  {
   "cell_type": "code",
   "execution_count": 26,
   "metadata": {},
   "outputs": [],
   "source": [
    "df = pd.read_csv(DATA_IN)\n",
    "orig_cols = list(df.columns)"
   ]
  },
  {
   "cell_type": "code",
   "execution_count": 27,
   "metadata": {},
   "outputs": [],
   "source": [
    "#orig_cols"
   ]
  },
  {
   "cell_type": "code",
   "execution_count": 35,
   "metadata": {},
   "outputs": [],
   "source": [
    "TOP = 'Begin'\n",
    "BTM = 'End'"
   ]
  },
  {
   "cell_type": "code",
   "execution_count": 55,
   "metadata": {},
   "outputs": [],
   "source": [
    "def time_log(num):\n",
    "    t = np.log(num)\n",
    "    if np.isnan(t):\n",
    "        return np.nan\n",
    "    elif t < 0:\n",
    "        return 0\n",
    "    else:\n",
    "        return t"
   ]
  },
  {
   "cell_type": "code",
   "execution_count": 65,
   "metadata": {},
   "outputs": [],
   "source": [
    "# get nodes\n",
    "node_cols = [c for c in orig_cols if (c != TOP) and (c != BTM)]+['z']\n",
    "node_list = []\n",
    "\n",
    "for i, row in df.iterrows():\n",
    "\n",
    "    new_row_1 = row.rename({TOP:'z'})[node_cols].to_dict()\n",
    "    node_list.append(new_row_1)\n",
    "    new_row_2 = row.rename({BTM:'z'})[node_cols].to_dict()\n",
    "    node_list.append(new_row_2)\n"
   ]
  },
  {
   "cell_type": "code",
   "execution_count": 70,
   "metadata": {},
   "outputs": [],
   "source": [
    "node_df = pd.DataFrame(node_list)\n",
    "node_df['z'] = node_df['z'].apply(time_log)\n",
    "node_df.to_csv(NODE_OUT, index=False)"
   ]
  },
  {
   "cell_type": "code",
   "execution_count": null,
   "metadata": {},
   "outputs": [],
   "source": []
  },
  {
   "cell_type": "code",
   "execution_count": 67,
   "metadata": {},
   "outputs": [
    {
     "name": "stderr",
     "output_type": "stream",
     "text": [
      "/Users/Seth/anaconda/lib/python3.5/site-packages/pandas/core/series.py:851: FutureWarning: \n",
      "Passing list-likes to .loc or [] with any missing label will raise\n",
      "KeyError in the future, you can use .reindex() as an alternative.\n",
      "\n",
      "See the documentation here:\n",
      "https://pandas.pydata.org/pandas-docs/stable/indexing.html#deprecate-loc-reindex-listlike\n",
      "  return self.loc[key]\n"
     ]
    }
   ],
   "source": [
    "# get lines\n",
    "line_cols = [c for c in orig_cols if (c != TOP) and (c != BTM) and ('img' not in c)]+['z']\n",
    "line_list = []\n",
    "\n",
    "for i, row in df.iterrows():\n",
    "\n",
    "    new_row_1 = row.rename({TOP:'z'})[line_cols].to_dict()\n",
    "    line_list.append(new_row_1)\n",
    "    new_row_2 = row.rename({BTM:'z'})[line_cols].to_dict()\n",
    "    line_list.append(new_row_2)\n",
    "    new_blank_row = row[line_cols]\n",
    "    for c in line_cols:\n",
    "        new_blank_row[c] = None\n",
    "    line_list.append(new_blank_row)"
   ]
  },
  {
   "cell_type": "code",
   "execution_count": null,
   "metadata": {},
   "outputs": [],
   "source": []
  },
  {
   "cell_type": "code",
   "execution_count": 69,
   "metadata": {},
   "outputs": [],
   "source": [
    "line_df = pd.DataFrame(line_list)\n",
    "line_df['z'] = line_df['z'].apply(time_log)\n",
    "line_df.to_csv(LINE_OUT, index=False)"
   ]
  },
  {
   "cell_type": "code",
   "execution_count": null,
   "metadata": {},
   "outputs": [],
   "source": []
  },
  {
   "cell_type": "code",
   "execution_count": null,
   "metadata": {},
   "outputs": [],
   "source": []
  }
 ],
 "metadata": {
  "kernelspec": {
   "display_name": "Python [Root]",
   "language": "python",
   "name": "Python [Root]"
  },
  "language_info": {
   "codemirror_mode": {
    "name": "ipython",
    "version": 3
   },
   "file_extension": ".py",
   "mimetype": "text/x-python",
   "name": "python",
   "nbconvert_exporter": "python",
   "pygments_lexer": "ipython3",
   "version": "3.5.1"
  }
 },
 "nbformat": 4,
 "nbformat_minor": 2
}
