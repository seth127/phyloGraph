{
 "cells": [
  {
   "cell_type": "code",
   "execution_count": 1,
   "metadata": {},
   "outputs": [
    {
     "data": {
      "text/html": [
       "<script>requirejs.config({paths: { 'plotly': ['https://cdn.plot.ly/plotly-latest.min']},});if(!window.Plotly) {{require(['plotly'],function(plotly) {window.Plotly=plotly;});}}</script>"
      ],
      "text/vnd.plotly.v1+html": [
       "<script>requirejs.config({paths: { 'plotly': ['https://cdn.plot.ly/plotly-latest.min']},});if(!window.Plotly) {{require(['plotly'],function(plotly) {window.Plotly=plotly;});}}</script>"
      ]
     },
     "metadata": {},
     "output_type": "display_data"
    }
   ],
   "source": [
    "import phyloGraph as ph\n",
    "\n",
    "from plotly.offline import download_plotlyjs, init_notebook_mode\n",
    "init_notebook_mode(connected=True)\n",
    "\n",
    "#vim ~/.Plotly/.Credentials\n",
    "\n",
    "import requests\n",
    "import collections\n",
    "import json\n",
    "import pandas as pd\n",
    "import numpy as np\n",
    "import re\n",
    "import sys\n",
    "\n",
    "import wikipedia\n",
    "#https://stackoverflow.com/questions/8088226/content-of-infobox-of-wikipedia"
   ]
  },
  {
   "cell_type": "code",
   "execution_count": 2,
   "metadata": {},
   "outputs": [],
   "source": [
    "GEO_TIME = \"geological_time.csv\"\n",
    "gt = pd.read_csv(GEO_TIME)\n",
    "\n",
    "def trynum(n):\n",
    "    try:\n",
    "        return float(n)\n",
    "    except:\n",
    "        return None"
   ]
  },
  {
   "cell_type": "code",
   "execution_count": 3,
   "metadata": {},
   "outputs": [],
   "source": [
    "d, box = ph.get_dates(\"Monotremata\", gt)"
   ]
  },
  {
   "cell_type": "code",
   "execution_count": 4,
   "metadata": {},
   "outputs": [
    {
     "data": {
      "text/plain": [
       "' automatic taxobox name monotremes ref name msw msw groves pages id ref fossil range late triassic ref cite journal last hugall first a f year title calibration choice rate smoothing and the pattern of tetrapod diversification according to the long nuclear gene rag url journal syst biol volume issue pages doi pmid display authors etal ref holocene fossil range image prototheria collage png image caption a short beaked echidna a platypus a steropodon reconstruction and a western long beaked echidna taxon monotremata authority charles lucien bonaparte c l bonaparte ref cite journal last bonaparte first c l title a new systematic arrangement of vertebrated animals journal transactions of the linnean society of london date volume issue page doi j tb x url https www biodiversitylibrary org page ref subdivision ranks subgroups subdivision kryoryctes steropodontidae platypoda ornithorhynchidae tachyglossa echidna tachyglossidae monotremes from greek monos single and trema hole referring to the cloaca are one of the three main groups of living mammal s along with placentals eutheria and marsupials metatheria the monotremes are typified by structural differences in their brains jaws digestive tract reproductive tract and other body parts compared to the more common mammalian types in addition they oviparity lay egg s rather than bear live young but like marsupials they store their newly hatched larvae like developing puggle disambiguation puggles in a pouch marsupial pouch and like all mammals the female monotremes nurse their young with milk monotremes are traditionally referred to as the mammalian subclass prototheria the only surviving examples of monotremes are all indigenous to australia and new guinea although there is evidence that they were once more widespread including some extinct species in south america ref cite journal last pascual first rosendo last archer first michael last jaureguizar first edgardo ortiz last prado first jos l last godthelp first henk last hand first suzanne j date title first discovery of monotremes in south america journal nature language en volume issue pages doi a ref the existing monotreme species are the platypus and four species of echidna s there is currently some debate regarding monotreme taxonomy taxonomy '"
      ]
     },
     "execution_count": 4,
     "metadata": {},
     "output_type": "execute_result"
    }
   ],
   "source": [
    "re.sub(\"[^A-Za-z]+\", \" \", box).lower()"
   ]
  },
  {
   "cell_type": "code",
   "execution_count": null,
   "metadata": {},
   "outputs": [],
   "source": []
  },
  {
   "cell_type": "code",
   "execution_count": 5,
   "metadata": {},
   "outputs": [
    {
     "name": "stdout",
     "output_type": "stream",
     "text": [
      "(1.0635150701477824e+16, 0.0)\n"
     ]
    }
   ],
   "source": [
    "this_query = \"Monotremata\"\n",
    "#def get_dates(this_query, gt):\n",
    "\"\"\"gets the earliest and latest date for an organism\n",
    "this_query - a text sting organism name\n",
    "gt - the geological time dataframe\n",
    "\"\"\"\n",
    "try:\n",
    "    # get wikipedia page\n",
    "    this_page_id = wikipedia.search(this_query, results=1)[0]\n",
    "\n",
    "    # fetch infobox\n",
    "    wiki_url = 'http://en.wikipedia.org/w/api.php?action=query&prop=revisions&rvprop=content&format=json&titles={}&rvsection=0'.format(this_page_id)\n",
    "    box_raw = json.loads(requests.get(wiki_url).content.decode('utf-8'))\n",
    "    box = next(iter(box_raw['query']['pages'].values()))['revisions'][0]['*']\n",
    "\n",
    "    # parse out fossil range\n",
    "    fr = box.split(\"fossil_range\")[1].split('\\n')[0]\n",
    "    useful = re.sub(\"[^A-Za-z0-9\\.]+\", \" \", fr)\n",
    "    useful = useful.replace(\"Late \",\"Late_\").replace(\"Middle \",\"Middle_\").replace(\"Early \", \"Early_\").split(\" \")\n",
    "\n",
    "    # try to get actual MYA times\n",
    "    times = [trynum(n) for n in useful]\n",
    "    times = [n for n in times if n is not None]\n",
    "    if len(times) >= 2:\n",
    "        output_dates = (max(times), min(times))\n",
    "    else:\n",
    "        # parse from periods\n",
    "        dates = []\n",
    "        for u in useful:\n",
    "            ru = u.replace(\"Late_\",\"\").replace(\"Middle_\",\"\").replace(\"Early_\", \"\")\n",
    "            try:\n",
    "                this_row = list(gt[gt['Period']==ru].iloc[0])\n",
    "                if \"Late_\" in u:\n",
    "                    this_dates = [this_row[2]]\n",
    "                elif \"Middle_\" in u:\n",
    "                    this_dates = [np.mean(this_row[1:3])]\n",
    "                elif \"Early_\" in u:\n",
    "                    this_dates = [this_row[1]]\n",
    "                else:\n",
    "                    this_dates = this_row[1:3]\n",
    "                dates += this_dates\n",
    "            except:\n",
    "                pass\n",
    "        output_dates = (max(dates), min(dates))\n",
    "except:\n",
    "    output_dates = (None, None)\n",
    "print(output_dates)"
   ]
  },
  {
   "cell_type": "code",
   "execution_count": 6,
   "metadata": {},
   "outputs": [
    {
     "data": {
      "text/plain": [
       "'{{automatic taxobox\\n| name = Monotremes<ref name=msw3>{{MSW3 Groves|pages=1–2|id=10300001}}</ref>\\n| fossil_range = [[Late Triassic]]<ref>{{cite journal | last1 = Hugall | first1 = A.F.| year = 2007 | title = Calibration choice, rate smoothing, and the pattern of tetrapod diversification according to the long nuclear gene RAG-1 | url = | journal = Syst. Biol. | volume = 56 | issue = 4| pages = 543–63 | doi=10.1080/10635150701477825| pmid = 17654361|display-authors=etal}}</ref>–[[Holocene]], {{Fossil range|210|0}}\\n| image = Prototheria collage.png\\n| image_caption = A [[short-beaked echidna]], a [[platypus]], a \\'\\'[[Steropodon]]\\'\\' reconstruction and a [[western long-beaked echidna]]\\n| taxon = Monotremata\\n| authority = [[Charles Lucien Bonaparte|C.L. Bonaparte]], 1837<ref>{{cite journal|last1=Bonaparte|first1=C. L.|title=A New Systematic Arrangement of Vertebrated Animals|journal=Transactions of the Linnean Society of London|date=1837|volume=18|issue=3|page=258|doi=10.1111/j.1095-8339.1838.tb00177.x|url=https://www.biodiversitylibrary.org/page/32952956}}</ref>\\n| subdivision_ranks = Subgroups\\n| subdivision =\\n*\\'\\'†[[Kryoryctes]]\\'\\'?\\n*†[[Steropodontidae]]\\n*[[Platypoda]]\\n**[[Ornithorhynchidae]]\\n*[[Tachyglossa]]\\n**[[Echidna|Tachyglossidae]]\\n}}\\n\\n\\'\\'\\'Monotremes\\'\\'\\' (from Greek μονός, \\'\\'monos\\'\\' (\"single\") and τρῆμα, \\'\\'trema\\'\\' (\"hole\"), referring to the [[cloaca]]) are one of the three main groups of living [[mammal]]s, along with [[placentals]] ([[Eutheria]]) and [[marsupials]] ([[Metatheria]]). The monotremes are typified by structural differences in their brains, jaws, digestive tract, reproductive tract, and other body parts compared to the more common mammalian types. In addition they [[Oviparity|lay egg]]s rather than bear live young, but, like marsupials, they store their newly hatched, larvae-like, developing [[Puggle (disambiguation)|puggles]] in a [[Pouch (marsupial)|pouch]], and, like all mammals, the female monotremes nurse their young with [[milk]].\\n\\nMonotremes are traditionally referred to as the mammalian subclass [[Prototheria]]. The only surviving examples of monotremes are all indigenous to [[Australia]] and [[New Guinea]] although there is evidence that they were once more widespread including some extinct species in South America.<ref>{{Cite journal|last=Pascual|first=Rosendo|last2=Archer|first2=Michael|last3=Jaureguizar|first3=Edgardo Ortiz|last4=Prado|first4=José L.|last5=Godthelp|first5=Henk|last6=Hand|first6=Suzanne J.|date=1992-04-23|title=First discovery of monotremes in South America|journal=Nature|language=en|volume=356|issue=6371|pages=704–706|doi=10.1038/356704a0}}</ref> The existing monotreme species are the [[platypus]] and four species of [[echidna]]s. There is currently some debate regarding monotreme [[#Taxonomy|taxonomy]].'"
      ]
     },
     "execution_count": 6,
     "metadata": {},
     "output_type": "execute_result"
    }
   ],
   "source": [
    "this_query = \"Monotremata\"\n",
    "#def get_dates(this_query, gt):\n",
    "\"\"\"gets the earliest and latest date for an organism\n",
    "this_query - a text sting organism name\n",
    "gt - the geological time dataframe\n",
    "\"\"\"\n",
    "\n",
    "# get wikipedia page\n",
    "this_page_id = wikipedia.search(this_query, results=1)[0]\n",
    "\n",
    "# fetch infobox\n",
    "wiki_url = 'http://en.wikipedia.org/w/api.php?action=query&prop=revisions&rvprop=content&format=json&titles={}&rvsection=0'.format(this_page_id)\n",
    "box_raw = json.loads(requests.get(wiki_url).content.decode('utf-8'))\n",
    "box = next(iter(box_raw['query']['pages'].values()))['revisions'][0]['*']\n",
    "box"
   ]
  },
  {
   "cell_type": "code",
   "execution_count": null,
   "metadata": {},
   "outputs": [],
   "source": []
  },
  {
   "cell_type": "code",
   "execution_count": 12,
   "metadata": {},
   "outputs": [
    {
     "data": {
      "text/plain": [
       "'nawsXXXSXXXippi'"
      ]
     },
     "execution_count": 12,
     "metadata": {},
     "output_type": "execute_result"
    }
   ],
   "source": [
    "to_check = \"missXXXSXXXippi\"\n",
    "re.sub('mis', 'naw', to_check)"
   ]
  },
  {
   "cell_type": "markdown",
   "metadata": {},
   "source": [
    "# images"
   ]
  },
  {
   "cell_type": "code",
   "execution_count": 16,
   "metadata": {},
   "outputs": [
    {
     "name": "stdout",
     "output_type": "stream",
     "text": [
      "naw\n",
      "XXXSXXX.+$\n"
     ]
    },
    {
     "data": {
      "text/plain": [
       "'naw'"
      ]
     },
     "execution_count": 16,
     "metadata": {},
     "output_type": "execute_result"
    }
   ],
   "source": [
    "def rreplace(target, sub, to_check):\n",
    "    FAKER = 'XXXSXXX'\n",
    "    to_check = FAKER.join(to_check.rsplit(target, 1))\n",
    "    print(to_check)\n",
    "    print(\"{}.+$\".format(FAKER))\n",
    "    return re.sub(\"{}.+$\".format(FAKER), sub, to_check)\n",
    "    \n",
    "rreplace(\"mississippi\", \"iss\", 'naw')"
   ]
  },
  {
   "cell_type": "code",
   "execution_count": 23,
   "metadata": {},
   "outputs": [
    {
     "data": {
      "text/plain": [
       "'Prototheria_collage.png'"
      ]
     },
     "execution_count": 23,
     "metadata": {},
     "output_type": "execute_result"
    }
   ],
   "source": [
    "png_str = [b for b in box.split('|') if ('.png' in b) & ('image' in b)][0]\n",
    "png_str = re.sub(\"^.?image ?= ?\", '', png_str).rstrip(\"\\n\").replace(\" \", \"_\")\n",
    "png_str"
   ]
  },
  {
   "cell_type": "code",
   "execution_count": null,
   "metadata": {},
   "outputs": [],
   "source": []
  },
  {
   "cell_type": "code",
   "execution_count": 25,
   "metadata": {},
   "outputs": [],
   "source": [
    "base_url = \"https://en.wikipedia.org/wiki/File:\""
   ]
  },
  {
   "cell_type": "code",
   "execution_count": 26,
   "metadata": {},
   "outputs": [
    {
     "data": {
      "text/plain": [
       "'https://en.wikipedia.org/wiki/File:Prototheria_collage.png'"
      ]
     },
     "execution_count": 26,
     "metadata": {},
     "output_type": "execute_result"
    }
   ],
   "source": [
    "base_url+png_str"
   ]
  },
  {
   "cell_type": "code",
   "execution_count": null,
   "metadata": {},
   "outputs": [],
   "source": []
  },
  {
   "cell_type": "code",
   "execution_count": null,
   "metadata": {},
   "outputs": [],
   "source": []
  },
  {
   "cell_type": "markdown",
   "metadata": {},
   "source": [
    "### old"
   ]
  },
  {
   "cell_type": "code",
   "execution_count": 41,
   "metadata": {},
   "outputs": [],
   "source": [
    "#img_url = \"http://en.wikipedia.org/w/api.php?action=query&titles=World&generator=images&gimlimit=10&prop=imageinfo&iiprop=url|dimensions|mime&format=json\"\n",
    "img_url = \"http://en.wikipedia.org/w/api.php?action=query&titles={this_page_id}&generator=images&gimlimit=200&prop=imageinfo&iiprop=url|dimensions|mime&format=json\".format(this_page_id=this_page_id)\n",
    "img_res = requests.get(img_url)\n",
    "img_json = img_res.json()"
   ]
  },
  {
   "cell_type": "code",
   "execution_count": 55,
   "metadata": {},
   "outputs": [
    {
     "name": "stdout",
     "output_type": "stream",
     "text": [
      "dict_keys(['query', 'batchcomplete'])\n",
      "17 images: dict_keys(['-1', '-7', '-3', '-11', '-4', '-2', '-14', '-6', '-12', '-5', '-9', '33285577', '23473511', '-13', '-10', '-8', '-15'])\n"
     ]
    },
    {
     "data": {
      "text/plain": [
       "[{'imageinfo': [{'descriptionshorturl': 'https://commons.wikimedia.org/w/index.php?curid=20705108',\n",
       "    'descriptionurl': 'https://commons.wikimedia.org/wiki/File:Blue_pencil.svg',\n",
       "    'height': 600,\n",
       "    'mime': 'image/svg+xml',\n",
       "    'size': 1015,\n",
       "    'url': 'https://upload.wikimedia.org/wikipedia/commons/7/73/Blue_pencil.svg',\n",
       "    'width': 600}],\n",
       "  'imagerepository': 'shared',\n",
       "  'known': '',\n",
       "  'missing': '',\n",
       "  'ns': 6,\n",
       "  'title': 'File:Blue pencil.svg'},\n",
       " {'imageinfo': [{'descriptionshorturl': 'https://commons.wikimedia.org/w/index.php?curid=26275538',\n",
       "    'descriptionurl': 'https://commons.wikimedia.org/wiki/File:Monotreme_Egg_Diagram.svg',\n",
       "    'height': 384,\n",
       "    'mime': 'image/svg+xml',\n",
       "    'size': 23739,\n",
       "    'url': 'https://upload.wikimedia.org/wikipedia/commons/9/9b/Monotreme_Egg_Diagram.svg',\n",
       "    'width': 512}],\n",
       "  'imagerepository': 'shared',\n",
       "  'known': '',\n",
       "  'missing': '',\n",
       "  'ns': 6,\n",
       "  'title': 'File:Monotreme Egg Diagram.svg'},\n",
       " {'imageinfo': [{'descriptionshorturl': 'https://commons.wikimedia.org/w/index.php?curid=3015922',\n",
       "    'descriptionurl': 'https://commons.wikimedia.org/wiki/File:French_Island_Echidna.ogv',\n",
       "    'duration': 43.875,\n",
       "    'height': 240,\n",
       "    'mime': 'application/ogg',\n",
       "    'size': 3644317,\n",
       "    'url': 'https://upload.wikimedia.org/wikipedia/commons/9/9d/French_Island_Echidna.ogv',\n",
       "    'width': 320}],\n",
       "  'imagerepository': 'shared',\n",
       "  'known': '',\n",
       "  'missing': '',\n",
       "  'ns': 6,\n",
       "  'title': 'File:French Island Echidna.ogg'},\n",
       " {'imageinfo': [{'descriptionshorturl': 'https://commons.wikimedia.org/w/index.php?curid=6224873',\n",
       "    'descriptionurl': 'https://commons.wikimedia.org/wiki/File:Prototheria_collage.png',\n",
       "    'height': 600,\n",
       "    'mime': 'image/png',\n",
       "    'size': 854738,\n",
       "    'url': 'https://upload.wikimedia.org/wikipedia/commons/4/42/Prototheria_collage.png',\n",
       "    'width': 600}],\n",
       "  'imagerepository': 'shared',\n",
       "  'known': '',\n",
       "  'missing': '',\n",
       "  'ns': 6,\n",
       "  'title': 'File:Prototheria collage.png'},\n",
       " {'imageinfo': [{'descriptionshorturl': 'https://commons.wikimedia.org/w/index.php?curid=3015922',\n",
       "    'descriptionurl': 'https://commons.wikimedia.org/wiki/File:French_Island_Echidna.ogv',\n",
       "    'duration': 43.875,\n",
       "    'height': 240,\n",
       "    'mime': 'application/ogg',\n",
       "    'size': 3644317,\n",
       "    'url': 'https://upload.wikimedia.org/wikipedia/commons/9/9d/French_Island_Echidna.ogv',\n",
       "    'width': 320}],\n",
       "  'imagerepository': 'shared',\n",
       "  'known': '',\n",
       "  'missing': '',\n",
       "  'ns': 6,\n",
       "  'title': 'File:French Island Echidna.ogv'},\n",
       " {'imageinfo': [{'descriptionshorturl': 'https://commons.wikimedia.org/w/index.php?curid=6941472',\n",
       "    'descriptionurl': 'https://commons.wikimedia.org/wiki/File:Chicken_egg_2009-06-04.jpg',\n",
       "    'height': 2301,\n",
       "    'mime': 'image/jpeg',\n",
       "    'size': 1658246,\n",
       "    'url': 'https://upload.wikimedia.org/wikipedia/commons/5/5e/Chicken_egg_2009-06-04.jpg',\n",
       "    'width': 1644}],\n",
       "  'imagerepository': 'shared',\n",
       "  'known': '',\n",
       "  'missing': '',\n",
       "  'ns': 6,\n",
       "  'title': 'File:Chicken egg 2009-06-04.jpg'},\n",
       " {'imageinfo': [{'descriptionshorturl': 'https://commons.wikimedia.org/w/index.php?curid=7713491',\n",
       "    'descriptionurl': 'https://commons.wikimedia.org/wiki/File:Translation_to_english_arrow.svg',\n",
       "    'height': 20,\n",
       "    'mime': 'image/svg+xml',\n",
       "    'size': 29564,\n",
       "    'url': 'https://upload.wikimedia.org/wikipedia/commons/8/8a/Translation_to_english_arrow.svg',\n",
       "    'width': 60}],\n",
       "  'imagerepository': 'shared',\n",
       "  'known': '',\n",
       "  'missing': '',\n",
       "  'ns': 6,\n",
       "  'title': 'File:Translation to english arrow.svg'},\n",
       " {'imageinfo': [{'descriptionshorturl': 'https://commons.wikimedia.org/w/index.php?curid=32931838',\n",
       "    'descriptionurl': 'https://commons.wikimedia.org/wiki/File:Male_Platypus_Reproductive_System.svg',\n",
       "    'height': 856,\n",
       "    'mime': 'image/svg+xml',\n",
       "    'size': 68570,\n",
       "    'url': 'https://upload.wikimedia.org/wikipedia/commons/7/76/Male_Platypus_Reproductive_System.svg',\n",
       "    'width': 512}],\n",
       "  'imagerepository': 'shared',\n",
       "  'known': '',\n",
       "  'missing': '',\n",
       "  'ns': 6,\n",
       "  'title': 'File:Male Platypus Reproductive System.svg'},\n",
       " {'imageinfo': [{'descriptionshorturl': 'https://commons.wikimedia.org/w/index.php?curid=15376724',\n",
       "    'descriptionurl': 'https://commons.wikimedia.org/wiki/File:Red_Pencil_Icon.png',\n",
       "    'height': 16,\n",
       "    'mime': 'image/png',\n",
       "    'size': 269,\n",
       "    'url': 'https://upload.wikimedia.org/wikipedia/commons/7/74/Red_Pencil_Icon.png',\n",
       "    'width': 16}],\n",
       "  'imagerepository': 'shared',\n",
       "  'known': '',\n",
       "  'missing': '',\n",
       "  'ns': 6,\n",
       "  'title': 'File:Red Pencil Icon.png'},\n",
       " {'imageinfo': [{'descriptionshorturl': 'https://commons.wikimedia.org/w/index.php?curid=1004068',\n",
       "    'descriptionurl': 'https://commons.wikimedia.org/wiki/File:Long-beakedEchidna.jpg',\n",
       "    'height': 459,\n",
       "    'mime': 'image/jpeg',\n",
       "    'size': 117564,\n",
       "    'url': 'https://upload.wikimedia.org/wikipedia/commons/3/3b/Long-beakedEchidna.jpg',\n",
       "    'width': 600}],\n",
       "  'imagerepository': 'shared',\n",
       "  'known': '',\n",
       "  'missing': '',\n",
       "  'ns': 6,\n",
       "  'title': 'File:Long-beakedEchidna.jpg'},\n",
       " {'imageinfo': [{'descriptionshorturl': 'https://commons.wikimedia.org/w/index.php?curid=10344511',\n",
       "    'descriptionurl': 'https://commons.wikimedia.org/wiki/File:Ornithorhynchus_anatinus_-Sydney_Aquarium,_Sydney,_Australia_-swimming-6a.ogv',\n",
       "    'duration': 75.52,\n",
       "    'height': 375,\n",
       "    'mime': 'application/ogg',\n",
       "    'size': 9069312,\n",
       "    'url': 'https://upload.wikimedia.org/wikipedia/commons/d/db/Ornithorhynchus_anatinus_-Sydney_Aquarium%2C_Sydney%2C_Australia_-swimming-6a.ogv',\n",
       "    'width': 500}],\n",
       "  'imagerepository': 'shared',\n",
       "  'known': '',\n",
       "  'missing': '',\n",
       "  'ns': 6,\n",
       "  'title': 'File:Ornithorhynchus anatinus -Sydney Aquarium, Sydney, Australia -swimming-6a.ogv'},\n",
       " {'imageinfo': [{'descriptionshorturl': 'https://en.wikipedia.org/w/index.php?curid=33285577',\n",
       "    'descriptionurl': 'https://en.wikipedia.org/wiki/File:Commons-logo.svg',\n",
       "    'height': 1376,\n",
       "    'mime': 'image/svg+xml',\n",
       "    'size': 932,\n",
       "    'url': 'https://upload.wikimedia.org/wikipedia/en/4/4a/Commons-logo.svg',\n",
       "    'width': 1024}],\n",
       "  'imagerepository': 'local',\n",
       "  'ns': 6,\n",
       "  'pageid': 33285577,\n",
       "  'title': 'File:Commons-logo.svg'},\n",
       " {'imageinfo': [{'descriptionshorturl': 'https://en.wikipedia.org/w/index.php?curid=23473511',\n",
       "    'descriptionurl': 'https://en.wikipedia.org/wiki/File:Folder_Hexagonal_Icon.svg',\n",
       "    'height': 31,\n",
       "    'mime': 'image/svg+xml',\n",
       "    'size': 2586,\n",
       "    'url': 'https://upload.wikimedia.org/wikipedia/en/4/48/Folder_Hexagonal_Icon.svg',\n",
       "    'width': 36}],\n",
       "  'imagerepository': 'local',\n",
       "  'ns': 6,\n",
       "  'pageid': 23473511,\n",
       "  'title': 'File:Folder Hexagonal Icon.svg'},\n",
       " {'imageinfo': [{'descriptionshorturl': 'https://commons.wikimedia.org/w/index.php?curid=6949296',\n",
       "    'descriptionurl': 'https://commons.wikimedia.org/wiki/File:Steropodon_jaw.jpg',\n",
       "    'height': 245,\n",
       "    'mime': 'image/jpeg',\n",
       "    'size': 34583,\n",
       "    'url': 'https://upload.wikimedia.org/wikipedia/commons/4/4f/Steropodon_jaw.jpg',\n",
       "    'width': 550}],\n",
       "  'imagerepository': 'shared',\n",
       "  'known': '',\n",
       "  'missing': '',\n",
       "  'ns': 6,\n",
       "  'title': 'File:Steropodon jaw.jpg'},\n",
       " {'imageinfo': [{'descriptionshorturl': 'https://commons.wikimedia.org/w/index.php?curid=657498',\n",
       "    'descriptionurl': 'https://commons.wikimedia.org/wiki/File:Platypus.jpg',\n",
       "    'height': 453,\n",
       "    'mime': 'image/jpeg',\n",
       "    'size': 113448,\n",
       "    'url': 'https://upload.wikimedia.org/wikipedia/commons/f/f2/Platypus.jpg',\n",
       "    'width': 680}],\n",
       "  'imagerepository': 'shared',\n",
       "  'known': '',\n",
       "  'missing': '',\n",
       "  'ns': 6,\n",
       "  'title': 'File:Platypus.jpg'},\n",
       " {'imageinfo': [{'descriptionshorturl': 'https://commons.wikimedia.org/w/index.php?curid=18894277',\n",
       "    'descriptionurl': 'https://commons.wikimedia.org/wiki/File:Monotreme_reproductive_organs.png',\n",
       "    'height': 507,\n",
       "    'mime': 'image/png',\n",
       "    'size': 401620,\n",
       "    'url': 'https://upload.wikimedia.org/wikipedia/commons/c/c9/Monotreme_reproductive_organs.png',\n",
       "    'width': 622}],\n",
       "  'imagerepository': 'shared',\n",
       "  'known': '',\n",
       "  'missing': '',\n",
       "  'ns': 6,\n",
       "  'title': 'File:Monotreme reproductive organs.png'},\n",
       " {'imageinfo': [{'descriptionshorturl': 'https://commons.wikimedia.org/w/index.php?curid=5723351',\n",
       "    'descriptionurl': 'https://commons.wikimedia.org/wiki/File:Wikibooks-logo-en-noslogan.svg',\n",
       "    'height': 400,\n",
       "    'mime': 'image/svg+xml',\n",
       "    'size': 12923,\n",
       "    'url': 'https://upload.wikimedia.org/wikipedia/commons/d/df/Wikibooks-logo-en-noslogan.svg',\n",
       "    'width': 400}],\n",
       "  'imagerepository': 'shared',\n",
       "  'known': '',\n",
       "  'missing': '',\n",
       "  'ns': 6,\n",
       "  'title': 'File:Wikibooks-logo-en-noslogan.svg'}]"
      ]
     },
     "execution_count": 55,
     "metadata": {},
     "output_type": "execute_result"
    }
   ],
   "source": [
    "print(img_json.keys())\n",
    "print(\"{} images: {}\".format(len(img_json['query']['pages'].keys()), img_json['query']['pages'].keys()))\n",
    "check = \"Prototheria_collage\"\n",
    "#img_json['query']['pages']\n",
    "pg_dict = img_json['query']['pages']\n",
    "[pg_dict[i] for i in pg_dict.keys() if 'Blue' in pg_dict['-1']['imageinfo'][0]['url']]"
   ]
  },
  {
   "cell_type": "code",
   "execution_count": 36,
   "metadata": {},
   "outputs": [
    {
     "data": {
      "text/plain": [
       "'22121709|Ornithorhynchus_anatinus_-Sydney_Aquarium,_Sydney,_Australia_-swimming-6a.ogv'"
      ]
     },
     "execution_count": 36,
     "metadata": {},
     "output_type": "execute_result"
    }
   ],
   "source": [
    "img_json['continue']['gimcontinue']"
   ]
  },
  {
   "cell_type": "code",
   "execution_count": 37,
   "metadata": {},
   "outputs": [
    {
     "data": {
      "text/plain": [
       "'https://en.wikipedia.org/wiki/File:Ornithorhynchus_anatinus_-Sydney_Aquarium,_Sydney,_Australia_-swimming-6a.ogv'"
      ]
     },
     "execution_count": 37,
     "metadata": {},
     "output_type": "execute_result"
    }
   ],
   "source": [
    "img_file = img_json['continue']['gimcontinue'].split('|')[-1]\n",
    "res_url = base_url+img_file\n",
    "res_url"
   ]
  },
  {
   "cell_type": "code",
   "execution_count": null,
   "metadata": {},
   "outputs": [],
   "source": []
  },
  {
   "cell_type": "markdown",
   "metadata": {},
   "source": [
    "# cont'd"
   ]
  },
  {
   "cell_type": "code",
   "execution_count": 15,
   "metadata": {},
   "outputs": [
    {
     "data": {
      "text/plain": [
       "False"
      ]
     },
     "execution_count": 15,
     "metadata": {},
     "output_type": "execute_result"
    }
   ],
   "source": [
    "the_clade = \"Australosphenida\"\n",
    "the_clade in box_raw"
   ]
  },
  {
   "cell_type": "code",
   "execution_count": 14,
   "metadata": {},
   "outputs": [
    {
     "name": "stdout",
     "output_type": "stream",
     "text": [
      "{{automatic taxobox\n",
      "\n"
     ]
    },
    {
     "data": {
      "text/plain": [
       "False"
      ]
     },
     "execution_count": 14,
     "metadata": {},
     "output_type": "execute_result"
    }
   ],
   "source": [
    "new_box = next(iter(box_raw['query']['pages'].values()))['revisions'][0]['*']\n",
    "print(new_box[:20])\n",
    "the_clade in new_box"
   ]
  },
  {
   "cell_type": "code",
   "execution_count": null,
   "metadata": {},
   "outputs": [],
   "source": []
  },
  {
   "cell_type": "code",
   "execution_count": 7,
   "metadata": {},
   "outputs": [
    {
     "name": "stdout",
     "output_type": "stream",
     "text": [
      " = [[Late Triassic]]<ref>{{cite journal | last1 = Hugall | first1 = A.F.| year = 2007 | title = Calibration choice, rate smoothing, and the pattern of tetrapod diversification according to the long nuclear gene RAG-1 | url = | journal = Syst. Biol. | volume = 56 | issue = 4| pages = 543–63 | doi=10.1080/10635150701477825|display-authors=etal}}</ref>–[[Holocene]], {{Fossil range|210|0}}\n"
     ]
    },
    {
     "data": {
      "text/plain": [
       "['',\n",
       " 'Late_Triassic',\n",
       " 'ref',\n",
       " 'cite',\n",
       " 'journal',\n",
       " 'last1',\n",
       " 'Hugall',\n",
       " 'first1',\n",
       " 'A.F.',\n",
       " 'year',\n",
       " '2007',\n",
       " 'title',\n",
       " 'Calibration',\n",
       " 'choice',\n",
       " 'rate',\n",
       " 'smoothing',\n",
       " 'and',\n",
       " 'the',\n",
       " 'pattern',\n",
       " 'of',\n",
       " 'tetrapod',\n",
       " 'diversification',\n",
       " 'according',\n",
       " 'to',\n",
       " 'the',\n",
       " 'long',\n",
       " 'nuclear',\n",
       " 'gene',\n",
       " 'RAG',\n",
       " '1',\n",
       " 'url',\n",
       " 'journal',\n",
       " 'Syst.',\n",
       " 'Biol.',\n",
       " 'volume',\n",
       " '56',\n",
       " 'issue',\n",
       " '4',\n",
       " 'pages',\n",
       " '543',\n",
       " '63',\n",
       " 'doi',\n",
       " '10.1080',\n",
       " '10635150701477825',\n",
       " 'display',\n",
       " 'authors',\n",
       " 'etal',\n",
       " 'ref',\n",
       " 'Holocene',\n",
       " 'Fossil',\n",
       " 'range',\n",
       " '210',\n",
       " '0',\n",
       " '']"
      ]
     },
     "execution_count": 7,
     "metadata": {},
     "output_type": "execute_result"
    }
   ],
   "source": [
    "# parse out fossil range\n",
    "fr = box.split(\"fossil_range\")[-1].split('\\n')[0]#.split('<ref>')[0].split('{{')[0]\n",
    "print(fr)\n",
    "useful = re.sub(\"[^A-Za-z0-9\\.]+\", \" \", fr)\n",
    "useful = useful.replace(\"Late \",\"Late_\").replace(\"Middle \",\"Middle_\").replace(\"Early \", \"Early_\").split(\" \")\n",
    "useful"
   ]
  },
  {
   "cell_type": "code",
   "execution_count": 17,
   "metadata": {},
   "outputs": [
    {
     "name": "stdout",
     "output_type": "stream",
     "text": [
      "(419.19999999999999, 419.19999999999999)\n"
     ]
    }
   ],
   "source": [
    "# try to get actual MYA times\n",
    "times = [trynum(n) for n in useful]\n",
    "times = [n for n in times if n is not None]\n",
    "if len(times) >= 2:\n",
    "    output_dates = (max(times), min(times))\n",
    "else:\n",
    "    # parse from periods\n",
    "    dates = []\n",
    "    for u in useful:\n",
    "        ru = u.replace(\"Late_\",\"\").replace(\"Middle_\",\"\").replace(\"Early_\", \"\")\n",
    "        try:\n",
    "            this_row = list(gt[gt['Period']==ru].iloc[0])\n",
    "            if \"Late_\" in u:\n",
    "                this_dates = [this_row[2]]\n",
    "            elif \"Middle_\" in u:\n",
    "                this_dates = [np.mean(this_row[1:3])]\n",
    "            elif \"Early_\" in u:\n",
    "                this_dates = [this_row[1]]\n",
    "            else:\n",
    "                this_dates = this_row[1:3]\n",
    "            dates += this_dates\n",
    "        except:\n",
    "            pass\n",
    "    output_dates = (max(dates), min(dates))\n",
    "\n",
    "print(output_dates)"
   ]
  },
  {
   "cell_type": "code",
   "execution_count": null,
   "metadata": {},
   "outputs": [],
   "source": []
  },
  {
   "cell_type": "code",
   "execution_count": null,
   "metadata": {},
   "outputs": [],
   "source": []
  },
  {
   "cell_type": "markdown",
   "metadata": {},
   "source": [
    "# building links_dict"
   ]
  },
  {
   "cell_type": "code",
   "execution_count": 25,
   "metadata": {},
   "outputs": [
    {
     "data": {
      "text/html": [
       "<div>\n",
       "<table border=\"1\" class=\"dataframe\">\n",
       "  <thead>\n",
       "    <tr style=\"text-align: right;\">\n",
       "      <th></th>\n",
       "      <th>ancestor</th>\n",
       "      <th>depth</th>\n",
       "      <th>extinct</th>\n",
       "      <th>id</th>\n",
       "      <th>name</th>\n",
       "      <th>num_kids</th>\n",
       "      <th>phylesis</th>\n",
       "      <th>x</th>\n",
       "      <th>y</th>\n",
       "    </tr>\n",
       "  </thead>\n",
       "  <tbody>\n",
       "    <tr>\n",
       "      <th>0</th>\n",
       "      <td>2466</td>\n",
       "      <td>1</td>\n",
       "      <td>0</td>\n",
       "      <td>2499</td>\n",
       "      <td>Chordata</td>\n",
       "      <td>2</td>\n",
       "      <td>0</td>\n",
       "      <td>-0.794184</td>\n",
       "      <td>0.918448</td>\n",
       "    </tr>\n",
       "    <tr>\n",
       "      <th>1</th>\n",
       "      <td>2499</td>\n",
       "      <td>2</td>\n",
       "      <td>2</td>\n",
       "      <td>14819</td>\n",
       "      <td>Calcichordata</td>\n",
       "      <td>0</td>\n",
       "      <td>0</td>\n",
       "      <td>-0.091174</td>\n",
       "      <td>0.033661</td>\n",
       "    </tr>\n",
       "    <tr>\n",
       "      <th>2</th>\n",
       "      <td>2499</td>\n",
       "      <td>2</td>\n",
       "      <td>0</td>\n",
       "      <td>14821</td>\n",
       "      <td>Urochordata</td>\n",
       "      <td>8</td>\n",
       "      <td>0</td>\n",
       "      <td>-1.014761</td>\n",
       "      <td>0.366714</td>\n",
       "    </tr>\n",
       "    <tr>\n",
       "      <th>3</th>\n",
       "      <td>14821</td>\n",
       "      <td>3</td>\n",
       "      <td>0</td>\n",
       "      <td>114489</td>\n",
       "      <td>Octacnemidae</td>\n",
       "      <td>0</td>\n",
       "      <td>0</td>\n",
       "      <td>-0.066112</td>\n",
       "      <td>-0.370996</td>\n",
       "    </tr>\n",
       "    <tr>\n",
       "      <th>4</th>\n",
       "      <td>14821</td>\n",
       "      <td>3</td>\n",
       "      <td>0</td>\n",
       "      <td>114490</td>\n",
       "      <td>Phlebobranchiata</td>\n",
       "      <td>4</td>\n",
       "      <td>0</td>\n",
       "      <td>-0.344893</td>\n",
       "      <td>-0.201929</td>\n",
       "    </tr>\n",
       "  </tbody>\n",
       "</table>\n",
       "</div>"
      ],
      "text/plain": [
       "   ancestor  depth  extinct      id              name  num_kids  phylesis  \\\n",
       "0      2466      1        0    2499          Chordata         2         0   \n",
       "1      2499      2        2   14819     Calcichordata         0         0   \n",
       "2      2499      2        0   14821       Urochordata         8         0   \n",
       "3     14821      3        0  114489      Octacnemidae         0         0   \n",
       "4     14821      3        0  114490  Phlebobranchiata         4         0   \n",
       "\n",
       "          x         y  \n",
       "0 -0.794184  0.918448  \n",
       "1 -0.091174  0.033661  \n",
       "2 -1.014761  0.366714  \n",
       "3 -0.066112 -0.370996  \n",
       "4 -0.344893 -0.201929  "
      ]
     },
     "execution_count": 25,
     "metadata": {},
     "output_type": "execute_result"
    }
   ],
   "source": [
    "df = pd.read_csv(\"data/Chordata-2499-noage.csv\")\n",
    "df.head()"
   ]
  },
  {
   "cell_type": "code",
   "execution_count": null,
   "metadata": {},
   "outputs": [],
   "source": []
  },
  {
   "cell_type": "code",
   "execution_count": 26,
   "metadata": {},
   "outputs": [
    {
     "name": "stdout",
     "output_type": "stream",
     "text": [
      "(10395, 9)\n"
     ]
    }
   ],
   "source": [
    "#df = df.loc[df['Begin'].notnull()]\n",
    "#df = df.loc[df['Begin'] < 500]\n",
    "print(df.shape)"
   ]
  },
  {
   "cell_type": "code",
   "execution_count": null,
   "metadata": {},
   "outputs": [],
   "source": []
  },
  {
   "cell_type": "code",
   "execution_count": null,
   "metadata": {},
   "outputs": [],
   "source": []
  },
  {
   "cell_type": "code",
   "execution_count": 13,
   "metadata": {},
   "outputs": [],
   "source": [
    "this_id = 15963"
   ]
  },
  {
   "cell_type": "code",
   "execution_count": 14,
   "metadata": {},
   "outputs": [
    {
     "data": {
      "text/html": [
       "<div>\n",
       "<table border=\"1\" class=\"dataframe\">\n",
       "  <thead>\n",
       "    <tr style=\"text-align: right;\">\n",
       "      <th></th>\n",
       "      <th>ancestor</th>\n",
       "      <th>depth</th>\n",
       "      <th>extinct</th>\n",
       "      <th>id</th>\n",
       "      <th>name</th>\n",
       "      <th>num_kids</th>\n",
       "      <th>phylesis</th>\n",
       "      <th>x</th>\n",
       "      <th>y</th>\n",
       "      <th>Begin</th>\n",
       "      <th>End</th>\n",
       "    </tr>\n",
       "  </thead>\n",
       "  <tbody>\n",
       "    <tr>\n",
       "      <th>606</th>\n",
       "      <td>15997</td>\n",
       "      <td>12</td>\n",
       "      <td>0</td>\n",
       "      <td>15963</td>\n",
       "      <td>Primates</td>\n",
       "      <td>2</td>\n",
       "      <td>0</td>\n",
       "      <td>-5.165991</td>\n",
       "      <td>0.69956</td>\n",
       "      <td>55.0</td>\n",
       "      <td>0.0</td>\n",
       "    </tr>\n",
       "  </tbody>\n",
       "</table>\n",
       "</div>"
      ],
      "text/plain": [
       "     ancestor  depth  extinct     id      name  num_kids  phylesis         x  \\\n",
       "606     15997     12        0  15963  Primates         2         0 -5.165991   \n",
       "\n",
       "           y  Begin  End  \n",
       "606  0.69956   55.0  0.0  "
      ]
     },
     "execution_count": 14,
     "metadata": {},
     "output_type": "execute_result"
    }
   ],
   "source": [
    "this_row = df[df['id'] == this_id]\n",
    "this_row"
   ]
  },
  {
   "cell_type": "code",
   "execution_count": 15,
   "metadata": {},
   "outputs": [
    {
     "data": {
      "text/plain": [
       "[15997]"
      ]
     },
     "execution_count": 15,
     "metadata": {},
     "output_type": "execute_result"
    }
   ],
   "source": [
    "list(this_row['ancestor'])"
   ]
  },
  {
   "cell_type": "code",
   "execution_count": null,
   "metadata": {},
   "outputs": [],
   "source": []
  },
  {
   "cell_type": "code",
   "execution_count": 27,
   "metadata": {},
   "outputs": [
    {
     "name": "stdout",
     "output_type": "stream",
     "text": [
      "{'parents': [2466], 'children': []}\n",
      "{'parents': [16015], 'children': []}\n",
      "{'parents': [100852], 'children': []}\n",
      "{'parents': [84686], 'children': []}\n",
      "{'parents': [67993], 'children': []}\n",
      "{'parents': [66413], 'children': []}\n",
      "{'parents': [57823], 'children': []}\n",
      "{'parents': [92006], 'children': []}\n",
      "{'parents': [92095], 'children': []}\n",
      "{'parents': [16958], 'children': []}\n",
      "{'parents': [68930], 'children': []}\n"
     ]
    }
   ],
   "source": [
    "links_dict = {}\n",
    "for i, this_row in df.iterrows():\n",
    "    this_id = int(this_row['id'])\n",
    "    # get parents\n",
    "    if isinstance(this_row['ancestor'], int):\n",
    "        parents = [this_row['ancestor']]\n",
    "    else:\n",
    "        parents = list(this_row['ancestor'])\n",
    "        print(this_row)\n",
    "    # add parents\n",
    "    try:\n",
    "        # add parents if the id already exists\n",
    "        links_dict[this_id]['parents'] += parents\n",
    "        # filter to only unique\n",
    "        links_dict[this_id]['parents'] = list(set(links_dict[this_id]['parents']))\n",
    "    except KeyError:\n",
    "        # add this_id\n",
    "        links_dict[this_id] = {}\n",
    "        # add parent to this_id\n",
    "        links_dict[this_id]['parents'] = parents\n",
    "        links_dict[this_id]['children'] = []\n",
    "\n",
    "    # add as child to parent node\n",
    "    for parent in parents:\n",
    "        try:\n",
    "            # add as child if parent node already exists\n",
    "            links_dict[parent]['children'].append(this_id)\n",
    "        except KeyError:\n",
    "            # if not, create parent node and add as child\n",
    "            links_dict[parent] = {}\n",
    "            links_dict[parent]['children'] = [this_id]\n",
    "            links_dict[parent]['parents'] = []\n",
    "        # filter to only unique\n",
    "        links_dict[parent]['children'] = list(set(links_dict[parent]['children']))\n"
   ]
  },
  {
   "cell_type": "code",
   "execution_count": 29,
   "metadata": {},
   "outputs": [
    {
     "data": {
      "text/plain": [
       "10396"
      ]
     },
     "execution_count": 29,
     "metadata": {},
     "output_type": "execute_result"
    }
   ],
   "source": [
    "len(links_dict.keys())"
   ]
  },
  {
   "cell_type": "code",
   "execution_count": 20,
   "metadata": {},
   "outputs": [
    {
     "data": {
      "text/plain": [
       "True"
      ]
     },
     "execution_count": 20,
     "metadata": {},
     "output_type": "execute_result"
    }
   ],
   "source": [
    "isinstance(this_row['ancestor'], int)"
   ]
  },
  {
   "cell_type": "code",
   "execution_count": null,
   "metadata": {},
   "outputs": [],
   "source": []
  },
  {
   "cell_type": "code",
   "execution_count": null,
   "metadata": {},
   "outputs": [],
   "source": [
    "def create_plot_data(self, \n",
    "                 highlight = 'all',\n",
    "                 max_nodes = 5000,\n",
    "                 max_depth = 20,\n",
    "                 color_attr = 'extinct',\n",
    "                 Z_dim = 'depth',\n",
    "                 Z_dim_mult = -1,\n",
    "                 add_links = False):\n",
    "''''''"
   ]
  },
  {
   "cell_type": "code",
   "execution_count": null,
   "metadata": {},
   "outputs": [],
   "source": [
    "if highlight == 'all':\n",
    "    pick = self.df.ix[0, 'id']\n",
    "else:\n",
    "    pick = highlight\n",
    "\n",
    "# subset to max_nodes and max_depth\n",
    "df = self.df[self.df['depth'] <= max_depth].head(max_nodes)\n",
    "df = df.reset_index()\n",
    "\n",
    "# get kinfolk\n",
    "kin = [pick]\n",
    "# add parents\n",
    "kin += self.links_dict[pick]['parents']\n",
    "# add kids\n",
    "for c in self.links_dict[pick]['children']:\n",
    "    kin += self.links_dict[c]['children']\n",
    "kin = list(set(kin))\n",
    "\n",
    "# subset\n",
    "df['kin'] = 0\n",
    "df['kin'][df['id'].isin(kin)] = 1\n",
    "print(df[df['kin']==1])\n",
    "\n",
    "###############\n",
    "### NEED TO CREATE LINKS_LIST HERE\n",
    "## create links list\n",
    "links_list = []\n",
    "for i, n in df.iterrows():\n",
    "    links_list.append({\n",
    "        'source': n['id'], \n",
    "        'target': n['ancestor'], \n",
    "        'value': n['num_kids']\n",
    "    })\n",
    "\n",
    "#print(\"len(links_list): {}\".format(len(links_list)))\n",
    "#print(\"first 3 links: {}\".format(links_list[:3]))\n",
    "\n",
    "#links_list = [l for l in links_list if l['target'] in list(df['id'])]\n",
    "L=len(links_list)\n",
    "#print(\"len(links_list): {}\".format(L))\n",
    "\n",
    "#\n",
    "Edges=[(links_list[k]['source'], links_list[k]['target']) for k in range(L)]\n",
    "#print(\"Edges {}\".format(Edges[:5]))\n",
    "\n",
    "# \n",
    "labels=[]\n",
    "group=[]\n",
    "alpha = []\n",
    "layt = []\n",
    "for i, node in df.iterrows():\n",
    "    # create text labels\n",
    "    if add_links:\n",
    "        try:\n",
    "            #this_page_id = wikipedia.search(node['name'], results=1)[0]\n",
    "            labels.append('<a href=\"https://en.wikipedia.org/wiki/{}\">{}</a>'.format(node['name'], node['name']))\n",
    "        except:\n",
    "            labels.append(str(node['name']))\n",
    "    else:\n",
    "        labels.append(str(node['depth']) + ' ' + node['name'])\n",
    "    # create color key\n",
    "    group.append(node[color_attr])\n",
    "    # create opacity key\n",
    "    alpha.append(node['kin'])\n",
    "    # create layout list\n",
    "    d = node[Z_dim]\n",
    "    # # PCA\n",
    "    # # layt.append(list(X_pca[i]) + [d * -1])\n",
    "    layt.append([node['x'], \n",
    "                 node['y'], \n",
    "                 (d*Z_dim_mult)+np.random.uniform(-0.1,0.1,1)[0]])    \n",
    "\n",
    "\n",
    "#print(labels[:3])\n",
    "#print(group[:3])\n",
    "#print(alpha[:3])\n",
    "#print(len(layt))\n",
    "#print(layt[:3])\n",
    "\n",
    "# make nodes\n",
    "Xn=[layt[k][0] for k in range(len(layt))]# x-coordinates of nodes\n",
    "Yn=[layt[k][1] for k in range(len(layt))]# y-coordinates\n",
    "Zn=[layt[k][2] for k in range(len(layt))]# z-coordinates\n",
    "\n",
    "# check if they're kinfolk\n",
    "Xnk=[layt[k][0] for k in range(len(layt)) if alpha[k]==1]# x-coordinates of nodes\n",
    "Ynk=[layt[k][1] for k in range(len(layt)) if alpha[k]==1]# y-coordinates\n",
    "Znk=[layt[k][2] for k in range(len(layt)) if alpha[k]==1]# z-coordinates\n",
    "groupk=[group[k] for k in range(len(layt)) if alpha[k]==1]# color\n",
    "#print(len(Xnk))\n",
    "\n",
    "# make edges\n",
    "Xe=[]\n",
    "Ye=[]\n",
    "Ze=[]\n",
    "Xek=[]\n",
    "Yek=[]\n",
    "Zek=[]\n",
    "for e in Edges:\n",
    "    try: \n",
    "        e0 = df[df['id'] == e[0]].index.values[0]\n",
    "    except:\n",
    "        e0 = 0\n",
    "    try:\n",
    "        e1 = df[df['id'] == e[1]].index.values[0]\n",
    "    except:\n",
    "        e1 = 0\n",
    "    #\n",
    "    Xe+=[layt[e0][0],layt[e1][0], None]# x-coordinates of edge ends\n",
    "    Ye+=[layt[e0][1],layt[e1][1], None]  \n",
    "    Ze+=[layt[e0][2],layt[e1][2], None] \n",
    "    # check if they're kinfolk\n",
    "    if e[0] in kin:\n",
    "        Xek+=[layt[e0][0],layt[e1][0], None]\n",
    "        Yek+=[layt[e0][1],layt[e1][1], None]\n",
    "        Zek+=[layt[e0][2],layt[e1][2], None]"
   ]
  }
 ],
 "metadata": {
  "anaconda-cloud": {},
  "kernelspec": {
   "display_name": "Python [Root]",
   "language": "python",
   "name": "Python [Root]"
  },
  "language_info": {
   "codemirror_mode": {
    "name": "ipython",
    "version": 3
   },
   "file_extension": ".py",
   "mimetype": "text/x-python",
   "name": "python",
   "nbconvert_exporter": "python",
   "pygments_lexer": "ipython3",
   "version": "3.5.1"
  }
 },
 "nbformat": 4,
 "nbformat_minor": 2
}
