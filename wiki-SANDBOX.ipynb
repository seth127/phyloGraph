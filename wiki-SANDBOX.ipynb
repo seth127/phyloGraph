{
 "cells": [
  {
   "cell_type": "code",
   "execution_count": 102,
   "metadata": {},
   "outputs": [],
   "source": [
    "import requests\n",
    "import collections\n",
    "import json\n",
    "import pandas as pd\n",
    "import numpy as np\n",
    "import re\n",
    "\n",
    "import wikipedia\n",
    "#https://stackoverflow.com/questions/8088226/content-of-infobox-of-wikipedia"
   ]
  },
  {
   "cell_type": "code",
   "execution_count": null,
   "metadata": {},
   "outputs": [],
   "source": [
    "#query='some url'\n",
    "#\n",
    "#raw_search = []\n",
    "#with requests.get(query, stream=True) as r:\n",
    "#    i = 0\n",
    "#    for c in r.iter_lines():\n",
    "#        c = c.decode('utf-8')#.strip()\n",
    "#        i +=1\n",
    "#        raw_search.append(c)\n",
    "#        if i % 500 == 0:\n",
    "#            print(i, end=' ')\n",
    "#        if i > limit:\n",
    "#            break\n",
    "#print(raw_search)"
   ]
  },
  {
   "cell_type": "code",
   "execution_count": null,
   "metadata": {},
   "outputs": [],
   "source": []
  },
  {
   "cell_type": "code",
   "execution_count": 24,
   "metadata": {},
   "outputs": [
    {
     "name": "stdout",
     "output_type": "stream",
     "text": [
      "Decapodiformes\n"
     ]
    }
   ],
   "source": [
    "this_query = \"Decapodiformes\"\n",
    "this_page_id = wikipedia.search(this_query, results=1)[0]\n",
    "print(this_page_id)"
   ]
  },
  {
   "cell_type": "code",
   "execution_count": 25,
   "metadata": {},
   "outputs": [
    {
     "data": {
      "text/plain": [
       "'Decapodiformes is a superorder of Cephalopoda, which includes all species with ten limbs; the name d'"
      ]
     },
     "execution_count": 25,
     "metadata": {},
     "output_type": "execute_result"
    }
   ],
   "source": [
    "wikipedia.summary(this_page_id)[:100]"
   ]
  },
  {
   "cell_type": "code",
   "execution_count": 26,
   "metadata": {},
   "outputs": [
    {
     "data": {
      "text/plain": [
       "'Decapodiformes'"
      ]
     },
     "execution_count": 26,
     "metadata": {},
     "output_type": "execute_result"
    }
   ],
   "source": [
    "this_page = wikipedia.page(this_page_id)\n",
    "this_page.title"
   ]
  },
  {
   "cell_type": "code",
   "execution_count": 27,
   "metadata": {},
   "outputs": [
    {
     "data": {
      "text/plain": [
       "'Decapodiformes is a superorder of Cephalopoda, which includes all species with ten limbs; the name derives from the Greek word meaning ten feet. The ten limbs are divided into eight short arms and two'"
      ]
     },
     "execution_count": 27,
     "metadata": {},
     "output_type": "execute_result"
    }
   ],
   "source": [
    "this_page.content[:200]"
   ]
  },
  {
   "cell_type": "code",
   "execution_count": 28,
   "metadata": {},
   "outputs": [
    {
     "data": {
      "text/plain": [
       "['All stub articles',\n",
       " \"Articles with 'species' microformats\",\n",
       " 'Cenozoic cephalopods',\n",
       " 'Cephalopod stubs',\n",
       " 'Coleoids',\n",
       " 'Protostome superorders']"
      ]
     },
     "execution_count": 28,
     "metadata": {},
     "output_type": "execute_result"
    }
   ],
   "source": [
    "this_page.categories"
   ]
  },
  {
   "cell_type": "code",
   "execution_count": null,
   "metadata": {},
   "outputs": [],
   "source": []
  },
  {
   "cell_type": "markdown",
   "metadata": {},
   "source": [
    "### find info"
   ]
  },
  {
   "cell_type": "code",
   "execution_count": 43,
   "metadata": {},
   "outputs": [],
   "source": [
    "this_query = \"Decapodiformes\""
   ]
  },
  {
   "cell_type": "code",
   "execution_count": 44,
   "metadata": {},
   "outputs": [
    {
     "name": "stdout",
     "output_type": "stream",
     "text": [
      "Decapodiformes\n"
     ]
    }
   ],
   "source": [
    "this_page_id = wikipedia.search(this_query, results=1)[0]\n",
    "print(this_page_id)\n",
    "this_db_json = 'http://dbpedia.org/data/{}.json'.format(this_page_id)"
   ]
  },
  {
   "cell_type": "code",
   "execution_count": 61,
   "metadata": {},
   "outputs": [
    {
     "data": {
      "text/plain": [
       "dict_keys(['http://dbpedia.org/property/subdivision', 'http://dbpedia.org/property/imageCaption', 'http://dbpedia.org/property/subdivisionRanks', 'http://www.w3.org/2000/01/rdf-schema#label', 'http://purl.org/linguistics/gold/hypernym', 'http://dbpedia.org/ontology/thumbnail', 'http://dbpedia.org/property/authority', 'http://dbpedia.org/ontology/wikiPageExternalLink', 'http://www.w3.org/2002/07/owl#sameAs', 'http://xmlns.com/foaf/0.1/depiction', 'http://dbpedia.org/property/synonyms', 'http://www.w3.org/1999/02/22-rdf-syntax-ns#type', 'http://dbpedia.org/ontology/abstract', 'http://www.w3.org/ns/prov#wasDerivedFrom', 'http://dbpedia.org/ontology/wikiPageRevisionID', 'http://www.w3.org/2000/01/rdf-schema#comment', 'http://dbpedia.org/ontology/wikiPageID', 'http://xmlns.com/foaf/0.1/isPrimaryTopicOf', 'http://purl.org/dc/terms/subject'])"
      ]
     },
     "execution_count": 61,
     "metadata": {},
     "output_type": "execute_result"
    }
   ],
   "source": [
    "resp = json.loads(requests.get(this_db_json).content.decode('utf-8'))\n",
    "#print(resp.keys())\n",
    "resp['http://dbpedia.org/resource/{}'.format(this_page_id)].keys()"
   ]
  },
  {
   "cell_type": "code",
   "execution_count": null,
   "metadata": {},
   "outputs": [],
   "source": []
  },
  {
   "cell_type": "code",
   "execution_count": null,
   "metadata": {},
   "outputs": [],
   "source": []
  },
  {
   "cell_type": "code",
   "execution_count": null,
   "metadata": {},
   "outputs": [],
   "source": []
  },
  {
   "cell_type": "code",
   "execution_count": 51,
   "metadata": {},
   "outputs": [
    {
     "name": "stdout",
     "output_type": "stream",
     "text": [
      "{\n",
      "  \"http://dbpedia.org/resource/Euprymna_berryi\" : { \"http://dbpedia.org/ontology/order\" : [ { \"type\" : \"uri\", \"value\" : \"http://dbpedia.org/resource/Decapodiformes\" } ] } ,\n",
      "  \"http://dbpedia.org/resource/Decapod\" : { \"http://dbpedia.org/ontology/wikiPageDisambiguates\" : [ { \"type\" : \"uri\", \"value\" : \"http://dbpedia.org/resource/Decapodiformes\" } ] } ,\n",
      "  \"http://en.wikipedia.org/wiki/Decapodiformes\" : { \"http://xmlns.com/foaf/0.1/primaryTopic\" : [ { \"type\" : \"uri\", \"value\" : \"http://dbpedia.org/resource/Decapodiformes\" } ] } ,\n",
      "  \"http://dbpedia.org/resource/Oegopsina\" : { \"http://dbpedia.org/ontology/order\" : [ { \"type\" : \"uri\", \"value\" : \"http://dbpedia.org/resource/Decapodiformes\" } ] } ,\n",
      "  \"http://dbpedia.org/resource/Shimanskya\" : { \"http://dbpedia.org/ontology/order\" : [ { \"type\" : \"uri\", \"value\" : \"http://dbpedia.org/resource/Decapodiformes\" } ] } ,\n",
      "  \"http://dbpedia.org/resource/Spirula\" : { \"http://dbpedia.org/ontology/order\" : [ { \"type\" : \"uri\", \"value\" : \"http://dbpedia.org/resource/Decapodiformes\" } ] } ,\n",
      "  \"http://dbpedia.org/resource/Decapodiformes\" : { \"http://www.w3.org/1999/02/22-rdf-syntax-ns#type\" : [ { \"type\" : \"uri\", \"value\" : \"http://dbpedia.org/class/yago/Invertebrate101905661\" } ,\n",
      "      { \"type\" : \"uri\", \"value\" : \"http://dbpedia.org/class/yago/Cephalopod101968315\" } ,\n",
      "      { \"type\" : \"uri\", \"value\" : \"http://dbpedia.org/class/yago/Mollusk101940736\" } ,\n",
      "      { \"type\" : \"uri\", \"value\" : \"http://dbpedia.org/class/yago/Object100002684\" } ,\n",
      "      { \"type\" : \"uri\", \"value\" : \"http://dbpedia.org/class/yago/WikicatCephalopods\" } ,\n",
      "      { \"type\" : \"uri\", \"value\" : \"http://umbel.org/umbel/rc/Mollusk\" } ,\n",
      "      { \"type\" : \"uri\", \"value\" : \"http://dbpedia.org/class/yago/Whole100003553\" } ,\n",
      "      { \"type\" : \"uri\", \"value\" : \"http://dbpedia.org/class/yago/LivingThing100004258\" } ,\n",
      "      { \"type\" : \"uri\", \"value\" : \"http://dbpedia.org/class/yago/Organism100004475\" } ,\n",
      "      { \"type\" : \"uri\", \"value\" : \"http://dbpedia.org/ontology/Animal\" } ,\n",
      "      { \"type\" : \"uri\", \"value\" : \"http://dbpedia.org/class/yago/Animal100015388\" } ,\n",
      "      { \"type\" : \"uri\", \"value\" : \"http://dbpedia.org/class/yago/PhysicalEntity100001930\" } ] ,\n",
      "    \"http://www.w3.org/2000/01/rdf-schema#label\" : [ { \"type\" : \"literal\", \"value\" : \"Decapodiformes\" , \"lang\" : \"en\" } ,\n",
      "      { \"type\" : \"literal\", \"value\" : \"Decapodiformes\" , \"lang\" : \"nl\" } ,\n",
      "      { \"type\" : \"literal\", \"value\" : \"Decapodiformes\" , \"lang\" : \"it\" } ,\n",
      "      { \"type\" : \"literal\", \"value\" : \"Decapodiformes\" , \"lang\" : \"fr\" } ,\n",
      "      { \"type\" : \"literal\", \"value\" : \"Zehnarmige Tintenfische\" , \"lang\" : \"de\" } ,\n",
      "      { \"type\" : \"literal\", \"value\" : \"Decapodiformes\" , \"lang\" : \"es\" } ,\n",
      "      { \"type\" : \"literal\", \"value\" : \"\\u5341\\u8155\\u7E3D\\u76EE\" , \"lang\" : \"zh\" } ,\n",
      "      { \"type\" : \"literal\", \"value\" : \"Dziesi\\u0119ciornice\" , \"lang\" : \"pl\" } ,\n",
      "      { \"type\" : \"literal\", \"value\" : \"\\u0414\\u0435\\u0441\\u044F\\u0442\\u0438\\u0440\\u0443\\u043A\\u0438\\u0435\" , \"lang\" : \"ru\" } ] ,\n",
      "    \"http://www.w3.org/2000/01/rdf-schema#comment\" : [ { \"type\" : \"literal\", \"value\" : \"\\u5341\\u8155\\u7E3D\\u76EE\\uFF08\\u5B78\\u540D\\uFF1ADecapodiformes\\uFF09\\u662F\\u982D\\u8DB3\\u7DB1\\u86F8\\u4E9E\\u7DB1\\u65B0\\u86F8\\u4E0B\\u7DB1\\u4E4B\\u4E0B\\u7684\\u4E00\\u985E\\u8EDF\\u9AD4\\u52D5\\u7269\\uFF0C\\u65B0\\u86F8\\u4E0B\\u7DB1\\u7684\\u53E6\\u4E00\\u5927\\u5206\\u985E\\u662F\\u516B\\u8155\\u7E3D\\u76EE\\u3002 \\u8207\\u86F8\\u4E9E\\u7DB1\\u7684\\u5176\\u4ED6\\u5206\\u985E\\u4E00\\u6A23\\uFF0C\\u5341\\u8155\\u7E3D\\u76EE\\u7684\\u7269\\u7A2E\\u540C\\u6A23\\u670910\\u96BB\\u89F8\\u624B\\uFF0C\\u4F46\\u5176\\u7B2C\\u56DB\\u5C0D\\u89F8\\u624B\\u6F14\\u8B8A\\u6210\\u70BA\\u4E86\\u6709\\u5438\\u76E4\\u7684\\u9577\\u89F8\\u9B1A\\u3002\" , \"lang\" : \"zh\" } ,\n",
      "      { \"type\" : \"literal\", \"value\" : \"Los Decapodiformes son un superorden de moluscos cefal\\u00F3podos que incluye todas las especies con diez brazos (ocho cortos y dos largos).\" , \"lang\" : \"es\" } ,\n",
      "      { \"type\" : \"literal\", \"value\" : \"Decapodiformes is een superorde van inktvissen. Alle soorten hebben 10 armen. De naam is afgeleid van het Griekse woord voor tienvoetig.\" , \"lang\" : \"nl\" } ,\n",
      "      { \"type\" : \"literal\", \"value\" : \"Decapodiformes is a superorder of Cephalopoda, which includes all species with ten limbs; the name derives from the Greek word meaning ten feet. The ten limbs are divided into eight short arms and two long tentacles. It is hypothesized that the ancestral coleoid had five identical pairs of limbs, and that one branch of descendants evolved a modified arm pair IV to become the Decapodiformes, while another another branch of descendants evolved and then eventually lost its arm pair II, becoming the Octopodiformes. The Decapodiformes include:\" , \"lang\" : \"en\" } ,\n",
      "      { \"type\" : \"literal\", \"value\" : \"DecapodiformesFichier:Loligo forbesii.jpg Loligo forbesii Super-ordre DecapodiformesYoung, Vecchione & Donovan, 1998 Le super-ordre Decapodiformes regroupe tous les mollusques ayant 10 tentacules.Ces esp\\u00E8ces sont habituellement d\\u00E9sign\\u00E9es sous le terme de d\\u00E9capode, c'est-\\u00E0-dire dix pieds, mais ce terme est ambigu car le taxon des Decapoda est un taxon qui regroupe des crustac\\u00E9s. Ce taxon est synonyme de Decabrachia.\" , \"lang\" : \"fr\" } ,\n",
      "      { \"type\" : \"literal\", \"value\" : \"\\u0414\\u0435\\u0441\\u044F\\u0442\\u0438\\u0440\\u0443\\u0301\\u043A\\u0438\\u0435 (\\u043B\\u0430\\u0442. Decapodiformes) \\u2014 \\u043D\\u0430\\u0434\\u043E\\u0442\\u0440\\u044F\\u0434 \\u0433\\u043E\\u043B\\u043E\\u0432\\u043E\\u043D\\u043E\\u0433\\u0438\\u0445 \\u043C\\u043E\\u043B\\u043B\\u044E\\u0441\\u043A\\u043E\\u0432 \\u0438\\u0437 \\u043F\\u043E\\u0434\\u043A\\u043B\\u0430\\u0441\\u0441\\u0430 \\u0434\\u0432\\u0443\\u0436\\u0430\\u0431\\u0435\\u0440\\u043D\\u044B\\u0445 (Coleoidea). \\u041F\\u0440\\u0435\\u0434\\u0441\\u0442\\u0430\\u0432\\u0438\\u0442\\u0435\\u043B\\u0438 \\u043E\\u0431\\u043B\\u0430\\u0434\\u0430\\u044E\\u0442 \\u043F\\u044F\\u0442\\u044C\\u044E \\u043F\\u0430\\u0440\\u0430\\u043C\\u0438 \\u0440\\u0443\\u043A, \\u0447\\u0435\\u0442\\u0432\\u0451\\u0440\\u0442\\u0430\\u044F \\u0438\\u0437 \\u043A\\u043E\\u0442\\u043E\\u0440\\u044B\\u0445 \\u043F\\u0440\\u0435\\u043E\\u0431\\u0440\\u0430\\u0437\\u043E\\u0432\\u0430\\u043D\\u0430 \\u0432 \\u043B\\u043E\\u0432\\u0447\\u0438\\u0435 \\u0449\\u0443\\u043F\\u0430\\u043B\\u044C\\u0446\\u0430. \\u0420\\u0430\\u0441\\u043F\\u043E\\u043B\\u0430\\u0433\\u0430\\u044E\\u0449\\u0438\\u0435\\u0441\\u044F \\u043D\\u0430 \\u0440\\u0443\\u043A\\u0430\\u0445 \\u043F\\u0440\\u0438\\u0441\\u043E\\u0441\\u043A\\u0438 \\u0432\\u043E\\u043E\\u0440\\u0443\\u0436\\u0435\\u043D\\u044B \\u043A\\u0440\\u044E\\u0447\\u044C\\u044F\\u043C\\u0438.\" , \"lang\" : \"ru\" } ,\n",
      "      { \"type\" : \"literal\", \"value\" : \"Zu den Zehnarmigen Tintenfischen (Decabrachia, auch Decembrachiata bzw. Decapodiformes) geh\\u00F6rt die \\u00FCberwiegende Zahl der heute lebenden Kopff\\u00FC\\u00DFer (Cephalopoda). Sie sind durch den Besitz von zehn Armen charakterisiert, von denen das 4. Armpaar vom Kopf her gez\\u00E4hlt zu Tentakeln umgewandelt ist. Die Saugn\\u00E4pfe sind gestielt, im Gegensatz zu den breit am Arm ansitzenden Saugn\\u00E4pfen der Kraken, auch die Funktionsweise der Saugn\\u00E4pfe ist in den beiden Gruppen unterschiedlich. Die Saugn\\u00E4pfe der Zehnarmigen Tintenfische sind am Rand durch Hornringe verst\\u00E4rkt, in einzelnen Gruppen k\\u00F6nnen diese hornigen Saugnapfringe weiter zu Haken umgebildet sein.\" , \"lang\" : \"de\" } ,\n",
      "      { \"type\" : \"literal\", \"value\" : \"I Decapodiformi (Decapodiformes Leach, 1817 ) costituiscono un superordine di molluschi cefalopodi coleoidi. Vengono chiamati anche Decapodi, ma questo nome pu\\u00F2 generare confusione con l'omonimo ordine di crostacei.\" , \"lang\" : \"it\" } ,\n",
      "      { \"type\" : \"literal\", \"value\" : \"Dziesi\\u0119ciornice[potrzebny przypis] (Decapodiformes) \\u2013 nadrz\\u0105d g\\u0142owonog\\u00F3w z podgromady p\\u0142aszczoobros\\u0142ych (Coleoidea) obejmuj\\u0105cy m\\u0105twy, m\\u0105tewki i ka\\u0142amarnice (kalmary) \\u2013 zwierz\\u0119ta bardzo zr\\u00F3\\u017Cnicowane pod wzgl\\u0119dem wielko\\u015Bci, kszta\\u0142t\\u00F3w i zajmowanych siedlisk. Znanych jest oko\\u0142o 450 gatunk\\u00F3w. Niekt\\u00F3re (np. strzalikowate, kalmarowate i m\\u0105twowate) s\\u0105 po\\u0142awiane gospodarczo.\" , \"lang\" : \"pl\" } ] ,\n",
      "    \"http://www.w3.org/2002/07/owl#sameAs\" : [ { \"type\" : \"uri\", \"value\" : \"http://wikidata.dbpedia.org/resource/Q843338\" } ,\n",
      "      { \"type\" : \"uri\", \"value\" : \"http://de.dbpedia.org/resource/Zehnarmige_Tintenfische\" } ,\n",
      "      { \"type\" : \"uri\", \"value\" : \"http://yago-knowledge.org/resource/Decapodiformes\" } ,\n",
      "      { \"type\" : \"uri\", \"value\" : \"http://dbpedia.org/resource/Decapodiformes\" } ,\n",
      "      { \"type\" : \"uri\", \"value\" : \"http://it.dbpedia.org/resource/Decapodiformes\" } ,\n",
      "      { \"type\" : \"uri\", \"value\" : \"http://es.dbpedia.org/resource/Decapodiformes\" } ,\n",
      "      { \"type\" : \"uri\", \"value\" : \"http://fr.dbpedia.org/resource/Decapodiformes\" } ,\n",
      "      { \"type\" : \"uri\", \"value\" : \"http://rdf.freebase.com/ns/m.051tr4\" } ,\n",
      "      { \"type\" : \"uri\", \"value\" : \"http://nl.dbpedia.org/resource/Decapodiformes\" } ,\n",
      "      { \"type\" : \"uri\", \"value\" : \"http://www.wikidata.org/entity/Q843338\" } ,\n",
      "      { \"type\" : \"uri\", \"value\" : \"http://ko.dbpedia.org/resource/\\uC2ED\\uC644\\uC0C1\\uBAA9\" } ,\n",
      "      { \"type\" : \"uri\", \"value\" : \"http://pl.dbpedia.org/resource/Dziesi\\u0119ciornice\" } ] ,\n",
      "    \"http://purl.org/dc/terms/subject\" : [ { \"type\" : \"uri\", \"value\" : \"http://dbpedia.org/resource/Category:Coleoids\" } ,\n",
      "      { \"type\" : \"uri\", \"value\" : \"http://dbpedia.org/resource/Category:Cenozoic_cephalopods\" } ,\n",
      "      { \"type\" : \"uri\", \"value\" : \"http://dbpedia.org/resource/Category:Invertebrate_superorders\" } ] ,\n",
      "    \"http://xmlns.com/foaf/0.1/depiction\" : [ { \"type\" : \"uri\", \"value\" : \"http://commons.wikimedia.org/wiki/Special:FilePath/Squidu.jpg\" } ] ,\n",
      "    \"http://xmlns.com/foaf/0.1/isPrimaryTopicOf\" : [ { \"type\" : \"uri\", \"value\" : \"http://en.wikipedia.org/wiki/Decapodiformes\" } ] ,\n",
      "    \"http://www.w3.org/ns/prov#wasDerivedFrom\" : [ { \"type\" : \"uri\", \"value\" : \"http://en.wikipedia.org/wiki/Decapodiformes?oldid=739801429\" } ] ,\n",
      "    \"http://dbpedia.org/property/subdivision\" : [ { \"type\" : \"literal\", \"value\" : \"?\\u2020Boletzkyida\" , \"datatype\" : \"http://www.w3.org/1999/02/22-rdf-syntax-ns#langString\" } ,\n",
      "      { \"type\" : \"literal\", \"value\" : \"Sepiolida\" , \"datatype\" : \"http://www.w3.org/1999/02/22-rdf-syntax-ns#langString\" } ,\n",
      "      { \"type\" : \"literal\", \"value\" : \"Spirulida\" , \"datatype\" : \"http://www.w3.org/1999/02/22-rdf-syntax-ns#langString\" } ,\n",
      "      { \"type\" : \"literal\", \"value\" : \"Sepiida\" , \"datatype\" : \"http://www.w3.org/1999/02/22-rdf-syntax-ns#langString\" } ,\n",
      "      { \"type\" : \"literal\", \"value\" : \"Teuthida\" , \"datatype\" : \"http://www.w3.org/1999/02/22-rdf-syntax-ns#langString\" } ] ,\n",
      "    \"http://dbpedia.org/property/subdivisionRanks\" : [ { \"type\" : \"literal\", \"value\" : \"Orders\" , \"datatype\" : \"http://www.w3.org/1999/02/22-rdf-syntax-ns#langString\" } ] ,\n",
      "    \"http://dbpedia.org/ontology/wikiPageExternalLink\" : [ { \"type\" : \"uri\", \"value\" : \"http://sn2000.taxonomy.nl/Taxonomicon/TaxonTree.aspx?id=157560\" } ,\n",
      "      { \"type\" : \"uri\", \"value\" : \"http://www.informaworld.com/smpp/content~db=all~content=a921027790\" } ] ,\n",
      "    \"http://dbpedia.org/property/imageCaption\" : [ { \"type\" : \"literal\", \"value\" : \"Juvenile cephalopod from plankton\" , \"datatype\" : \"http://www.w3.org/1999/02/22-rdf-syntax-ns#langString\" } ,\n",
      "      { \"type\" : \"uri\", \"value\" : \"http://dbpedia.org/resource/Antarctica\" } ] ,\n",
      "    \"http://dbpedia.org/ontology/abstract\" : [ { \"type\" : \"literal\", \"value\" : \"Zu den Zehnarmigen Tintenfischen (Decabrachia, auch Decembrachiata bzw. Decapodiformes) geh\\u00F6rt die \\u00FCberwiegende Zahl der heute lebenden Kopff\\u00FC\\u00DFer (Cephalopoda). Sie sind durch den Besitz von zehn Armen charakterisiert, von denen das 4. Armpaar vom Kopf her gez\\u00E4hlt zu Tentakeln umgewandelt ist. Die Saugn\\u00E4pfe sind gestielt, im Gegensatz zu den breit am Arm ansitzenden Saugn\\u00E4pfen der Kraken, auch die Funktionsweise der Saugn\\u00E4pfe ist in den beiden Gruppen unterschiedlich. Die Saugn\\u00E4pfe der Zehnarmigen Tintenfische sind am Rand durch Hornringe verst\\u00E4rkt, in einzelnen Gruppen k\\u00F6nnen diese hornigen Saugnapfringe weiter zu Haken umgebildet sein.\" , \"lang\" : \"de\" } ,\n",
      "      { \"type\" : \"literal\", \"value\" : \"Dziesi\\u0119ciornice[potrzebny przypis] (Decapodiformes) \\u2013 nadrz\\u0105d g\\u0142owonog\\u00F3w z podgromady p\\u0142aszczoobros\\u0142ych (Coleoidea) obejmuj\\u0105cy m\\u0105twy, m\\u0105tewki i ka\\u0142amarnice (kalmary) \\u2013 zwierz\\u0119ta bardzo zr\\u00F3\\u017Cnicowane pod wzgl\\u0119dem wielko\\u015Bci, kszta\\u0142t\\u00F3w i zajmowanych siedlisk. Znanych jest oko\\u0142o 450 gatunk\\u00F3w. Niekt\\u00F3re (np. strzalikowate, kalmarowate i m\\u0105twowate) s\\u0105 po\\u0142awiane gospodarczo.\" , \"lang\" : \"pl\" } ,\n",
      "      { \"type\" : \"literal\", \"value\" : \"Decapodiformes is a superorder of Cephalopoda, which includes all species with ten limbs; the name derives from the Greek word meaning ten feet. The ten limbs are divided into eight short arms and two long tentacles. It is hypothesized that the ancestral coleoid had five identical pairs of limbs, and that one branch of descendants evolved a modified arm pair IV to become the Decapodiformes, while another another branch of descendants evolved and then eventually lost its arm pair II, becoming the Octopodiformes. The Decapodiformes include: \\n* ?Order \\u2020Boletzkyida  \\n* Clade \\u2020Belemnoidea \\n* Order Spirulida: ram's horn squid \\n* Order Sepiida: cuttlefish \\n* Order Sepiolida: pygmy, bobtail and bottletail squid \\n* Order Teuthida: squid\" , \"lang\" : \"en\" } ,\n",
      "      { \"type\" : \"literal\", \"value\" : \"DecapodiformesFichier:Loligo forbesii.jpg Loligo forbesii Super-ordre DecapodiformesYoung, Vecchione & Donovan, 1998 Le super-ordre Decapodiformes regroupe tous les mollusques ayant 10 tentacules.Ces esp\\u00E8ces sont habituellement d\\u00E9sign\\u00E9es sous le terme de d\\u00E9capode, c'est-\\u00E0-dire dix pieds, mais ce terme est ambigu car le taxon des Decapoda est un taxon qui regroupe des crustac\\u00E9s. Ce taxon est synonyme de Decabrachia.\" , \"lang\" : \"fr\" } ,\n",
      "      { \"type\" : \"literal\", \"value\" : \"\\u0414\\u0435\\u0441\\u044F\\u0442\\u0438\\u0440\\u0443\\u0301\\u043A\\u0438\\u0435 (\\u043B\\u0430\\u0442. Decapodiformes) \\u2014 \\u043D\\u0430\\u0434\\u043E\\u0442\\u0440\\u044F\\u0434 \\u0433\\u043E\\u043B\\u043E\\u0432\\u043E\\u043D\\u043E\\u0433\\u0438\\u0445 \\u043C\\u043E\\u043B\\u043B\\u044E\\u0441\\u043A\\u043E\\u0432 \\u0438\\u0437 \\u043F\\u043E\\u0434\\u043A\\u043B\\u0430\\u0441\\u0441\\u0430 \\u0434\\u0432\\u0443\\u0436\\u0430\\u0431\\u0435\\u0440\\u043D\\u044B\\u0445 (Coleoidea). \\u041F\\u0440\\u0435\\u0434\\u0441\\u0442\\u0430\\u0432\\u0438\\u0442\\u0435\\u043B\\u0438 \\u043E\\u0431\\u043B\\u0430\\u0434\\u0430\\u044E\\u0442 \\u043F\\u044F\\u0442\\u044C\\u044E \\u043F\\u0430\\u0440\\u0430\\u043C\\u0438 \\u0440\\u0443\\u043A, \\u0447\\u0435\\u0442\\u0432\\u0451\\u0440\\u0442\\u0430\\u044F \\u0438\\u0437 \\u043A\\u043E\\u0442\\u043E\\u0440\\u044B\\u0445 \\u043F\\u0440\\u0435\\u043E\\u0431\\u0440\\u0430\\u0437\\u043E\\u0432\\u0430\\u043D\\u0430 \\u0432 \\u043B\\u043E\\u0432\\u0447\\u0438\\u0435 \\u0449\\u0443\\u043F\\u0430\\u043B\\u044C\\u0446\\u0430. \\u0420\\u0430\\u0441\\u043F\\u043E\\u043B\\u0430\\u0433\\u0430\\u044E\\u0449\\u0438\\u0435\\u0441\\u044F \\u043D\\u0430 \\u0440\\u0443\\u043A\\u0430\\u0445 \\u043F\\u0440\\u0438\\u0441\\u043E\\u0441\\u043A\\u0438 \\u0432\\u043E\\u043E\\u0440\\u0443\\u0436\\u0435\\u043D\\u044B \\u043A\\u0440\\u044E\\u0447\\u044C\\u044F\\u043C\\u0438.\" , \"lang\" : \"ru\" } ,\n",
      "      { \"type\" : \"literal\", \"value\" : \"Decapodiformes is een superorde van inktvissen. Alle soorten hebben 10 armen. De naam is afgeleid van het Griekse woord voor tienvoetig.\" , \"lang\" : \"nl\" } ,\n",
      "      { \"type\" : \"literal\", \"value\" : \"\\u5341\\u8155\\u7E3D\\u76EE\\uFF08\\u5B78\\u540D\\uFF1ADecapodiformes\\uFF09\\u662F\\u982D\\u8DB3\\u7DB1\\u86F8\\u4E9E\\u7DB1\\u65B0\\u86F8\\u4E0B\\u7DB1\\u4E4B\\u4E0B\\u7684\\u4E00\\u985E\\u8EDF\\u9AD4\\u52D5\\u7269\\uFF0C\\u65B0\\u86F8\\u4E0B\\u7DB1\\u7684\\u53E6\\u4E00\\u5927\\u5206\\u985E\\u662F\\u516B\\u8155\\u7E3D\\u76EE\\u3002 \\u8207\\u86F8\\u4E9E\\u7DB1\\u7684\\u5176\\u4ED6\\u5206\\u985E\\u4E00\\u6A23\\uFF0C\\u5341\\u8155\\u7E3D\\u76EE\\u7684\\u7269\\u7A2E\\u540C\\u6A23\\u670910\\u96BB\\u89F8\\u624B\\uFF0C\\u4F46\\u5176\\u7B2C\\u56DB\\u5C0D\\u89F8\\u624B\\u6F14\\u8B8A\\u6210\\u70BA\\u4E86\\u6709\\u5438\\u76E4\\u7684\\u9577\\u89F8\\u9B1A\\u3002\" , \"lang\" : \"zh\" } ,\n",
      "      { \"type\" : \"literal\", \"value\" : \"Los Decapodiformes son un superorden de moluscos cefal\\u00F3podos que incluye todas las especies con diez brazos (ocho cortos y dos largos).\" , \"lang\" : \"es\" } ,\n",
      "      { \"type\" : \"literal\", \"value\" : \"I Decapodiformi (Decapodiformes Leach, 1817 ) costituiscono un superordine di molluschi cefalopodi coleoidi. Vengono chiamati anche Decapodi, ma questo nome pu\\u00F2 generare confusione con l'omonimo ordine di crostacei. A questo superordine, come intuibile dal nome (Decapodiformes, dalla combinazione delle parole latine deca- = prefisso per \\\"decina\\\", podos = \\\"piedi\\\" e -formes = suffisso per indicare similitudine, quindi \\\"muniti di dieci piedi\\\") vengono ascritte pi\\u00F9 o meno tutte le specie munite di dieci appendici cefaliche, a loro volta suddivise in otto braccia e due tentacoli. Altre caratteristiche tipiche degli appartenenti a questo superordine sono una conchiglia sempre presente anche se pi\\u00F9 o meno regredita (come l'osso di seppia o il gladio dei calamari). Si pensa che i decapodiformi derivino da un coleoide ancestrale munito di dieci braccia tutte uguali fra loro: col passare del tempo, un paio di appendici (rispettivamente il II e il IV) cominci\\u00F2 a modificarsi in due direzioni, da un lato regredendo financo a scomparire (portando agli attuali Octopodiformes muniti di otto braccia), dall'altra sviluppandosi portando alle appendici tentacolari dei decapodiformi.\" , \"lang\" : \"it\" } ] ,\n",
      "    \"http://dbpedia.org/ontology/thumbnail\" : [ { \"type\" : \"uri\", \"value\" : \"http://commons.wikimedia.org/wiki/Special:FilePath/Squidu.jpg?width=300\" } ] ,\n",
      "    \"http://dbpedia.org/ontology/wikiPageRevisionID\" : [ { \"type\" : \"literal\", \"value\" : 739801429 , \"datatype\" : \"http://www.w3.org/2001/XMLSchema#integer\" } ] ,\n",
      "    \"http://dbpedia.org/ontology/wikiPageID\" : [ { \"type\" : \"literal\", \"value\" : 1441047 , \"datatype\" : \"http://www.w3.org/2001/XMLSchema#integer\" } ] ,\n",
      "    \"http://purl.org/linguistics/gold/hypernym\" : [ { \"type\" : \"uri\", \"value\" : \"http://dbpedia.org/resource/Superorder\" } ] ,\n",
      "    \"http://dbpedia.org/property/authority\" : [ { \"type\" : \"literal\", \"value\" : \"Leach, 1817\" , \"datatype\" : \"http://www.w3.org/1999/02/22-rdf-syntax-ns#langString\" } ] ,\n",
      "    \"http://dbpedia.org/property/synonyms\" : [ { \"type\" : \"literal\", \"value\" : \"*Decembrachiata\" , \"datatype\" : \"http://www.w3.org/1999/02/22-rdf-syntax-ns#langString\" } ,\n",
      "      { \"type\" : \"literal\", \"value\" : \"(Winckworth, 1932)\" , \"datatype\" : \"http://www.w3.org/1999/02/22-rdf-syntax-ns#langString\" } ] } ,\n",
      "  \"http://dbpedia.org/resource/Decembrachiata\" : { \"http://dbpedia.org/ontology/wikiPageRedirects\" : [ { \"type\" : \"uri\", \"value\" : \"http://dbpedia.org/resource/Decapodiformes\" } ] }\n",
      "}\n",
      "\n"
     ]
    }
   ],
   "source": [
    "print(requests.get('http://dbpedia.org/data/Decapodiformes.json').content.decode('utf-8'))"
   ]
  },
  {
   "cell_type": "code",
   "execution_count": null,
   "metadata": {},
   "outputs": [],
   "source": []
  },
  {
   "cell_type": "code",
   "execution_count": 56,
   "metadata": {},
   "outputs": [
    {
     "data": {
      "text/html": [
       "<div>\n",
       "<table border=\"1\" class=\"dataframe\">\n",
       "  <thead>\n",
       "    <tr style=\"text-align: right;\">\n",
       "      <th></th>\n",
       "      <th>0</th>\n",
       "      <th>1</th>\n",
       "      <th>2</th>\n",
       "      <th>3</th>\n",
       "    </tr>\n",
       "  </thead>\n",
       "  <tbody>\n",
       "    <tr>\n",
       "      <th>0</th>\n",
       "      <td>%21%21%21</td>\n",
       "      <td>confusedProperty</td>\n",
       "      <td>!!</td>\n",
       "      <td>l</td>\n",
       "    </tr>\n",
       "    <tr>\n",
       "      <th>1</th>\n",
       "      <td>%21%21%21</td>\n",
       "      <td>confusedProperty</td>\n",
       "      <td>! (disambiguation)</td>\n",
       "      <td>l</td>\n",
       "    </tr>\n",
       "    <tr>\n",
       "      <th>2</th>\n",
       "      <td>%21%21%21</td>\n",
       "      <td>wikiPageUsesTemplate</td>\n",
       "      <td>Template:confused</td>\n",
       "      <td>r</td>\n",
       "    </tr>\n",
       "    <tr>\n",
       "      <th>3</th>\n",
       "      <td>%21%21%21</td>\n",
       "      <td>name</td>\n",
       "      <td>!!!</td>\n",
       "      <td>l</td>\n",
       "    </tr>\n",
       "    <tr>\n",
       "      <th>4</th>\n",
       "      <td>http://upload.wikimedia.org/wikipedia/commons/...</td>\n",
       "      <td>http://purl.org/dc/terms/rights</td>\n",
       "      <td>http://en.wikipedia.org/wiki/Image:Chkchkchk.jpg</td>\n",
       "      <td>r</td>\n",
       "    </tr>\n",
       "  </tbody>\n",
       "</table>\n",
       "</div>"
      ],
      "text/plain": [
       "                                                   0  \\\n",
       "0                                          %21%21%21   \n",
       "1                                          %21%21%21   \n",
       "2                                          %21%21%21   \n",
       "3                                          %21%21%21   \n",
       "4  http://upload.wikimedia.org/wikipedia/commons/...   \n",
       "\n",
       "                                 1  \\\n",
       "0                 confusedProperty   \n",
       "1                 confusedProperty   \n",
       "2             wikiPageUsesTemplate   \n",
       "3                             name   \n",
       "4  http://purl.org/dc/terms/rights   \n",
       "\n",
       "                                                  2  3  \n",
       "0                                                !!  l  \n",
       "1                                ! (disambiguation)  l  \n",
       "2                                 Template:confused  r  \n",
       "3                                               !!!  l  \n",
       "4  http://en.wikipedia.org/wiki/Image:Chkchkchk.jpg  r  "
      ]
     },
     "execution_count": 56,
     "metadata": {},
     "output_type": "execute_result"
    }
   ],
   "source": [
    "db = pd.read_csv(\"data/infobox_en.csv\", nrows=1000, sep='\\t', header=None)\n",
    "db.head()"
   ]
  },
  {
   "cell_type": "code",
   "execution_count": null,
   "metadata": {},
   "outputs": [],
   "source": [
    "# grep -n Decapodiformes data/infobox_en.csv \n",
    "# 10889260:Decapodiformes\tname\tDecapodiformes\tl\n",
    "# 10889261:Decapodiformes\timageWidth\t200px\tl\n",
    "# 10889262:Decapodiformes\timageCaption\tJuvenile cephalopod from planktonbr\tl\n",
    "# 10889263:Decapodiformes\tregnum\tAnimal\tr\n",
    "# 10889264:Decapodiformes\tphylum\tMollusca\tr\n",
    "# 10889265:Decapodiformes\tclassis\tCephalopoda\tr\n",
    "# 10889266:Decapodiformes\tsubclassis\tColeoidea\tr\n",
    "# 10889267:Decapodiformes\tsuperordo\tDecapodiformes\tl\n",
    "# 10889268:Decapodiformes\tsuperordoAuthority\tYoung, ''et al.'', 1998\tl\n",
    "# 10889269:Decapodiformes\tsubdivisionRanks\tOrder_%28biology%29\tr\n",
    "# 10889270:Decapodiformes\tsubdivision\tTeuthida\tr\n",
    "# 10889271:Decapodiformes\tsynonyms\tDecembrachiata\n",
    "# "
   ]
  },
  {
   "cell_type": "code",
   "execution_count": null,
   "metadata": {},
   "outputs": [],
   "source": []
  },
  {
   "cell_type": "code",
   "execution_count": null,
   "metadata": {},
   "outputs": [],
   "source": []
  },
  {
   "cell_type": "code",
   "execution_count": 97,
   "metadata": {},
   "outputs": [],
   "source": [
    "#wiki_url = 'http://en.wikipedia.org/w/api.php?action=query&prop=revisions&rvprop=content&format=json&titles=Scary%20Monsters%20and%20Nice%20Sprites&rvsection=0'\n",
    "\n",
    "#this_query = 'Decapodiformes'\n",
    "this_query = 'Saurischia'\n",
    "this_page_id = wikipedia.search(this_query, results=1)[0]\n",
    "\n",
    "wiki_url = 'http://en.wikipedia.org/w/api.php?action=query&prop=revisions&rvprop=content&format=json&titles={}&rvsection=0'.format(this_page_id)\n",
    "box_raw = json.loads(requests.get(wiki_url).content.decode('utf-8'))\n",
    "box = next(iter(box_raw['query']['pages'].values()))['revisions'][0]['*']"
   ]
  },
  {
   "cell_type": "code",
   "execution_count": 110,
   "metadata": {},
   "outputs": [
    {
     "data": {
      "text/plain": [
       "['',\n",
       " 'br',\n",
       " 'Late_Triassic',\n",
       " 'ndash',\n",
       " 'Holocene',\n",
       " 'Present',\n",
       " 'Fossil',\n",
       " 'range',\n",
       " 'earliest',\n",
       " '242',\n",
       " '233.23',\n",
       " '0',\n",
       " 'small',\n",
       " 'Possible',\n",
       " 'Middle_Triassic',\n",
       " 'record',\n",
       " 'small',\n",
       " '']"
      ]
     },
     "execution_count": 110,
     "metadata": {},
     "output_type": "execute_result"
    }
   ],
   "source": [
    "fr = box.split(\"fossil_range = \")[1].split('\\n')[0]\n",
    "useful = re.sub(\"[^A-Za-z0-9\\.]+\", \" \", fr)\n",
    "useful.replace(\"Late \",\"Late_\").replace(\"Middle \",\"Middle_\").replace(\"Early \", \"Early_\").split(\" \")\n",
    "dates = "
   ]
  },
  {
   "cell_type": "code",
   "execution_count": 108,
   "metadata": {},
   "outputs": [
    {
     "data": {
      "text/plain": [
       "' br Late Triassic ndash Holocene Present Fossil range earliest 242 233.23 0 small Possible Middle Triassic record small '"
      ]
     },
     "execution_count": 108,
     "metadata": {},
     "output_type": "execute_result"
    }
   ],
   "source": []
  },
  {
   "cell_type": "code",
   "execution_count": null,
   "metadata": {},
   "outputs": [],
   "source": []
  },
  {
   "cell_type": "code",
   "execution_count": null,
   "metadata": {},
   "outputs": [],
   "source": []
  },
  {
   "cell_type": "code",
   "execution_count": null,
   "metadata": {},
   "outputs": [],
   "source": []
  },
  {
   "cell_type": "code",
   "execution_count": 93,
   "metadata": {},
   "outputs": [
    {
     "data": {
      "text/plain": [
       "'<!DOCTYPE html>\\n<html class=\"client-nojs\" lang=\"en\" dir=\"ltr\">\\n<head>\\n<meta charset=\"UTF-8\"/>\\n<title>MediaWiki API result - Wikipedia</title>\\n<script>document.documentElement.className = document.documentElement.className.replace( /(^|\\\\s)client-nojs(\\\\s|$)/, \"$1client-js$2\" );</script>\\n<script>(window.RLQ=window.RLQ||[]).push(function(){mw.config.set({\"wgCanonicalNamespace\":\"Special\",\"wgCanonicalSpecialPageName\":\"ApiHelp\",\"wgNamespaceNumber\":-1,\"wgPageName\":\"Special:ApiHelp\",\"wgTitle\":\"ApiHelp\",\"wgCurRevisionId\":0,\"wgRevisionId\":0,\"wgArticleId\":0,\"wgIsArticle\":false,\"wgIsRedirect\":false,\"wgAction\":\"view\",\"wgUserName\":null,\"wgUserGroups\":[\"*\"],\"wgCategories\":[],\"wgBreakFrames\":false,\"wgPageContentLanguage\":\"en\",\"wgPageContentModel\":\"wikitext\",\"wgSeparatorTransformTable\":[\"\",\"\"],\"wgDigitTransformTable\":[\"\",\"\"],\"wgDefaultDateFormat\":\"dmy\",\"wgMonthNames\":[\"\",\"January\",\"February\",\"March\",\"April\",\"May\",\"June\",\"July\",\"August\",\"September\",\"October\",\"November\",\"December\"],\"wgMonthNamesShort\":[\"\",\"Jan\",\"Feb\",\"Mar\",\"Apr\",\"May\",\"Jun\",\"Jul\",\"Aug\",\"Sep\",\"Oct\",\"Nov\",\"Dec\"],\"wgRelevantPageName\":\"Special:ApiHelp\",\"wgRelevantArticleId\":0,\"wgRequestId\":\"W6G-rwrAMGsAAI2Zq-IAAABP\",\"wgCSPNonce\":false,\"wgIsProbablyEditable\":false,\"wgRelevantPageIsProbablyEditable\":false,\"wgFlaggedRevsParams\":{\"tags\":{}},\"wgStableRevisionId\":null,\"wgCategoryTreePageCategoryOptions\":\"{\\\\\"mode\\\\\":0,\\\\\"hideprefix\\\\\":20,\\\\\"showcount\\\\\":true,\\\\\"namespaces\\\\\":false}\",\"wgWikiEditorEnabledModules\":[],\"wgBetaFeaturesFeatures\":[],\"wgMediaViewerOnClick\":true,\"wgMediaViewerEnabledByDefault\":true,\"wgPopupsShouldSendModuleToUser\":true,\"wgPopupsConflictsWithNavPopupGadget\":false,\"wgVisualEditor\":{\"pageLanguageCode\":\"en\",\"pageLanguageDir\":\"ltr\",\"pageVariantFallbacks\":\"en\",\"usePageImages\":true,\"usePageDescriptions\":true},\"wgMFExpandAllSectionsUserOption\":true,\"wgMFEnableFontChanger\":true,\"wgMFDisplayWikibaseDescriptions\":{\"search\":true,\"nearby\":true,\"watchlist\":true,\"tagline\":false},\"wgRelatedArticles\":null,\"wgRelatedArticlesUseCirrusSearch\":true,\"wgRelatedArticlesOnlyUseCirrusSearch\":false,\"wgULSCurrentAutonym\":\"English\",\"wgNoticeProject\":\"wikipedia\",\"wgCentralNoticeCookiesToDelete\":[],\"wgCentralNoticeCategoriesUsingLegacy\":[\"Fundraising\",\"fundraising\"],\"wgScoreNoteLanguages\":{\"arabic\":\"العربية\",\"catalan\":\"català\",\"deutsch\":\"Deutsch\",\"english\":\"English\",\"espanol\":\"español\",\"italiano\":\"italiano\",\"nederlands\":\"Nederlands\",\"norsk\":\"norsk\",\"portugues\":\"português\",\"suomi\":\"suomi\",\"svenska\":\"svenska\",\"vlaams\":\"West-Vlams\"},\"wgScoreDefaultNoteLanguage\":\"nederlands\",\"wgCentralAuthMobileDomain\":false,\"wgCodeMirrorEnabled\":true,\"wgVisualEditorToolbarScrollOffset\":0,\"wgVisualEditorUnsupportedEditParams\":[\"undo\",\"undoafter\",\"veswitched\"],\"wgEditSubmitButtonLabelPublish\":true});mw.loader.state({\"ext.gadget.charinsert-styles\":\"ready\",\"ext.globalCssJs.user.styles\":\"ready\",\"ext.globalCssJs.site.styles\":\"ready\",\"site.styles\":\"ready\",\"noscript\":\"ready\",\"user.styles\":\"ready\",\"ext.globalCssJs.user\":\"ready\",\"ext.globalCssJs.site\":\"ready\",\"user\":\"ready\",\"user.options\":\"ready\",\"user.tokens\":\"loading\",\"mediawiki.apipretty\":\"ready\",\"ext.pygments\":\"ready\",\"mediawiki.legacy.shared\":\"ready\",\"mediawiki.legacy.commonPrint\":\"ready\",\"mediawiki.skinning.interface\":\"ready\",\"ext.visualEditor.desktopArticleTarget.noscript\":\"ready\",\"ext.uls.interlanguage\":\"ready\",\"ext.wikimediaBadges\":\"ready\"});mw.loader.implement(\"user.tokens@1dqfd7l\",function($,jQuery,require,module){/*@nomin*/mw.user.tokens.set({\"editToken\":\"+\\\\\\\\\",\"patrolToken\":\"+\\\\\\\\\",\"watchToken\":\"+\\\\\\\\\",\"csrfToken\":\"+\\\\\\\\\"});\\n});mw.loader.load([\"site\",\"mediawiki.page.startup\",\"mediawiki.user\",\"mediawiki.page.ready\",\"mediawiki.searchSuggest\",\"ext.gadget.teahouse\",\"ext.gadget.ReferenceTooltips\",\"ext.gadget.watchlist-notice\",\"ext.gadget.DRN-wizard\",\"ext.gadget.charinsert\",\"ext.gadget.refToolbar\",\"ext.gadget.extra-toolbar-buttons\",\"ext.gadget.switcher\",\"ext.centralauth.centralautologin\",\"ext.popups\",\"ext.visualEditor.desktopArticleTarget.init\",\"ext.visualEditor.targetLoader\",\"ext.eventLogging.subscriber\",\"ext.wikimediaEvents\",\"ext.navigationTiming\",\"ext.uls.eventlogger\",\"ext.uls.init\",\"ext.uls.compactlinks\",\"ext.uls.interface\",\"ext.3d\",\"ext.centralNotice.geoIP\"]);});</script>\\n<link rel=\"stylesheet\" href=\"/w/load.php?debug=false&amp;lang=en&amp;modules=ext.pygments%2CwikimediaBadges%7Cext.uls.interlanguage%7Cext.visualEditor.desktopArticleTarget.noscript%7Cmediawiki.apipretty%7Cmediawiki.legacy.commonPrint%2Cshared%7Cmediawiki.skinning.interface&amp;only=styles&amp;skin=apioutput\"/>\\n<script async=\"\" src=\"/w/load.php?debug=false&amp;lang=en&amp;modules=startup&amp;only=scripts&amp;skin=apioutput\"></script>\\n<meta name=\"ResourceLoaderDynamicStyles\" content=\"\"/>\\n<link rel=\"stylesheet\" href=\"/w/load.php?debug=false&amp;lang=en&amp;modules=ext.gadget.charinsert-styles&amp;only=styles&amp;skin=apioutput\"/>\\n<link rel=\"stylesheet\" href=\"/w/load.php?debug=false&amp;lang=en&amp;modules=site.styles&amp;only=styles&amp;skin=apioutput\"/>\\n<meta name=\"generator\" content=\"MediaWiki 1.32.0-wmf.20\"/>\\n<meta name=\"referrer\" content=\"origin\"/>\\n<meta name=\"referrer\" content=\"origin-when-crossorigin\"/>\\n<meta name=\"referrer\" content=\"origin-when-cross-origin\"/>\\n<link rel=\"apple-touch-icon\" href=\"/static/apple-touch/wikipedia.png\"/>\\n<link rel=\"shortcut icon\" href=\"/static/favicon/wikipedia.ico\"/>\\n<link rel=\"search\" type=\"application/opensearchdescription+xml\" href=\"/w/opensearch_desc.php\" title=\"Wikipedia (en)\"/>\\n<link rel=\"EditURI\" type=\"application/rsd+xml\" href=\"//en.wikipedia.org/w/api.php?action=rsd\"/>\\n<link rel=\"license\" href=\"//creativecommons.org/licenses/by-sa/3.0/\"/>\\n<link rel=\"alternate\" type=\"application/atom+xml\" title=\"Wikipedia Atom feed\" href=\"/w/index.php?title=Special:RecentChanges&amp;feed=atom\"/>\\n<link rel=\"canonical\" href=\"https://en.wikipedia.org/wiki/Special:ApiHelp\"/>\\n<link rel=\"dns-prefetch\" href=\"//login.wikimedia.org\"/>\\n<!--[if lt IE 9]><script src=\"/w/load.php?debug=false&amp;lang=en&amp;modules=html5shiv&amp;only=scripts&amp;skin=vector&amp;sync=1\"></script><![endif]-->\\n</head>\\n<body class=\"mediawiki ltr sitedir-ltr mw-hide-empty-elt ns--1 ns-special mw-special-ApiHelp page-Special_ApiHelp rootpage-Special_ApiHelp skin-apioutput action-view\">\\n\\t\\t<div class=\"mw-body\" role=\"main\">\\n\\t\\t\\t<h1 class=\"firstHeading\">MediaWiki API result</h1>\\n\\t\\t\\t<div class=\"mw-body-content\">\\n\\t\\t\\t\\t<div id=\"mw-content-text\"><div class=\"api-pretty-header\"><p>This is the HTML representation of the XML format. HTML is good for debugging, but is unsuitable for application use.\\n</p><p>Specify the <var>format</var> parameter to change the output format. To see the non-HTML representation of the XML format, set <a class=\"external text\" href=\"https://en.wikipedia.org/w/api.php?action=query&amp;prop=revisions&amp;rvprop=content&amp;format=xml&amp;titles=Saurischia&amp;rvsection=0\"><kbd>format=xml</kbd></a>.\\n</p><p>See the <a href=\"https://www.mediawiki.org/wiki/API\" class=\"extiw\" title=\"mw:API\">complete documentation</a>, or the <a href=\"/w/api.php?action=help&amp;modules=main\">API help</a> for more information.\\n</p></div><div dir=\"ltr\"><div class=\"mw-highlight\"><pre><span></span><span class=\"cp\">&lt;?xml version=&quot;1.0&quot;?&gt;</span>\\n<span class=\"nt\">&lt;api</span> <span class=\"na\">batchcomplete=</span><span class=\"s\">&quot;&quot;</span><span class=\"nt\">&gt;</span>\\n  <span class=\"nt\">&lt;warnings&gt;</span>\\n    <span class=\"nt\">&lt;main</span> <span class=\"na\">xml:space=</span><span class=\"s\">&quot;preserve&quot;</span><span class=\"nt\">&gt;</span>Subscribe to the mediawiki-api-announce mailing list at <span class=\"ni\">&amp;lt;</span>https://lists.wikimedia.org/mailman/listinfo/mediawiki-api-announce<span class=\"ni\">&amp;gt;</span> for notice of API deprecations and breaking changes. Use [[Special:ApiFeatureUsage]] to see usage of deprecated features by your application.<span class=\"nt\">&lt;/main&gt;</span>\\n    <span class=\"nt\">&lt;revisions</span> <span class=\"na\">xml:space=</span><span class=\"s\">&quot;preserve&quot;</span><span class=\"nt\">&gt;</span>Because &quot;rvslots&quot; was not specified, a legacy format has been used for the output. This format is deprecated, and in the future the new format will always be used.<span class=\"nt\">&lt;/revisions&gt;</span>\\n  <span class=\"nt\">&lt;/warnings&gt;</span>\\n  <span class=\"nt\">&lt;query&gt;</span>\\n    <span class=\"nt\">&lt;pages&gt;</span>\\n      <span class=\"nt\">&lt;page</span> <span class=\"na\">_idx=</span><span class=\"s\">&quot;6832171&quot;</span> <span class=\"na\">pageid=</span><span class=\"s\">&quot;6832171&quot;</span> <span class=\"na\">ns=</span><span class=\"s\">&quot;0&quot;</span> <span class=\"na\">title=</span><span class=\"s\">&quot;Saurischia&quot;</span><span class=\"nt\">&gt;</span>\\n        <span class=\"nt\">&lt;revisions&gt;</span>\\n          <span class=\"nt\">&lt;rev</span> <span class=\"na\">contentformat=</span><span class=\"s\">&quot;text/x-wiki&quot;</span> <span class=\"na\">contentmodel=</span><span class=\"s\">&quot;wikitext&quot;</span> <span class=\"na\">xml:space=</span><span class=\"s\">&quot;preserve&quot;</span><span class=\"nt\">&gt;</span>{{distinguish|Sauropoda}}\\n{{Automatic taxobox\\n| name = Saurischians\\n| fossil_range = <span class=\"ni\">&amp;lt;</span>br<span class=\"ni\">&amp;gt;</span>[[Late Triassic]]<span class=\"ni\">&amp;amp;</span>ndash;[[Holocene|Present]], {{Fossil range|earliest=242|233.23|0}}<span class=\"ni\">&amp;lt;</span>small<span class=\"ni\">&amp;gt;</span>Possible [[Middle Triassic]] record<span class=\"ni\">&amp;lt;</span>/small<span class=\"ni\">&amp;gt;</span>\\n| image = Herrerasaurusskeleton.jpg\\n| image_caption = &#39;&#39;[[Herrerasaurus]]&#39;&#39; (large), &#39;&#39;[[Eoraptor]]&#39;&#39; (small), and &#39;&#39;[[Plateosaurus]]&#39;&#39; (skull), three early saurischians \\n| taxon = Saurischia\\n| authority = [[Harry Govier Seeley|Seeley]], 1888\\n| subdivision_ranks = Subgroups\\n| subdivision =\\n: †&#39;&#39;[[Alwalkeria]]&#39;&#39;\\n: &#39;&#39;&#39;Eusaurischia&#39;&#39;&#39;\\n:: †&#39;&#39;[[Eoraptor]]&#39;&#39;\\n:: †[[Herrerasauridae]]\\n:: †[[Sauropodomorpha]]\\n:: [[Theropoda]]\\n}}\\n\\n&#39;&#39;&#39;Saurischia&#39;&#39;&#39; ({{IPAc-en|s|ɔː|ˈ|r|ɪ|s|k|i|ə}} {{respell|saw|RIS|kee-ə}}, meaning &quot;reptile-hipped&quot; from the [[Ancient Greek|Greek]]  &#39;&#39;{{transl|grc|sauros}}&#39;&#39; ({{lang|grc|σαῦρος}}) meaning &#39;lizard&#39; and &#39;&#39;{{transl|grc|ischion}}&#39;&#39; ({{lang|grc|ἴσχιον}}) meaning &#39;hip joint&#39;)<span class=\"ni\">&amp;lt;</span>ref<span class=\"ni\">&amp;gt;</span>Oxford English Dictionary<span class=\"ni\">&amp;lt;</span>/ref<span class=\"ni\">&amp;gt;</span> is one of the two basic divisions of [[dinosaurs]] (the other being [[Ornithischia]]). ‘Saurischia’ translates to lizard-hipped. \\nIn 1888, [[Harry Seeley]] classified dinosaurs into two [[Order (biology)|orders]], based on their hip structure,<span class=\"ni\">&amp;lt;</span>ref name=&quot;seeley1888&quot;<span class=\"ni\">&amp;gt;</span>{{cite journal | last1 = Seeley | first1 = H.G. | year = 1888 | title = On the classification of the fossil animals commonly named Dinosauria | url = | journal = Proceedings of the Royal Society of London | volume = 43 | issue = | pages = 165–171 | doi=10.1098/rspl.1887.0117}}<span class=\"ni\">&amp;lt;</span>/ref<span class=\"ni\">&amp;gt;</span> though today most paleontologists classify Saurischia as an unranked [[clade]] rather than an order.<span class=\"ni\">&amp;lt;</span>ref name=dinosauria2<span class=\"ni\">&amp;gt;</span>Weishampel, D.B., Dodson, P., and Osmólska, H. (eds.). (2004). &#39;&#39;The Dinosauria. 2nd edition&#39;&#39;. University of California Press, Berkeley. 833 pp.<span class=\"ni\">&amp;lt;</span>/ref<span class=\"ni\">&amp;gt;</span><span class=\"nt\">&lt;/rev&gt;</span>\\n        <span class=\"nt\">&lt;/revisions&gt;</span>\\n      <span class=\"nt\">&lt;/page&gt;</span>\\n    <span class=\"nt\">&lt;/pages&gt;</span>\\n  <span class=\"nt\">&lt;/query&gt;</span>\\n<span class=\"nt\">&lt;/api&gt;</span>\\n</pre></div>\\n</div><noscript><img src=\"//en.wikipedia.org/wiki/Special:CentralAutoLogin/start?type=1x1\" alt=\"\" title=\"\" width=\"1\" height=\"1\" style=\"border: none; position: absolute;\" /></noscript></div><div class=\"printfooter\">\\nRetrieved from \"<a dir=\"ltr\" href=\"https://en.wikipedia.org/wiki/Special:ApiHelp\">https://en.wikipedia.org/wiki/Special:ApiHelp</a>\"</div>\\n\\t\\t\\t</div>\\n\\t\\t</div>\\n\\n\\t\\t\\n<script>(window.RLQ=window.RLQ||[]).push(function(){mw.config.set({\"wgBackendResponseTime\":306,\"wgHostname\":\"mw2285\"});});</script>\\t\\t</body></html>\\n'"
      ]
     },
     "execution_count": 93,
     "metadata": {},
     "output_type": "execute_result"
    }
   ],
   "source": [
    "wiki_url = 'http://en.wikipedia.org/w/api.php?action=query&prop=revisions&rvprop=content&format=xmlfm&titles={}&rvsection=0'.format(this_page_id)\n",
    "requests.get(wiki_url).content.decode('utf-8')"
   ]
  },
  {
   "cell_type": "code",
   "execution_count": null,
   "metadata": {},
   "outputs": [],
   "source": []
  },
  {
   "cell_type": "code",
   "execution_count": null,
   "metadata": {},
   "outputs": [],
   "source": []
  },
  {
   "cell_type": "code",
   "execution_count": null,
   "metadata": {},
   "outputs": [],
   "source": []
  }
 ],
 "metadata": {
  "anaconda-cloud": {},
  "kernelspec": {
   "display_name": "Python [Root]",
   "language": "python",
   "name": "Python [Root]"
  },
  "language_info": {
   "codemirror_mode": {
    "name": "ipython",
    "version": 3
   },
   "file_extension": ".py",
   "mimetype": "text/x-python",
   "name": "python",
   "nbconvert_exporter": "python",
   "pygments_lexer": "ipython3",
   "version": "3.5.1"
  }
 },
 "nbformat": 4,
 "nbformat_minor": 2
}
