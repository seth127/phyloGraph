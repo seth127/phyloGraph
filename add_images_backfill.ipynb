{
 "cells": [
  {
   "cell_type": "code",
   "execution_count": 267,
   "metadata": {},
   "outputs": [
    {
     "name": "stdout",
     "output_type": "stream",
     "text": [
      "['', '/Users/Seth/anaconda/lib/python3.5/site-packages/nltk-3.2.1-py3.5.egg', '/Users/Seth/anaconda/lib/python35.zip', '/Users/Seth/anaconda/lib/python3.5', '/Users/Seth/anaconda/lib/python3.5/plat-darwin', '/Users/Seth/anaconda/lib/python3.5/lib-dynload', '/Users/Seth/.local/lib/python3.5/site-packages', '/Users/Seth/anaconda/lib/python3.5/site-packages/Sphinx-1.4.1-py3.5.egg', '/Users/Seth/anaconda/lib/python3.5/site-packages/setuptools-23.0.0-py3.5.egg', '/Users/Seth/anaconda/lib/python3.5/site-packages', '/Users/Seth/anaconda/lib/python3.5/site-packages/aeosa', '/Users/Seth/anaconda/lib/python3.5/site-packages/IPython/extensions', '/Users/Seth/.ipython']\n"
     ]
    }
   ],
   "source": [
    "import pandas as pd\n",
    "import numpy as np\n",
    "import requests\n",
    "import sys\n",
    "print(sys.path)\n",
    "from time import time"
   ]
  },
  {
   "cell_type": "code",
   "execution_count": 246,
   "metadata": {},
   "outputs": [
    {
     "name": "stdout",
     "output_type": "stream",
     "text": [
      "data/Mammalia-15040-df-images.csv\n"
     ]
    }
   ],
   "source": [
    "DATA_FILE = \"data/Mammalia-15040-df-fixedage.csv\"\n",
    "OUT_FILE = 'data/Mammalia-15040-df-images.csv'\n",
    "print(OUT_FILE)\n",
    "#DATA_FILE = \"data/Chordata-2499-df-fixedage.csv\"\n",
    "#OUT_FILE = 'data/Chordata-2499-df-images.csv'"
   ]
  },
  {
   "cell_type": "code",
   "execution_count": null,
   "metadata": {},
   "outputs": [],
   "source": []
  },
  {
   "cell_type": "code",
   "execution_count": null,
   "metadata": {},
   "outputs": [],
   "source": []
  },
  {
   "cell_type": "code",
   "execution_count": 53,
   "metadata": {},
   "outputs": [],
   "source": [
    "##################################\n",
    "# https://gist.github.com/kekeblom/204a609ee295c81c3cc202ecbe68752c\n",
    "##################################\n",
    "\n",
    "import os\n",
    "import re\n",
    "import time\n",
    "import argparse\n",
    "import requests\n",
    "import io\n",
    "import hashlib\n",
    "import itertools\n",
    "import base64\n",
    "from PIL import Image\n",
    "from multiprocessing import Pool\n",
    "from pyvirtualdisplay import Display\n",
    "from selenium import webdriver"
   ]
  },
  {
   "cell_type": "code",
   "execution_count": null,
   "metadata": {},
   "outputs": [],
   "source": []
  },
  {
   "cell_type": "code",
   "execution_count": 3,
   "metadata": {},
   "outputs": [
    {
     "data": {
      "text/plain": [
       "_StoreAction(option_strings=['--label'], dest='label', nargs=None, const=None, default=None, type=<class 'str'>, choices=None, help='The directory in which to store the images (images/<label>)', metavar='label')"
      ]
     },
     "execution_count": 3,
     "metadata": {},
     "output_type": "execute_result"
    }
   ],
   "source": [
    "argument_parser = argparse.ArgumentParser(description='Download images using google image search')\n",
    "argument_parser.add_argument('query', metavar='query', type=str, help='The query to download images from')\n",
    "argument_parser.add_argument('--count', metavar='count', default=100, type=int, help='How many images to fetch')\n",
    "argument_parser.add_argument('--label', metavar='label', type=str, help=\"The directory in which to store the images (images/<label>)\", required=True)"
   ]
  },
  {
   "cell_type": "code",
   "execution_count": 4,
   "metadata": {},
   "outputs": [
    {
     "name": "stdout",
     "output_type": "stream",
     "text": [
      "data/Mammalia-15040\n"
     ]
    }
   ],
   "source": []
  },
  {
   "cell_type": "code",
   "execution_count": 61,
   "metadata": {},
   "outputs": [],
   "source": [
    "def ensure_directory(path):\n",
    "    if not os.path.exists(path):\n",
    "        os.mkdir(path)\n",
    "\n",
    "def largest_file(dir_path):\n",
    "    def parse_num(filename):\n",
    "        match = re.search('\\d+', filename)\n",
    "        if match:\n",
    "            return int(match.group(0))\n",
    "\n",
    "    files = os.listdir(dir_path)\n",
    "    if len(files) != 0:\n",
    "        return max(filter(lambda x: x, map(parse_num, files)))\n",
    "    else:\n",
    "        return 0\n",
    "\n",
    "def fetch_image_urls(query, images_to_download):\n",
    "    image_urls = set()\n",
    "    \n",
    "    # pyvirtualdisplay :: https://stackoverflow.com/questions/26070834/how-to-fix-selenium-webdriverexception-the-browser-appears-to-have-exited-befor\n",
    "    display = Display(visible=0, size=(1024, 768))\n",
    "    display.start()\n",
    "\n",
    "    search_url = \"https://www.google.com/search?safe=off&site=&tbm=isch&source=hp&q={q}&oq={q}&gs_l=img\"\n",
    "    #browser = webdriver.Firefox()\n",
    "    browser = webdriver.Firefox(executable_path=r'/Users/Seth/anaconda/lib/python3.5/geckodriver')\n",
    "    browser.get(search_url.format(q=query))\n",
    "    def scroll_to_bottom():\n",
    "        browser.execute_script(\"window.scrollTo(0, document.body.scrollHeight);\")\n",
    "        time.sleep(2)\n",
    "\n",
    "    image_count = len(image_urls)\n",
    "    delta = 0\n",
    "    while image_count < images_to_download:\n",
    "        print(\"Found:\", len(image_urls), \"images\")\n",
    "        #scroll_to_bottom()\n",
    "\n",
    "        #images = browser.find_elements_by_css_selector(\"img.rg_ic\")\n",
    "        images = browser.find_elements_by_css_selector(\"img\")\n",
    "        for img in images:\n",
    "            image_urls.add(img.get_attribute('src'))\n",
    "        delta = len(image_urls) - image_count\n",
    "        image_count = len(image_urls)\n",
    "\n",
    "        if delta == 0:\n",
    "            print(\"Can't find more images\")\n",
    "            break\n",
    "\n",
    "        fetch_more_button = browser.find_element_by_css_selector(\".ksb._kvc\")\n",
    "        if fetch_more_button:\n",
    "            browser.execute_script(\"document.querySelector('.ksb._kvc').click();\")\n",
    "            scroll_to_bottom()\n",
    "\n",
    "    #browser.quit()\n",
    "    browser.close()\n",
    "    display.stop()\n",
    "    return image_urls\n",
    "\n",
    "def persist_image(dir_image_src):\n",
    "    label_directory = dir_image_src[0]\n",
    "    image_src = dir_image_src[1]\n",
    "\n",
    "    size = (256, 256)\n",
    "    try:\n",
    "        image_content = requests.get(image_src).content\n",
    "    except requests.exceptions.InvalidSchema:\n",
    "        # image is probably base64 encoded\n",
    "        image_data = re.sub('^data:image/.+;base64,', '', image_src)\n",
    "        image_content = base64.b64decode(image_data)\n",
    "    except Exception as e:\n",
    "        print(\"could not read\", e, image_src)\n",
    "        return False\n",
    "\n",
    "    image_file = io.BytesIO(image_content)\n",
    "    image = Image.open(image_file).convert('RGB')\n",
    "    resized = image.resize(size)\n",
    "    with open(label_directory + hashlib.sha1(image_content).hexdigest() + \".jpg\", 'wb')  as f:\n",
    "        resized.save(f, \"JPEG\", quality=85)\n",
    "\n",
    "    return True\n",
    "\n",
    "\n",
    "### if __name__ == '__main__':\n",
    "###     args = argument_parser.parse_args()\n",
    "### \n",
    "###     ensure_directory('./images/')\n",
    "### \n",
    "###     query_directory = './images/' + args.label + \"/\"\n",
    "###     ensure_directory(query_directory)\n",
    "### \n",
    "###     image_urls = fetch_image_urls(args.query, args.count)\n",
    "### \n",
    "###     values = [item for item in zip(itertools.cycle([query_directory]), image_urls)]\n",
    "### \n",
    "###     print(\"image count\", len(image_urls))\n",
    "### \n",
    "###     pool = Pool(12)\n",
    "###     results = pool.map(persist_image, values)\n",
    "###     print(\"Images downloaded: \", len([r for r in results if r]))"
   ]
  },
  {
   "cell_type": "code",
   "execution_count": 62,
   "metadata": {},
   "outputs": [
    {
     "name": "stdout",
     "output_type": "stream",
     "text": [
      "Namespace(count=1, label='data/Mammalia-15040/', query='Mammalia')\n"
     ]
    }
   ],
   "source": [
    "first_query = DATA_FILE.replace(\"data/\", \"\").split(\"-\")[0]\n",
    "ROOT_PATH = './'\n",
    "args_to_parse = \"{} --count 1 --label {}\".format(first_query, OUT_FILE)\n",
    "args = argument_parser.parse_args(args_to_parse.split(' '))\n",
    "print(args)\n",
    "ensure_directory(ROOT_PATH)\n",
    "query_directory = ROOT_PATH + args.label + \"/\"\n",
    "ensure_directory(query_directory)"
   ]
  },
  {
   "cell_type": "code",
   "execution_count": 64,
   "metadata": {},
   "outputs": [],
   "source": [
    "#image_urls = fetch_image_urls(args.query, args.count)\n",
    "#image_urls"
   ]
  },
  {
   "cell_type": "code",
   "execution_count": 221,
   "metadata": {},
   "outputs": [],
   "source": [
    "import base64\n",
    "import requests\n",
    "from resizeimage import resizeimage\n",
    "from PIL import Image\n",
    "import io\n",
    "\n",
    "def bytes_to_img(img_bytes, resize=[]):\n",
    "    image = Image.open(io.BytesIO(img_bytes))\n",
    "    \n",
    "    if len(resize) == 2:\n",
    "        image = resizeimage.resize_contain(image, resize)\n",
    "    elif len(resize) != 0:\n",
    "        raise ValueError(\"resize argument takes a list of length 2 (height x width)\")\n",
    "    \n",
    "    return image\n",
    "    \n",
    "def get_image_base64(img_bytes=None, url=None, resize=[]):\n",
    "    if url:\n",
    "        img_bytes = requests.get(url).content\n",
    "    \n",
    "    if len(resize) == 2:\n",
    "        img = bytes_to_img(img_bytes, resize=resize)\n",
    "        buffered = io.BytesIO()\n",
    "        img.save(buffered, format=\"JPEG\")\n",
    "        img_bytes = buffered.getvalue()\n",
    "    elif len(resize) != 0:\n",
    "        raise ValueError(\"resize argument takes a list of length 2 (height x width)\")\n",
    "        \n",
    "    return base64.b64encode(img_bytes)\n",
    "\n",
    "def get_image_new(image_src):\n",
    "    image_data = re.sub('^data:image/.+;base64,', '', image_src)\n",
    "    image_content = base64.b64decode(image_data)\n",
    "    return image_content\n"
   ]
  },
  {
   "cell_type": "code",
   "execution_count": 245,
   "metadata": {},
   "outputs": [],
   "source": [
    "####### TOP OF PROGRAM?\n",
    "display = Display(visible=0, size=(1024, 768))\n",
    "display.start()\n",
    "browser = webdriver.Firefox(executable_path=r'/Users/Seth/anaconda/lib/python3.5/geckodriver')"
   ]
  },
  {
   "cell_type": "code",
   "execution_count": 237,
   "metadata": {},
   "outputs": [],
   "source": [
    "######### SCRAPE DATA #########\n",
    "\n",
    "def get_img_from_query(query, skip=10, resize=[150,150], show=False):\n",
    "    # pyvirtualdisplay :: https://stackoverflow.com/questions/26070834/how-to-fix-selenium-webdriverexception-the-browser-appears-to-have-exited-befor\n",
    "\n",
    "    ### display = Display(visible=0, size=(1024, 768))\n",
    "    ### display.start()\n",
    "    search_url = \"https://www.google.com/search?safe=off&site=&tbm=isch&source=hp&q={q}&oq={q}&gs_l=img\"\n",
    "    #browser = webdriver.Firefox()\n",
    "    ### browser = webdriver.Firefox(executable_path=r'/Users/Seth/anaconda/lib/python3.5/geckodriver')\n",
    "\n",
    "    browser.get(search_url.format(q=query))\n",
    "    \n",
    "    # get images\n",
    "    images = browser.find_elements_by_css_selector(\"img\")\n",
    "    \n",
    "    ### browser.close()\n",
    "    ### display.stop()\n",
    "    \n",
    "    image_urls = list()\n",
    "    \n",
    "    for img in images:\n",
    "        if img.get_attribute('src') is not None:\n",
    "            image_urls.append(img.get_attribute('src'))\n",
    "    \n",
    "    if show:\n",
    "        return bytes_to_img(get_image_new(image_urls[skip+1]), resize=resize)\n",
    "    else:\n",
    "        return get_image_base64(get_image_new(image_urls[skip+1]), resize=resize)\n"
   ]
  },
  {
   "cell_type": "code",
   "execution_count": null,
   "metadata": {},
   "outputs": [],
   "source": []
  },
  {
   "cell_type": "code",
   "execution_count": 270,
   "metadata": {},
   "outputs": [
    {
     "name": "stdout",
     "output_type": "stream",
     "text": [
      "<PIL.Image.Image image mode=RGB size=150x150 at 0x119A6A668>\n"
     ]
    }
   ],
   "source": [
    "get_img_from_query(\"ugly\", show=True)"
   ]
  },
  {
   "cell_type": "code",
   "execution_count": 242,
   "metadata": {},
   "outputs": [
    {
     "data": {
      "text/plain": [
       "b'/9j/4AAQSkZJRgABAQAAAQABAAD/2wBDAAgGBgcGBQgHBwcJCQgKDBQNDAsLDBkSEw8UHRofHh0aHBwgJC4nICIsIxwcKDcpLDAxNDQ0Hyc5PTgyPC4zNDL/2wBDAQkJCQwLDBgNDRgyIRwhMjIyMjIyMjIyMjIyMjIyMjIyMjIyMjIyMjIyMjIyMjIyMjIyMjIyMjIyMjIyMjIyMjL/wAARCACWAJYDASIAAhEBAxEB/8QAHwAAAQUBAQEBAQEAAAAAAAAAAAECAwQFBgcICQoL/8QAtRAAAgEDAwIEAwUFBAQAAAF9AQIDAAQRBRIhMUEGE1FhByJxFDKBkaEII0KxwRVS0fAkM2JyggkKFhcYGRolJicoKSo0NTY3ODk6Q0RFRkdISUpTVFVWV1hZWmNkZWZnaGlqc3R1dnd4eXqDhIWGh4iJipKTlJWWl5iZmqKjpKWmp6ipqrKztLW2t7i5usLDxMXGx8jJytLT1NXW19jZ2uHi4+Tl5ufo6erx8vP09fb3+Pn6/8QAHwEAAwEBAQEBAQEBAQAAAAAAAAECAwQFBgcICQoL/8QAtREAAgECBAQDBAcFBAQAAQJ3AAECAxEEBSExBhJBUQdhcRMiMoEIFEKRobHBCSMzUvAVYnLRChYkNOEl8RcYGRomJygpKjU2Nzg5OkNERUZHSElKU1RVVldYWVpjZGVmZ2hpanN0dXZ3eHl6goOEhYaHiImKkpOUlZaXmJmaoqOkpaanqKmqsrO0tba3uLm6wsPExcbHyMnK0tPU1dbX2Nna4uPk5ebn6Onq8vP09fb3+Pn6/9oADAMBAAIRAxEAPwD3+iiigAooooAKKKKACiiigAooooAKKKKACiiigAooooAKKKKACiiigAooooAbJIkMTyyuqRoCzMxwFA6knsKorrujt93VbE/S4T/GjXV3+HtSX1tZR/44a8ks7AAj5a4sXi3QaSV7kt2PXxq+mN01G0P0nX/GnDU7A9L62P8A21X/ABrziCzxjir6WuAMCuL+1J/yr8Slc7n+0LI/8vlv/wB/V/xo/tGyHW8t/wDv6v8AjXGR2rM2AoHr7UMlmmQ1yAw647VrHHVpK6gvxKUJS2Oz/tGxHW9t/wDv6v8AjTTqmnjrfWw/7bL/AI1xx01nYAcg9G61Yk8OwtDhZm8xucYABq44rEP7C/EHFo6c6zpa9dSsx25nX/GmHXdIHXVbH/wIT/GuetPD2n7o5XhdnjY5Ep4Y+4HWpG8P2/lf6Lb2wLOzMWUYGTnHT6CuqE60lqkTZm5/wkGi5A/tewyeAPtKf40651zSLOQR3WqWMDkbgstwikj1wTXFf2PZ2l0zrawidW+8q5wfUUzVdJttYs/s08eAF+Rl+8h9Qf6VSnK2qNPZytc7A+KvDo669pY+t5H/AI0sXijw9PPHBDrumSTSMESNLuMszE4AAB5JPavnfxBoF5o0mZl3W5PyTAcMP6f1qh4WH/Fb6D/2Erf/ANGrSVWV7NGN9bM+raKKK3KCiiigAooooAp6qN2j3y+tvIP/AB01wFnbAY+WvQtQGdNuh6wv/I1x1tGBivGzNXnH0/UErskigGBxVhIuMnpUqICKo6xqUenWuMjzX+77D1ripU3OSjFG0Y6mdr2tQadC8fmCPClnfP3RXm8Pic6heEw79rNtXJxj396wvHXiU310LG2l8yLnzmz94+lWfCmnzTGNnRkiOPm6F/bFfTQoxp07WNaU1zWPcNDnaW2Erk4UD8eKmWe9n1FRaokkADbizYG7PyjH03fpWJbyyLCsKjZAABkHnNZdpu0PxGZ7i7ka1mb97H5uduehI7ge1Yr4gqWex3Op3VxZwIVtxvc87W4qK9vLyDSnltrRprrZ+7if5VY44z/h3qK+8Z6fY6XDerHJJDLKI0C8ErnDN68AZxXNeJPGmp6feRy6M9hfWEiq5STcChBwVVl6AgA8jIOaFTaqube5jvpYydI8bQ6rKbXUV+z3rZxz8rnOMexrojM0QUZY47E9K8h8TarDqOuzXjaf9haZgxWNlZA/TfkAHccc8dcV2/hnVW1PTFSdw9zbHaw9R2NXKKTujoppWOluvIvrN7W8iWSGRdrcdPpXlem6c+k/ErSbJzuMep24Rv7y+YuCfw/WvTckrzx7VxepjHxW8PPj/WXVqfx8wD+grN6u5lWpq10fQlFFFbnOFFFFABRRRQBBe82FwP8Apk38jXLQJgc4rqrv/jyn/wCubfyrmol98V4+Z/HH0/UuJW1jVbXRNOa5uWHB2Rx5wXb0+nrXkHijxBdX1lNdSSfvWJGV9OwrsPiZptwYbTVInIt4/wB3LETwu7o358flXmeuB57BY0U8vtCgck12YCnBRUjoXwtnKafC13fruCHJz8/c17H4Ye3CrGsyySgANhcD6VwOleDNVmt2kjMcLSDjcG6e+BxXeeEfDF/ayyGeExKP4gchsE8gj+vNehVmnEyppqT8zv4k5jRQvQ59uKo3mmRy/KuDKQAXPOTmtaGLyosk5kI9O1Z8rEXDMFOwDnccc1xI02MKbT47NkDlXUISFbkAnrxXC69rslvetp1lbIw/jc8jJ/u12mrCeP5nJYN1xyFrhtQsY2vL4TqT50ZYsAcoSf4fQjb+tbU3r7xcotx9zcw53knO24VVY88dvSp7G9v9IkMtu7KemQRz9c1Fb6Si3iNEXbG5iW7cc49q3f7POI3wSGGenBraTTQU+b7W5qWXivWGt2aWz87H8RTp78YqxZa9Y6v4p0JbuyhWeK+txC6yEureYv6VLYf6Fb+Z0CMMk4xjiq2peEp9G+IPh/VreAnS7nVbfa4H3CZVwpHbnvWAVp2VrH0HRRRWhxBRRRQAUUUUAQ3n/HlP/wBc2/lXNwjIrpLz/jxuP+ubfyrmoj/KvHzL44+n6lxMfx1z4Jvuh/1eB6/Oteb6Ukem2kN7cFWnlyIWccIOhYj1J4r2Wa3iu7d7eeNJYJBteNxkEV534g0Oy1m8f+zpUiVIfJTyzgADg4xx1rbL6jcXBo3i9CzBcSCNemWXI2ngg1Pp3ilLS5a2uJODjKgcrnvWfBaLY6da20ZO+CMRct1OBk5qleeBxd6hHqdhd+Wsq4voCxwQOVZTjjpgj27ZxXelfQvZHdJcfbAGgfdnkDPWkef5SZYd6jrg4IrEsD9iLxRPiNGXaG7Z6/yNaDsDIWIKjHOeg96ykrPQGrop3sot3jj4lt5sgeq+ua52+sUBLKqls7WJ7jtW7dq88ZVAAd2VOcdar3Fusrq+1gGXDD3q3tcmLaZy8ljJab2SHdu5Vh261qR2wn05W/iRgPzFX4IjCyMMkZ6NVy8gjjt7h0UIJVR1x655FUnoW5GZDal7BlClvMhYAf7YBxXaaBcRaqlnBeIjxSCG8gZecyIVPTsQwB/4Eaw9ISMwsrfMI2EgA5yMYI/KpvAruNdlt2uIv9Emkt1Q8ttGD8vt0FUjGqz1Ciiimc4UUUUAFFFFAEF7/wAeNx/1yb+VcxC3Sumv/wDkHXX/AFyf+RrkYH6V4+Zv34+n6lJ2NHhgQTgEYzXi+m3F7pXiC+0so7AXDKAcn5u/Nexo+R15rzfx7pqaZqceuIHFvOyibHZ8YB/Hj8axwldwdkd+DhCrU5JEX24XExEe5mz936dc+mKn/wCEhlhQqrsAcA4XgVyd9qTfa45VmEyNyU4G7n+LH0NWpNetbg7b2GFoVOCy4BGDxg9CK9D6xJPVHrTy1Jbm/b6ks0wRmIjD725+8R0/rW2l/uiiThjjhT1I968ztdT0mz1OOVruS4HIkQps4xkEHkcNjtW4L+1nX7XYamGZmClbh8Mn/fIOR9BWvtE3qcNTDOMbrY3dauJrOETLgcHcMcEe1XLPUYtY02O4jIDRgMcemMYxXF6rbeI74m0uITDEBzcbwyOOuRgenrzXS+DrP+wrKO0u5DJK5YBgxwyEcVVzmdPS5fV1Eat0HOW61Yu8TaP5xP3AB6cbqhvbd4L3ZJHtB5Geh9MetWJNr6JMDwpO0kdDz0q0ZS6FXS7jy7pNx+X7vH61t+CoWDxzGOzxLNLPgH513OFBz3+6xrlbgN5ghiKLI7JEu84AL8f1zXoekW6RX+BDZOIvLgVoOCuOTn8Sfzq4mdd6nV0UUUzAKKKKACiiigCrqRxpd2fSB/8A0E1w1vNkda7fVjjRr4+lvJ/6Ca83t5+nNePmS9+Pp+pEnZnQLLkY4P41ieLjBcabFaTspimk+YPxuwOB7VbW46c1m+I7GTWNJeGB9k8Z8yJs4ywGAM9q4KdlJM68JVUaqbPPX8BubnCXTJb89Bn9aSXwNZ20DPcXUrYH3t4H/juM0yz1/VNNeW1u4JfOjYq6jrnuP5/pS6jc3esRsqo4U8MM4/z2/WvVSk7WPqHNfHKSscjJp0T3Ey2sbSeWeQwycevNbWkrpckK2moI8bFvlniP3ccDjt17Vv6Zp8YhH2HyvOwBJHKMGs7XtKezuVuEjURS8EAfdauyELr3jxcTWU21HY0PEcep6Ro2mQxX8t5oxvIpPMkQZiLA7V3dwcnsPw6nqPDWsJPZxpIiF4xhw43A/nwK5fQpLDUrX+w9YjEltKcxMTtII6YPY+lRx3J0vVJLVJXmjH3HZsMydiccMQe4x+PelGxyxbtY9ZX7LcxCGaISRHkI+Dt91bqP5VWm01oLSXyZTPCzhiTwUA/veo96wtH13zFVHcN2HtXU212EGQA+4cq3Kn2NbcqlExbaZh+HoobvXLi788K9oSqZTcCT6seBiuk0h/t1np0261VppUmLw8HJO7BHfIGM1m3untD4Z1CDRYGaS6JDwuS4UPhWcDvgEnHtWsdQisryyMl1CZZZo7eMMmxn3EAqB9MkemKdrIzm3JnW0UUVBIUUUUAFFFFAFHWjjQtQP/TtJ/6Ca8nhnAHWvWNaR5NC1BI0Z5GtpAqqMliVOAB615HHpGsAf8gq/H/bu/8AhXlZhBylGy6GFa91Yvrc4HWlN3wR1FVf7L1jH/ILvv8AwHf/AApG0zWe2lX/AP4Dv/hXmulN9H9xmpSXQ5zxbp6XLrqEbMJF4kxxu9G+tY2m3MhYpNKCAOGI6j0rqdR0rXmtmEejai7HHH2Vzn9Kxj4V11iZoNF1JVJy0b2kgIPtxXtYNS9n7x30Ztxsy/BLHsPzLkdG9KvSxx6jaSxO6AsCFJ7HsaybbQdfR/8AkB6mM9c2kmP5e1TSWHiSJMR6Dqhc9CLOT/Cupm6aON1GSWxuDat8kik9Dz9R+VNju3dt0xZgzbsjqpwMkexweK6I+Cte1SVpLzR9RSQtwxgkGP0qi/hDxHBK0Y0HU5EXows5CD+lO/QSauEN1LZyoxfdE33XU/p9a7PQfEhkkjhc4U9zXKReHvFcZ8qDRNVQE/MWs3K4z6FcGtRPDuuqEC6HqAljIJf7Cy5HthRVJtEtps9QgvGTDocjHY1dtrS01LUrW7mhVp7d8oGHyg5HzD3GDj61zGkRau0Mcc+l30ZHBL27j+ldNp9vdQ3kJa2uAC65JjOBz3p8wnBPU6yiiikYBRRRQAUUUUAFFFFABRRRQAUUUUAFFFFABRRRQAUUUUAFFFFABRRRQAUUUUAFFFFABRRRQAUUUUAFFFFABRRRQAUUUUAFFFFABRRRQAUUUUAFFFFAH//Z'"
      ]
     },
     "execution_count": 242,
     "metadata": {},
     "output_type": "execute_result"
    }
   ],
   "source": [
    "get_img_from_query(\"ugly\")"
   ]
  },
  {
   "cell_type": "code",
   "execution_count": null,
   "metadata": {},
   "outputs": [],
   "source": []
  },
  {
   "cell_type": "code",
   "execution_count": null,
   "metadata": {},
   "outputs": [],
   "source": []
  },
  {
   "cell_type": "code",
   "execution_count": 271,
   "metadata": {},
   "outputs": [
    {
     "data": {
      "text/plain": [
       "<Display cmd_param=['Xvfb', '-br', '-nolisten', 'tcp', '-screen', '0', '1024x768x24', ':1025'] cmd=['Xvfb', '-br', '-nolisten', 'tcp', '-screen', '0', '1024x768x24', ':1025'] oserror=None return_code=1 stdout=\"\" stderr=\"_XSERVTransmkdir: ERROR: euid != 0,directory /tmp/.X11-unix will not be created.\n",
       "_XSERVTransSocketUNIXCreateListener: mkdir(/tmp/.X11-unix) failed, errno = 2\n",
       "_XSERVTransMakeAllCOTSServerListeners: failed to create listener for local\n",
       "(EE) \n",
       "Fatal server error:\n",
       "(EE) Cannot establish any listening sockets - Make sure an X server isn't already running(EE) \" timeout_happened=False>"
      ]
     },
     "execution_count": 271,
     "metadata": {},
     "output_type": "execute_result"
    }
   ],
   "source": [
    "##### BOTTOM OF SCRIPT\n",
    "browser.close()\n",
    "display.stop()"
   ]
  },
  {
   "cell_type": "code",
   "execution_count": null,
   "metadata": {},
   "outputs": [],
   "source": []
  },
  {
   "cell_type": "code",
   "execution_count": null,
   "metadata": {},
   "outputs": [],
   "source": []
  },
  {
   "cell_type": "code",
   "execution_count": 278,
   "metadata": {},
   "outputs": [
    {
     "data": {
      "text/html": [
       "<div>\n",
       "<style scoped>\n",
       "    .dataframe tbody tr th:only-of-type {\n",
       "        vertical-align: middle;\n",
       "    }\n",
       "\n",
       "    .dataframe tbody tr th {\n",
       "        vertical-align: top;\n",
       "    }\n",
       "\n",
       "    .dataframe thead th {\n",
       "        text-align: right;\n",
       "    }\n",
       "</style>\n",
       "<table border=\"1\" class=\"dataframe\">\n",
       "  <thead>\n",
       "    <tr style=\"text-align: right;\">\n",
       "      <th></th>\n",
       "      <th>ancestor</th>\n",
       "      <th>depth</th>\n",
       "      <th>extinct</th>\n",
       "      <th>id</th>\n",
       "      <th>name</th>\n",
       "      <th>num_kids</th>\n",
       "      <th>phylesis</th>\n",
       "      <th>x</th>\n",
       "      <th>y</th>\n",
       "      <th>Begin</th>\n",
       "      <th>End</th>\n",
       "      <th>img_url</th>\n",
       "      <th>img_base64</th>\n",
       "    </tr>\n",
       "  </thead>\n",
       "  <tbody>\n",
       "    <tr>\n",
       "      <th>0</th>\n",
       "      <td>14973</td>\n",
       "      <td>1</td>\n",
       "      <td>0</td>\n",
       "      <td>15040</td>\n",
       "      <td>Mammalia</td>\n",
       "      <td>2</td>\n",
       "      <td>0</td>\n",
       "      <td>0.985482</td>\n",
       "      <td>-0.609871</td>\n",
       "      <td>225.00</td>\n",
       "      <td>0.0</td>\n",
       "      <td>https://en.wikipedia.org/wiki/File:Mammal_Dive...</td>\n",
       "      <td>b'/9j/4AAQSkZJRgABAQAAAQABAAD/2wBDAAgGBgcGBQgH...</td>\n",
       "    </tr>\n",
       "    <tr>\n",
       "      <th>1</th>\n",
       "      <td>15040</td>\n",
       "      <td>2</td>\n",
       "      <td>2</td>\n",
       "      <td>15989</td>\n",
       "      <td>Triconodonts</td>\n",
       "      <td>0</td>\n",
       "      <td>0</td>\n",
       "      <td>0.626042</td>\n",
       "      <td>-1.029422</td>\n",
       "      <td>190.00</td>\n",
       "      <td>70.0</td>\n",
       "      <td>https://en.wikipedia.org/wiki/File:Blank_page_...</td>\n",
       "      <td>b'/9j/4AAQSkZJRgABAQAAAQABAAD/2wBDAAgGBgcGBQgH...</td>\n",
       "    </tr>\n",
       "    <tr>\n",
       "      <th>2</th>\n",
       "      <td>15040</td>\n",
       "      <td>2</td>\n",
       "      <td>0</td>\n",
       "      <td>15991</td>\n",
       "      <td>Monotremata</td>\n",
       "      <td>2</td>\n",
       "      <td>0</td>\n",
       "      <td>1.577066</td>\n",
       "      <td>-1.157830</td>\n",
       "      <td>210.00</td>\n",
       "      <td>0.0</td>\n",
       "      <td>https://en.wikipedia.org/wiki/File:Prototheria...</td>\n",
       "      <td>b'/9j/4AAQSkZJRgABAQAAAQABAAD/2wBDAAgGBgcGBQgH...</td>\n",
       "    </tr>\n",
       "    <tr>\n",
       "      <th>3</th>\n",
       "      <td>15991</td>\n",
       "      <td>3</td>\n",
       "      <td>0</td>\n",
       "      <td>16250</td>\n",
       "      <td>Tachyglossidae</td>\n",
       "      <td>4</td>\n",
       "      <td>0</td>\n",
       "      <td>1.934838</td>\n",
       "      <td>-1.035496</td>\n",
       "      <td>23.03</td>\n",
       "      <td>0.0</td>\n",
       "      <td>https://en.wikipedia.org/wiki/File:Short-beake...</td>\n",
       "      <td>b'/9j/4AAQSkZJRgABAQAAAQABAAD/2wBDAAgGBgcGBQgH...</td>\n",
       "    </tr>\n",
       "    <tr>\n",
       "      <th>4</th>\n",
       "      <td>16250</td>\n",
       "      <td>4</td>\n",
       "      <td>0</td>\n",
       "      <td>16251</td>\n",
       "      <td>Tachyglossus aculeatus</td>\n",
       "      <td>0</td>\n",
       "      <td>0</td>\n",
       "      <td>2.682316</td>\n",
       "      <td>-1.617251</td>\n",
       "      <td>11.50</td>\n",
       "      <td>0.0</td>\n",
       "      <td>https://en.wikipedia.org/wiki/File:Wild_shortb...</td>\n",
       "      <td>b'/9j/4AAQSkZJRgABAQAAAQABAAD/2wBDAAgGBgcGBQgH...</td>\n",
       "    </tr>\n",
       "  </tbody>\n",
       "</table>\n",
       "</div>"
      ],
      "text/plain": [
       "   ancestor  depth  extinct     id                    name  num_kids  \\\n",
       "0     14973      1        0  15040                Mammalia         2   \n",
       "1     15040      2        2  15989            Triconodonts         0   \n",
       "2     15040      2        0  15991             Monotremata         2   \n",
       "3     15991      3        0  16250          Tachyglossidae         4   \n",
       "4     16250      4        0  16251  Tachyglossus aculeatus         0   \n",
       "\n",
       "   phylesis         x         y   Begin   End  \\\n",
       "0         0  0.985482 -0.609871  225.00   0.0   \n",
       "1         0  0.626042 -1.029422  190.00  70.0   \n",
       "2         0  1.577066 -1.157830  210.00   0.0   \n",
       "3         0  1.934838 -1.035496   23.03   0.0   \n",
       "4         0  2.682316 -1.617251   11.50   0.0   \n",
       "\n",
       "                                             img_url  \\\n",
       "0  https://en.wikipedia.org/wiki/File:Mammal_Dive...   \n",
       "1  https://en.wikipedia.org/wiki/File:Blank_page_...   \n",
       "2  https://en.wikipedia.org/wiki/File:Prototheria...   \n",
       "3  https://en.wikipedia.org/wiki/File:Short-beake...   \n",
       "4  https://en.wikipedia.org/wiki/File:Wild_shortb...   \n",
       "\n",
       "                                          img_base64  \n",
       "0  b'/9j/4AAQSkZJRgABAQAAAQABAAD/2wBDAAgGBgcGBQgH...  \n",
       "1  b'/9j/4AAQSkZJRgABAQAAAQABAAD/2wBDAAgGBgcGBQgH...  \n",
       "2  b'/9j/4AAQSkZJRgABAQAAAQABAAD/2wBDAAgGBgcGBQgH...  \n",
       "3  b'/9j/4AAQSkZJRgABAQAAAQABAAD/2wBDAAgGBgcGBQgH...  \n",
       "4  b'/9j/4AAQSkZJRgABAQAAAQABAAD/2wBDAAgGBgcGBQgH...  "
      ]
     },
     "execution_count": 278,
     "metadata": {},
     "output_type": "execute_result"
    }
   ],
   "source": [
    "df = pd.read_csv(OUT_FILE.replace(\".csv\", \"-base64.csv\"))\n",
    "df.head()"
   ]
  },
  {
   "cell_type": "code",
   "execution_count": 279,
   "metadata": {},
   "outputs": [
    {
     "data": {
      "text/plain": [
       "True"
      ]
     },
     "execution_count": 279,
     "metadata": {},
     "output_type": "execute_result"
    }
   ],
   "source": [
    "fallback_bill = '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'\n",
    "x = df.loc[df.name.str.contains(\"atten\")].squeeze()['img_base64']\n",
    "fallback_bill == ast.literal_eval(x).decode('utf-8')"
   ]
  },
  {
   "cell_type": "code",
   "execution_count": null,
   "metadata": {},
   "outputs": [],
   "source": []
  },
  {
   "cell_type": "code",
   "execution_count": null,
   "metadata": {},
   "outputs": [],
   "source": []
  },
  {
   "cell_type": "code",
   "execution_count": 285,
   "metadata": {},
   "outputs": [],
   "source": [
    "####### TOP OF PROGRAM?\n",
    "display = Display(visible=0, size=(1024, 768))\n",
    "display.start()\n",
    "browser = webdriver.Firefox(executable_path=r'/Users/Seth/anaconda/lib/python3.5/geckodriver')"
   ]
  },
  {
   "cell_type": "code",
   "execution_count": 286,
   "metadata": {},
   "outputs": [
    {
     "name": "stdout",
     "output_type": "stream",
     "text": [
      "0::0 first one: Zaglossus bartoni\n",
      "50::40 100::119 150::212 200::317 250::473 300::611 350::717 400::766 450::845 500::895 550::937 600::989 650::1101 700::1189 750::1324 800::1397 850::1461 900::1519 950::1672 1000::1761 1050::1853 1100::1891 1150::1920 1200::1963 1250::2017 1300::2104 1350::2164 1400::2235 1450::2335 1500::2413 1550::2486 1600::2548 1650::2627 "
     ]
    }
   ],
   "source": [
    "start = time()\n",
    "first = True\n",
    "img_list = []\n",
    "for i, row in df.iterrows():\n",
    "    if fallback_bill == ast.literal_eval(row['img_base64']).decode('utf-8'):\n",
    "        try:\n",
    "            if first:\n",
    "                print(\"first one: \"+row['name'])\n",
    "                get_img_from_query(row['name'], show=True)\n",
    "                first = False\n",
    "            img_list.append(get_img_from_query(row['name']))\n",
    "\n",
    "        except:\n",
    "            #print(\"-- Bill!\")\n",
    "            img_list.append(None)\n",
    "    else:\n",
    "        img_list.append(None)\n",
    "        \n",
    "    if i % 50 == 0:\n",
    "        print(\"{}::{}\".format(i, int(time()-start)), end= ' ', flush=True)"
   ]
  },
  {
   "cell_type": "code",
   "execution_count": 287,
   "metadata": {},
   "outputs": [
    {
     "data": {
      "text/plain": [
       "<Display cmd_param=['Xvfb', '-br', '-nolisten', 'tcp', '-screen', '0', '1024x768x24', ':1031'] cmd=['Xvfb', '-br', '-nolisten', 'tcp', '-screen', '0', '1024x768x24', ':1031'] oserror=None return_code=1 stdout=\"\" stderr=\"_XSERVTransmkdir: ERROR: euid != 0,directory /tmp/.X11-unix will not be created.\n",
       "_XSERVTransSocketUNIXCreateListener: mkdir(/tmp/.X11-unix) failed, errno = 2\n",
       "_XSERVTransMakeAllCOTSServerListeners: failed to create listener for local\n",
       "(EE) \n",
       "Fatal server error:\n",
       "(EE) Cannot establish any listening sockets - Make sure an X server isn't already running(EE) \" timeout_happened=False>"
      ]
     },
     "execution_count": 287,
     "metadata": {},
     "output_type": "execute_result"
    }
   ],
   "source": [
    "##### BOTTOM OF SCRIPT\n",
    "browser.close()\n",
    "display.stop()"
   ]
  },
  {
   "cell_type": "code",
   "execution_count": 288,
   "metadata": {},
   "outputs": [
    {
     "data": {
      "text/html": [
       "<div>\n",
       "<style scoped>\n",
       "    .dataframe tbody tr th:only-of-type {\n",
       "        vertical-align: middle;\n",
       "    }\n",
       "\n",
       "    .dataframe tbody tr th {\n",
       "        vertical-align: top;\n",
       "    }\n",
       "\n",
       "    .dataframe thead th {\n",
       "        text-align: right;\n",
       "    }\n",
       "</style>\n",
       "<table border=\"1\" class=\"dataframe\">\n",
       "  <thead>\n",
       "    <tr style=\"text-align: right;\">\n",
       "      <th></th>\n",
       "      <th>ancestor</th>\n",
       "      <th>depth</th>\n",
       "      <th>extinct</th>\n",
       "      <th>id</th>\n",
       "      <th>name</th>\n",
       "      <th>num_kids</th>\n",
       "      <th>phylesis</th>\n",
       "      <th>x</th>\n",
       "      <th>y</th>\n",
       "      <th>Begin</th>\n",
       "      <th>End</th>\n",
       "      <th>img_url</th>\n",
       "      <th>img_base64</th>\n",
       "      <th>img_base64_filly</th>\n",
       "    </tr>\n",
       "  </thead>\n",
       "  <tbody>\n",
       "    <tr>\n",
       "      <th>1683</th>\n",
       "      <td>22665</td>\n",
       "      <td>6</td>\n",
       "      <td>2</td>\n",
       "      <td>60665</td>\n",
       "      <td>Mammuthus lamarmorae</td>\n",
       "      <td>0</td>\n",
       "      <td>0</td>\n",
       "      <td>1.954326</td>\n",
       "      <td>-0.574537</td>\n",
       "      <td>2.0</td>\n",
       "      <td>0.0</td>\n",
       "      <td>https://en.wikipedia.org/wiki/File:Wikipedia-l...</td>\n",
       "      <td>b'/9j/4AAQSkZJRgABAQAAAQABAAD/2wBDAAgGBgcGBQgH...</td>\n",
       "      <td>b'/9j/4AAQSkZJRgABAQAAAQABAAD/2wBDAAgGBgcGBQgH...</td>\n",
       "    </tr>\n",
       "    <tr>\n",
       "      <th>1684</th>\n",
       "      <td>22665</td>\n",
       "      <td>6</td>\n",
       "      <td>2</td>\n",
       "      <td>60663</td>\n",
       "      <td>Mammuthus meridionalis</td>\n",
       "      <td>0</td>\n",
       "      <td>0</td>\n",
       "      <td>1.725616</td>\n",
       "      <td>-0.535250</td>\n",
       "      <td>2.0</td>\n",
       "      <td>0.0</td>\n",
       "      <td>https://en.wikipedia.org/wiki/File:Museum_of_N...</td>\n",
       "      <td>b'/9j/4AAQSkZJRgABAQAAAQABAAD/2wBDAAgGBgcGBQgH...</td>\n",
       "      <td>None</td>\n",
       "    </tr>\n",
       "    <tr>\n",
       "      <th>1685</th>\n",
       "      <td>22665</td>\n",
       "      <td>6</td>\n",
       "      <td>2</td>\n",
       "      <td>60664</td>\n",
       "      <td>Mammuthus primigenius</td>\n",
       "      <td>0</td>\n",
       "      <td>0</td>\n",
       "      <td>2.760513</td>\n",
       "      <td>0.743133</td>\n",
       "      <td>2.0</td>\n",
       "      <td>0.0</td>\n",
       "      <td>https://en.wikipedia.org/wiki/File:Siegsdorfer...</td>\n",
       "      <td>b'/9j/4AAQSkZJRgABAQAAAQABAAD/2wBDAAgGBgcGBQgH...</td>\n",
       "      <td>None</td>\n",
       "    </tr>\n",
       "    <tr>\n",
       "      <th>1686</th>\n",
       "      <td>16451</td>\n",
       "      <td>5</td>\n",
       "      <td>0</td>\n",
       "      <td>22666</td>\n",
       "      <td>Elephas maximus</td>\n",
       "      <td>0</td>\n",
       "      <td>0</td>\n",
       "      <td>0.568061</td>\n",
       "      <td>0.147761</td>\n",
       "      <td>4.0</td>\n",
       "      <td>0.0</td>\n",
       "      <td>https://en.wikipedia.org/wiki/File:Elephas_max...</td>\n",
       "      <td>b'/9j/4AAQSkZJRgABAQAAAQABAAD/2wBDAAgGBgcGBQgH...</td>\n",
       "      <td>None</td>\n",
       "    </tr>\n",
       "    <tr>\n",
       "      <th>1687</th>\n",
       "      <td>16451</td>\n",
       "      <td>5</td>\n",
       "      <td>0</td>\n",
       "      <td>22667</td>\n",
       "      <td>Loxodonta africana</td>\n",
       "      <td>0</td>\n",
       "      <td>0</td>\n",
       "      <td>2.022854</td>\n",
       "      <td>0.642325</td>\n",
       "      <td>4.0</td>\n",
       "      <td>0.0</td>\n",
       "      <td>https://en.wikipedia.org/wiki/File:African_Ele...</td>\n",
       "      <td>b'/9j/4AAQSkZJRgABAQAAAQABAAD/2wBDAAgGBgcGBQgH...</td>\n",
       "      <td>None</td>\n",
       "    </tr>\n",
       "  </tbody>\n",
       "</table>\n",
       "</div>"
      ],
      "text/plain": [
       "      ancestor  depth  extinct     id                    name  num_kids  \\\n",
       "1683     22665      6        2  60665    Mammuthus lamarmorae         0   \n",
       "1684     22665      6        2  60663  Mammuthus meridionalis         0   \n",
       "1685     22665      6        2  60664   Mammuthus primigenius         0   \n",
       "1686     16451      5        0  22666         Elephas maximus         0   \n",
       "1687     16451      5        0  22667      Loxodonta africana         0   \n",
       "\n",
       "      phylesis         x         y  Begin  End  \\\n",
       "1683         0  1.954326 -0.574537    2.0  0.0   \n",
       "1684         0  1.725616 -0.535250    2.0  0.0   \n",
       "1685         0  2.760513  0.743133    2.0  0.0   \n",
       "1686         0  0.568061  0.147761    4.0  0.0   \n",
       "1687         0  2.022854  0.642325    4.0  0.0   \n",
       "\n",
       "                                                img_url  \\\n",
       "1683  https://en.wikipedia.org/wiki/File:Wikipedia-l...   \n",
       "1684  https://en.wikipedia.org/wiki/File:Museum_of_N...   \n",
       "1685  https://en.wikipedia.org/wiki/File:Siegsdorfer...   \n",
       "1686  https://en.wikipedia.org/wiki/File:Elephas_max...   \n",
       "1687  https://en.wikipedia.org/wiki/File:African_Ele...   \n",
       "\n",
       "                                             img_base64  \\\n",
       "1683  b'/9j/4AAQSkZJRgABAQAAAQABAAD/2wBDAAgGBgcGBQgH...   \n",
       "1684  b'/9j/4AAQSkZJRgABAQAAAQABAAD/2wBDAAgGBgcGBQgH...   \n",
       "1685  b'/9j/4AAQSkZJRgABAQAAAQABAAD/2wBDAAgGBgcGBQgH...   \n",
       "1686  b'/9j/4AAQSkZJRgABAQAAAQABAAD/2wBDAAgGBgcGBQgH...   \n",
       "1687  b'/9j/4AAQSkZJRgABAQAAAQABAAD/2wBDAAgGBgcGBQgH...   \n",
       "\n",
       "                                       img_base64_filly  \n",
       "1683  b'/9j/4AAQSkZJRgABAQAAAQABAAD/2wBDAAgGBgcGBQgH...  \n",
       "1684                                               None  \n",
       "1685                                               None  \n",
       "1686                                               None  \n",
       "1687                                               None  "
      ]
     },
     "execution_count": 288,
     "metadata": {},
     "output_type": "execute_result"
    }
   ],
   "source": [
    "df['img_base64_filly'] = img_list\n",
    "df.tail()"
   ]
  },
  {
   "cell_type": "code",
   "execution_count": 289,
   "metadata": {},
   "outputs": [],
   "source": [
    "df.to_csv(OUT_FILE.replace(\".csv\", \"-base64-filly.csv\"), index=False)"
   ]
  },
  {
   "cell_type": "code",
   "execution_count": 290,
   "metadata": {},
   "outputs": [
    {
     "data": {
      "text/plain": [
       "'data/Mammalia-15040-df-images-base64-filly.csv'"
      ]
     },
     "execution_count": 290,
     "metadata": {},
     "output_type": "execute_result"
    }
   ],
   "source": [
    "OUT_FILE.replace(\".csv\", \"-base64-filly.csv\")"
   ]
  },
  {
   "cell_type": "code",
   "execution_count": null,
   "metadata": {},
   "outputs": [],
   "source": []
  }
 ],
 "metadata": {
  "anaconda-cloud": {},
  "kernelspec": {
   "display_name": "Python [Root]",
   "language": "python",
   "name": "Python [Root]"
  },
  "language_info": {
   "codemirror_mode": {
    "name": "ipython",
    "version": 3
   },
   "file_extension": ".py",
   "mimetype": "text/x-python",
   "name": "python",
   "nbconvert_exporter": "python",
   "pygments_lexer": "ipython3",
   "version": "3.5.1"
  }
 },
 "nbformat": 4,
 "nbformat_minor": 2
}
