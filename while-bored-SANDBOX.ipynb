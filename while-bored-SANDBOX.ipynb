{
 "cells": [
  {
   "cell_type": "code",
   "execution_count": 1,
   "metadata": {},
   "outputs": [
    {
     "data": {
      "text/html": [
       "<script>requirejs.config({paths: { 'plotly': ['https://cdn.plot.ly/plotly-latest.min']},});if(!window.Plotly) {{require(['plotly'],function(plotly) {window.Plotly=plotly;});}}</script>"
      ],
      "text/vnd.plotly.v1+html": [
       "<script>requirejs.config({paths: { 'plotly': ['https://cdn.plot.ly/plotly-latest.min']},});if(!window.Plotly) {{require(['plotly'],function(plotly) {window.Plotly=plotly;});}}</script>"
      ]
     },
     "metadata": {},
     "output_type": "display_data"
    }
   ],
   "source": [
    "import phyloGraph as ph\n",
    "\n",
    "from plotly.offline import download_plotlyjs, init_notebook_mode\n",
    "init_notebook_mode(connected=True)\n",
    "\n",
    "#vim ~/.Plotly/.Credentials\n",
    "\n",
    "import requests\n",
    "import collections\n",
    "import json\n",
    "import pandas as pd\n",
    "import numpy as np\n",
    "import re\n",
    "import sys\n",
    "\n",
    "import wikipedia\n",
    "#https://stackoverflow.com/questions/8088226/content-of-infobox-of-wikipedia"
   ]
  },
  {
   "cell_type": "code",
   "execution_count": 16,
   "metadata": {},
   "outputs": [],
   "source": [
    "GEO_TIME = \"geological_time.csv\"\n",
    "gt = pd.read_csv(GEO_TIME)\n",
    "\n",
    "def trynum(n):\n",
    "    try:\n",
    "        return float(n)\n",
    "    except:\n",
    "        return None"
   ]
  },
  {
   "cell_type": "code",
   "execution_count": 37,
   "metadata": {},
   "outputs": [
    {
     "name": "stdout",
     "output_type": "stream",
     "text": [
      "(1.0635150701477824e+16, 0.0)\n"
     ]
    }
   ],
   "source": [
    "this_query = \"Monotremata\"\n",
    "#def get_dates(this_query, gt):\n",
    "\"\"\"gets the earliest and latest date for an organism\n",
    "this_query - a text sting organism name\n",
    "gt - the geological time dataframe\n",
    "\"\"\"\n",
    "try:\n",
    "    # get wikipedia page\n",
    "    this_page_id = wikipedia.search(this_query, results=1)[0]\n",
    "\n",
    "    # fetch infobox\n",
    "    wiki_url = 'http://en.wikipedia.org/w/api.php?action=query&prop=revisions&rvprop=content&format=json&titles={}&rvsection=0'.format(this_page_id)\n",
    "    box_raw = json.loads(requests.get(wiki_url).content.decode('utf-8'))\n",
    "    box = next(iter(box_raw['query']['pages'].values()))['revisions'][0]['*']\n",
    "\n",
    "    # parse out fossil range\n",
    "    fr = box.split(\"fossil_range\")[1].split('\\n')[0]\n",
    "    useful = re.sub(\"[^A-Za-z0-9\\.]+\", \" \", fr)\n",
    "    useful = useful.replace(\"Late \",\"Late_\").replace(\"Middle \",\"Middle_\").replace(\"Early \", \"Early_\").split(\" \")\n",
    "\n",
    "    # try to get actual MYA times\n",
    "    times = [trynum(n) for n in useful]\n",
    "    times = [n for n in times if n is not None]\n",
    "    if len(times) >= 2:\n",
    "        output_dates = (max(times), min(times))\n",
    "    else:\n",
    "        # parse from periods\n",
    "        dates = []\n",
    "        for u in useful:\n",
    "            ru = u.replace(\"Late_\",\"\").replace(\"Middle_\",\"\").replace(\"Early_\", \"\")\n",
    "            try:\n",
    "                this_row = list(gt[gt['Period']==ru].iloc[0])\n",
    "                if \"Late_\" in u:\n",
    "                    this_dates = [this_row[2]]\n",
    "                elif \"Middle_\" in u:\n",
    "                    this_dates = [np.mean(this_row[1:3])]\n",
    "                elif \"Early_\" in u:\n",
    "                    this_dates = [this_row[1]]\n",
    "                else:\n",
    "                    this_dates = this_row[1:3]\n",
    "                dates += this_dates\n",
    "            except:\n",
    "                pass\n",
    "        output_dates = (max(dates), min(dates))\n",
    "except:\n",
    "    output_dates = (None, None)\n",
    "print(output_dates)"
   ]
  },
  {
   "cell_type": "code",
   "execution_count": 60,
   "metadata": {},
   "outputs": [
    {
     "data": {
      "text/plain": [
       "'{{Automatic taxobox\\n| fossil_range = [[Llandovery epoch|Llandovery]]<ref name=\"Sansom2015\">{{cite journal | last1 = Sansom | first1 = Robert S. | last2 = Randle | first2 = Emma | last3 = Donoghue | first3 = Philip C. J. | date = February 7, 2015 | title = Discriminating signal from noise in the fossil record of early vertebrates reveals cryptic evolutionary history | journal = [[Proceedings of the Royal Society B]] | volume = 282 | issue = 1800 | page = 20142245 | doi = 10.1098/rspb.2014.2245 | pmid=25520359 | pmc=4298210}}</ref>&ndash;Early [[Devonian]], {{fossil range|439|400}}\\n| image = Galeaspida_1.JPG\\n| authority = Liu, 1965\\n| subdivision_ranks = Orders\\n| subdivision = \\n[[Eugaleaspidiformes]] <small>Liu, 1965</small><br>\\n[[Huananaspidiformes]] <small>Janvier, 1975</small><br>\\n[[Polybranchiaspidiformes]] <small>Janvier, 1996</small>\\n}}\\n\\'\\'\\'Galeaspida\\'\\'\\' (from [[Latin]], \"Helmet shields\") is an extinct taxon of jawless marine and freshwater [[fish]]. The name is derived from \\'\\'galea\\'\\', the Latin word for \\'\\'helmet\\'\\', and refers to their massive bone shield on the head. Galeaspida lived in shallow, fresh water and marine environments during the [[Silurian]] and [[Devonian]] times (430 to 370 million years ago) in what is now Southern [[China]], [[Tibet]] and [[Vietnam]]. Superficially, their [[morphology (biology)|morphology]] appears more similar to that of [[Heterostraci]] than [[Osteostraci]], there being currently no evidence that the galeaspids had paired fins. However, Galeaspida are in fact regarded as being more closely related to Osteostraci, based on the closer similarity of the morphology of the [[braincase]].'"
      ]
     },
     "execution_count": 60,
     "metadata": {},
     "output_type": "execute_result"
    }
   ],
   "source": [
    "this_query = \"Xiushuiaspis\"\n",
    "#def get_dates(this_query, gt):\n",
    "\"\"\"gets the earliest and latest date for an organism\n",
    "this_query - a text sting organism name\n",
    "gt - the geological time dataframe\n",
    "\"\"\"\n",
    "\n",
    "# get wikipedia page\n",
    "this_page_id = wikipedia.search(this_query, results=1)[0]\n",
    "\n",
    "# fetch infobox\n",
    "wiki_url = 'http://en.wikipedia.org/w/api.php?action=query&prop=revisions&rvprop=content&format=json&titles={}&rvsection=0'.format(this_page_id)\n",
    "box_raw = json.loads(requests.get(wiki_url).content.decode('utf-8'))\n",
    "box = next(iter(box_raw['query']['pages'].values()))['revisions'][0]['*']\n",
    "box"
   ]
  },
  {
   "cell_type": "code",
   "execution_count": 61,
   "metadata": {},
   "outputs": [
    {
     "name": "stdout",
     "output_type": "stream",
     "text": [
      " = [[Llandovery epoch|Llandovery]]<ref name=\"Sansom2015\">{{cite journal | last1 = Sansom | first1 = Robert S. | last2 = Randle | first2 = Emma | last3 = Donoghue | first3 = Philip C. J. | date = February 7, 2015 | title = Discriminating signal from noise in the fossil record of early vertebrates reveals cryptic evolutionary history | journal = [[Proceedings of the Royal Society B]] | volume = 282 | issue = 1800 | page = 20142245 | doi = 10.1098/rspb.2014.2245 | pmid=25520359 | pmc=4298210}}</ref>&ndash;Early [[Devonian]], {{fossil range|439|400}}\n"
     ]
    },
    {
     "data": {
      "text/plain": [
       "['',\n",
       " 'Llandovery',\n",
       " 'epoch',\n",
       " 'Llandovery',\n",
       " 'ref',\n",
       " 'name',\n",
       " 'Sansom2015',\n",
       " 'cite',\n",
       " 'journal',\n",
       " 'last1',\n",
       " 'Sansom',\n",
       " 'first1',\n",
       " 'Robert',\n",
       " 'S.',\n",
       " 'last2',\n",
       " 'Randle',\n",
       " 'first2',\n",
       " 'Emma',\n",
       " 'last3',\n",
       " 'Donoghue',\n",
       " 'first3',\n",
       " 'Philip',\n",
       " 'C.',\n",
       " 'J.',\n",
       " 'date',\n",
       " 'February',\n",
       " '7',\n",
       " '2015',\n",
       " 'title',\n",
       " 'Discriminating',\n",
       " 'signal',\n",
       " 'from',\n",
       " 'noise',\n",
       " 'in',\n",
       " 'the',\n",
       " 'fossil',\n",
       " 'record',\n",
       " 'of',\n",
       " 'early',\n",
       " 'vertebrates',\n",
       " 'reveals',\n",
       " 'cryptic',\n",
       " 'evolutionary',\n",
       " 'history',\n",
       " 'journal',\n",
       " 'Proceedings',\n",
       " 'of',\n",
       " 'the',\n",
       " 'Royal',\n",
       " 'Society',\n",
       " 'B',\n",
       " 'volume',\n",
       " '282',\n",
       " 'issue',\n",
       " '1800',\n",
       " 'page',\n",
       " '20142245',\n",
       " 'doi',\n",
       " '10.1098',\n",
       " 'rspb.2014.2245',\n",
       " 'pmid',\n",
       " '25520359',\n",
       " 'pmc',\n",
       " '4298210',\n",
       " 'ref',\n",
       " 'ndash',\n",
       " 'Early_Devonian',\n",
       " 'fossil',\n",
       " 'range',\n",
       " '439',\n",
       " '400',\n",
       " '']"
      ]
     },
     "execution_count": 61,
     "metadata": {},
     "output_type": "execute_result"
    }
   ],
   "source": [
    "# parse out fossil range\n",
    "fr = box.split(\"fossil_range\")[-1].split('\\n')[0]#.split('<ref>')[0].split('{{')[0]\n",
    "print(fr)\n",
    "useful = re.sub(\"[^A-Za-z0-9\\.]+\", \" \", fr)\n",
    "useful = useful.replace(\"Late \",\"Late_\").replace(\"Middle \",\"Middle_\").replace(\"Early \", \"Early_\").split(\" \")\n",
    "useful"
   ]
  },
  {
   "cell_type": "code",
   "execution_count": 17,
   "metadata": {},
   "outputs": [
    {
     "name": "stdout",
     "output_type": "stream",
     "text": [
      "(419.19999999999999, 419.19999999999999)\n"
     ]
    }
   ],
   "source": [
    "# try to get actual MYA times\n",
    "times = [trynum(n) for n in useful]\n",
    "times = [n for n in times if n is not None]\n",
    "if len(times) >= 2:\n",
    "    output_dates = (max(times), min(times))\n",
    "else:\n",
    "    # parse from periods\n",
    "    dates = []\n",
    "    for u in useful:\n",
    "        ru = u.replace(\"Late_\",\"\").replace(\"Middle_\",\"\").replace(\"Early_\", \"\")\n",
    "        try:\n",
    "            this_row = list(gt[gt['Period']==ru].iloc[0])\n",
    "            if \"Late_\" in u:\n",
    "                this_dates = [this_row[2]]\n",
    "            elif \"Middle_\" in u:\n",
    "                this_dates = [np.mean(this_row[1:3])]\n",
    "            elif \"Early_\" in u:\n",
    "                this_dates = [this_row[1]]\n",
    "            else:\n",
    "                this_dates = this_row[1:3]\n",
    "            dates += this_dates\n",
    "        except:\n",
    "            pass\n",
    "    output_dates = (max(dates), min(dates))\n",
    "\n",
    "print(output_dates)"
   ]
  },
  {
   "cell_type": "code",
   "execution_count": null,
   "metadata": {},
   "outputs": [],
   "source": []
  },
  {
   "cell_type": "code",
   "execution_count": 51,
   "metadata": {},
   "outputs": [
    {
     "data": {
      "text/html": [
       "<div>\n",
       "<table border=\"1\" class=\"dataframe\">\n",
       "  <thead>\n",
       "    <tr style=\"text-align: right;\">\n",
       "      <th></th>\n",
       "      <th>ancestor</th>\n",
       "      <th>depth</th>\n",
       "      <th>extinct</th>\n",
       "      <th>id</th>\n",
       "      <th>name</th>\n",
       "      <th>num_kids</th>\n",
       "      <th>phylesis</th>\n",
       "      <th>x</th>\n",
       "      <th>y</th>\n",
       "      <th>Begin</th>\n",
       "      <th>End</th>\n",
       "    </tr>\n",
       "  </thead>\n",
       "  <tbody>\n",
       "    <tr>\n",
       "      <th>0</th>\n",
       "      <td>2466</td>\n",
       "      <td>1</td>\n",
       "      <td>0</td>\n",
       "      <td>2499</td>\n",
       "      <td>Chordata</td>\n",
       "      <td>2</td>\n",
       "      <td>0</td>\n",
       "      <td>-0.794184</td>\n",
       "      <td>0.918448</td>\n",
       "      <td>558.0</td>\n",
       "      <td>0.0</td>\n",
       "    </tr>\n",
       "    <tr>\n",
       "      <th>1</th>\n",
       "      <td>2499</td>\n",
       "      <td>2</td>\n",
       "      <td>2</td>\n",
       "      <td>14819</td>\n",
       "      <td>Calcichordata</td>\n",
       "      <td>0</td>\n",
       "      <td>0</td>\n",
       "      <td>-0.091174</td>\n",
       "      <td>0.033661</td>\n",
       "      <td>NaN</td>\n",
       "      <td>NaN</td>\n",
       "    </tr>\n",
       "    <tr>\n",
       "      <th>2</th>\n",
       "      <td>2499</td>\n",
       "      <td>2</td>\n",
       "      <td>0</td>\n",
       "      <td>14821</td>\n",
       "      <td>Urochordata</td>\n",
       "      <td>8</td>\n",
       "      <td>0</td>\n",
       "      <td>-1.014761</td>\n",
       "      <td>0.366714</td>\n",
       "      <td>2012.0</td>\n",
       "      <td>0.0</td>\n",
       "    </tr>\n",
       "    <tr>\n",
       "      <th>3</th>\n",
       "      <td>14821</td>\n",
       "      <td>3</td>\n",
       "      <td>0</td>\n",
       "      <td>114489</td>\n",
       "      <td>Octacnemidae</td>\n",
       "      <td>0</td>\n",
       "      <td>0</td>\n",
       "      <td>-0.066112</td>\n",
       "      <td>-0.370996</td>\n",
       "      <td>NaN</td>\n",
       "      <td>NaN</td>\n",
       "    </tr>\n",
       "    <tr>\n",
       "      <th>4</th>\n",
       "      <td>14821</td>\n",
       "      <td>3</td>\n",
       "      <td>0</td>\n",
       "      <td>114490</td>\n",
       "      <td>Phlebobranchiata</td>\n",
       "      <td>4</td>\n",
       "      <td>0</td>\n",
       "      <td>-0.344893</td>\n",
       "      <td>-0.201929</td>\n",
       "      <td>NaN</td>\n",
       "      <td>NaN</td>\n",
       "    </tr>\n",
       "  </tbody>\n",
       "</table>\n",
       "</div>"
      ],
      "text/plain": [
       "   ancestor  depth  extinct      id              name  num_kids  phylesis  \\\n",
       "0      2466      1        0    2499          Chordata         2         0   \n",
       "1      2499      2        2   14819     Calcichordata         0         0   \n",
       "2      2499      2        0   14821       Urochordata         8         0   \n",
       "3     14821      3        0  114489      Octacnemidae         0         0   \n",
       "4     14821      3        0  114490  Phlebobranchiata         4         0   \n",
       "\n",
       "          x         y   Begin  End  \n",
       "0 -0.794184  0.918448   558.0  0.0  \n",
       "1 -0.091174  0.033661     NaN  NaN  \n",
       "2 -1.014761  0.366714  2012.0  0.0  \n",
       "3 -0.066112 -0.370996     NaN  NaN  \n",
       "4 -0.344893 -0.201929     NaN  NaN  "
      ]
     },
     "execution_count": 51,
     "metadata": {},
     "output_type": "execute_result"
    }
   ],
   "source": [
    "df = pd.read_csv(\"data/Chordata-2499-df.csv\")\n",
    "df.head()"
   ]
  },
  {
   "cell_type": "code",
   "execution_count": 52,
   "metadata": {},
   "outputs": [
    {
     "name": "stdout",
     "output_type": "stream",
     "text": [
      "(657, 11)\n"
     ]
    }
   ],
   "source": [
    "df = df.loc[df['Begin'].notnull()]\n",
    "#df = df.loc[df['Begin'] < 500]\n",
    "print(df.shape)"
   ]
  },
  {
   "cell_type": "code",
   "execution_count": null,
   "metadata": {},
   "outputs": [],
   "source": []
  },
  {
   "cell_type": "code",
   "execution_count": 53,
   "metadata": {},
   "outputs": [],
   "source": []
  },
  {
   "cell_type": "code",
   "execution_count": 54,
   "metadata": {},
   "outputs": [],
   "source": [
    "this_id = 15963"
   ]
  },
  {
   "cell_type": "code",
   "execution_count": 55,
   "metadata": {},
   "outputs": [
    {
     "data": {
      "text/html": [
       "<div>\n",
       "<table border=\"1\" class=\"dataframe\">\n",
       "  <thead>\n",
       "    <tr style=\"text-align: right;\">\n",
       "      <th></th>\n",
       "      <th>ancestor</th>\n",
       "      <th>depth</th>\n",
       "      <th>extinct</th>\n",
       "      <th>id</th>\n",
       "      <th>name</th>\n",
       "      <th>num_kids</th>\n",
       "      <th>phylesis</th>\n",
       "      <th>x</th>\n",
       "      <th>y</th>\n",
       "      <th>Begin</th>\n",
       "      <th>End</th>\n",
       "    </tr>\n",
       "  </thead>\n",
       "  <tbody>\n",
       "    <tr>\n",
       "      <th>606</th>\n",
       "      <td>15997</td>\n",
       "      <td>12</td>\n",
       "      <td>0</td>\n",
       "      <td>15963</td>\n",
       "      <td>Primates</td>\n",
       "      <td>2</td>\n",
       "      <td>0</td>\n",
       "      <td>-5.165991</td>\n",
       "      <td>0.69956</td>\n",
       "      <td>55.0</td>\n",
       "      <td>0.0</td>\n",
       "    </tr>\n",
       "  </tbody>\n",
       "</table>\n",
       "</div>"
      ],
      "text/plain": [
       "     ancestor  depth  extinct     id      name  num_kids  phylesis         x  \\\n",
       "606     15997     12        0  15963  Primates         2         0 -5.165991   \n",
       "\n",
       "           y  Begin  End  \n",
       "606  0.69956   55.0  0.0  "
      ]
     },
     "execution_count": 55,
     "metadata": {},
     "output_type": "execute_result"
    }
   ],
   "source": [
    "this_row = df[df['id'] == this_id]\n",
    "this_row"
   ]
  },
  {
   "cell_type": "code",
   "execution_count": 56,
   "metadata": {},
   "outputs": [
    {
     "data": {
      "text/plain": [
       "[15997]"
      ]
     },
     "execution_count": 56,
     "metadata": {},
     "output_type": "execute_result"
    }
   ],
   "source": [
    "list(this_row['ancestor'])"
   ]
  },
  {
   "cell_type": "code",
   "execution_count": null,
   "metadata": {},
   "outputs": [],
   "source": []
  },
  {
   "cell_type": "code",
   "execution_count": 58,
   "metadata": {},
   "outputs": [
    {
     "name": "stdout",
     "output_type": "stream",
     "text": [
      "{'children': [], 'parents': [15997]}\n"
     ]
    }
   ],
   "source": [
    "links_dict = {}\n",
    "for i, this_row in df.iterrows():\n",
    "    # add parents\n",
    "    parents = list(this_row['ancestor'])\n",
    "    try:\n",
    "        # add parents if the id already exists\n",
    "        links_dict[this_id]['parents'] += parents\n",
    "        # filter to only unique\n",
    "        links_dict[this_id]['parents'] = list(set(links_dict[this_id]['parents']))\n",
    "    except KeyError:\n",
    "        # add this_id\n",
    "        links_dict[this_id] = {}\n",
    "        # add parent to this_id\n",
    "        links_dict[this_id]['parents'] = parents\n",
    "        links_dict[this_id]['children'] = []\n",
    "\n",
    "    # add as child to parent node\n",
    "    for parent in parents:\n",
    "        try:\n",
    "            # add as child if parent node already exists\n",
    "            links_dict[parent]['children'].append(this_id)\n",
    "        except KeyError:\n",
    "            # if not, create parent node and add as child\n",
    "            links_dict[parent] = {}\n",
    "            links_dict[parent]['children'] = [this_id]\n",
    "            links_dict[this_id]['parents'] = []"
   ]
  },
  {
   "cell_type": "code",
   "execution_count": 59,
   "metadata": {},
   "outputs": [],
   "source": []
  },
  {
   "cell_type": "code",
   "execution_count": null,
   "metadata": {},
   "outputs": [],
   "source": []
  },
  {
   "cell_type": "code",
   "execution_count": null,
   "metadata": {},
   "outputs": [],
   "source": []
  },
  {
   "cell_type": "code",
   "execution_count": null,
   "metadata": {},
   "outputs": [],
   "source": []
  }
 ],
 "metadata": {
  "anaconda-cloud": {},
  "kernelspec": {
   "display_name": "Python [Root]",
   "language": "python",
   "name": "Python [Root]"
  },
  "language_info": {
   "codemirror_mode": {
    "name": "ipython",
    "version": 3
   },
   "file_extension": ".py",
   "mimetype": "text/x-python",
   "name": "python",
   "nbconvert_exporter": "python",
   "pygments_lexer": "ipython3",
   "version": "3.5.1"
  }
 },
 "nbformat": 4,
 "nbformat_minor": 2
}
